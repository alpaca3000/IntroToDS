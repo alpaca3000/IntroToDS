{
 "cells": [
  {
   "cell_type": "markdown",
   "id": "c51b8805-62c5-4575-9266-de7fdc6209e0",
   "metadata": {},
   "source": [
    "### Mục đích: Xây dựng mô hình dự đoán phim có thành công hay không dựa trên dữ liệu 2 năm gần nhất. Các nhà làm phim sẽ theo dõi và học tập từ những bộ phim thành công để có thể xây dựng phương hướng phát triển cho năm tới."
   ]
  },
  {
   "cell_type": "code",
   "execution_count": 2,
   "id": "d9863cc7-4f84-4ffd-a3d0-7c65790c7266",
   "metadata": {},
   "outputs": [],
   "source": [
    "import pandas as pd\n",
    "from sklearn.model_selection import train_test_split\n",
    "from sklearn.ensemble import RandomForestClassifier\n",
    "from imblearn.over_sampling import SMOTE\n",
    "import matplotlib.pyplot as plt\n",
    "import seaborn as sns\n",
    "from sklearn.metrics import roc_curve, auc, accuracy_score, classification_report\n",
    "from sklearn.metrics import confusion_matrix\n",
    "from sklearn.ensemble import GradientBoostingClassifier"
   ]
  },
  {
   "cell_type": "code",
   "execution_count": 3,
   "id": "20ae7c3d-9ceb-44f9-8f4f-08d1f9b4ef10",
   "metadata": {},
   "outputs": [
    {
     "data": {
      "text/html": [
       "<div>\n",
       "<style scoped>\n",
       "    .dataframe tbody tr th:only-of-type {\n",
       "        vertical-align: middle;\n",
       "    }\n",
       "\n",
       "    .dataframe tbody tr th {\n",
       "        vertical-align: top;\n",
       "    }\n",
       "\n",
       "    .dataframe thead th {\n",
       "        text-align: right;\n",
       "    }\n",
       "</style>\n",
       "<table border=\"1\" class=\"dataframe\">\n",
       "  <thead>\n",
       "    <tr style=\"text-align: right;\">\n",
       "      <th></th>\n",
       "      <th>Title</th>\n",
       "      <th>Release time</th>\n",
       "      <th>Age rating</th>\n",
       "      <th>Runtime</th>\n",
       "      <th>Language</th>\n",
       "      <th>IMDb Rating</th>\n",
       "      <th>IMDb Votes</th>\n",
       "      <th>Action</th>\n",
       "      <th>Adventure</th>\n",
       "      <th>Animation</th>\n",
       "      <th>...</th>\n",
       "      <th>Romance</th>\n",
       "      <th>Sci-Fi</th>\n",
       "      <th>Short</th>\n",
       "      <th>Sport</th>\n",
       "      <th>Thriller</th>\n",
       "      <th>War</th>\n",
       "      <th>Western</th>\n",
       "      <th>Win</th>\n",
       "      <th>Nomination</th>\n",
       "      <th>Age rating quantification</th>\n",
       "    </tr>\n",
       "  </thead>\n",
       "  <tbody>\n",
       "    <tr>\n",
       "      <th>0</th>\n",
       "      <td>Goon Squad</td>\n",
       "      <td>2024-01-18</td>\n",
       "      <td>NC-17</td>\n",
       "      <td>83.0</td>\n",
       "      <td>English</td>\n",
       "      <td>6.1</td>\n",
       "      <td>12215.766268</td>\n",
       "      <td>False</td>\n",
       "      <td>False</td>\n",
       "      <td>False</td>\n",
       "      <td>...</td>\n",
       "      <td>False</td>\n",
       "      <td>False</td>\n",
       "      <td>False</td>\n",
       "      <td>False</td>\n",
       "      <td>False</td>\n",
       "      <td>False</td>\n",
       "      <td>False</td>\n",
       "      <td>0.0</td>\n",
       "      <td>0.0</td>\n",
       "      <td>5</td>\n",
       "    </tr>\n",
       "    <tr>\n",
       "      <th>1</th>\n",
       "      <td>The Phantom Warrior</td>\n",
       "      <td>2024-02-20</td>\n",
       "      <td>R</td>\n",
       "      <td>83.0</td>\n",
       "      <td>English</td>\n",
       "      <td>2.6</td>\n",
       "      <td>532.000000</td>\n",
       "      <td>False</td>\n",
       "      <td>True</td>\n",
       "      <td>False</td>\n",
       "      <td>...</td>\n",
       "      <td>False</td>\n",
       "      <td>True</td>\n",
       "      <td>False</td>\n",
       "      <td>False</td>\n",
       "      <td>False</td>\n",
       "      <td>False</td>\n",
       "      <td>False</td>\n",
       "      <td>0.0</td>\n",
       "      <td>0.0</td>\n",
       "      <td>4</td>\n",
       "    </tr>\n",
       "    <tr>\n",
       "      <th>2</th>\n",
       "      <td>Beyond the Lake</td>\n",
       "      <td>2024-01-26</td>\n",
       "      <td>G</td>\n",
       "      <td>98.0</td>\n",
       "      <td>English</td>\n",
       "      <td>6.1</td>\n",
       "      <td>31.000000</td>\n",
       "      <td>False</td>\n",
       "      <td>False</td>\n",
       "      <td>False</td>\n",
       "      <td>...</td>\n",
       "      <td>False</td>\n",
       "      <td>False</td>\n",
       "      <td>False</td>\n",
       "      <td>False</td>\n",
       "      <td>False</td>\n",
       "      <td>False</td>\n",
       "      <td>False</td>\n",
       "      <td>0.0</td>\n",
       "      <td>0.0</td>\n",
       "      <td>1</td>\n",
       "    </tr>\n",
       "    <tr>\n",
       "      <th>3</th>\n",
       "      <td>Crimes of Fashion: Killer Clutch</td>\n",
       "      <td>2024-03-15</td>\n",
       "      <td>PG</td>\n",
       "      <td>84.0</td>\n",
       "      <td>English, French</td>\n",
       "      <td>5.8</td>\n",
       "      <td>503.000000</td>\n",
       "      <td>False</td>\n",
       "      <td>False</td>\n",
       "      <td>False</td>\n",
       "      <td>...</td>\n",
       "      <td>False</td>\n",
       "      <td>False</td>\n",
       "      <td>False</td>\n",
       "      <td>False</td>\n",
       "      <td>False</td>\n",
       "      <td>False</td>\n",
       "      <td>False</td>\n",
       "      <td>0.0</td>\n",
       "      <td>0.0</td>\n",
       "      <td>2</td>\n",
       "    </tr>\n",
       "    <tr>\n",
       "      <th>4</th>\n",
       "      <td>Love on the Danube: Love Song</td>\n",
       "      <td>2024-09-10</td>\n",
       "      <td>G</td>\n",
       "      <td>84.0</td>\n",
       "      <td>English</td>\n",
       "      <td>5.8</td>\n",
       "      <td>175.000000</td>\n",
       "      <td>False</td>\n",
       "      <td>False</td>\n",
       "      <td>False</td>\n",
       "      <td>...</td>\n",
       "      <td>True</td>\n",
       "      <td>False</td>\n",
       "      <td>False</td>\n",
       "      <td>False</td>\n",
       "      <td>False</td>\n",
       "      <td>False</td>\n",
       "      <td>False</td>\n",
       "      <td>0.0</td>\n",
       "      <td>0.0</td>\n",
       "      <td>1</td>\n",
       "    </tr>\n",
       "  </tbody>\n",
       "</table>\n",
       "<p>5 rows × 32 columns</p>\n",
       "</div>"
      ],
      "text/plain": [
       "                              Title Release time Age rating  Runtime  \\\n",
       "0                        Goon Squad   2024-01-18      NC-17     83.0   \n",
       "1               The Phantom Warrior   2024-02-20          R     83.0   \n",
       "2                   Beyond the Lake   2024-01-26          G     98.0   \n",
       "3  Crimes of Fashion: Killer Clutch   2024-03-15         PG     84.0   \n",
       "4     Love on the Danube: Love Song   2024-09-10          G     84.0   \n",
       "\n",
       "          Language  IMDb Rating    IMDb Votes  Action  Adventure  Animation  \\\n",
       "0          English          6.1  12215.766268   False      False      False   \n",
       "1          English          2.6    532.000000   False       True      False   \n",
       "2          English          6.1     31.000000   False      False      False   \n",
       "3  English, French          5.8    503.000000   False      False      False   \n",
       "4          English          5.8    175.000000   False      False      False   \n",
       "\n",
       "   ...  Romance  Sci-Fi  Short  Sport  Thriller    War  Western  Win  \\\n",
       "0  ...    False   False  False  False     False  False    False  0.0   \n",
       "1  ...    False    True  False  False     False  False    False  0.0   \n",
       "2  ...    False   False  False  False     False  False    False  0.0   \n",
       "3  ...    False   False  False  False     False  False    False  0.0   \n",
       "4  ...     True   False  False  False     False  False    False  0.0   \n",
       "\n",
       "   Nomination  Age rating quantification  \n",
       "0         0.0                          5  \n",
       "1         0.0                          4  \n",
       "2         0.0                          1  \n",
       "3         0.0                          2  \n",
       "4         0.0                          1  \n",
       "\n",
       "[5 rows x 32 columns]"
      ]
     },
     "execution_count": 3,
     "metadata": {},
     "output_type": "execute_result"
    }
   ],
   "source": [
    "file_path = '../../Data/movie_data.csv'\n",
    "movie_data = pd.read_csv(file_path)\n",
    "movie_data.head()"
   ]
  },
  {
   "cell_type": "code",
   "execution_count": 4,
   "id": "282742ea-8f88-45b4-88ef-4191f826d107",
   "metadata": {},
   "outputs": [],
   "source": [
    "movie_data_cleaned = movie_data.dropna()\n",
    "\n",
    "# Tạo nhãn \"Thành công\" dựa trên IMDb Rating (giả định: thành công nếu IMDb > 7.0)\n",
    "movie_data_cleaned['Success'] = (movie_data_cleaned['IMDb Rating'] > 7.0).astype(int)\n",
    "\n",
    "features = ['Runtime', 'Age rating quantification', 'IMDb Votes', \n",
    "             'Action', 'Adventure', 'Animation', 'Biography', 'Comedy', 'Crime',\n",
    "    'Documentary', 'Drama', 'Family', 'Fantasy', 'History', 'Horror', 'Music', 'Musical',\n",
    "    'Mystery', 'Romance', 'Sci-Fi', 'Short', 'Sport', 'Thriller', 'War', 'Western' ]\n",
    "\n",
    "X = movie_data_cleaned[features]\n",
    "y = movie_data_cleaned['Success']\n",
    "\n",
    "X_train, X_test, y_train, y_test = train_test_split(X, y, test_size=0.3, random_state=42, stratify=y)\n",
    "\n",
    "# Xử lý dữ liệu mất cân bằng bằng SMOTE\n",
    "smote = SMOTE(random_state=42)\n",
    "X_train_balanced, y_train_balanced = smote.fit_resample(X_train, y_train)"
   ]
  },
  {
   "cell_type": "markdown",
   "id": "f24b97a2-6935-4f64-a1fa-52d9ba7263fc",
   "metadata": {},
   "source": [
    "## 1. Mô hình Random Forest"
   ]
  },
  {
   "cell_type": "code",
   "execution_count": 6,
   "id": "12f0b7e1-7a01-403f-b087-5f164a3fe4f4",
   "metadata": {},
   "outputs": [
    {
     "name": "stdout",
     "output_type": "stream",
     "text": [
      "Random Forest Accuracy: 0.8385826771653543\n",
      "Random Forest Classification Report:\n",
      "              precision    recall  f1-score   support\n",
      "\n",
      "           0       0.88      0.94      0.91       431\n",
      "           1       0.45      0.27      0.34        77\n",
      "\n",
      "    accuracy                           0.84       508\n",
      "   macro avg       0.66      0.61      0.62       508\n",
      "weighted avg       0.81      0.84      0.82       508\n",
      "\n"
     ]
    }
   ],
   "source": [
    "# Huấn luyện mô hình Random Forest\n",
    "rf_model = RandomForestClassifier(random_state=42)\n",
    "rf_model.fit(X_train, y_train)\n",
    "\n",
    "rf_y_pred = rf_model.predict(X_test)\n",
    "rf_accuracy = accuracy_score(y_test, rf_y_pred)\n",
    "rf_y_prob = rf_model.predict_proba(X_test)[:, 1]\n",
    "rf_fpr, rf_tpr, _ = roc_curve(y_test, rf_y_prob)\n",
    "rf_auc = auc(rf_fpr, rf_tpr)\n",
    "print(\"Random Forest Accuracy:\", rf_accuracy)\n",
    "print(\"Random Forest Classification Report:\")\n",
    "print(classification_report(y_test, rf_y_pred))"
   ]
  },
  {
   "cell_type": "markdown",
   "id": "a8e26934-90dc-4a73-b581-70cce7055e85",
   "metadata": {},
   "source": [
    "## 2. Mô hình Gradient Boosting"
   ]
  },
  {
   "cell_type": "code",
   "execution_count": 8,
   "id": "74d6a7f1-c4fe-40e5-ab7a-0fb1b77ea1b4",
   "metadata": {},
   "outputs": [
    {
     "name": "stdout",
     "output_type": "stream",
     "text": [
      "Gradient Boosting Accuracy: 0.8543307086614174\n",
      "Gradient Boosting Classification Report:\n",
      "              precision    recall  f1-score   support\n",
      "\n",
      "           0       0.88      0.96      0.92       431\n",
      "           1       0.54      0.25      0.34        77\n",
      "\n",
      "    accuracy                           0.85       508\n",
      "   macro avg       0.71      0.60      0.63       508\n",
      "weighted avg       0.83      0.85      0.83       508\n",
      "\n"
     ]
    }
   ],
   "source": [
    "# Huấn luyện mô hình Gradient Boosting\n",
    "gb_model = GradientBoostingClassifier(random_state=42)\n",
    "gb_model.fit(X_train, y_train)\n",
    "\n",
    "gb_y_pred = gb_model.predict(X_test)\n",
    "gb_accuracy = accuracy_score(y_test, gb_y_pred)\n",
    "gb_y_prob = gb_model.predict_proba(X_test)[:, 1]\n",
    "gb_fpr, gb_tpr, _ = roc_curve(y_test, gb_y_prob)\n",
    "gb_auc = auc(gb_fpr, gb_tpr)\n",
    "print(\"Gradient Boosting Accuracy:\", gb_accuracy)\n",
    "print(\"Gradient Boosting Classification Report:\")\n",
    "print(classification_report(y_test, gb_y_pred))"
   ]
  },
  {
   "cell_type": "markdown",
   "id": "0ad70263-a794-4bb9-85f5-c5fd8e1b9331",
   "metadata": {},
   "source": [
    "## 3. Đánh giá mô hình"
   ]
  },
  {
   "cell_type": "code",
   "execution_count": 10,
   "id": "945be332-23d6-4c3d-9ac8-f75cbe247f08",
   "metadata": {},
   "outputs": [
    {
     "name": "stdout",
     "output_type": "stream",
     "text": [
      "Random Forest Accuracy: 0.84\n",
      "Gradient Boosting Accuracy: 0.85\n",
      "Random Forest AUC: 0.75\n",
      "Gradient Boosting AUC: 0.75\n"
     ]
    }
   ],
   "source": [
    "# Đánh giá mô hình Random Forest\n",
    "rf_y_pred = rf_model.predict(X_test)\n",
    "rf_accuracy = accuracy_score(y_test, rf_y_pred)\n",
    "rf_y_prob = rf_model.predict_proba(X_test)[:, 1]\n",
    "rf_fpr, rf_tpr, _ = roc_curve(y_test, rf_y_prob)\n",
    "rf_auc = auc(rf_fpr, rf_tpr)\n",
    "\n",
    "# Đánh giá mô hình Gradient Boosting\n",
    "gb_y_pred = gb_model.predict(X_test)\n",
    "gb_accuracy = accuracy_score(y_test, gb_y_pred)\n",
    "gb_y_prob = gb_model.predict_proba(X_test)[:, 1]\n",
    "gb_fpr, gb_tpr, _ = roc_curve(y_test, gb_y_prob)\n",
    "gb_auc = auc(gb_fpr, gb_tpr)\n",
    "\n",
    "print(f\"Random Forest Accuracy: {rf_accuracy:.2f}\")\n",
    "print(f\"Gradient Boosting Accuracy: {gb_accuracy:.2f}\")\n",
    "print(f\"Random Forest AUC: {rf_auc:.2f}\")\n",
    "print(f\"Gradient Boosting AUC: {gb_auc:.2f}\")"
   ]
  },
  {
   "cell_type": "markdown",
   "id": "8098ebd0-b56e-4093-a489-dfa6bc651a0d",
   "metadata": {},
   "source": [
    "#### Nhận xét: \n",
    "- Gradient Boosting (GB): Accuracy đạt 85.4%, cao hơn Random Forest (RF) với 83.8%.\n",
    "- AUC (Area Under Curve) của cả hai mô hình đều là 0.75, cho thấy khả năng phân biệt giữa hai lớp của cả hai mô hình là tương đương."
   ]
  },
  {
   "cell_type": "markdown",
   "id": "2445d7a0-75ab-487d-9f10-946dfa6cb006",
   "metadata": {},
   "source": [
    "## 3.1. ROC Curve"
   ]
  },
  {
   "cell_type": "code",
   "execution_count": 13,
   "id": "656b23f1-ffcd-4821-90c8-0fe78348fde8",
   "metadata": {},
   "outputs": [
    {
     "data": {
      "image/png": "[encoded data removed]",
      "text/plain": [
       "<Figure size 1000x600 with 1 Axes>"
      ]
     },
     "metadata": {},
     "output_type": "display_data"
    }
   ],
   "source": [
    "plt.figure(figsize=(10, 6))\n",
    "plt.plot(rf_fpr, rf_tpr, label=f\"Random Forest (AUC = {rf_auc:.2f})\", linestyle='--')\n",
    "plt.plot(gb_fpr, gb_tpr, label=f\"Gradient Boosting (AUC = {gb_auc:.2f})\")\n",
    "plt.xlabel(\"False Positive Rate\")\n",
    "plt.ylabel(\"True Positive Rate\")\n",
    "plt.title(\"ROC Curve Comparison\")\n",
    "plt.legend()\n",
    "plt.show()"
   ]
  },
  {
   "cell_type": "markdown",
   "id": "92b7b26c-93c8-4803-8070-61dcd5dbb3c1",
   "metadata": {},
   "source": [
    "## 3.2. Confusion Matrix"
   ]
  },
  {
   "cell_type": "code",
   "execution_count": 15,
   "id": "39ecfdc5-03a6-45bc-b8f6-da2cc6f0888e",
   "metadata": {},
   "outputs": [
    {
     "data": {
      "image/png": "[encoded data removed]",
      "text/plain": [
       "<Figure size 1200x500 with 4 Axes>"
      ]
     },
     "metadata": {},
     "output_type": "display_data"
    }
   ],
   "source": [
    "rf_cm = confusion_matrix(y_test, rf_y_pred)\n",
    "gb_cm = confusion_matrix(y_test, gb_y_pred)\n",
    "\n",
    "plt.figure(figsize=(12, 5))\n",
    "plt.subplot(1, 2, 1)\n",
    "sns.heatmap(rf_cm, annot=True, fmt='d', cmap='Blues')\n",
    "plt.title(\"Random Forest Confusion Matrix\")\n",
    "plt.subplot(1, 2, 2)\n",
    "sns.heatmap(gb_cm, annot=True, fmt='d', cmap='Greens')\n",
    "plt.title(\"Gradient Boosting Confusion Matrix\")\n",
    "plt.show()"
   ]
  },
  {
   "cell_type": "markdown",
   "id": "a0bc7c4a-cb91-4417-820d-3054aeeb607d",
   "metadata": {},
   "source": [
    "#### Nhận xét: \n",
    "- Gradient Boosting: Có 415 dự đoán đúng cho lớp 0 và 19 dự đoán đúng cho lớp 1.\n",
    "- Random Forest: Có 405 dự đoán đúng cho lớp 0 và 21 dự đoán đúng cho lớp 1.\n",
    "- Gradient Boosting ít nhầm lẫn hơn với lớp 0 (giảm số lượng false positives), nhưng số dự đoán đúng cho lớp 1 lại thấp hơn."
   ]
  },
  {
   "cell_type": "markdown",
   "id": "0f0f82ef-bd05-4348-93aa-b0366a66ccce",
   "metadata": {},
   "source": [
    "## 4. Kết luận và lựa chọn mô hình"
   ]
  },
  {
   "cell_type": "markdown",
   "id": "84f00da3-24d6-48a6-ace0-716eb3bf29e4",
   "metadata": {},
   "source": [
    "- Gradient Boosting có hiệu suất tổng thể cao hơn, nhưng sự khác biệt không quá lớn so với Random Forest.\n",
    "- Gradient Boosting phù hợp hơn nếu ưu tiên mô hình có Accuracy cao và khả năng phân biệt lớp tốt hơn.\n",
    "- Nếu Recall cho lớp 1 là yếu tố quan trọng nhất (ví dụ: dự đoán chính xác các trường hợp đặc biệt), thì Random Forest có thể là một lựa chọn thay thế.\n",
    "\n",
    "=> Với mục tiêu là xây dựng mô hình dự đoán chính xác các phim thành công, Gradient Boosting là mô hình được khuyến nghị do hiệu suất tổng thể cao hơn và khả năng giảm số lượng dự đoán sai cho lớp 0 (phim không thành công)."
   ]
  },
  {
   "cell_type": "code",
   "execution_count": null,
   "id": "088ca5c0-01f6-41a2-aac5-d7f2b878ff18",
   "metadata": {},
   "outputs": [],
   "source": []
  }
 ],
 "metadata": {
  "kernelspec": {
   "display_name": "Python 3 (ipykernel)",
   "language": "python",
   "name": "python3"
  },
  "language_info": {
   "codemirror_mode": {
    "name": "ipython",
    "version": 3
   },
   "file_extension": ".py",
   "mimetype": "text/x-python",
   "name": "python",
   "nbconvert_exporter": "python",
   "pygments_lexer": "ipython3",
   "version": "3.12.4"
  }
 },
 "nbformat": 4,
 "nbformat_minor": 5
}
