{
 "cells": [
  {
   "cell_type": "markdown",
   "metadata": {},
   "source": [
    "# DATA PREPROCESSING\n",
    "---"
   ]
  },
  {
   "cell_type": "markdown",
   "metadata": {},
   "source": [
    "Nhiệm vụ của phần này là tổng hợp và tiền xử lý dữ liệu đã được thu thập"
   ]
  },
  {
   "cell_type": "markdown",
   "metadata": {},
   "source": [
    "### IMPORT"
   ]
  },
  {
   "cell_type": "code",
   "execution_count": 1,
   "metadata": {},
   "outputs": [],
   "source": [
    "import pandas as pd\n",
    "import matplotlib.pyplot as plt\n",
    "import seaborn as sn"
   ]
  },
  {
   "cell_type": "markdown",
   "metadata": {},
   "source": [
    "### ĐỌC DỮ LIỆU"
   ]
  },
  {
   "cell_type": "code",
   "execution_count": 2,
   "metadata": {},
   "outputs": [],
   "source": [
    "data_1 = pd.read_csv('/home/tran-manh-hung/OneDrive/University of Science/Junior/Introduction to Data Science/Project/IntroToDS/Data/movie_data_part1.csv')\n",
    "data_2 = pd.read_csv('/home/tran-manh-hung/OneDrive/University of Science/Junior/Introduction to Data Science/Project/IntroToDS/Data/movie_data_part2.csv')\n",
    "data_3 = pd.read_csv('/home/tran-manh-hung/OneDrive/University of Science/Junior/Introduction to Data Science/Project/IntroToDS/Data/movie_data_part3.csv')"
   ]
  },
  {
   "cell_type": "code",
   "execution_count": 4,
   "metadata": {},
   "outputs": [
    {
     "name": "stdout",
     "output_type": "stream",
     "text": [
      "     Unnamed: 0                        Title Release time Age rating  \\\n",
      "0             0                       Stormy  18 Mar 2024          R   \n",
      "1             1  Ghostbusters: Frozen Empire  22 Mar 2024      PG-13   \n",
      "2             2                       Wicked  22 Nov 2024         PG   \n",
      "3             3               The First Omen  05 Apr 2024          R   \n",
      "4             4                      Sunrise  19 Jan 2024          R   \n",
      "..          ...                          ...          ...        ...   \n",
      "590         590                  The Machine  26 May 2023          R   \n",
      "591         591           Knock at the Cabin  03 Feb 2023          R   \n",
      "592         592                        Saw X  29 Sep 2023          R   \n",
      "593         593                 Downtown Owl  23 Apr 2024          R   \n",
      "594         594                   River Wild  01 Aug 2023      PG-13   \n",
      "\n",
      "      Runtime                        Genre             Lanuage  \\\n",
      "0    1h 49min                  Documentary             English   \n",
      "1    1h 55min   Adventure, Comedy, Fantasy             English   \n",
      "2    2h 40min    Fantasy, Musical, Romance             English   \n",
      "3    1h 59min                       Horror    English, Italian   \n",
      "4    1h 24min             Horror, Thriller  English, Cantonese   \n",
      "..        ...                          ...                 ...   \n",
      "590  1h 52min               Action, Comedy             English   \n",
      "591  1h 40min    Horror, Mystery, Thriller             English   \n",
      "592  1h 58min    Horror, Mystery, Thriller    English, Spanish   \n",
      "593  1h 28min                        Drama             English   \n",
      "594  1h 31min  Action, Adventure, Thriller             English   \n",
      "\n",
      "             Awards  Metascore  IMDb Rating IMDb Votes Domestic Revenue  \n",
      "0               NaN        NaN          6.4      1,004              NaN  \n",
      "1     2 nominations        NaN          6.1     78,571     $113,376,590  \n",
      "2     3 nominations        NaN          NaN        NaN              NaN  \n",
      "3    10 nominations        NaN          6.5     56,020      $20,092,802  \n",
      "4               NaN        NaN          3.8        856              NaN  \n",
      "..              ...        ...          ...        ...              ...  \n",
      "590             NaN       37.0          5.7     16,180      $10,458,331  \n",
      "591  12 nominations       63.0          6.1    125,668      $35,397,980  \n",
      "592  15 nominations        NaN          6.6     84,301      $53,607,898  \n",
      "593             NaN        NaN          4.8      1,877              NaN  \n",
      "594    1 nomination        NaN          5.4      5,705              NaN  \n",
      "\n",
      "[595 rows x 12 columns]\n"
     ]
    }
   ],
   "source": [
    "print(data_2)"
   ]
  },
  {
   "cell_type": "code",
   "execution_count": 5,
   "metadata": {},
   "outputs": [
    {
     "ename": "FileNotFoundError",
     "evalue": "[Errno 2] No such file or directory: './Data/movie_data_part1.csv'",
     "output_type": "error",
     "traceback": [
      "\u001b[0;31m---------------------------------------------------------------------------\u001b[0m",
      "\u001b[0;31mFileNotFoundError\u001b[0m                         Traceback (most recent call last)",
      "Cell \u001b[0;32mIn[5], line 1\u001b[0m\n\u001b[0;32m----> 1\u001b[0m data_1 \u001b[38;5;241m=\u001b[39m pd\u001b[38;5;241m.\u001b[39mread_csv(\u001b[38;5;124m'\u001b[39m\u001b[38;5;124m./Data/movie_data_part1.csv\u001b[39m\u001b[38;5;124m'\u001b[39m)\n\u001b[1;32m      2\u001b[0m data_2 \u001b[38;5;241m=\u001b[39m pd\u001b[38;5;241m.\u001b[39mread_csv(\u001b[38;5;124m'\u001b[39m\u001b[38;5;124m./Data/movie_data_part2.csv\u001b[39m\u001b[38;5;124m'\u001b[39m)\n\u001b[1;32m      3\u001b[0m data_3 \u001b[38;5;241m=\u001b[39m pd\u001b[38;5;241m.\u001b[39mread_csv(\u001b[38;5;124m'\u001b[39m\u001b[38;5;124m./Data/movie_data_part3.csv\u001b[39m\u001b[38;5;124m'\u001b[39m)\n",
      "File \u001b[0;32m~/anaconda3/lib/python3.12/site-packages/pandas/io/parsers/readers.py:1026\u001b[0m, in \u001b[0;36mread_csv\u001b[0;34m(filepath_or_buffer, sep, delimiter, header, names, index_col, usecols, dtype, engine, converters, true_values, false_values, skipinitialspace, skiprows, skipfooter, nrows, na_values, keep_default_na, na_filter, verbose, skip_blank_lines, parse_dates, infer_datetime_format, keep_date_col, date_parser, date_format, dayfirst, cache_dates, iterator, chunksize, compression, thousands, decimal, lineterminator, quotechar, quoting, doublequote, escapechar, comment, encoding, encoding_errors, dialect, on_bad_lines, delim_whitespace, low_memory, memory_map, float_precision, storage_options, dtype_backend)\u001b[0m\n\u001b[1;32m   1013\u001b[0m kwds_defaults \u001b[38;5;241m=\u001b[39m _refine_defaults_read(\n\u001b[1;32m   1014\u001b[0m     dialect,\n\u001b[1;32m   1015\u001b[0m     delimiter,\n\u001b[0;32m   (...)\u001b[0m\n\u001b[1;32m   1022\u001b[0m     dtype_backend\u001b[38;5;241m=\u001b[39mdtype_backend,\n\u001b[1;32m   1023\u001b[0m )\n\u001b[1;32m   1024\u001b[0m kwds\u001b[38;5;241m.\u001b[39mupdate(kwds_defaults)\n\u001b[0;32m-> 1026\u001b[0m \u001b[38;5;28;01mreturn\u001b[39;00m _read(filepath_or_buffer, kwds)\n",
      "File \u001b[0;32m~/anaconda3/lib/python3.12/site-packages/pandas/io/parsers/readers.py:620\u001b[0m, in \u001b[0;36m_read\u001b[0;34m(filepath_or_buffer, kwds)\u001b[0m\n\u001b[1;32m    617\u001b[0m _validate_names(kwds\u001b[38;5;241m.\u001b[39mget(\u001b[38;5;124m\"\u001b[39m\u001b[38;5;124mnames\u001b[39m\u001b[38;5;124m\"\u001b[39m, \u001b[38;5;28;01mNone\u001b[39;00m))\n\u001b[1;32m    619\u001b[0m \u001b[38;5;66;03m# Create the parser.\u001b[39;00m\n\u001b[0;32m--> 620\u001b[0m parser \u001b[38;5;241m=\u001b[39m TextFileReader(filepath_or_buffer, \u001b[38;5;241m*\u001b[39m\u001b[38;5;241m*\u001b[39mkwds)\n\u001b[1;32m    622\u001b[0m \u001b[38;5;28;01mif\u001b[39;00m chunksize \u001b[38;5;129;01mor\u001b[39;00m iterator:\n\u001b[1;32m    623\u001b[0m     \u001b[38;5;28;01mreturn\u001b[39;00m parser\n",
      "File \u001b[0;32m~/anaconda3/lib/python3.12/site-packages/pandas/io/parsers/readers.py:1620\u001b[0m, in \u001b[0;36mTextFileReader.__init__\u001b[0;34m(self, f, engine, **kwds)\u001b[0m\n\u001b[1;32m   1617\u001b[0m     \u001b[38;5;28mself\u001b[39m\u001b[38;5;241m.\u001b[39moptions[\u001b[38;5;124m\"\u001b[39m\u001b[38;5;124mhas_index_names\u001b[39m\u001b[38;5;124m\"\u001b[39m] \u001b[38;5;241m=\u001b[39m kwds[\u001b[38;5;124m\"\u001b[39m\u001b[38;5;124mhas_index_names\u001b[39m\u001b[38;5;124m\"\u001b[39m]\n\u001b[1;32m   1619\u001b[0m \u001b[38;5;28mself\u001b[39m\u001b[38;5;241m.\u001b[39mhandles: IOHandles \u001b[38;5;241m|\u001b[39m \u001b[38;5;28;01mNone\u001b[39;00m \u001b[38;5;241m=\u001b[39m \u001b[38;5;28;01mNone\u001b[39;00m\n\u001b[0;32m-> 1620\u001b[0m \u001b[38;5;28mself\u001b[39m\u001b[38;5;241m.\u001b[39m_engine \u001b[38;5;241m=\u001b[39m \u001b[38;5;28mself\u001b[39m\u001b[38;5;241m.\u001b[39m_make_engine(f, \u001b[38;5;28mself\u001b[39m\u001b[38;5;241m.\u001b[39mengine)\n",
      "File \u001b[0;32m~/anaconda3/lib/python3.12/site-packages/pandas/io/parsers/readers.py:1880\u001b[0m, in \u001b[0;36mTextFileReader._make_engine\u001b[0;34m(self, f, engine)\u001b[0m\n\u001b[1;32m   1878\u001b[0m     \u001b[38;5;28;01mif\u001b[39;00m \u001b[38;5;124m\"\u001b[39m\u001b[38;5;124mb\u001b[39m\u001b[38;5;124m\"\u001b[39m \u001b[38;5;129;01mnot\u001b[39;00m \u001b[38;5;129;01min\u001b[39;00m mode:\n\u001b[1;32m   1879\u001b[0m         mode \u001b[38;5;241m+\u001b[39m\u001b[38;5;241m=\u001b[39m \u001b[38;5;124m\"\u001b[39m\u001b[38;5;124mb\u001b[39m\u001b[38;5;124m\"\u001b[39m\n\u001b[0;32m-> 1880\u001b[0m \u001b[38;5;28mself\u001b[39m\u001b[38;5;241m.\u001b[39mhandles \u001b[38;5;241m=\u001b[39m get_handle(\n\u001b[1;32m   1881\u001b[0m     f,\n\u001b[1;32m   1882\u001b[0m     mode,\n\u001b[1;32m   1883\u001b[0m     encoding\u001b[38;5;241m=\u001b[39m\u001b[38;5;28mself\u001b[39m\u001b[38;5;241m.\u001b[39moptions\u001b[38;5;241m.\u001b[39mget(\u001b[38;5;124m\"\u001b[39m\u001b[38;5;124mencoding\u001b[39m\u001b[38;5;124m\"\u001b[39m, \u001b[38;5;28;01mNone\u001b[39;00m),\n\u001b[1;32m   1884\u001b[0m     compression\u001b[38;5;241m=\u001b[39m\u001b[38;5;28mself\u001b[39m\u001b[38;5;241m.\u001b[39moptions\u001b[38;5;241m.\u001b[39mget(\u001b[38;5;124m\"\u001b[39m\u001b[38;5;124mcompression\u001b[39m\u001b[38;5;124m\"\u001b[39m, \u001b[38;5;28;01mNone\u001b[39;00m),\n\u001b[1;32m   1885\u001b[0m     memory_map\u001b[38;5;241m=\u001b[39m\u001b[38;5;28mself\u001b[39m\u001b[38;5;241m.\u001b[39moptions\u001b[38;5;241m.\u001b[39mget(\u001b[38;5;124m\"\u001b[39m\u001b[38;5;124mmemory_map\u001b[39m\u001b[38;5;124m\"\u001b[39m, \u001b[38;5;28;01mFalse\u001b[39;00m),\n\u001b[1;32m   1886\u001b[0m     is_text\u001b[38;5;241m=\u001b[39mis_text,\n\u001b[1;32m   1887\u001b[0m     errors\u001b[38;5;241m=\u001b[39m\u001b[38;5;28mself\u001b[39m\u001b[38;5;241m.\u001b[39moptions\u001b[38;5;241m.\u001b[39mget(\u001b[38;5;124m\"\u001b[39m\u001b[38;5;124mencoding_errors\u001b[39m\u001b[38;5;124m\"\u001b[39m, \u001b[38;5;124m\"\u001b[39m\u001b[38;5;124mstrict\u001b[39m\u001b[38;5;124m\"\u001b[39m),\n\u001b[1;32m   1888\u001b[0m     storage_options\u001b[38;5;241m=\u001b[39m\u001b[38;5;28mself\u001b[39m\u001b[38;5;241m.\u001b[39moptions\u001b[38;5;241m.\u001b[39mget(\u001b[38;5;124m\"\u001b[39m\u001b[38;5;124mstorage_options\u001b[39m\u001b[38;5;124m\"\u001b[39m, \u001b[38;5;28;01mNone\u001b[39;00m),\n\u001b[1;32m   1889\u001b[0m )\n\u001b[1;32m   1890\u001b[0m \u001b[38;5;28;01massert\u001b[39;00m \u001b[38;5;28mself\u001b[39m\u001b[38;5;241m.\u001b[39mhandles \u001b[38;5;129;01mis\u001b[39;00m \u001b[38;5;129;01mnot\u001b[39;00m \u001b[38;5;28;01mNone\u001b[39;00m\n\u001b[1;32m   1891\u001b[0m f \u001b[38;5;241m=\u001b[39m \u001b[38;5;28mself\u001b[39m\u001b[38;5;241m.\u001b[39mhandles\u001b[38;5;241m.\u001b[39mhandle\n",
      "File \u001b[0;32m~/anaconda3/lib/python3.12/site-packages/pandas/io/common.py:873\u001b[0m, in \u001b[0;36mget_handle\u001b[0;34m(path_or_buf, mode, encoding, compression, memory_map, is_text, errors, storage_options)\u001b[0m\n\u001b[1;32m    868\u001b[0m \u001b[38;5;28;01melif\u001b[39;00m \u001b[38;5;28misinstance\u001b[39m(handle, \u001b[38;5;28mstr\u001b[39m):\n\u001b[1;32m    869\u001b[0m     \u001b[38;5;66;03m# Check whether the filename is to be opened in binary mode.\u001b[39;00m\n\u001b[1;32m    870\u001b[0m     \u001b[38;5;66;03m# Binary mode does not support 'encoding' and 'newline'.\u001b[39;00m\n\u001b[1;32m    871\u001b[0m     \u001b[38;5;28;01mif\u001b[39;00m ioargs\u001b[38;5;241m.\u001b[39mencoding \u001b[38;5;129;01mand\u001b[39;00m \u001b[38;5;124m\"\u001b[39m\u001b[38;5;124mb\u001b[39m\u001b[38;5;124m\"\u001b[39m \u001b[38;5;129;01mnot\u001b[39;00m \u001b[38;5;129;01min\u001b[39;00m ioargs\u001b[38;5;241m.\u001b[39mmode:\n\u001b[1;32m    872\u001b[0m         \u001b[38;5;66;03m# Encoding\u001b[39;00m\n\u001b[0;32m--> 873\u001b[0m         handle \u001b[38;5;241m=\u001b[39m \u001b[38;5;28mopen\u001b[39m(\n\u001b[1;32m    874\u001b[0m             handle,\n\u001b[1;32m    875\u001b[0m             ioargs\u001b[38;5;241m.\u001b[39mmode,\n\u001b[1;32m    876\u001b[0m             encoding\u001b[38;5;241m=\u001b[39mioargs\u001b[38;5;241m.\u001b[39mencoding,\n\u001b[1;32m    877\u001b[0m             errors\u001b[38;5;241m=\u001b[39merrors,\n\u001b[1;32m    878\u001b[0m             newline\u001b[38;5;241m=\u001b[39m\u001b[38;5;124m\"\u001b[39m\u001b[38;5;124m\"\u001b[39m,\n\u001b[1;32m    879\u001b[0m         )\n\u001b[1;32m    880\u001b[0m     \u001b[38;5;28;01melse\u001b[39;00m:\n\u001b[1;32m    881\u001b[0m         \u001b[38;5;66;03m# Binary mode\u001b[39;00m\n\u001b[1;32m    882\u001b[0m         handle \u001b[38;5;241m=\u001b[39m \u001b[38;5;28mopen\u001b[39m(handle, ioargs\u001b[38;5;241m.\u001b[39mmode)\n",
      "\u001b[0;31mFileNotFoundError\u001b[0m: [Errno 2] No such file or directory: './Data/movie_data_part1.csv'"
     ]
    }
   ],
   "source": [
    "data_1 = pd.read_csv('./Data/movie_data_part1.csv')\n",
    "data_2 = pd.read_csv('./Data/movie_data_part2.csv')\n",
    "data_3 = pd.read_csv('./Data/movie_data_part3.csv')"
   ]
  },
  {
   "cell_type": "markdown",
   "metadata": {},
   "source": [
    "#### Kiểm tra trước khi tổng hợp\n",
    "Kiểm tra xem cả 3 file có giống nhau về đặc trưng hay không"
   ]
  },
  {
   "cell_type": "code",
   "execution_count": 3,
   "metadata": {},
   "outputs": [
    {
     "name": "stdout",
     "output_type": "stream",
     "text": [
      "Các tệp có sự khác biệt trong đặc trưng:\n",
      "- Tệp 2 và tệp 3\n",
      "{'Unnamed: 0'}\n",
      "- Tệp 3 và tệp 1\n",
      "{'Unnamed: 0'}\n"
     ]
    }
   ],
   "source": [
    "def DacTrungGiongNhau(df1, df2, df3):\n",
    "    columns_1 = df1.columns.tolist()\n",
    "    columns_2 = df2.columns.tolist()\n",
    "    columns_3 = df3.columns.tolist()\n",
    "\n",
    "    if columns_1 == columns_2 == columns_3:\n",
    "        print(\"Cả 3 tệp có các đặc trưng giống nhau\")\n",
    "    else:\n",
    "        print(\"Các tệp có sự khác biệt trong đặc trưng:\")\n",
    "        if columns_1 != columns_2:\n",
    "            print(f\"- Tệp 1 và tệp 2\")\n",
    "            print(set(columns_1).symmetric_difference(columns_2))\n",
    "        if columns_2 != columns_3:\n",
    "            print(f\"- Tệp 2 và tệp 3\")\n",
    "            print(set(columns_2).symmetric_difference(columns_3))\n",
    "        if columns_1 != columns_3:\n",
    "            print(f\"- Tệp 3 và tệp 1\")\n",
    "            print(set(columns_3).symmetric_difference(columns_1))\n",
    "\n",
    "DacTrungGiongNhau(data_1, data_2, data_3)"
   ]
  },
  {
   "cell_type": "markdown",
   "metadata": {},
   "source": [
    "Cột không có tên nằm trong tệp 1 và tệp 2 chỉ là cột số thứ tự của các dòng dữ liệu, ta có thể loại bỏ"
   ]
  },
  {
   "cell_type": "code",
   "execution_count": 4,
   "metadata": {},
   "outputs": [],
   "source": [
    "data_1 = data_1.iloc[:, 1:]\n",
    "data_2 = data_2.iloc[:, 1:]"
   ]
  },
  {
   "cell_type": "markdown",
   "metadata": {},
   "source": [
    "Kiểm tra lại"
   ]
  },
  {
   "cell_type": "code",
   "execution_count": 5,
   "metadata": {},
   "outputs": [
    {
     "name": "stdout",
     "output_type": "stream",
     "text": [
      "Cả 3 tệp có các đặc trưng giống nhau\n"
     ]
    }
   ],
   "source": [
    "DacTrungGiongNhau(data_1, data_2, data_3)"
   ]
  },
  {
   "cell_type": "markdown",
   "metadata": {},
   "source": [
    "#### Tổng hợp các tệp"
   ]
  },
  {
   "cell_type": "code",
   "execution_count": 6,
   "metadata": {},
   "outputs": [
    {
     "data": {
      "text/html": [
       "<div>\n",
       "<style scoped>\n",
       "    .dataframe tbody tr th:only-of-type {\n",
       "        vertical-align: middle;\n",
       "    }\n",
       "\n",
       "    .dataframe tbody tr th {\n",
       "        vertical-align: top;\n",
       "    }\n",
       "\n",
       "    .dataframe thead th {\n",
       "        text-align: right;\n",
       "    }\n",
       "</style>\n",
       "<table border=\"1\" class=\"dataframe\">\n",
       "  <thead>\n",
       "    <tr style=\"text-align: right;\">\n",
       "      <th></th>\n",
       "      <th>Title</th>\n",
       "      <th>Release time</th>\n",
       "      <th>Age rating</th>\n",
       "      <th>Runtime</th>\n",
       "      <th>Genre</th>\n",
       "      <th>Lanuage</th>\n",
       "      <th>Awards</th>\n",
       "      <th>Metascore</th>\n",
       "      <th>IMDb Rating</th>\n",
       "      <th>IMDb Votes</th>\n",
       "      <th>Domestic Revenue</th>\n",
       "    </tr>\n",
       "  </thead>\n",
       "  <tbody>\n",
       "    <tr>\n",
       "      <th>0</th>\n",
       "      <td>Goon Squad</td>\n",
       "      <td>18 Jan 2024</td>\n",
       "      <td>NC-17</td>\n",
       "      <td>1h 23min</td>\n",
       "      <td>Crime</td>\n",
       "      <td>English</td>\n",
       "      <td>NaN</td>\n",
       "      <td>NaN</td>\n",
       "      <td>NaN</td>\n",
       "      <td>NaN</td>\n",
       "      <td>NaN</td>\n",
       "    </tr>\n",
       "    <tr>\n",
       "      <th>1</th>\n",
       "      <td>The Phantom Warrior</td>\n",
       "      <td>20 Feb 2024</td>\n",
       "      <td>R</td>\n",
       "      <td>1h 23min</td>\n",
       "      <td>Adventure, Fantasy, Sci-Fi</td>\n",
       "      <td>English</td>\n",
       "      <td>NaN</td>\n",
       "      <td>NaN</td>\n",
       "      <td>2.6</td>\n",
       "      <td>532</td>\n",
       "      <td>NaN</td>\n",
       "    </tr>\n",
       "    <tr>\n",
       "      <th>2</th>\n",
       "      <td>Beyond the Lake</td>\n",
       "      <td>26 Jan 2024</td>\n",
       "      <td>G</td>\n",
       "      <td>1h 38min</td>\n",
       "      <td>Comedy</td>\n",
       "      <td>English</td>\n",
       "      <td>NaN</td>\n",
       "      <td>NaN</td>\n",
       "      <td>NaN</td>\n",
       "      <td>31</td>\n",
       "      <td>NaN</td>\n",
       "    </tr>\n",
       "    <tr>\n",
       "      <th>3</th>\n",
       "      <td>Crimes of Fashion: Killer Clutch</td>\n",
       "      <td>15 Mar 2024</td>\n",
       "      <td>PG</td>\n",
       "      <td>1h 24min</td>\n",
       "      <td>Crime, Drama, Mystery</td>\n",
       "      <td>English, French</td>\n",
       "      <td>NaN</td>\n",
       "      <td>NaN</td>\n",
       "      <td>5.8</td>\n",
       "      <td>503</td>\n",
       "      <td>NaN</td>\n",
       "    </tr>\n",
       "    <tr>\n",
       "      <th>4</th>\n",
       "      <td>Love on the Danube: Love Song</td>\n",
       "      <td>10 Sep 2024</td>\n",
       "      <td>G</td>\n",
       "      <td>1h 24min</td>\n",
       "      <td>Romance</td>\n",
       "      <td>English</td>\n",
       "      <td>NaN</td>\n",
       "      <td>NaN</td>\n",
       "      <td>5.8</td>\n",
       "      <td>175</td>\n",
       "      <td>NaN</td>\n",
       "    </tr>\n",
       "  </tbody>\n",
       "</table>\n",
       "</div>"
      ],
      "text/plain": [
       "                              Title Release time Age rating   Runtime  \\\n",
       "0                        Goon Squad  18 Jan 2024      NC-17  1h 23min   \n",
       "1               The Phantom Warrior  20 Feb 2024          R  1h 23min   \n",
       "2                   Beyond the Lake  26 Jan 2024          G  1h 38min   \n",
       "3  Crimes of Fashion: Killer Clutch  15 Mar 2024         PG  1h 24min   \n",
       "4     Love on the Danube: Love Song  10 Sep 2024          G  1h 24min   \n",
       "\n",
       "                        Genre          Lanuage Awards  Metascore  IMDb Rating  \\\n",
       "0                       Crime          English    NaN        NaN          NaN   \n",
       "1  Adventure, Fantasy, Sci-Fi          English    NaN        NaN          2.6   \n",
       "2                      Comedy          English    NaN        NaN          NaN   \n",
       "3       Crime, Drama, Mystery  English, French    NaN        NaN          5.8   \n",
       "4                     Romance          English    NaN        NaN          5.8   \n",
       "\n",
       "  IMDb Votes Domestic Revenue  \n",
       "0        NaN              NaN  \n",
       "1        532              NaN  \n",
       "2         31              NaN  \n",
       "3        503              NaN  \n",
       "4        175              NaN  "
      ]
     },
     "execution_count": 6,
     "metadata": {},
     "output_type": "execute_result"
    }
   ],
   "source": [
    "data = pd.concat([data_1, data_2, data_3], ignore_index=True)\n",
    "data.head() # Xem trước dữ liệu"
   ]
  },
  {
   "cell_type": "markdown",
   "metadata": {},
   "source": [
    "### 1. Dữ liệu có bao nhiêu dòng, cột"
   ]
  },
  {
   "cell_type": "code",
   "execution_count": 7,
   "metadata": {},
   "outputs": [
    {
     "data": {
      "text/plain": [
       "(1796, 11)"
      ]
     },
     "execution_count": 7,
     "metadata": {},
     "output_type": "execute_result"
    }
   ],
   "source": [
    "data.shape"
   ]
  },
  {
   "cell_type": "markdown",
   "metadata": {},
   "source": [
    "### 2. Thông tin về các dòng dữ liệu"
   ]
  },
  {
   "cell_type": "markdown",
   "metadata": {},
   "source": [
    "#### 2.1 Ý nghĩa từng dòng dữ liệu"
   ]
  },
  {
   "cell_type": "markdown",
   "metadata": {},
   "source": [
    "- Mỗi dòng là đại diện cho một bộ phim, cung cấp thông tin về tên, thời gian phát hành, thể loại, ngôn ngữ, đánh giá, doanh thu và các thông tin khác liên quan đến bộ phim đó. \n",
    "\n",
    "- Không có dòng nào có ý nghĩa khác với các dòng còn lại."
   ]
  },
  {
   "cell_type": "markdown",
   "metadata": {},
   "source": [
    "### 2.2 Kiểm tra các dòng dữ liệu trùng lặp"
   ]
  },
  {
   "cell_type": "code",
   "execution_count": 11,
   "metadata": {},
   "outputs": [
    {
     "data": {
      "text/plain": [
       "27"
      ]
     },
     "execution_count": 11,
     "metadata": {},
     "output_type": "execute_result"
    }
   ],
   "source": [
    "n_duplicate = data.duplicated().sum()\n",
    "n_duplicate"
   ]
  },
  {
   "cell_type": "markdown",
   "metadata": {},
   "source": [
    "Xử lý các đữ liệu trùng lặp"
   ]
  },
  {
   "cell_type": "code",
   "execution_count": 12,
   "metadata": {},
   "outputs": [
    {
     "data": {
      "text/plain": [
       "(1769, 11)"
      ]
     },
     "execution_count": 12,
     "metadata": {},
     "output_type": "execute_result"
    }
   ],
   "source": [
    "if n_duplicate > 0:\n",
    "    data = data.drop_duplicates()\n",
    "\n",
    "data.shape"
   ]
  },
  {
   "cell_type": "markdown",
   "metadata": {},
   "source": [
    "### 3. Thông tin về các cột dữ liệu\n",
    "Dữ liệu có các cột sau"
   ]
  },
  {
   "cell_type": "code",
   "execution_count": 13,
   "metadata": {},
   "outputs": [
    {
     "data": {
      "text/plain": [
       "Index(['Title', 'Release time', 'Age rating', 'Runtime', 'Genre', 'Lanuage',\n",
       "       'Awards', 'Metascore', 'IMDb Rating', 'IMDb Votes', 'Domestic Revenue'],\n",
       "      dtype='object')"
      ]
     },
     "execution_count": 13,
     "metadata": {},
     "output_type": "execute_result"
    }
   ],
   "source": [
    "data.columns"
   ]
  },
  {
   "cell_type": "markdown",
   "metadata": {},
   "source": [
    "Có một tên cột bị sai chính tả, sửa lại cho đúng"
   ]
  },
  {
   "cell_type": "code",
   "execution_count": 14,
   "metadata": {},
   "outputs": [],
   "source": [
    "data = data.rename(columns={'Lanuage': 'Language'})"
   ]
  },
  {
   "cell_type": "markdown",
   "metadata": {},
   "source": [
    "### 3.1 Ý nghĩa của các cột dữ liệu"
   ]
  },
  {
   "cell_type": "markdown",
   "metadata": {},
   "source": [
    "Mỗi cột có ý nghĩa sau: \n",
    "|Tên cột|Ý nghĩa|\n",
    "|-------|-------|\n",
    "| Title| Tên của bộ phim|\n",
    "| Release time| Thời gian phát hành của bộ phim|\n",
    "| Age rating| Đánh giá độ tuổi phù hợp để xem phim|\n",
    "| Runtime| Thời lượng của bộ phim|\n",
    "| Genre| Thể loại của bộ phim|\n",
    "| Language| Ngôn ngữ chính được sử dụng trong bộ phim|\n",
    "| Awards| Số lượng hoặc tên giải thưởng mà bộ phim nhận được (nếu có)|\n",
    "| Metascore| Điểm đánh giá từ Metacritic|\n",
    "| IMDb Rating| Điểm đánh giá của bộ phim trên IMDb|\n",
    "| IMDb Votes| Số lượt bình chọn của người dùng trên IMDb|\n",
    "| Domestic Revenue|Doanh thu nội địa|"
   ]
  },
  {
   "cell_type": "markdown",
   "metadata": {},
   "source": [
    "### 3.2 Kiểm tra kiểu dữ liệu của mỗi cột\n",
    "Kiểu dữ liệu hiện tại của các cột"
   ]
  },
  {
   "cell_type": "code",
   "execution_count": null,
   "metadata": {},
   "outputs": [],
   "source": [
    "column_types = data.dtypes\n",
    "column_types"
   ]
  },
  {
   "cell_type": "markdown",
   "metadata": {},
   "source": [
    "Có một số cột dữ liệu chưa được xác định với các kiểu dữ liệu phù hợp.\n",
    "\n",
    "Ta chuyển một số cột **Runtime, Awards, IMDb Votes, Domestic Revenue** từ định tính qua định lượng"
   ]
  },
  {
   "cell_type": "markdown",
   "metadata": {},
   "source": [
    "Runtime"
   ]
  },
  {
   "cell_type": "code",
   "execution_count": 16,
   "metadata": {},
   "outputs": [],
   "source": [
    "def convert_runtime_to_minutes(runtime):\n",
    "    try:\n",
    "        if 'h' in runtime and 'min' in runtime:  # Có cả giờ và phút\n",
    "            parts = runtime.split('h')\n",
    "            hours = int(parts[0].strip())  # Phần trước 'h' là số giờ\n",
    "            minutes = int(parts[1].replace('min', '').strip())  #index_col = 0 Phần sau 'h' là số phút\n",
    "            return hours * 60 + minutes\n",
    "        elif 'min' in runtime:  # Chỉ có phút\n",
    "            minutes = int(runtime.replace('min', '').strip())\n",
    "            return minutes\n",
    "        elif 'h' in runtime:  # Chỉ có giờ\n",
    "            hours = int(runtime.replace('h', '').strip())\n",
    "            return hours * 60\n",
    "        else:\n",
    "            return None  # Nếu không đúng định dạng\n",
    "    except (ValueError, AttributeError):\n",
    "        return None  # Xử lý ngoại lệ nếu giá trị không hợp lệ\n"
   ]
  },
  {
   "cell_type": "code",
   "execution_count": 17,
   "metadata": {},
   "outputs": [],
   "source": [
    "data['Runtime'] = data['Runtime'].dropna().apply(convert_runtime_to_minutes)"
   ]
  },
  {
   "cell_type": "markdown",
   "metadata": {},
   "source": [
    "Awards"
   ]
  },
  {
   "cell_type": "markdown",
   "metadata": {},
   "source": [
    "Ta tách cột Awards thành 2 cột riêng là Win và Nomination"
   ]
  },
  {
   "cell_type": "code",
   "execution_count": 18,
   "metadata": {},
   "outputs": [],
   "source": [
    "data['Win'] = data['Awards'].apply(lambda x: 1 if x == 'win' else 0)\n",
    "data['Nomination'] = data['Awards'].apply(lambda x: 1 if x == 'nomination' else 0)\n",
    "data = data.drop(columns=['Awards'])"
   ]
  },
  {
   "cell_type": "markdown",
   "metadata": {},
   "source": [
    "IMDb Votes"
   ]
  },
  {
   "cell_type": "code",
   "execution_count": 19,
   "metadata": {},
   "outputs": [],
   "source": [
    "data['IMDb Votes'] = data['IMDb Votes'].replace({',': ''}, regex=True)\n",
    "data['IMDb Votes'] = data['IMDb Votes'].dropna().astype(float)"
   ]
  },
  {
   "cell_type": "markdown",
   "metadata": {},
   "source": [
    "Domestic Revenue\n"
   ]
  },
  {
   "cell_type": "code",
   "execution_count": 20,
   "metadata": {},
   "outputs": [
    {
     "name": "stderr",
     "output_type": "stream",
     "text": [
      "<>:1: SyntaxWarning: invalid escape sequence '\\$'\n",
      "<>:1: SyntaxWarning: invalid escape sequence '\\$'\n",
      "/tmp/ipykernel_11084/2253550822.py:1: SyntaxWarning: invalid escape sequence '\\$'\n",
      "  data['Domestic Revenue'] = data['Domestic Revenue'].replace({'\\$': '', ',': ''}, regex=True)\n"
     ]
    }
   ],
   "source": [
    "data['Domestic Revenue'] = data['Domestic Revenue'].replace({'\\$': '', ',': ''}, regex=True)\n",
    "data['Domestic Revenue'] = data['Domestic Revenue'].dropna().astype(float)"
   ]
  },
  {
   "cell_type": "markdown",
   "metadata": {},
   "source": [
    "Kiểm tra lại"
   ]
  },
  {
   "cell_type": "code",
   "execution_count": 21,
   "metadata": {},
   "outputs": [
    {
     "data": {
      "text/plain": [
       "Title                object\n",
       "Release time         object\n",
       "Age rating           object\n",
       "Runtime             float64\n",
       "Genre                object\n",
       "Language             object\n",
       "Metascore           float64\n",
       "IMDb Rating         float64\n",
       "IMDb Votes          float64\n",
       "Domestic Revenue    float64\n",
       "Win                   int64\n",
       "Nomination            int64\n",
       "dtype: object"
      ]
     },
     "execution_count": 21,
     "metadata": {},
     "output_type": "execute_result"
    }
   ],
   "source": [
    "data.dtypes"
   ]
  },
  {
   "cell_type": "markdown",
   "metadata": {},
   "source": [
    "### 3.3. Sự phân bố dữ liệu của các cột có kiểu định lượng\n",
    "Các cột có dữ liệu định lượng"
   ]
  },
  {
   "cell_type": "code",
   "execution_count": 8,
   "metadata": {},
   "outputs": [
    {
     "name": "stdout",
     "output_type": "stream",
     "text": [
      "Numberical columns: \n",
      "Metascore\n",
      "IMDb Rating\n"
     ]
    }
   ],
   "source": [
    "numerical_columns = data.select_dtypes(include=['int64', 'float64']).columns.tolist()\n",
    "print('Numberical columns: ')\n",
    "for col_name in numerical_columns:\n",
    "    print(col_name)"
   ]
  },
  {
   "cell_type": "markdown",
   "metadata": {},
   "source": [
    "Sự phân bố dữ liệu"
   ]
  },
  {
   "cell_type": "code",
   "execution_count": 9,
   "metadata": {},
   "outputs": [
    {
     "ename": "",
     "evalue": "",
     "output_type": "error",
     "traceback": [
      "\u001b[1;31mThe Kernel crashed while executing code in the current cell or a previous cell. \n",
      "\u001b[1;31mPlease review the code in the cell(s) to identify a possible cause of the failure. \n",
      "\u001b[1;31mClick <a href='https://aka.ms/vscodeJupyterKernelCrash'>here</a> for more info. \n",
      "\u001b[1;31mView Jupyter <a href='command:jupyter.viewOutput'>log</a> for further details."
     ]
    }
   ],
   "source": [
    "plt.hist(data[numerical_columns[0]],color = 'blue')"
   ]
  },
  {
   "cell_type": "markdown",
   "metadata": {},
   "source": [
    "#### 3.3.1 Tỉ lệ phần trăm các giá trị bị thiếu trong mỗi cột"
   ]
  },
  {
   "cell_type": "code",
   "execution_count": null,
   "metadata": {},
   "outputs": [],
   "source": [
    "# Tính tỉ lệ phần trăm các giá trị bị thiếu\n"
   ]
  },
  {
   "cell_type": "code",
   "execution_count": null,
   "metadata": {},
   "outputs": [],
   "source": [
    "# Xử lý giá trị bị thiếu (điền giá trị thay thế, ước lượng,...)"
   ]
  },
  {
   "cell_type": "markdown",
   "metadata": {},
   "source": [
    "#### 3.3.2 Tính toán các giá trị thống kê\n"
   ]
  },
  {
   "cell_type": "markdown",
   "metadata": {},
   "source": [
    "Với mỗi cột có kiểu dữ liệu định lượng, chúng em thực hiện tính toán các giá trị thống kê cơ bản sau:\n",
    "- Min \n",
    "- Max\n",
    "- Mean\n",
    "- Mod\n",
    "- Median"
   ]
  },
  {
   "cell_type": "code",
   "execution_count": null,
   "metadata": {},
   "outputs": [],
   "source": [
    "# Thêm các cell tính toán và xử lý"
   ]
  },
  {
   "cell_type": "markdown",
   "metadata": {},
   "source": [
    "#### 3.3.3 Xử lý dữ liệu lỗi hoặc bất thường"
   ]
  },
  {
   "cell_type": "code",
   "execution_count": null,
   "metadata": {},
   "outputs": [],
   "source": []
  },
  {
   "cell_type": "markdown",
   "metadata": {},
   "source": [
    "#### 3.3.5 Chuẩn hóa dữ liệu nếu cần"
   ]
  },
  {
   "cell_type": "code",
   "execution_count": null,
   "metadata": {},
   "outputs": [],
   "source": []
  },
  {
   "cell_type": "markdown",
   "metadata": {},
   "source": [
    "### 3.4 Sự phân bố dữ liệu của các cột có kiểu định tính\n",
    "Các cột có kiểu dữ liệu định tính"
   ]
  },
  {
   "cell_type": "code",
   "execution_count": null,
   "metadata": {},
   "outputs": [
    {
     "name": "stdout",
     "output_type": "stream",
     "text": [
      "Categorical columns: \n",
      "Title\n",
      "Release time\n",
      "Age rating\n",
      "Genre\n",
      "Language\n"
     ]
    }
   ],
   "source": [
    "categorical_columns = data.select_dtypes(include=['object', 'bool']).columns.tolist()\n",
    "print('Categorical columns: ')\n",
    "for col_name in categorical_columns:\n",
    "    print(col_name)"
   ]
  },
  {
   "cell_type": "markdown",
   "metadata": {},
   "source": [
    "#### 3.4.1 Số giá trị phân biệt của mỗi cột"
   ]
  },
  {
   "cell_type": "code",
   "execution_count": null,
   "metadata": {},
   "outputs": [],
   "source": [
    "# Hàm tính toán sự phân bố các giá trị\n",
    "def compute_distribution(dataframe, column):\n",
    "    value_counts = dataframe[column].value_counts(dropna=False) \n",
    "    db = {}\n",
    "    for value, count in value_counts.items():\n",
    "        db[value] = count\n",
    "    \n",
    "    return db"
   ]
  },
  {
   "cell_type": "code",
   "execution_count": null,
   "metadata": {},
   "outputs": [],
   "source": [
    "# Tìm phân bố giá trị\n",
    "cat_distribution = {}\n",
    "\n",
    "for column in categorical_columns:\n",
    "    cat_distribution[column] = compute_distribution(data, column)"
   ]
  },
  {
   "cell_type": "code",
   "execution_count": null,
   "metadata": {},
   "outputs": [
    {
     "data": {
      "text/html": [
       "<div>\n",
       "<style scoped>\n",
       "    .dataframe tbody tr th:only-of-type {\n",
       "        vertical-align: middle;\n",
       "    }\n",
       "\n",
       "    .dataframe tbody tr th {\n",
       "        vertical-align: top;\n",
       "    }\n",
       "\n",
       "    .dataframe thead th {\n",
       "        text-align: right;\n",
       "    }\n",
       "</style>\n",
       "<table border=\"1\" class=\"dataframe\">\n",
       "  <thead>\n",
       "    <tr style=\"text-align: right;\">\n",
       "      <th></th>\n",
       "      <th>Column</th>\n",
       "      <th>Distinct_Values</th>\n",
       "      <th>Value_Distribution</th>\n",
       "    </tr>\n",
       "  </thead>\n",
       "  <tbody>\n",
       "    <tr>\n",
       "      <th>0</th>\n",
       "      <td>Title</td>\n",
       "      <td>1763</td>\n",
       "      <td>{'Horizon: An American Saga - Chapter 1': 2, '...</td>\n",
       "    </tr>\n",
       "    <tr>\n",
       "      <th>1</th>\n",
       "      <td>Release time</td>\n",
       "      <td>559</td>\n",
       "      <td>{'2024': 26, '2023': 18, '13 Sep 2024': 17, '1...</td>\n",
       "    </tr>\n",
       "    <tr>\n",
       "      <th>2</th>\n",
       "      <td>Age rating</td>\n",
       "      <td>5</td>\n",
       "      <td>{'R': 809, 'PG-13': 466, 'PG': 284, 'G': 181, ...</td>\n",
       "    </tr>\n",
       "    <tr>\n",
       "      <th>3</th>\n",
       "      <td>Genre</td>\n",
       "      <td>286</td>\n",
       "      <td>{'Documentary': 191, 'Comedy': 110, 'Drama': 1...</td>\n",
       "    </tr>\n",
       "    <tr>\n",
       "      <th>4</th>\n",
       "      <td>Language</td>\n",
       "      <td>166</td>\n",
       "      <td>{'English': 1231, nan: 98, 'Spanish': 39, 'Eng...</td>\n",
       "    </tr>\n",
       "  </tbody>\n",
       "</table>\n",
       "</div>"
      ],
      "text/plain": [
       "         Column  Distinct_Values  \\\n",
       "0         Title             1763   \n",
       "1  Release time              559   \n",
       "2    Age rating                5   \n",
       "3         Genre              286   \n",
       "4      Language              166   \n",
       "\n",
       "                                  Value_Distribution  \n",
       "0  {'Horizon: An American Saga - Chapter 1': 2, '...  \n",
       "1  {'2024': 26, '2023': 18, '13 Sep 2024': 17, '1...  \n",
       "2  {'R': 809, 'PG-13': 466, 'PG': 284, 'G': 181, ...  \n",
       "3  {'Documentary': 191, 'Comedy': 110, 'Drama': 1...  \n",
       "4  {'English': 1231, nan: 98, 'Spanish': 39, 'Eng...  "
      ]
     },
     "execution_count": 536,
     "metadata": {},
     "output_type": "execute_result"
    }
   ],
   "source": [
    "# Chuyển thành dạng bảng\n",
    "# Tạo danh sách để lưu dữ liệu cho DataFrame\n",
    "df = {\n",
    "    \"Column\": [],\n",
    "    \"Distinct_Values\": [],\n",
    "    \"Value_Distribution\": []\n",
    "}\n",
    "\n",
    "# Thêm dữ liệu vào danh sách\n",
    "for column, distribution in cat_distribution.items():\n",
    "    different_values = len(set(data[column]))\n",
    "    df[\"Column\"].append(column)\n",
    "    df[\"Distinct_Values\"].append(different_values)\n",
    "    df[\"Value_Distribution\"].append(distribution)\n",
    "\n",
    "# Tạo DataFrame từ dữ liệu\n",
    "distribution_df = pd.DataFrame(df)\n",
    "\n",
    "# In ra DataFrame\n",
    "distribution_df"
   ]
  },
  {
   "cell_type": "markdown",
   "metadata": {},
   "source": [
    "#### 3.4.2 Tỉ lệ phần trăm các giá trị bị thiếu trong mỗi cột"
   ]
  },
  {
   "cell_type": "code",
   "execution_count": null,
   "metadata": {},
   "outputs": [
    {
     "name": "stdout",
     "output_type": "stream",
     "text": [
      "Title: 0.00%\n",
      "Release time: 0.00%\n",
      "Age rating: 0.00%\n",
      "Genre: 0.00%\n",
      "Language: 5.54%\n"
     ]
    }
   ],
   "source": [
    "for col_name in categorical_columns:\n",
    "    missing_rate = data[col_name].isnull().mean() * 100\n",
    "    print(f'{col_name}: {missing_rate:.2f}%')"
   ]
  },
  {
   "cell_type": "markdown",
   "metadata": {},
   "source": [
    "Trong quá trình khám phá dữ liệu, đã phát hiện 1 cột định tính có giá trị bị thiếu. Cụ thể là cột **Language** (5,54%)\n",
    "\n",
    "Để khắc phục vấn đề này, điền **Unknown** vào những ô bị thiếu. Đảm bảo dữ liệu vẫn đầy đủ và có thể sử dụng trong các phân tích sau mà không mất đi ý nghĩa của các hàng có giá trị bị thiếu."
   ]
  },
  {
   "cell_type": "code",
   "execution_count": null,
   "metadata": {},
   "outputs": [],
   "source": [
    "data['Language'] = data['Language'].fillna('Unknown')"
   ]
  },
  {
   "cell_type": "markdown",
   "metadata": {},
   "source": [
    "#### 3.4.4 Xử lý dữ liệu phân loại"
   ]
  },
  {
   "cell_type": "markdown",
   "metadata": {},
   "source": [
    "Cột **Age Rating** có dữ liệu phân loại, ta sẽ thêm một cột mới là **Age Rating Quantification** để chuyển đổi thành các giá trị số để dễ dàng phân tích và sử dụng trong mô hình máy học"
   ]
  },
  {
   "cell_type": "code",
   "execution_count": null,
   "metadata": {},
   "outputs": [],
   "source": [
    "# Tạo một từ điển ánh xạ từ phân loại phim sang giá trị định lượng\n",
    "rating_map = {\n",
    "    'NC-17': 5,\n",
    "    'R': 4,\n",
    "    'PG-13': 3,\n",
    "    'PG': 2,\n",
    "    'G': 1\n",
    "}\n",
    "\n",
    "data['Age rating quantification'] = data['Age rating'].map(rating_map)"
   ]
  },
  {
   "cell_type": "markdown",
   "metadata": {},
   "source": [
    "Sau các bước tiền xử lý, ta thực hiện lưu dataframe này vào 1 file mới và thực hiện phân tích trên file này."
   ]
  },
  {
   "cell_type": "code",
   "execution_count": null,
   "metadata": {},
   "outputs": [],
   "source": [
    "data.to_csv('../IntroToDS/Data/movie_data.csv', index=False)"
   ]
  }
 ],
 "metadata": {
  "kernelspec": {
   "display_name": "base",
   "language": "python",
   "name": "python3"
  },
  "language_info": {
   "codemirror_mode": {
    "name": "ipython",
    "version": 3
   },
   "file_extension": ".py",
   "mimetype": "text/x-python",
   "name": "python",
   "nbconvert_exporter": "python",
   "pygments_lexer": "ipython3",
   "version": "3.12.2"
  }
 },
 "nbformat": 4,
 "nbformat_minor": 2
}
