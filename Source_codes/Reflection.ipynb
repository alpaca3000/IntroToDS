{
 "cells": [
  {
   "cell_type": "markdown",
   "metadata": {},
   "source": [
    "# REFLECTION\n",
    "---"
   ]
  },
  {
   "cell_type": "markdown",
   "metadata": {},
   "source": [
    "#### 1. Khó khăn khi tìm nguồn dữ liệu chính thống và hợp pháp"
   ]
  },
  {
   "cell_type": "markdown",
   "metadata": {},
   "source": [
    "Trong quá trình thu thập dữ liệu, nhóm đã gặp khó khăn khi tìm kiếm các nguồn dữ liệu chính thống và hợp pháp. Nhiều trang web không cho phép cào dữ liệu hoặc yêu cầu các thủ tục pháp lý phức tạp, dẫn đến việc phải loại bỏ những nguồn không hợp pháp hoặc lậu.\n",
    "\n",
    "=> Giải pháp: Chọn JustWatch và OMDb, hai trang web chính thống, đáp ứng nhu cầu thu thập dữ liệu mà không vi phạm quy định"
   ]
  },
  {
   "cell_type": "markdown",
   "metadata": {},
   "source": [
    "#### 2. Thiếu feature trong dữ liệu từ một trang duy nhất"
   ]
  },
  {
   "cell_type": "markdown",
   "metadata": {},
   "source": [
    "Các thông tin từ JustWatch hoặc OMDb API đều không đủ để đáp ứng nhu cầu phân tích, dẫn đến việc bị thiếu nhiều feature quan trọng.\n",
    "\n",
    "=> Giải pháp: Kết hợp dữ liệu từ hai nguồn JustWatch và OMDb để bổ sung cho nhau, giảm thiểu tình trạng thiếu dữ liệu."
   ]
  },
  {
   "cell_type": "markdown",
   "metadata": {},
   "source": [
    "#### 3. Giới hạn số lần truy vấn từ API key"
   ]
  },
  {
   "cell_type": "markdown",
   "metadata": {},
   "source": [
    "\n",
    "OMDb API phiên bản miễn phí giới hạn số lần truy vấn trong ngày, gây trở ngại khi phải thu thập dữ liệu lượng lớn.\n",
    "\n",
    "=> Giải pháp: Chia dữ liệu thành ba phần, mỗi thành viên trong nhóm dùng một API key để truy vấn, tối ưu hoá thời gian và tài nguyên"
   ]
  },
  {
   "cell_type": "markdown",
   "metadata": {},
   "source": [
    "#### 4. Lỗi NULL do trang web không tải kịp"
   ]
  },
  {
   "cell_type": "markdown",
   "metadata": {},
   "source": [
    "Trong khi thu thập dữ liệu từ JustWatch, một số thông tin bị NULL do trang web tải không kịp.\n",
    "\n",
    "=> Giải pháp: Tăng thời gian chờ (time sleep) trong khi thu thập dữ liệu, và đảm bảo kết nối mạng ổn định để hạn chế tình trạng lỗi."
   ]
  }
 ],
 "metadata": {
  "language_info": {
   "name": "python"
  }
 },
 "nbformat": 4,
 "nbformat_minor": 2
}
