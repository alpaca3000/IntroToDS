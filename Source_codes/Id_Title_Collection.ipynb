{
 "cells": [
  {
   "cell_type": "markdown",
   "metadata": {},
   "source": [
    "# COLLECTING IMDBIDS AND TITLES\n",
    "---"
   ]
  },
  {
   "cell_type": "markdown",
   "metadata": {},
   "source": [
    "Nhiệm vụ phần này: từ danh sách các đường dẫn phim của trang web `Just Watch`, thực hiện cào thông tin **imdbId** và **title** trong đường dẫn nếu không có id và lưu lại vào file ids_titles.txt."
   ]
  },
  {
   "cell_type": "markdown",
   "metadata": {},
   "source": [
    "## 1. IMPORT THƯ VIỆN CẦN THIẾT"
   ]
  },
  {
   "cell_type": "code",
   "execution_count": 43,
   "metadata": {},
   "outputs": [],
   "source": [
    "import time\n",
    "import os\n",
    "from selenium import webdriver\n",
    "from selenium.webdriver import ChromeOptions\n",
    "from selenium.webdriver.chrome.service import Service\n",
    "from webdriver_manager.chrome import ChromeDriverManager\n",
    "from selenium.webdriver.common.by import By\n",
    "import re"
   ]
  },
  {
   "cell_type": "markdown",
   "metadata": {},
   "source": [
    "## 2. CÀO THÔNG TIN IMDBID TRONG TRANG `JUST WATCH`"
   ]
  },
  {
   "cell_type": "code",
   "execution_count": 28,
   "metadata": {},
   "outputs": [],
   "source": [
    "links = []\n",
    "\n",
    "with open('../Data/links.txt', 'r') as f:\n",
    "    links = [line.strip() for line in f]"
   ]
  },
  {
   "cell_type": "markdown",
   "metadata": {},
   "source": [
    "Dùng selenium thoi vì request k được"
   ]
  },
  {
   "cell_type": "code",
   "execution_count": 29,
   "metadata": {},
   "outputs": [],
   "source": [
    "# chia 3 ra nha mina hong no k cho minh lay :D\n",
    "# từ từ để ngâm cú chứ nhìn này trông cx hơi ngu :v\n",
    "member_part = {\n",
    "    \"Trinh\": {\n",
    "        \"part\": 1,\n",
    "        \"api_key\": None, # đk api xong áp vô nè\n",
    "        \"start\": 0,\n",
    "        \"end\": 628\n",
    "    },\n",
    "\n",
    "    \"Thi\": {\n",
    "        \"part\": 2,\n",
    "        \"api_key\": None, # đk api xong áp vô nè\n",
    "        \"start\": 629,\n",
    "        \"end\": 1258\n",
    "    },\n",
    "\n",
    "    \"MinhUyen\": {\n",
    "        \"part\": 3,\n",
    "        \"api_key\": 'd4c83dec',\n",
    "        \"start\": 1259,\n",
    "        \"end\": 1887\n",
    "    } \n",
    "}"
   ]
  },
  {
   "cell_type": "code",
   "execution_count": 30,
   "metadata": {},
   "outputs": [],
   "source": [
    "# Điền tên mn vào đây theo từ điển nè\n",
    "info = member_part[\"MinhUyen\"]\n",
    "\n",
    "part = info[\"part\"]\n",
    "apiKey = info[\"api_key\"]\n",
    "start = info[\"start\"]\n",
    "end = info[\"end\"]"
   ]
  },
  {
   "cell_type": "code",
   "execution_count": 56,
   "metadata": {},
   "outputs": [],
   "source": [
    "def collect_imdbID_title(links, start, end):\n",
    "    \n",
    "    option = webdriver.ChromeOptions()\n",
    "\n",
    "    prefs = {\n",
    "        \"profile.managed_default_content_settings.images\": 2,\n",
    "        \"profile.managed_default_content_settings.plugins\": 2,\n",
    "        \"profile.managed_default_content_settings.media\": 2\n",
    "    }\n",
    "    option.add_experimental_option(\"prefs\", prefs)\n",
    "    # option.page_load_strategy = 'eager'\n",
    "    driver = webdriver.Chrome(service=Service(ChromeDriverManager().install()), options=option)\n",
    "    imdbIds_titles = []\n",
    "\n",
    "    for url in links[start:end + 1]:\n",
    "        print(f\"[LOG]: parse imdbid of url {url}\")\n",
    "        driver.get(url)\n",
    "        time.sleep(3)\n",
    "        page_source = driver.page_source\n",
    "\n",
    "        imdb_id_matches = re.findall(r'\"imdbId\":\"(tt\\d+)\"', page_source)\n",
    "        if imdb_id_matches:\n",
    "            imdb_id = imdb_id_matches[-1]\n",
    "            imdbIds_titles.append(imdb_id)\n",
    "            print(\"IMDB ID:\", imdb_id)\n",
    "        else:\n",
    "            # print(\"Không tìm thấy IMDb ID.\")\n",
    "            match = re.search(r'class=\"release-year\".*?\\((\\d{4})\\)', page_source)\n",
    "            release_year = match.group(1)\n",
    "            movie_title_meta = driver.find_element(By.XPATH, \"//meta[@property='og:title']\")\n",
    "            if movie_title_meta:\n",
    "                movie_title = movie_title_meta.get_attribute(\"content\").split(\" streaming\")[0]\n",
    "                movie_title = f\"{movie_title} __ {release_year}\"\n",
    "            else:\n",
    "                movie_title = \"Null\"\n",
    "            imdbIds_titles.append(movie_title)\n",
    "            print(movie_title)\n",
    "\n",
    "    driver.quit()\n",
    "    return imdbIds_titles"
   ]
  },
  {
   "cell_type": "code",
   "execution_count": 57,
   "metadata": {},
   "outputs": [
    {
     "name": "stdout",
     "output_type": "stream",
     "text": [
      "[LOG]: parse imdbid of url https://www.justwatch.com/us/movie/the-mission-2023\n",
      "IMDB ID: tt28097834\n",
      "[LOG]: parse imdbid of url https://www.justwatch.com/us/movie/the-peasants\n",
      "IMDB ID: tt10651230\n",
      "[LOG]: parse imdbid of url https://www.justwatch.com/us/movie/the-burial-0\n",
      "The Burial __ 2023\n",
      "[LOG]: parse imdbid of url https://www.justwatch.com/us/movie/saw-x\n",
      "Saw X __ 2023\n",
      "[LOG]: parse imdbid of url https://www.justwatch.com/us/movie/last-call-for-istanbul\n",
      "IMDB ID: tt23334616\n",
      "[LOG]: parse imdbid of url https://www.justwatch.com/us/movie/coup-de-chance\n",
      "IMDB ID: tt15140278\n",
      "[LOG]: parse imdbid of url https://www.justwatch.com/us/movie/shooting-stars-2023\n",
      "IMDB ID: tt3715152\n",
      "[LOG]: parse imdbid of url https://www.justwatch.com/us/movie/wingwomen\n",
      "IMDB ID: tt21638298\n",
      "[LOG]: parse imdbid of url https://www.justwatch.com/us/movie/love-in-the-maldives\n",
      "IMDB ID: tt26938504\n",
      "[LOG]: parse imdbid of url https://www.justwatch.com/us/movie/one-day-as-a-lion\n",
      "IMDB ID: tt15783426\n",
      "[LOG]: parse imdbid of url https://www.justwatch.com/us/movie/freelance-2023\n",
      "IMDB ID: tt15744298\n",
      "[LOG]: parse imdbid of url https://www.justwatch.com/us/movie/marlowe\n",
      "Marlowe __ 2023\n",
      "[LOG]: parse imdbid of url https://www.justwatch.com/us/movie/la-passion-de-dodin-bouffant\n",
      "IMDB ID: tt19760052\n",
      "[LOG]: parse imdbid of url https://www.justwatch.com/us/movie/child-machine\n",
      "IMDB ID: tt11828692\n",
      "[LOG]: parse imdbid of url https://www.justwatch.com/us/movie/finestkind\n",
      "IMDB ID: tt7991508\n",
      "[LOG]: parse imdbid of url https://www.justwatch.com/us/movie/dungeons-and-dragons-2023\n",
      "IMDB ID: tt2906216\n",
      "[LOG]: parse imdbid of url https://www.justwatch.com/us/movie/the-nun-ii\n",
      "IMDB ID: tt10160976\n",
      "[LOG]: parse imdbid of url https://www.justwatch.com/us/movie/my-big-fat-greek-wedding-3\n",
      "IMDB ID: tt21103300\n",
      "[LOG]: parse imdbid of url https://www.justwatch.com/us/movie/carls-date\n",
      "IMDB ID: tt26736061\n",
      "[LOG]: parse imdbid of url https://www.justwatch.com/us/movie/you-are-so-not-invited-to-my-bat-mitzvah\n",
      "IMDB ID: tt21276878\n",
      "[LOG]: parse imdbid of url https://www.justwatch.com/us/movie/the-last-rifleman\n",
      "IMDB ID: tt12404266\n",
      "[LOG]: parse imdbid of url https://www.justwatch.com/us/movie/wonka\n",
      "IMDB ID: tt6166392\n",
      "[LOG]: parse imdbid of url https://www.justwatch.com/us/movie/copenhagen-cowboy-nightcall-with-nicolas-winding-refn\n",
      "IMDB ID: tt26452836\n",
      "[LOG]: parse imdbid of url https://www.justwatch.com/us/movie/john-wick-chapter-4\n",
      "IMDB ID: tt10366206\n",
      "[LOG]: parse imdbid of url https://www.justwatch.com/us/movie/mixed-baggage\n",
      "Mixed Baggage __ 2023\n",
      "[LOG]: parse imdbid of url https://www.justwatch.com/us/movie/the-coney\n",
      "IMDB ID: tt21418018\n",
      "[LOG]: parse imdbid of url https://www.justwatch.com/us/movie/the-lost-chronicles\n",
      "The Lost Chronicles __ 2023\n",
      "[LOG]: parse imdbid of url https://www.justwatch.com/us/movie/down-bad-life-in-the-hood\n",
      "IMDB ID: tt25154848\n",
      "[LOG]: parse imdbid of url https://www.justwatch.com/us/movie/alan-and-the-rulers-of-the-air\n",
      "Alan and the Rulers of the Air __ 2023\n",
      "[LOG]: parse imdbid of url https://www.justwatch.com/us/movie/who-is-d-b-cooper\n",
      "Who Is D.B. Cooper? __ 2023\n",
      "[LOG]: parse imdbid of url https://www.justwatch.com/us/movie/the-price-is-right-a-tribute-to-bob-barker\n",
      "IMDB ID: tt28856894\n",
      "[LOG]: parse imdbid of url https://www.justwatch.com/us/movie/sunday-2023\n",
      "IMDB ID: tt27800144\n",
      "[LOG]: parse imdbid of url https://www.justwatch.com/us/movie/christmas-on-windmill-way\n",
      "Christmas on Windmill Way __ 2023\n",
      "[LOG]: parse imdbid of url https://www.justwatch.com/us/movie/the-pumpkin-man\n",
      "IMDB ID: tt21239752\n",
      "[LOG]: parse imdbid of url https://www.justwatch.com/us/movie/the-plot-to-kill-my-mother\n",
      "IMDB ID: tt26215632\n",
      "[LOG]: parse imdbid of url https://www.justwatch.com/us/movie/a-look-in-the-rear-view\n",
      "IMDB ID: tt15206296\n",
      "[LOG]: parse imdbid of url https://www.justwatch.com/us/movie/bad-connection-2023\n",
      "Bad Connection __ 2023\n",
      "[LOG]: parse imdbid of url https://www.justwatch.com/us/movie/guiding-emily\n",
      "IMDB ID: tt28338336\n",
      "[LOG]: parse imdbid of url https://www.justwatch.com/us/movie/smart-home-killer\n",
      "IMDB ID: tt30252260\n",
      "[LOG]: parse imdbid of url https://www.justwatch.com/us/movie/freestyle-101-hip-hop-history\n",
      "IMDB ID: tt29362834\n",
      "[LOG]: parse imdbid of url https://www.justwatch.com/us/movie/where-are-you-christmas\n",
      "IMDB ID: tt27496114\n",
      "[LOG]: parse imdbid of url https://www.justwatch.com/us/movie/im-with-me\n",
      "IMDB ID: tt13080852\n",
      "[LOG]: parse imdbid of url https://www.justwatch.com/us/movie/a-nurse-to-die-for\n",
      "IMDB ID: tt26742022\n",
      "[LOG]: parse imdbid of url https://www.justwatch.com/us/movie/mainstream-sellout-live-from-cleveland-the-pink-era\n",
      "IMDB ID: tt27684092\n",
      "[LOG]: parse imdbid of url https://www.justwatch.com/us/movie/time100-the-worlds-most-influential-people\n",
      "IMDB ID: tt32308707\n",
      "[LOG]: parse imdbid of url https://www.justwatch.com/us/movie/a-world-record-christmas\n",
      "IMDB ID: tt27698813\n",
      "[LOG]: parse imdbid of url https://www.justwatch.com/us/movie/a-pinch-of-portugal\n",
      "IMDB ID: tt27244707\n",
      "[LOG]: parse imdbid of url https://www.justwatch.com/us/movie/the-fukushima-disaster\n",
      "IMDB ID: tt26734180\n",
      "[LOG]: parse imdbid of url https://www.justwatch.com/us/movie/rajamagal\n",
      "IMDB ID: tt27048732\n",
      "[LOG]: parse imdbid of url https://www.justwatch.com/us/movie/when-love-springs\n",
      "IMDB ID: tt24484852\n",
      "[LOG]: parse imdbid of url https://www.justwatch.com/us/movie/jack-squad-2-the-next-generation\n",
      "IMDB ID: tt26922029\n",
      "[LOG]: parse imdbid of url https://www.justwatch.com/us/movie/taylor-macs-24-decade-history-of-popular-music\n",
      "IMDB ID: tt27549751\n",
      "[LOG]: parse imdbid of url https://www.justwatch.com/us/movie/romeo-isabella\n",
      "IMDB ID: tt21953278\n",
      "[LOG]: parse imdbid of url https://www.justwatch.com/us/movie/sons-of-summer\n",
      "IMDB ID: tt16986596\n",
      "[LOG]: parse imdbid of url https://www.justwatch.com/us/movie/k-love-live-at-red-rocks-2023\n",
      "IMDB ID: tt28248955\n",
      "[LOG]: parse imdbid of url https://www.justwatch.com/us/movie/diablada\n",
      "IMDB ID: tt14237412\n",
      "[LOG]: parse imdbid of url https://www.justwatch.com/us/movie/jawanum-mullappoovum\n",
      "IMDB ID: tt23538910\n",
      "[LOG]: parse imdbid of url https://www.justwatch.com/us/movie/tiktok-in-the-mix\n",
      "IMDB ID: tt30826209\n",
      "[LOG]: parse imdbid of url https://www.justwatch.com/us/movie/class-dismissed-2023\n",
      "Class Dismissed __ 2023\n",
      "[LOG]: parse imdbid of url https://www.justwatch.com/us/movie/oprah-and-the-color-purple-journey\n",
      "IMDB ID: tt30781889\n",
      "[LOG]: parse imdbid of url https://www.justwatch.com/us/movie/ug-wug\n"
     ]
    },
    {
     "ename": "KeyboardInterrupt",
     "evalue": "",
     "output_type": "error",
     "traceback": [
      "\u001b[0;31m---------------------------------------------------------------------------\u001b[0m",
      "\u001b[0;31mKeyboardInterrupt\u001b[0m                         Traceback (most recent call last)",
      "Cell \u001b[0;32mIn[57], line 1\u001b[0m\n\u001b[0;32m----> 1\u001b[0m imdbIds_titles \u001b[38;5;241m=\u001b[39m \u001b[43mcollect_imdbID_title\u001b[49m\u001b[43m(\u001b[49m\u001b[43mlinks\u001b[49m\u001b[43m,\u001b[49m\u001b[43m \u001b[49m\u001b[43mstart\u001b[49m\u001b[38;5;241;43m=\u001b[39;49m\u001b[43mstart\u001b[49m\u001b[43m,\u001b[49m\u001b[43m \u001b[49m\u001b[43mend\u001b[49m\u001b[38;5;241;43m=\u001b[39;49m\u001b[43mend\u001b[49m\u001b[43m)\u001b[49m\n\u001b[1;32m      2\u001b[0m imdbIds_titles\n",
      "Cell \u001b[0;32mIn[56], line 17\u001b[0m, in \u001b[0;36mcollect_imdbID_title\u001b[0;34m(links, start, end)\u001b[0m\n\u001b[1;32m     15\u001b[0m \u001b[38;5;28;01mfor\u001b[39;00m url \u001b[38;5;129;01min\u001b[39;00m links[start:end \u001b[38;5;241m+\u001b[39m \u001b[38;5;241m1\u001b[39m]:\n\u001b[1;32m     16\u001b[0m     \u001b[38;5;28mprint\u001b[39m(\u001b[38;5;124mf\u001b[39m\u001b[38;5;124m\"\u001b[39m\u001b[38;5;124m[LOG]: parse imdbid of url \u001b[39m\u001b[38;5;132;01m{\u001b[39;00murl\u001b[38;5;132;01m}\u001b[39;00m\u001b[38;5;124m\"\u001b[39m)\n\u001b[0;32m---> 17\u001b[0m     \u001b[43mdriver\u001b[49m\u001b[38;5;241;43m.\u001b[39;49m\u001b[43mget\u001b[49m\u001b[43m(\u001b[49m\u001b[43murl\u001b[49m\u001b[43m)\u001b[49m\n\u001b[1;32m     18\u001b[0m     time\u001b[38;5;241m.\u001b[39msleep(\u001b[38;5;241m3\u001b[39m)\n\u001b[1;32m     19\u001b[0m     page_source \u001b[38;5;241m=\u001b[39m driver\u001b[38;5;241m.\u001b[39mpage_source\n",
      "File \u001b[0;32m~/miniconda3/envs/min_ds-env2/lib/python3.10/site-packages/selenium/webdriver/remote/webdriver.py:436\u001b[0m, in \u001b[0;36mWebDriver.get\u001b[0;34m(self, url)\u001b[0m\n\u001b[1;32m    432\u001b[0m \u001b[38;5;28;01mdef\u001b[39;00m \u001b[38;5;21mget\u001b[39m(\u001b[38;5;28mself\u001b[39m, url: \u001b[38;5;28mstr\u001b[39m) \u001b[38;5;241m-\u001b[39m\u001b[38;5;241m>\u001b[39m \u001b[38;5;28;01mNone\u001b[39;00m:\n\u001b[1;32m    433\u001b[0m \u001b[38;5;250m    \u001b[39m\u001b[38;5;124;03m\"\"\"\u001b[39;00m\n\u001b[1;32m    434\u001b[0m \u001b[38;5;124;03m    Loads a web page in the current browser session.\u001b[39;00m\n\u001b[1;32m    435\u001b[0m \u001b[38;5;124;03m    \"\"\"\u001b[39;00m\n\u001b[0;32m--> 436\u001b[0m     \u001b[38;5;28;43mself\u001b[39;49m\u001b[38;5;241;43m.\u001b[39;49m\u001b[43mexecute\u001b[49m\u001b[43m(\u001b[49m\u001b[43mCommand\u001b[49m\u001b[38;5;241;43m.\u001b[39;49m\u001b[43mGET\u001b[49m\u001b[43m,\u001b[49m\u001b[43m \u001b[49m\u001b[43m{\u001b[49m\u001b[38;5;124;43m'\u001b[39;49m\u001b[38;5;124;43murl\u001b[39;49m\u001b[38;5;124;43m'\u001b[39;49m\u001b[43m:\u001b[49m\u001b[43m \u001b[49m\u001b[43murl\u001b[49m\u001b[43m}\u001b[49m\u001b[43m)\u001b[49m\n",
      "File \u001b[0;32m~/miniconda3/envs/min_ds-env2/lib/python3.10/site-packages/selenium/webdriver/remote/webdriver.py:422\u001b[0m, in \u001b[0;36mWebDriver.execute\u001b[0;34m(self, driver_command, params)\u001b[0m\n\u001b[1;32m    419\u001b[0m         params[\u001b[38;5;124m'\u001b[39m\u001b[38;5;124msessionId\u001b[39m\u001b[38;5;124m'\u001b[39m] \u001b[38;5;241m=\u001b[39m \u001b[38;5;28mself\u001b[39m\u001b[38;5;241m.\u001b[39msession_id\n\u001b[1;32m    421\u001b[0m params \u001b[38;5;241m=\u001b[39m \u001b[38;5;28mself\u001b[39m\u001b[38;5;241m.\u001b[39m_wrap_value(params)\n\u001b[0;32m--> 422\u001b[0m response \u001b[38;5;241m=\u001b[39m \u001b[38;5;28;43mself\u001b[39;49m\u001b[38;5;241;43m.\u001b[39;49m\u001b[43mcommand_executor\u001b[49m\u001b[38;5;241;43m.\u001b[39;49m\u001b[43mexecute\u001b[49m\u001b[43m(\u001b[49m\u001b[43mdriver_command\u001b[49m\u001b[43m,\u001b[49m\u001b[43m \u001b[49m\u001b[43mparams\u001b[49m\u001b[43m)\u001b[49m\n\u001b[1;32m    423\u001b[0m \u001b[38;5;28;01mif\u001b[39;00m response:\n\u001b[1;32m    424\u001b[0m     \u001b[38;5;28mself\u001b[39m\u001b[38;5;241m.\u001b[39merror_handler\u001b[38;5;241m.\u001b[39mcheck_response(response)\n",
      "File \u001b[0;32m~/miniconda3/envs/min_ds-env2/lib/python3.10/site-packages/selenium/webdriver/remote/remote_connection.py:421\u001b[0m, in \u001b[0;36mRemoteConnection.execute\u001b[0;34m(self, command, params)\u001b[0m\n\u001b[1;32m    419\u001b[0m data \u001b[38;5;241m=\u001b[39m utils\u001b[38;5;241m.\u001b[39mdump_json(params)\n\u001b[1;32m    420\u001b[0m url \u001b[38;5;241m=\u001b[39m \u001b[38;5;124mf\u001b[39m\u001b[38;5;124m\"\u001b[39m\u001b[38;5;132;01m{\u001b[39;00m\u001b[38;5;28mself\u001b[39m\u001b[38;5;241m.\u001b[39m_url\u001b[38;5;132;01m}\u001b[39;00m\u001b[38;5;132;01m{\u001b[39;00mpath\u001b[38;5;132;01m}\u001b[39;00m\u001b[38;5;124m\"\u001b[39m\n\u001b[0;32m--> 421\u001b[0m \u001b[38;5;28;01mreturn\u001b[39;00m \u001b[38;5;28;43mself\u001b[39;49m\u001b[38;5;241;43m.\u001b[39;49m\u001b[43m_request\u001b[49m\u001b[43m(\u001b[49m\u001b[43mcommand_info\u001b[49m\u001b[43m[\u001b[49m\u001b[38;5;241;43m0\u001b[39;49m\u001b[43m]\u001b[49m\u001b[43m,\u001b[49m\u001b[43m \u001b[49m\u001b[43murl\u001b[49m\u001b[43m,\u001b[49m\u001b[43m \u001b[49m\u001b[43mbody\u001b[49m\u001b[38;5;241;43m=\u001b[39;49m\u001b[43mdata\u001b[49m\u001b[43m)\u001b[49m\n",
      "File \u001b[0;32m~/miniconda3/envs/min_ds-env2/lib/python3.10/site-packages/selenium/webdriver/remote/remote_connection.py:443\u001b[0m, in \u001b[0;36mRemoteConnection._request\u001b[0;34m(self, method, url, body)\u001b[0m\n\u001b[1;32m    440\u001b[0m     body \u001b[38;5;241m=\u001b[39m \u001b[38;5;28;01mNone\u001b[39;00m\n\u001b[1;32m    442\u001b[0m \u001b[38;5;28;01mif\u001b[39;00m \u001b[38;5;28mself\u001b[39m\u001b[38;5;241m.\u001b[39mkeep_alive:\n\u001b[0;32m--> 443\u001b[0m     resp \u001b[38;5;241m=\u001b[39m \u001b[38;5;28;43mself\u001b[39;49m\u001b[38;5;241;43m.\u001b[39;49m\u001b[43m_conn\u001b[49m\u001b[38;5;241;43m.\u001b[39;49m\u001b[43mrequest\u001b[49m\u001b[43m(\u001b[49m\u001b[43mmethod\u001b[49m\u001b[43m,\u001b[49m\u001b[43m \u001b[49m\u001b[43murl\u001b[49m\u001b[43m,\u001b[49m\u001b[43m \u001b[49m\u001b[43mbody\u001b[49m\u001b[38;5;241;43m=\u001b[39;49m\u001b[43mbody\u001b[49m\u001b[43m,\u001b[49m\u001b[43m \u001b[49m\u001b[43mheaders\u001b[49m\u001b[38;5;241;43m=\u001b[39;49m\u001b[43mheaders\u001b[49m\u001b[43m)\u001b[49m\n\u001b[1;32m    444\u001b[0m     statuscode \u001b[38;5;241m=\u001b[39m resp\u001b[38;5;241m.\u001b[39mstatus\n\u001b[1;32m    445\u001b[0m \u001b[38;5;28;01melse\u001b[39;00m:\n",
      "File \u001b[0;32m~/miniconda3/envs/min_ds-env2/lib/python3.10/site-packages/urllib3/request.py:81\u001b[0m, in \u001b[0;36mRequestMethods.request\u001b[0;34m(self, method, url, fields, headers, **urlopen_kw)\u001b[0m\n\u001b[1;32m     77\u001b[0m     \u001b[38;5;28;01mreturn\u001b[39;00m \u001b[38;5;28mself\u001b[39m\u001b[38;5;241m.\u001b[39mrequest_encode_url(\n\u001b[1;32m     78\u001b[0m         method, url, fields\u001b[38;5;241m=\u001b[39mfields, headers\u001b[38;5;241m=\u001b[39mheaders, \u001b[38;5;241m*\u001b[39m\u001b[38;5;241m*\u001b[39murlopen_kw\n\u001b[1;32m     79\u001b[0m     )\n\u001b[1;32m     80\u001b[0m \u001b[38;5;28;01melse\u001b[39;00m:\n\u001b[0;32m---> 81\u001b[0m     \u001b[38;5;28;01mreturn\u001b[39;00m \u001b[38;5;28;43mself\u001b[39;49m\u001b[38;5;241;43m.\u001b[39;49m\u001b[43mrequest_encode_body\u001b[49m\u001b[43m(\u001b[49m\n\u001b[1;32m     82\u001b[0m \u001b[43m        \u001b[49m\u001b[43mmethod\u001b[49m\u001b[43m,\u001b[49m\u001b[43m \u001b[49m\u001b[43murl\u001b[49m\u001b[43m,\u001b[49m\u001b[43m \u001b[49m\u001b[43mfields\u001b[49m\u001b[38;5;241;43m=\u001b[39;49m\u001b[43mfields\u001b[49m\u001b[43m,\u001b[49m\u001b[43m \u001b[49m\u001b[43mheaders\u001b[49m\u001b[38;5;241;43m=\u001b[39;49m\u001b[43mheaders\u001b[49m\u001b[43m,\u001b[49m\u001b[43m \u001b[49m\u001b[38;5;241;43m*\u001b[39;49m\u001b[38;5;241;43m*\u001b[39;49m\u001b[43murlopen_kw\u001b[49m\n\u001b[1;32m     83\u001b[0m \u001b[43m    \u001b[49m\u001b[43m)\u001b[49m\n",
      "File \u001b[0;32m~/miniconda3/envs/min_ds-env2/lib/python3.10/site-packages/urllib3/request.py:173\u001b[0m, in \u001b[0;36mRequestMethods.request_encode_body\u001b[0;34m(self, method, url, fields, headers, encode_multipart, multipart_boundary, **urlopen_kw)\u001b[0m\n\u001b[1;32m    170\u001b[0m extra_kw[\u001b[38;5;124m\"\u001b[39m\u001b[38;5;124mheaders\u001b[39m\u001b[38;5;124m\"\u001b[39m]\u001b[38;5;241m.\u001b[39mupdate(headers)\n\u001b[1;32m    171\u001b[0m extra_kw\u001b[38;5;241m.\u001b[39mupdate(urlopen_kw)\n\u001b[0;32m--> 173\u001b[0m \u001b[38;5;28;01mreturn\u001b[39;00m \u001b[38;5;28;43mself\u001b[39;49m\u001b[38;5;241;43m.\u001b[39;49m\u001b[43murlopen\u001b[49m\u001b[43m(\u001b[49m\u001b[43mmethod\u001b[49m\u001b[43m,\u001b[49m\u001b[43m \u001b[49m\u001b[43murl\u001b[49m\u001b[43m,\u001b[49m\u001b[43m \u001b[49m\u001b[38;5;241;43m*\u001b[39;49m\u001b[38;5;241;43m*\u001b[39;49m\u001b[43mextra_kw\u001b[49m\u001b[43m)\u001b[49m\n",
      "File \u001b[0;32m~/miniconda3/envs/min_ds-env2/lib/python3.10/site-packages/urllib3/poolmanager.py:376\u001b[0m, in \u001b[0;36mPoolManager.urlopen\u001b[0;34m(self, method, url, redirect, **kw)\u001b[0m\n\u001b[1;32m    374\u001b[0m     response \u001b[38;5;241m=\u001b[39m conn\u001b[38;5;241m.\u001b[39murlopen(method, url, \u001b[38;5;241m*\u001b[39m\u001b[38;5;241m*\u001b[39mkw)\n\u001b[1;32m    375\u001b[0m \u001b[38;5;28;01melse\u001b[39;00m:\n\u001b[0;32m--> 376\u001b[0m     response \u001b[38;5;241m=\u001b[39m \u001b[43mconn\u001b[49m\u001b[38;5;241;43m.\u001b[39;49m\u001b[43murlopen\u001b[49m\u001b[43m(\u001b[49m\u001b[43mmethod\u001b[49m\u001b[43m,\u001b[49m\u001b[43m \u001b[49m\u001b[43mu\u001b[49m\u001b[38;5;241;43m.\u001b[39;49m\u001b[43mrequest_uri\u001b[49m\u001b[43m,\u001b[49m\u001b[43m \u001b[49m\u001b[38;5;241;43m*\u001b[39;49m\u001b[38;5;241;43m*\u001b[39;49m\u001b[43mkw\u001b[49m\u001b[43m)\u001b[49m\n\u001b[1;32m    378\u001b[0m redirect_location \u001b[38;5;241m=\u001b[39m redirect \u001b[38;5;129;01mand\u001b[39;00m response\u001b[38;5;241m.\u001b[39mget_redirect_location()\n\u001b[1;32m    379\u001b[0m \u001b[38;5;28;01mif\u001b[39;00m \u001b[38;5;129;01mnot\u001b[39;00m redirect_location:\n",
      "File \u001b[0;32m~/miniconda3/envs/min_ds-env2/lib/python3.10/site-packages/urllib3/connectionpool.py:715\u001b[0m, in \u001b[0;36mHTTPConnectionPool.urlopen\u001b[0;34m(self, method, url, body, headers, retries, redirect, assert_same_host, timeout, pool_timeout, release_conn, chunked, body_pos, **response_kw)\u001b[0m\n\u001b[1;32m    712\u001b[0m     \u001b[38;5;28mself\u001b[39m\u001b[38;5;241m.\u001b[39m_prepare_proxy(conn)\n\u001b[1;32m    714\u001b[0m \u001b[38;5;66;03m# Make the request on the httplib connection object.\u001b[39;00m\n\u001b[0;32m--> 715\u001b[0m httplib_response \u001b[38;5;241m=\u001b[39m \u001b[38;5;28;43mself\u001b[39;49m\u001b[38;5;241;43m.\u001b[39;49m\u001b[43m_make_request\u001b[49m\u001b[43m(\u001b[49m\n\u001b[1;32m    716\u001b[0m \u001b[43m    \u001b[49m\u001b[43mconn\u001b[49m\u001b[43m,\u001b[49m\n\u001b[1;32m    717\u001b[0m \u001b[43m    \u001b[49m\u001b[43mmethod\u001b[49m\u001b[43m,\u001b[49m\n\u001b[1;32m    718\u001b[0m \u001b[43m    \u001b[49m\u001b[43murl\u001b[49m\u001b[43m,\u001b[49m\n\u001b[1;32m    719\u001b[0m \u001b[43m    \u001b[49m\u001b[43mtimeout\u001b[49m\u001b[38;5;241;43m=\u001b[39;49m\u001b[43mtimeout_obj\u001b[49m\u001b[43m,\u001b[49m\n\u001b[1;32m    720\u001b[0m \u001b[43m    \u001b[49m\u001b[43mbody\u001b[49m\u001b[38;5;241;43m=\u001b[39;49m\u001b[43mbody\u001b[49m\u001b[43m,\u001b[49m\n\u001b[1;32m    721\u001b[0m \u001b[43m    \u001b[49m\u001b[43mheaders\u001b[49m\u001b[38;5;241;43m=\u001b[39;49m\u001b[43mheaders\u001b[49m\u001b[43m,\u001b[49m\n\u001b[1;32m    722\u001b[0m \u001b[43m    \u001b[49m\u001b[43mchunked\u001b[49m\u001b[38;5;241;43m=\u001b[39;49m\u001b[43mchunked\u001b[49m\u001b[43m,\u001b[49m\n\u001b[1;32m    723\u001b[0m \u001b[43m\u001b[49m\u001b[43m)\u001b[49m\n\u001b[1;32m    725\u001b[0m \u001b[38;5;66;03m# If we're going to release the connection in ``finally:``, then\u001b[39;00m\n\u001b[1;32m    726\u001b[0m \u001b[38;5;66;03m# the response doesn't need to know about the connection. Otherwise\u001b[39;00m\n\u001b[1;32m    727\u001b[0m \u001b[38;5;66;03m# it will also try to release it and we'll have a double-release\u001b[39;00m\n\u001b[1;32m    728\u001b[0m \u001b[38;5;66;03m# mess.\u001b[39;00m\n\u001b[1;32m    729\u001b[0m response_conn \u001b[38;5;241m=\u001b[39m conn \u001b[38;5;28;01mif\u001b[39;00m \u001b[38;5;129;01mnot\u001b[39;00m release_conn \u001b[38;5;28;01melse\u001b[39;00m \u001b[38;5;28;01mNone\u001b[39;00m\n",
      "File \u001b[0;32m~/miniconda3/envs/min_ds-env2/lib/python3.10/site-packages/urllib3/connectionpool.py:467\u001b[0m, in \u001b[0;36mHTTPConnectionPool._make_request\u001b[0;34m(self, conn, method, url, timeout, chunked, **httplib_request_kw)\u001b[0m\n\u001b[1;32m    462\u001b[0m             httplib_response \u001b[38;5;241m=\u001b[39m conn\u001b[38;5;241m.\u001b[39mgetresponse()\n\u001b[1;32m    463\u001b[0m         \u001b[38;5;28;01mexcept\u001b[39;00m \u001b[38;5;167;01mBaseException\u001b[39;00m \u001b[38;5;28;01mas\u001b[39;00m e:\n\u001b[1;32m    464\u001b[0m             \u001b[38;5;66;03m# Remove the TypeError from the exception chain in\u001b[39;00m\n\u001b[1;32m    465\u001b[0m             \u001b[38;5;66;03m# Python 3 (including for exceptions like SystemExit).\u001b[39;00m\n\u001b[1;32m    466\u001b[0m             \u001b[38;5;66;03m# Otherwise it looks like a bug in the code.\u001b[39;00m\n\u001b[0;32m--> 467\u001b[0m             \u001b[43msix\u001b[49m\u001b[38;5;241;43m.\u001b[39;49m\u001b[43mraise_from\u001b[49m\u001b[43m(\u001b[49m\u001b[43me\u001b[49m\u001b[43m,\u001b[49m\u001b[43m \u001b[49m\u001b[38;5;28;43;01mNone\u001b[39;49;00m\u001b[43m)\u001b[49m\n\u001b[1;32m    468\u001b[0m \u001b[38;5;28;01mexcept\u001b[39;00m (SocketTimeout, BaseSSLError, SocketError) \u001b[38;5;28;01mas\u001b[39;00m e:\n\u001b[1;32m    469\u001b[0m     \u001b[38;5;28mself\u001b[39m\u001b[38;5;241m.\u001b[39m_raise_timeout(err\u001b[38;5;241m=\u001b[39me, url\u001b[38;5;241m=\u001b[39murl, timeout_value\u001b[38;5;241m=\u001b[39mread_timeout)\n",
      "File \u001b[0;32m<string>:3\u001b[0m, in \u001b[0;36mraise_from\u001b[0;34m(value, from_value)\u001b[0m\n",
      "File \u001b[0;32m~/miniconda3/envs/min_ds-env2/lib/python3.10/site-packages/urllib3/connectionpool.py:462\u001b[0m, in \u001b[0;36mHTTPConnectionPool._make_request\u001b[0;34m(self, conn, method, url, timeout, chunked, **httplib_request_kw)\u001b[0m\n\u001b[1;32m    459\u001b[0m \u001b[38;5;28;01mexcept\u001b[39;00m \u001b[38;5;167;01mTypeError\u001b[39;00m:\n\u001b[1;32m    460\u001b[0m     \u001b[38;5;66;03m# Python 3\u001b[39;00m\n\u001b[1;32m    461\u001b[0m     \u001b[38;5;28;01mtry\u001b[39;00m:\n\u001b[0;32m--> 462\u001b[0m         httplib_response \u001b[38;5;241m=\u001b[39m \u001b[43mconn\u001b[49m\u001b[38;5;241;43m.\u001b[39;49m\u001b[43mgetresponse\u001b[49m\u001b[43m(\u001b[49m\u001b[43m)\u001b[49m\n\u001b[1;32m    463\u001b[0m     \u001b[38;5;28;01mexcept\u001b[39;00m \u001b[38;5;167;01mBaseException\u001b[39;00m \u001b[38;5;28;01mas\u001b[39;00m e:\n\u001b[1;32m    464\u001b[0m         \u001b[38;5;66;03m# Remove the TypeError from the exception chain in\u001b[39;00m\n\u001b[1;32m    465\u001b[0m         \u001b[38;5;66;03m# Python 3 (including for exceptions like SystemExit).\u001b[39;00m\n\u001b[1;32m    466\u001b[0m         \u001b[38;5;66;03m# Otherwise it looks like a bug in the code.\u001b[39;00m\n\u001b[1;32m    467\u001b[0m         six\u001b[38;5;241m.\u001b[39mraise_from(e, \u001b[38;5;28;01mNone\u001b[39;00m)\n",
      "File \u001b[0;32m~/miniconda3/envs/min_ds-env2/lib/python3.10/http/client.py:1375\u001b[0m, in \u001b[0;36mHTTPConnection.getresponse\u001b[0;34m(self)\u001b[0m\n\u001b[1;32m   1373\u001b[0m \u001b[38;5;28;01mtry\u001b[39;00m:\n\u001b[1;32m   1374\u001b[0m     \u001b[38;5;28;01mtry\u001b[39;00m:\n\u001b[0;32m-> 1375\u001b[0m         \u001b[43mresponse\u001b[49m\u001b[38;5;241;43m.\u001b[39;49m\u001b[43mbegin\u001b[49m\u001b[43m(\u001b[49m\u001b[43m)\u001b[49m\n\u001b[1;32m   1376\u001b[0m     \u001b[38;5;28;01mexcept\u001b[39;00m \u001b[38;5;167;01mConnectionError\u001b[39;00m:\n\u001b[1;32m   1377\u001b[0m         \u001b[38;5;28mself\u001b[39m\u001b[38;5;241m.\u001b[39mclose()\n",
      "File \u001b[0;32m~/miniconda3/envs/min_ds-env2/lib/python3.10/http/client.py:318\u001b[0m, in \u001b[0;36mHTTPResponse.begin\u001b[0;34m(self)\u001b[0m\n\u001b[1;32m    316\u001b[0m \u001b[38;5;66;03m# read until we get a non-100 response\u001b[39;00m\n\u001b[1;32m    317\u001b[0m \u001b[38;5;28;01mwhile\u001b[39;00m \u001b[38;5;28;01mTrue\u001b[39;00m:\n\u001b[0;32m--> 318\u001b[0m     version, status, reason \u001b[38;5;241m=\u001b[39m \u001b[38;5;28;43mself\u001b[39;49m\u001b[38;5;241;43m.\u001b[39;49m\u001b[43m_read_status\u001b[49m\u001b[43m(\u001b[49m\u001b[43m)\u001b[49m\n\u001b[1;32m    319\u001b[0m     \u001b[38;5;28;01mif\u001b[39;00m status \u001b[38;5;241m!=\u001b[39m CONTINUE:\n\u001b[1;32m    320\u001b[0m         \u001b[38;5;28;01mbreak\u001b[39;00m\n",
      "File \u001b[0;32m~/miniconda3/envs/min_ds-env2/lib/python3.10/http/client.py:279\u001b[0m, in \u001b[0;36mHTTPResponse._read_status\u001b[0;34m(self)\u001b[0m\n\u001b[1;32m    278\u001b[0m \u001b[38;5;28;01mdef\u001b[39;00m \u001b[38;5;21m_read_status\u001b[39m(\u001b[38;5;28mself\u001b[39m):\n\u001b[0;32m--> 279\u001b[0m     line \u001b[38;5;241m=\u001b[39m \u001b[38;5;28mstr\u001b[39m(\u001b[38;5;28;43mself\u001b[39;49m\u001b[38;5;241;43m.\u001b[39;49m\u001b[43mfp\u001b[49m\u001b[38;5;241;43m.\u001b[39;49m\u001b[43mreadline\u001b[49m\u001b[43m(\u001b[49m\u001b[43m_MAXLINE\u001b[49m\u001b[43m \u001b[49m\u001b[38;5;241;43m+\u001b[39;49m\u001b[43m \u001b[49m\u001b[38;5;241;43m1\u001b[39;49m\u001b[43m)\u001b[49m, \u001b[38;5;124m\"\u001b[39m\u001b[38;5;124miso-8859-1\u001b[39m\u001b[38;5;124m\"\u001b[39m)\n\u001b[1;32m    280\u001b[0m     \u001b[38;5;28;01mif\u001b[39;00m \u001b[38;5;28mlen\u001b[39m(line) \u001b[38;5;241m>\u001b[39m _MAXLINE:\n\u001b[1;32m    281\u001b[0m         \u001b[38;5;28;01mraise\u001b[39;00m LineTooLong(\u001b[38;5;124m\"\u001b[39m\u001b[38;5;124mstatus line\u001b[39m\u001b[38;5;124m\"\u001b[39m)\n",
      "File \u001b[0;32m~/miniconda3/envs/min_ds-env2/lib/python3.10/socket.py:717\u001b[0m, in \u001b[0;36mSocketIO.readinto\u001b[0;34m(self, b)\u001b[0m\n\u001b[1;32m    715\u001b[0m \u001b[38;5;28;01mwhile\u001b[39;00m \u001b[38;5;28;01mTrue\u001b[39;00m:\n\u001b[1;32m    716\u001b[0m     \u001b[38;5;28;01mtry\u001b[39;00m:\n\u001b[0;32m--> 717\u001b[0m         \u001b[38;5;28;01mreturn\u001b[39;00m \u001b[38;5;28;43mself\u001b[39;49m\u001b[38;5;241;43m.\u001b[39;49m\u001b[43m_sock\u001b[49m\u001b[38;5;241;43m.\u001b[39;49m\u001b[43mrecv_into\u001b[49m\u001b[43m(\u001b[49m\u001b[43mb\u001b[49m\u001b[43m)\u001b[49m\n\u001b[1;32m    718\u001b[0m     \u001b[38;5;28;01mexcept\u001b[39;00m timeout:\n\u001b[1;32m    719\u001b[0m         \u001b[38;5;28mself\u001b[39m\u001b[38;5;241m.\u001b[39m_timeout_occurred \u001b[38;5;241m=\u001b[39m \u001b[38;5;28;01mTrue\u001b[39;00m\n",
      "\u001b[0;31mKeyboardInterrupt\u001b[0m: "
     ]
    }
   ],
   "source": [
    "imdbIds_titles = collect_imdbID_title(links, start=start, end=end)\n",
    "imdbIds_titles"
   ]
  },
  {
   "cell_type": "code",
   "execution_count": 49,
   "metadata": {},
   "outputs": [
    {
     "name": "stdout",
     "output_type": "stream",
     "text": [
      "IMDB ID: tt28097834\n"
     ]
    }
   ],
   "source": [
    "# chiến lược tải trang nhanh hơn\n",
    "\n",
    "options = webdriver.ChromeOptions()\n",
    "\n",
    "prefs = {\n",
    "    \"profile.managed_default_content_settings.images\": 2,\n",
    "    \"profile.managed_default_content_settings.plugins\": 2,\n",
    "    \"profile.managed_default_content_settings.media\": 2\n",
    "}\n",
    "options.add_experimental_option(\"prefs\", prefs)\n",
    "options.page_load_strategy = 'eager' # có vẻ như lệnh này nhanh hơn trong máy mình, các bạn thử uncoment thử coi sao chứ \n",
    "\n",
    "driver = webdriver.Chrome(service=Service(ChromeDriverManager().install()), options=options)\n",
    "url = 'https://www.justwatch.com/us/movie/the-mission-2023'\n",
    "driver.get(url)\n",
    "time.sleep(5)\n",
    "page_source = driver.page_source\n",
    "\n",
    "imdb_id_match = re.findall(r'\"imdbId\":\"(tt\\d+)\"', page_source)\n",
    "if imdb_id_match:\n",
    "    imdb_id = imdb_id_match[-1]\n",
    "    #imdbIds_titles.append(imdb_id)\n",
    "    print(\"IMDB ID:\", imdb_id)\n",
    "else:\n",
    "    print(\"Không tìm thấy IMDb ID.\")\n",
    "\n",
    "driver.quit()"
   ]
  },
  {
   "cell_type": "code",
   "execution_count": 39,
   "metadata": {},
   "outputs": [
    {
     "name": "stdout",
     "output_type": "stream",
     "text": [
      "Last IMDb ID: tt9876543\n"
     ]
    }
   ],
   "source": [
    "import re\n",
    "\n",
    "# Ví dụ chuỗi có chứa nhiều giá trị trong ngoặc đơn\n",
    "page_source = '\"imdbId\":\"(tt1234567)\", \"imdbId\":\"(tt7654321)\", \"imdbId\":\"(tt9876543)\"'\n",
    "\n",
    "# Sử dụng re.findall để tìm tất cả các giá trị trong ngoặc đơn\n",
    "matches = re.findall(r'\"imdbId\":\"\\((tt\\d+)\\)\"', page_source)\n",
    "\n",
    "# Kiểm tra và lấy giá trị trong ngoặc đơn của chuỗi cuối cùng\n",
    "if matches:\n",
    "    last_imdb_id = matches[-1]  # Lấy phần tử cuối cùng trong danh sách\n",
    "    print(f\"Last IMDb ID: {last_imdb_id}\")\n",
    "else:\n",
    "    print(\"No IMDb ID found.\")"
   ]
  },
  {
   "cell_type": "markdown",
   "metadata": {},
   "source": [
    "## 3. LƯU THÔNG TIN VỀ ID VÀ TITLE VÀO FILE TXT"
   ]
  },
  {
   "cell_type": "code",
   "execution_count": null,
   "metadata": {},
   "outputs": [],
   "source": [
    "file_name = os.path.join(\"./Data/\", f\"ids_title.csv\")\n",
    "\n",
    "with open(file_name, 'a') as f:\n",
    "    for item in imdbIds_titles:\n",
    "        f.write(item + \"\\n\")"
   ]
  }
 ],
 "metadata": {
  "kernelspec": {
   "display_name": "min_ds-env2",
   "language": "python",
   "name": "python3"
  },
  "language_info": {
   "codemirror_mode": {
    "name": "ipython",
    "version": 3
   },
   "file_extension": ".py",
   "mimetype": "text/x-python",
   "name": "python",
   "nbconvert_exporter": "python",
   "pygments_lexer": "ipython3",
   "version": "3.10.15"
  }
 },
 "nbformat": 4,
 "nbformat_minor": 2
}
