{
 "cells": [
  {
   "cell_type": "markdown",
   "metadata": {},
   "source": [
    "# COLLECTING IMDBIDS AND TITLES\n",
    "---"
   ]
  },
  {
   "cell_type": "markdown",
   "metadata": {},
   "source": [
    "Nhiệm vụ phần này: từ danh sách các đường dẫn phim của trang web `Just Watch`, thực hiện cào thông tin **imdbId** và **title** trong đường dẫn nếu không có id và lưu lại vào file ids_titles.txt."
   ]
  },
  {
   "cell_type": "markdown",
   "metadata": {},
   "source": [
    "## 1. IMPORT THƯ VIỆN CẦN THIẾT"
   ]
  },
  {
   "cell_type": "code",
   "execution_count": 1,
   "metadata": {},
   "outputs": [],
   "source": [
    "import time\n",
    "import os\n",
    "from selenium import webdriver\n",
    "from selenium.webdriver import ChromeOptions\n",
    "from selenium.webdriver.chrome.service import Service\n",
    "from webdriver_manager.chrome import ChromeDriverManager\n",
    "from selenium.webdriver.common.by import By\n",
    "import re"
   ]
  },
  {
   "cell_type": "markdown",
   "metadata": {},
   "source": [
    "## 2. CÀO THÔNG TIN IMDBID TRONG TRANG `JUST WATCH`"
   ]
  },
  {
   "cell_type": "code",
   "execution_count": 2,
   "metadata": {},
   "outputs": [],
   "source": [
    "links = []\n",
    "\n",
    "with open('../Data/links.txt', 'r') as f:\n",
    "    links = [line.strip() for line in f]"
   ]
  },
  {
   "cell_type": "markdown",
   "metadata": {},
   "source": [
    "Dùng selenium thoi vì request k được"
   ]
  },
  {
   "cell_type": "code",
   "execution_count": 3,
   "metadata": {},
   "outputs": [],
   "source": [
    "# chia 3 ra nha mina hong no k cho minh lay :D\n",
    "# từ từ để ngâm cú chứ nhìn này trông cx hơi ngu :v\n",
    "member_part = {\n",
    "    \"Trinh\": {\n",
    "        \"part\": 1,\n",
    "        \"start\": 0,\n",
    "        \"end\": 628\n",
    "    },\n",
    "\n",
    "    \"Thi\": {\n",
    "        \"part\": 2,\n",
    "        \"start\": 629,\n",
    "        \"end\": 1258\n",
    "    },\n",
    "\n",
    "    \"MinhUyen\": {\n",
    "        \"part\": 3,\n",
    "        \"start\": 1259,\n",
    "        \"end\": 1887\n",
    "    } \n",
    "}"
   ]
  },
  {
   "cell_type": "code",
   "execution_count": 4,
   "metadata": {},
   "outputs": [],
   "source": [
    "# Điền tên mn vào đây theo từ điển nè\n",
    "info = member_part[\"MinhUyen\"]\n",
    "\n",
    "part = info[\"part\"]\n",
    "start = info[\"start\"]\n",
    "end = info[\"end\"]"
   ]
  },
  {
   "cell_type": "code",
   "execution_count": 5,
   "metadata": {},
   "outputs": [],
   "source": [
    "def collect_imdbID_title(links, start, end):\n",
    "    \n",
    "    option = webdriver.ChromeOptions()\n",
    "\n",
    "    prefs = {\n",
    "        \"profile.managed_default_content_settings.images\": 2,\n",
    "        \"profile.managed_default_content_settings.plugins\": 2,\n",
    "        \"profile.managed_default_content_settings.media\": 2\n",
    "    }\n",
    "    option.add_experimental_option(\"prefs\", prefs)\n",
    "    # option.page_load_strategy = 'eager'\n",
    "    driver = webdriver.Chrome(service=Service(ChromeDriverManager().install()), options=option)\n",
    "    imdbIds_titles = []\n",
    "\n",
    "    for url in links[start:end + 1]:\n",
    "        print(f\"[LOG]: parse imdbid of url {url}\")\n",
    "        driver.get(url)\n",
    "        time.sleep(3)\n",
    "        page_source = driver.page_source\n",
    "\n",
    "        imdb_id_matches = re.findall(r'\"imdbId\":\"(tt\\d+)\"', page_source)\n",
    "        if imdb_id_matches:\n",
    "            imdb_id = imdb_id_matches[-1]\n",
    "            imdbIds_titles.append(imdb_id)\n",
    "            print(\"IMDB ID:\", imdb_id)\n",
    "        else:\n",
    "            # print(\"Không tìm thấy IMDb ID.\")\n",
    "            match = re.search(r'class=\"release-year\".*?\\((\\d{4})\\)', page_source)\n",
    "            release_year = match.group(1)\n",
    "            movie_title_meta = driver.find_element(By.XPATH, \"//meta[@property='og:title']\")\n",
    "            if movie_title_meta:\n",
    "                movie_title = movie_title_meta.get_attribute(\"content\").split(\" streaming\")[0]\n",
    "                movie_title = f\"{movie_title} __ {release_year}\"\n",
    "            else:\n",
    "                movie_title = \"Null\"\n",
    "            imdbIds_titles.append(movie_title)\n",
    "            print(movie_title)\n",
    "\n",
    "    driver.quit()\n",
    "    return imdbIds_titles"
   ]
  },
  {
   "cell_type": "code",
   "execution_count": null,
   "metadata": {},
   "outputs": [],
   "source": [
    "# khuyến nghị mạng yếu: chia phần mình thành các phần nhỏ hơn rồi collect, rùi thêm vào file nhé\n",
    "imdbIds_titles = collect_imdbID_title(links, start=1801, end=1887)\n",
    "imdbIds_titles"
   ]
  },
  {
   "cell_type": "markdown",
   "metadata": {},
   "source": [
    "## 3. LƯU THÔNG TIN VỀ ID VÀ TITLE VÀO FILE TXT"
   ]
  },
  {
   "cell_type": "code",
   "execution_count": 17,
   "metadata": {},
   "outputs": [],
   "source": [
    "file_name = f\"../Data/ids_titles_part{part}.csv\"\n",
    "\n",
    "with open(file_name, 'a') as f:\n",
    "    for item in imdbIds_titles:\n",
    "        f.write(item + \"\\n\")"
   ]
  }
 ],
 "metadata": {
  "kernelspec": {
   "display_name": "min_ds-env2",
   "language": "python",
   "name": "python3"
  },
  "language_info": {
   "codemirror_mode": {
    "name": "ipython",
    "version": 3
   },
   "file_extension": ".py",
   "mimetype": "text/x-python",
   "name": "python",
   "nbconvert_exporter": "python",
   "pygments_lexer": "ipython3",
   "version": "3.10.15"
  }
 },
 "nbformat": 4,
 "nbformat_minor": 2
}
