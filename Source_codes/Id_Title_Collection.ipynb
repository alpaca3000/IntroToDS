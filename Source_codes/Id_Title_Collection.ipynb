{
 "cells": [
  {
   "cell_type": "markdown",
   "metadata": {},
   "source": [
    "# COLLECTING IMDBIDS AND TITLES\n",
    "---"
   ]
  },
  {
   "cell_type": "markdown",
   "metadata": {},
   "source": [
    "Nhiệm vụ phần này: từ danh sách các đường dẫn phim của trang web `Just Watch`, thực hiện cào thông tin **imdbId** và **title** trong đường dẫn nếu không có id và lưu lại vào file ids_titles.txt."
   ]
  },
  {
   "cell_type": "markdown",
   "metadata": {},
   "source": [
    "## 1. IMPORT THƯ VIỆN CẦN THIẾT"
   ]
  },
  {
   "cell_type": "code",
   "execution_count": 2,
   "metadata": {},
   "outputs": [],
   "source": [
    "import time\n",
    "import os\n",
    "from selenium import webdriver\n",
    "from selenium.webdriver.chrome.service import Service\n",
    "from webdriver_manager.chrome import ChromeDriverManager\n",
    "from selenium.webdriver.common.by import By\n",
    "import re"
   ]
  },
  {
   "cell_type": "markdown",
   "metadata": {},
   "source": [
    "## 2. CÀO THÔNG TIN IMDBID TRONG TRANG `JUST WATCH`"
   ]
  },
  {
   "cell_type": "code",
   "execution_count": 3,
   "metadata": {},
   "outputs": [],
   "source": [
    "links = []\n",
    "\n",
    "with open('../Data/links.txt', 'r') as f:\n",
    "    links = [line.strip() for line in f]"
   ]
  },
  {
   "cell_type": "markdown",
   "metadata": {},
   "source": [
    "Dùng selenium thoi vì request k được"
   ]
  },
  {
   "cell_type": "code",
   "execution_count": 4,
   "metadata": {},
   "outputs": [],
   "source": [
    "# chia 3 ra nha mina hong no k cho minh lay :D\n",
    "# từ từ để ngâm cú chứ nhìn này trông cx hơi ngu :v\n",
    "member_part = {\n",
    "    \"Trinh\": {\n",
    "        \"part\": 1,\n",
    "        \"api_key\": None, # đk api xong áp vô nè\n",
    "        \"start\": 0,\n",
    "        \"end\": 628\n",
    "    },\n",
    "\n",
    "    \"Thi\": {\n",
    "        \"part\": 2,\n",
    "        \"api_key\": None, # đk api xong áp vô nè\n",
    "        \"start\": 808,\n",
    "        \"end\": 1258\n",
    "    },\n",
    "\n",
    "    \"MinhUyen\": {\n",
    "        \"part\": 3,\n",
    "        \"api_key\": 'd4c83dec',\n",
    "        \"start\": 1259,\n",
    "        \"end\": 1887\n",
    "    } \n",
    "}"
   ]
  },
  {
   "cell_type": "code",
   "execution_count": 5,
   "metadata": {},
   "outputs": [],
   "source": [
    "# Điền tên mn vào đây theo từ điển nè\n",
    "info = member_part[\"MinhUyen\"]\n",
    "\n",
    "part = info[\"part\"]\n",
    "apiKey = info[\"api_key\"]\n",
    "start = info[\"start\"]\n",
    "end = info[\"end\"]"
   ]
  },
  {
   "cell_type": "code",
   "execution_count": 6,
   "metadata": {},
   "outputs": [],
   "source": [
    "def collect_imdbID_title(links, start, end):\n",
    "    driver = webdriver.Chrome(service=Service(ChromeDriverManager().install()))\n",
    "\n",
    "    imdbIds_titles = []\n",
    "    for url in links[start: end]:\n",
    "        print(f\"[LOG]: parse imdbid of url {url}\")\n",
    "        driver.get(url)\n",
    "        page_source = driver.page_source\n",
    "\n",
    "        imdb_id_match = re.search(r'\"imdbId\":\"(tt\\d+)\"', page_source)\n",
    "        if imdb_id_match:\n",
    "            imdb_id = imdb_id_match.group(1)\n",
    "            imdbIds_titles.append(imdb_id)\n",
    "            print(\"IMDB ID:\", imdb_id)\n",
    "        else:\n",
    "            # print(\"Không tìm thấy IMDb ID.\")\n",
    "            movie_title_meta = driver.find_element(By.XPATH, \"//meta[@property='og:title']\")\n",
    "            movie_title = movie_title_meta.get_attribute(\"content\").split(\" streaming\")[0] if movie_title_meta else \"Null\"\n",
    "            imdbIds_titles.append(movie_title)\n",
    "            print(movie_title)\n",
    "\n",
    "        time.sleep(3)\n",
    "\n",
    "    driver.quit()\n",
    "    return imdbIds_titles"
   ]
  },
  {
   "cell_type": "code",
   "execution_count": null,
   "metadata": {},
   "outputs": [
    {
     "name": "stdout",
     "output_type": "stream",
     "text": [
      "[LOG]: parse imdbid of url https://www.justwatch.com/us/movie/the-mission-2023\n",
      "IMDB ID: tt28097834\n",
      "[LOG]: parse imdbid of url https://www.justwatch.com/us/movie/the-peasants\n",
      "IMDB ID: tt10651230\n",
      "[LOG]: parse imdbid of url https://www.justwatch.com/us/movie/the-burial-0\n",
      "The Burial\n",
      "[LOG]: parse imdbid of url https://www.justwatch.com/us/movie/saw-x\n",
      "IMDB ID: tt21816322\n",
      "[LOG]: parse imdbid of url https://www.justwatch.com/us/movie/last-call-for-istanbul\n",
      "IMDB ID: tt23334616\n",
      "[LOG]: parse imdbid of url https://www.justwatch.com/us/movie/coup-de-chance\n",
      "IMDB ID: tt15140278\n",
      "[LOG]: parse imdbid of url https://www.justwatch.com/us/movie/shooting-stars-2023\n",
      "IMDB ID: tt3715152\n",
      "[LOG]: parse imdbid of url https://www.justwatch.com/us/movie/wingwomen\n",
      "IMDB ID: tt21638298\n",
      "[LOG]: parse imdbid of url https://www.justwatch.com/us/movie/love-in-the-maldives\n",
      "IMDB ID: tt26938504\n",
      "[LOG]: parse imdbid of url https://www.justwatch.com/us/movie/one-day-as-a-lion\n",
      "IMDB ID: tt15783426\n",
      "[LOG]: parse imdbid of url https://www.justwatch.com/us/movie/freelance-2023\n",
      "IMDB ID: tt15744298\n",
      "[LOG]: parse imdbid of url https://www.justwatch.com/us/movie/marlowe\n",
      "IMDB ID: tt6722802\n",
      "[LOG]: parse imdbid of url https://www.justwatch.com/us/movie/la-passion-de-dodin-bouffant\n",
      "IMDB ID: tt19760052\n",
      "[LOG]: parse imdbid of url https://www.justwatch.com/us/movie/child-machine\n",
      "IMDB ID: tt11828692\n",
      "[LOG]: parse imdbid of url https://www.justwatch.com/us/movie/finestkind\n",
      "IMDB ID: tt7991508\n",
      "[LOG]: parse imdbid of url https://www.justwatch.com/us/movie/dungeons-and-dragons-2023\n",
      "IMDB ID: tt2906216\n",
      "[LOG]: parse imdbid of url https://www.justwatch.com/us/movie/the-nun-ii\n",
      "IMDB ID: tt10160976\n",
      "[LOG]: parse imdbid of url https://www.justwatch.com/us/movie/my-big-fat-greek-wedding-3\n",
      "IMDB ID: tt21103300\n",
      "[LOG]: parse imdbid of url https://www.justwatch.com/us/movie/carls-date\n",
      "IMDB ID: tt26736061\n",
      "[LOG]: parse imdbid of url https://www.justwatch.com/us/movie/you-are-so-not-invited-to-my-bat-mitzvah\n",
      "IMDB ID: tt21276878\n",
      "[LOG]: parse imdbid of url https://www.justwatch.com/us/movie/the-last-rifleman\n",
      "IMDB ID: tt12404266\n",
      "[LOG]: parse imdbid of url https://www.justwatch.com/us/movie/wonka\n",
      "IMDB ID: tt6166392\n",
      "[LOG]: parse imdbid of url https://www.justwatch.com/us/movie/copenhagen-cowboy-nightcall-with-nicolas-winding-refn\n",
      "IMDB ID: tt26452836\n",
      "[LOG]: parse imdbid of url https://www.justwatch.com/us/movie/john-wick-chapter-4\n"
     ]
    }
   ],
   "source": [
    "imdbIds_titles = collect_imdbID_title(links, start=start, end=end)\n",
    "imdbIds_titles"
   ]
  },
  {
   "cell_type": "markdown",
   "metadata": {},
   "source": [
    "## 3. LƯU THÔNG TIN VỀ ID VÀ TITLE VÀO FILE TXT"
   ]
  },
  {
   "cell_type": "code",
   "execution_count": null,
   "metadata": {},
   "outputs": [],
   "source": [
    "file_name = os.path.join(\"./Data/\", f\"ids_title.csv\")\n",
    "\n",
    "with open(file_name, 'a') as f:\n",
    "    for item in imdbIds_titles:\n",
    "        f.write(item + \"\\n\")"
   ]
  }
 ],
 "metadata": {
  "kernelspec": {
   "display_name": "min_ds-env2",
   "language": "python",
   "name": "python3"
  },
  "language_info": {
   "codemirror_mode": {
    "name": "ipython",
    "version": 3
   },
   "file_extension": ".py",
   "mimetype": "text/x-python",
   "name": "python",
   "nbconvert_exporter": "python",
   "pygments_lexer": "ipython3",
   "version": "3.10.15"
  }
 },
 "nbformat": 4,
 "nbformat_minor": 2
}
