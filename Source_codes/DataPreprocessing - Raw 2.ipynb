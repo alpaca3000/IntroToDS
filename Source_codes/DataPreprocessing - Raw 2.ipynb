{
 "cells": [
  {
   "cell_type": "markdown",
   "metadata": {},
   "source": [
    "# DATA PREPROCESSING\n",
    "---"
   ]
  },
  {
   "cell_type": "markdown",
   "metadata": {},
   "source": [
    "Nhiệm vụ của phần này là tổng hợp và tiền xử lý dữ liệu đã được thu thập"
   ]
  },
  {
   "cell_type": "markdown",
   "metadata": {},
   "source": [
    "### IMPORT"
   ]
  },
  {
   "cell_type": "code",
   "execution_count": 510,
   "metadata": {},
   "outputs": [],
   "source": [
    "import pandas as pd\n",
    "import matplotlib.pyplot as plt\n",
    "import seaborn as sn"
   ]
  },
  {
   "cell_type": "markdown",
   "metadata": {},
   "source": [
    "### ĐỌC DỮ LIỆU"
   ]
  },
  {
   "cell_type": "code",
   "execution_count": 511,
   "metadata": {},
   "outputs": [],
   "source": [
    "data_1 = pd.read_csv('../IntroToDS/Data/movie_data_part1.csv')\n",
    "data_2 = pd.read_csv('../IntroToDS/Data/movie_data_part2.csv')\n",
    "data_3 = pd.read_csv('../IntroToDS/Data/movie_data_part3.csv')"
   ]
  },
  {
   "cell_type": "markdown",
   "metadata": {},
   "source": [
    "#### Kiểm tra trước khi tổng hợp\n",
    "Kiểm tra xem cả 3 file có giống nhau về đặc trưng hay không"
   ]
  },
  {
   "cell_type": "code",
   "execution_count": 512,
   "metadata": {},
   "outputs": [
    {
     "name": "stdout",
     "output_type": "stream",
     "text": [
      "Các tệp có sự khác biệt trong đặc trưng:\n",
      "- Tệp 2 và tệp 3\n",
      "{'Unnamed: 0'}\n",
      "- Tệp 3 và tệp 1\n",
      "{'Unnamed: 0'}\n"
     ]
    }
   ],
   "source": [
    "def DacTrungGiongNhau(df1, df2, df3):\n",
    "    columns_1 = df1.columns.tolist()\n",
    "    columns_2 = df2.columns.tolist()\n",
    "    columns_3 = df3.columns.tolist()\n",
    "\n",
    "    if columns_1 == columns_2 == columns_3:\n",
    "        print(\"Cả 3 tệp có các đặc trưng giống nhau\")\n",
    "    else:\n",
    "        print(\"Các tệp có sự khác biệt trong đặc trưng:\")\n",
    "        if columns_1 != columns_2:\n",
    "            print(f\"- Tệp 1 và tệp 2\")\n",
    "            print(set(columns_1).symmetric_difference(columns_2))\n",
    "        if columns_2 != columns_3:\n",
    "            print(f\"- Tệp 2 và tệp 3\")\n",
    "            print(set(columns_2).symmetric_difference(columns_3))\n",
    "        if columns_1 != columns_3:\n",
    "            print(f\"- Tệp 3 và tệp 1\")\n",
    "            print(set(columns_3).symmetric_difference(columns_1))\n",
    "\n",
    "DacTrungGiongNhau(data_1, data_2, data_3)"
   ]
  },
  {
   "cell_type": "markdown",
   "metadata": {},
   "source": [
    "Cột không có tên nằm trong tệp 1 và tệp 2 chỉ là cột số thứ tự của các dòng dữ liệu, ta có thể loại bỏ"
   ]
  },
  {
   "cell_type": "code",
   "execution_count": 513,
   "metadata": {},
   "outputs": [],
   "source": [
    "data_1 = data_1.iloc[:, 1:]\n",
    "data_2 = data_2.iloc[:, 1:]"
   ]
  },
  {
   "cell_type": "markdown",
   "metadata": {},
   "source": [
    "Kiểm tra lại"
   ]
  },
  {
   "cell_type": "code",
   "execution_count": 514,
   "metadata": {},
   "outputs": [
    {
     "name": "stdout",
     "output_type": "stream",
     "text": [
      "Cả 3 tệp có các đặc trưng giống nhau\n"
     ]
    }
   ],
   "source": [
    "DacTrungGiongNhau(data_1, data_2, data_3)"
   ]
  },
  {
   "cell_type": "markdown",
   "metadata": {},
   "source": [
    "#### Tổng hợp các tệp"
   ]
  },
  {
   "cell_type": "code",
   "execution_count": 515,
   "metadata": {},
   "outputs": [
    {
     "data": {
      "text/html": [
       "<div>\n",
       "<style scoped>\n",
       "    .dataframe tbody tr th:only-of-type {\n",
       "        vertical-align: middle;\n",
       "    }\n",
       "\n",
       "    .dataframe tbody tr th {\n",
       "        vertical-align: top;\n",
       "    }\n",
       "\n",
       "    .dataframe thead th {\n",
       "        text-align: right;\n",
       "    }\n",
       "</style>\n",
       "<table border=\"1\" class=\"dataframe\">\n",
       "  <thead>\n",
       "    <tr style=\"text-align: right;\">\n",
       "      <th></th>\n",
       "      <th>Title</th>\n",
       "      <th>Release time</th>\n",
       "      <th>Age rating</th>\n",
       "      <th>Runtime</th>\n",
       "      <th>Genre</th>\n",
       "      <th>Lanuage</th>\n",
       "      <th>Awards</th>\n",
       "      <th>Metascore</th>\n",
       "      <th>IMDb Rating</th>\n",
       "      <th>IMDb Votes</th>\n",
       "      <th>Domestic Revenue</th>\n",
       "    </tr>\n",
       "  </thead>\n",
       "  <tbody>\n",
       "    <tr>\n",
       "      <th>0</th>\n",
       "      <td>Goon Squad</td>\n",
       "      <td>18 Jan 2024</td>\n",
       "      <td>NC-17</td>\n",
       "      <td>1h 23min</td>\n",
       "      <td>Crime</td>\n",
       "      <td>English</td>\n",
       "      <td>NaN</td>\n",
       "      <td>NaN</td>\n",
       "      <td>NaN</td>\n",
       "      <td>NaN</td>\n",
       "      <td>NaN</td>\n",
       "    </tr>\n",
       "    <tr>\n",
       "      <th>1</th>\n",
       "      <td>The Phantom Warrior</td>\n",
       "      <td>20 Feb 2024</td>\n",
       "      <td>R</td>\n",
       "      <td>1h 23min</td>\n",
       "      <td>Adventure, Fantasy, Sci-Fi</td>\n",
       "      <td>English</td>\n",
       "      <td>NaN</td>\n",
       "      <td>NaN</td>\n",
       "      <td>2.6</td>\n",
       "      <td>532</td>\n",
       "      <td>NaN</td>\n",
       "    </tr>\n",
       "    <tr>\n",
       "      <th>2</th>\n",
       "      <td>Beyond the Lake</td>\n",
       "      <td>26 Jan 2024</td>\n",
       "      <td>G</td>\n",
       "      <td>1h 38min</td>\n",
       "      <td>Comedy</td>\n",
       "      <td>English</td>\n",
       "      <td>NaN</td>\n",
       "      <td>NaN</td>\n",
       "      <td>NaN</td>\n",
       "      <td>31</td>\n",
       "      <td>NaN</td>\n",
       "    </tr>\n",
       "    <tr>\n",
       "      <th>3</th>\n",
       "      <td>Crimes of Fashion: Killer Clutch</td>\n",
       "      <td>15 Mar 2024</td>\n",
       "      <td>PG</td>\n",
       "      <td>1h 24min</td>\n",
       "      <td>Crime, Drama, Mystery</td>\n",
       "      <td>English, French</td>\n",
       "      <td>NaN</td>\n",
       "      <td>NaN</td>\n",
       "      <td>5.8</td>\n",
       "      <td>503</td>\n",
       "      <td>NaN</td>\n",
       "    </tr>\n",
       "    <tr>\n",
       "      <th>4</th>\n",
       "      <td>Love on the Danube: Love Song</td>\n",
       "      <td>10 Sep 2024</td>\n",
       "      <td>G</td>\n",
       "      <td>1h 24min</td>\n",
       "      <td>Romance</td>\n",
       "      <td>English</td>\n",
       "      <td>NaN</td>\n",
       "      <td>NaN</td>\n",
       "      <td>5.8</td>\n",
       "      <td>175</td>\n",
       "      <td>NaN</td>\n",
       "    </tr>\n",
       "  </tbody>\n",
       "</table>\n",
       "</div>"
      ],
      "text/plain": [
       "                              Title Release time Age rating   Runtime  \\\n",
       "0                        Goon Squad  18 Jan 2024      NC-17  1h 23min   \n",
       "1               The Phantom Warrior  20 Feb 2024          R  1h 23min   \n",
       "2                   Beyond the Lake  26 Jan 2024          G  1h 38min   \n",
       "3  Crimes of Fashion: Killer Clutch  15 Mar 2024         PG  1h 24min   \n",
       "4     Love on the Danube: Love Song  10 Sep 2024          G  1h 24min   \n",
       "\n",
       "                        Genre          Lanuage Awards  Metascore  IMDb Rating  \\\n",
       "0                       Crime          English    NaN        NaN          NaN   \n",
       "1  Adventure, Fantasy, Sci-Fi          English    NaN        NaN          2.6   \n",
       "2                      Comedy          English    NaN        NaN          NaN   \n",
       "3       Crime, Drama, Mystery  English, French    NaN        NaN          5.8   \n",
       "4                     Romance          English    NaN        NaN          5.8   \n",
       "\n",
       "  IMDb Votes Domestic Revenue  \n",
       "0        NaN              NaN  \n",
       "1        532              NaN  \n",
       "2         31              NaN  \n",
       "3        503              NaN  \n",
       "4        175              NaN  "
      ]
     },
     "execution_count": 515,
     "metadata": {},
     "output_type": "execute_result"
    }
   ],
   "source": [
    "data = pd.concat([data_1, data_2, data_3], ignore_index=True)\n",
    "data.head() # Xem trước dữ liệu"
   ]
  },
  {
   "cell_type": "markdown",
   "metadata": {},
   "source": [
    "### 1. Dữ liệu có bao nhiêu dòng, cột"
   ]
  },
  {
   "cell_type": "code",
   "execution_count": 516,
   "metadata": {},
   "outputs": [
    {
     "data": {
      "text/plain": [
       "(1796, 11)"
      ]
     },
     "execution_count": 516,
     "metadata": {},
     "output_type": "execute_result"
    }
   ],
   "source": [
    "data.shape"
   ]
  },
  {
   "cell_type": "markdown",
   "metadata": {},
   "source": [
    "### 2. Thông tin về các dòng dữ liệu"
   ]
  },
  {
   "cell_type": "markdown",
   "metadata": {},
   "source": [
    "#### 2.1 Ý nghĩa từng dòng dữ liệu"
   ]
  },
  {
   "cell_type": "markdown",
   "metadata": {},
   "source": [
    "- Mỗi dòng là đại diện cho một bộ phim, cung cấp thông tin về tên, thời gian phát hành, thể loại, ngôn ngữ, đánh giá, doanh thu và các thông tin khác liên quan đến bộ phim đó. \n",
    "\n",
    "- Không có dòng nào có ý nghĩa khác với các dòng còn lại."
   ]
  },
  {
   "cell_type": "markdown",
   "metadata": {},
   "source": [
    "### 2.2 Kiểm tra các dòng dữ liệu trùng lặp"
   ]
  },
  {
   "cell_type": "code",
   "execution_count": 517,
   "metadata": {},
   "outputs": [
    {
     "data": {
      "text/plain": [
       "27"
      ]
     },
     "execution_count": 517,
     "metadata": {},
     "output_type": "execute_result"
    }
   ],
   "source": [
    "n_duplicate = data.duplicated().sum()\n",
    "n_duplicate"
   ]
  },
  {
   "cell_type": "markdown",
   "metadata": {},
   "source": [
    "Xử lý các đữ liệu trùng lặp"
   ]
  },
  {
   "cell_type": "code",
   "execution_count": 518,
   "metadata": {},
   "outputs": [
    {
     "data": {
      "text/plain": [
       "(1769, 11)"
      ]
     },
     "execution_count": 518,
     "metadata": {},
     "output_type": "execute_result"
    }
   ],
   "source": [
    "if n_duplicate > 0:\n",
    "    data = data.drop_duplicates()\n",
    "\n",
    "data.shape"
   ]
  },
  {
   "cell_type": "markdown",
   "metadata": {},
   "source": [
    "### 3. Thông tin về các cột dữ liệu\n",
    "Dữ liệu có các cột sau"
   ]
  },
  {
   "cell_type": "code",
   "execution_count": 519,
   "metadata": {},
   "outputs": [
    {
     "data": {
      "text/plain": [
       "Index(['Title', 'Release time', 'Age rating', 'Runtime', 'Genre', 'Lanuage',\n",
       "       'Awards', 'Metascore', 'IMDb Rating', 'IMDb Votes', 'Domestic Revenue'],\n",
       "      dtype='object')"
      ]
     },
     "execution_count": 519,
     "metadata": {},
     "output_type": "execute_result"
    }
   ],
   "source": [
    "data.columns"
   ]
  },
  {
   "cell_type": "markdown",
   "metadata": {},
   "source": [
    "Có một tên cột bị sai chính tả, sửa lại cho đúng"
   ]
  },
  {
   "cell_type": "code",
   "execution_count": 520,
   "metadata": {},
   "outputs": [],
   "source": [
    "data = data.rename(columns={'Lanuage': 'Language'})"
   ]
  },
  {
   "cell_type": "markdown",
   "metadata": {},
   "source": [
    "### 3.1 Ý nghĩa của các cột dữ liệu"
   ]
  },
  {
   "cell_type": "markdown",
   "metadata": {},
   "source": [
    "Mỗi cột có ý nghĩa sau: \n",
    "|Tên cột|Ý nghĩa|\n",
    "|-------|-------|\n",
    "| Title| Tên của bộ phim|\n",
    "| Realease time| Thời gian phát hành của bộ phim|\n",
    "| Age rating| Đánh giá độ tuổi phù hợp để xem phim|\n",
    "| Runtime| Thời lượng của bộ phim|\n",
    "| Genre| Thể loại của bộ phim|\n",
    "| Language| Ngôn ngữ chính được sử dụng trong bộ phim|\n",
    "| Awards| Số lượng hoặc tên giải thưởng mà bộ phim nhận được (nếu có)|\n",
    "| Metascore| Điểm đánh giá từ Metacritic|\n",
    "| IMDb Rating| Điểm đánh giá của bộ phim trên IMDb|\n",
    "| IMDb Votes| Số lượt bình chọn của người dùng trên IMDb|\n",
    "| Domestic Revenue|Doanh thu nội địa|"
   ]
  },
  {
   "cell_type": "markdown",
   "metadata": {},
   "source": [
    "### 3.2 Kiểm tra kiểu dữ liệu của mỗi cột\n",
    "Kiểu dữ liệu hiện tại của các cột"
   ]
  },
  {
   "cell_type": "code",
   "execution_count": 521,
   "metadata": {},
   "outputs": [
    {
     "data": {
      "text/plain": [
       "Title                object\n",
       "Release time         object\n",
       "Age rating           object\n",
       "Runtime              object\n",
       "Genre                object\n",
       "Language             object\n",
       "Awards               object\n",
       "Metascore           float64\n",
       "IMDb Rating         float64\n",
       "IMDb Votes           object\n",
       "Domestic Revenue     object\n",
       "dtype: object"
      ]
     },
     "execution_count": 521,
     "metadata": {},
     "output_type": "execute_result"
    }
   ],
   "source": [
    "column_types = data.dtypes\n",
    "column_types"
   ]
  },
  {
   "cell_type": "markdown",
   "metadata": {},
   "source": [
    "Có một số cột dữ liệu chưa được xác định với các kiểu dữ liệu phù hợp.\n",
    "\n",
    "Ta chuyển một số cột **Runtime, Awards, IMDb Votes, Domestic Revenue** từ định tính qua định lượng"
   ]
  },
  {
   "cell_type": "markdown",
   "metadata": {},
   "source": [
    "Runtime"
   ]
  },
  {
   "cell_type": "code",
   "execution_count": 522,
   "metadata": {},
   "outputs": [],
   "source": [
    "def convert_runtime_to_minutes(runtime):\n",
    "    try:\n",
    "        if 'h' in runtime and 'min' in runtime:  # Có cả giờ và phút\n",
    "            parts = runtime.split('h')\n",
    "            hours = int(parts[0].strip())  # Phần trước 'h' là số giờ\n",
    "            minutes = int(parts[1].replace('min', '').strip())  # Phần sau 'h' là số phút\n",
    "            return hours * 60 + minutes\n",
    "        elif 'min' in runtime:  # Chỉ có phút\n",
    "            minutes = int(runtime.replace('min', '').strip())\n",
    "            return minutes\n",
    "        elif 'h' in runtime:  # Chỉ có giờ\n",
    "            hours = int(runtime.replace('h', '').strip())\n",
    "            return hours * 60\n",
    "        else:\n",
    "            return None  # Nếu không đúng định dạng\n",
    "    except (ValueError, AttributeError):\n",
    "        return None  # Xử lý ngoại lệ nếu giá trị không hợp lệ\n"
   ]
  },
  {
   "cell_type": "code",
   "execution_count": 523,
   "metadata": {},
   "outputs": [],
   "source": [
    "data['Runtime'] = data['Runtime'].dropna().apply(convert_runtime_to_minutes)"
   ]
  },
  {
   "cell_type": "markdown",
   "metadata": {},
   "source": [
    "Awards"
   ]
  },
  {
   "cell_type": "markdown",
   "metadata": {},
   "source": [
    "Ta tách cột Awards thành 2 cột riêng là Win và Nomination"
   ]
  },
  {
   "cell_type": "code",
   "execution_count": 524,
   "metadata": {},
   "outputs": [],
   "source": [
    "data['Win'] = data['Awards'].apply(lambda x: 1 if x == 'win' else 0)\n",
    "data['Nomination'] = data['Awards'].apply(lambda x: 1 if x == 'nomination' else 0)\n",
    "data = data.drop(columns=['Awards'])"
   ]
  },
  {
   "cell_type": "markdown",
   "metadata": {},
   "source": [
    "IMDb Votes"
   ]
  },
  {
   "cell_type": "code",
   "execution_count": 525,
   "metadata": {},
   "outputs": [],
   "source": [
    "data['IMDb Votes'] = data['IMDb Votes'].replace({',': ''}, regex=True)\n",
    "data['IMDb Votes'] = data['IMDb Votes'].dropna().astype(float)"
   ]
  },
  {
   "cell_type": "markdown",
   "metadata": {},
   "source": [
    "Domestic Revenue\n"
   ]
  },
  {
   "cell_type": "code",
   "execution_count": 526,
   "metadata": {},
   "outputs": [],
   "source": [
    "data['Domestic Revenue'] = data['Domestic Revenue'].replace({'\\$': '', ',': ''}, regex=True)\n",
    "data['Domestic Revenue'] = data['Domestic Revenue'].dropna().astype(float)"
   ]
  },
  {
   "cell_type": "markdown",
   "metadata": {},
   "source": [
    "Kiểm tra lại"
   ]
  },
  {
   "cell_type": "code",
   "execution_count": 527,
   "metadata": {},
   "outputs": [
    {
     "data": {
      "text/plain": [
       "Title                object\n",
       "Release time         object\n",
       "Age rating           object\n",
       "Runtime             float64\n",
       "Genre                object\n",
       "Language             object\n",
       "Metascore           float64\n",
       "IMDb Rating         float64\n",
       "IMDb Votes          float64\n",
       "Domestic Revenue    float64\n",
       "Win                   int64\n",
       "Nomination            int64\n",
       "dtype: object"
      ]
     },
     "execution_count": 527,
     "metadata": {},
     "output_type": "execute_result"
    }
   ],
   "source": [
    "data.dtypes"
   ]
  },
  {
   "cell_type": "markdown",
   "metadata": {},
   "source": [
    "### 3.3. Sự phân bố dữ liệu của các cột có kiểu định lượng\n",
    "Các cột có dữ liệu định lượng"
   ]
  },
  {
   "cell_type": "code",
   "execution_count": 528,
   "metadata": {},
   "outputs": [
    {
     "name": "stdout",
     "output_type": "stream",
     "text": [
      "Numberical columns: \n",
      "Runtime\n",
      "Metascore\n",
      "IMDb Rating\n",
      "IMDb Votes\n",
      "Domestic Revenue\n",
      "Win\n",
      "Nomination\n"
     ]
    }
   ],
   "source": [
    "numerical_columns = data.select_dtypes(include=['int64', 'float64']).columns.tolist()\n",
    "print('Numberical columns: ')\n",
    "for col_name in numerical_columns:\n",
    "    print(col_name)"
   ]
  },
  {
   "cell_type": "markdown",
   "metadata": {},
   "source": [
    "Sự phân bố dữ liệu"
   ]
  },
  {
   "cell_type": "code",
   "execution_count": 529,
   "metadata": {},
   "outputs": [],
   "source": [
    "# Vẽ biểu đồ"
   ]
  },
  {
   "cell_type": "markdown",
   "metadata": {},
   "source": [
    "#### 3.3.1 Tỉ lệ phần trăm các giá trị bị thiếu trong mỗi cột"
   ]
  },
  {
   "cell_type": "code",
   "execution_count": 530,
   "metadata": {},
   "outputs": [],
   "source": [
    "# Tính tỉ lệ phần trăm các giá trị bị thiếu\n"
   ]
  },
  {
   "cell_type": "code",
   "execution_count": 531,
   "metadata": {},
   "outputs": [],
   "source": [
    "# Xử lý giá trị bị thiếu (điền giá trị thay thế, ước lượng,...)"
   ]
  },
  {
   "cell_type": "markdown",
   "metadata": {},
   "source": [
    "#### 3.3.2 Tính toán các giá trị thống kê\n"
   ]
  },
  {
   "cell_type": "markdown",
   "metadata": {},
   "source": [
    "Với mỗi cột có kiểu dữ liệu định lượng, chúng em thực hiện tính toán các giá trị thống kê cơ bản sau:\n",
    "- Min \n",
    "- Max\n",
    "- Mean\n",
    "- Mod\n",
    "- Median"
   ]
  },
  {
   "cell_type": "code",
   "execution_count": 532,
   "metadata": {},
   "outputs": [],
   "source": [
    "# Thêm các cell tính toán và xử lý"
   ]
  },
  {
   "cell_type": "markdown",
   "metadata": {},
   "source": [
    "#### 3.3.3 Xử lý dữ liệu lỗi hoặc bất thường"
   ]
  },
  {
   "cell_type": "code",
   "execution_count": null,
   "metadata": {},
   "outputs": [],
   "source": []
  },
  {
   "cell_type": "markdown",
   "metadata": {},
   "source": [
    "#### 3.3.5 Chuẩn hóa dữ liệu nếu cần"
   ]
  },
  {
   "cell_type": "code",
   "execution_count": null,
   "metadata": {},
   "outputs": [],
   "source": []
  },
  {
   "cell_type": "markdown",
   "metadata": {},
   "source": [
    "### 3.4 Sự phân bố dữ liệu của các cột có kiểu định tính\n",
    "Các cột có kiểu dữ liệu định tính"
   ]
  },
  {
   "cell_type": "code",
   "execution_count": 533,
   "metadata": {},
   "outputs": [
    {
     "name": "stdout",
     "output_type": "stream",
     "text": [
      "Categorical columns: \n",
      "Title\n",
      "Release time\n",
      "Age rating\n",
      "Genre\n",
      "Language\n"
     ]
    }
   ],
   "source": [
    "categorical_columns = data.select_dtypes(include=['object', 'bool']).columns.tolist()\n",
    "print('Categorical columns: ')\n",
    "for col_name in categorical_columns:\n",
    "    print(col_name)"
   ]
  },
  {
   "cell_type": "markdown",
   "metadata": {},
   "source": [
    "#### 3.4.1 Số giá trị phân biệt của mỗi cột"
   ]
  },
  {
   "cell_type": "code",
   "execution_count": 534,
   "metadata": {},
   "outputs": [],
   "source": [
    "# Hàm tính toán sự phân bố các giá trị\n",
    "def compute_distribution(dataframe, column):\n",
    "    value_counts = dataframe[column].value_counts(dropna=False) \n",
    "    db = {}\n",
    "    for value, count in value_counts.items():\n",
    "        db[value] = count\n",
    "    \n",
    "    return db"
   ]
  },
  {
   "cell_type": "code",
   "execution_count": 535,
   "metadata": {},
   "outputs": [],
   "source": [
    "# Tìm phân bố giá trị\n",
    "cat_distribution = {}\n",
    "\n",
    "for column in categorical_columns:\n",
    "    cat_distribution[column] = compute_distribution(data, column)"
   ]
  },
  {
   "cell_type": "code",
   "execution_count": 536,
   "metadata": {},
   "outputs": [
    {
     "data": {
      "text/html": [
       "<div>\n",
       "<style scoped>\n",
       "    .dataframe tbody tr th:only-of-type {\n",
       "        vertical-align: middle;\n",
       "    }\n",
       "\n",
       "    .dataframe tbody tr th {\n",
       "        vertical-align: top;\n",
       "    }\n",
       "\n",
       "    .dataframe thead th {\n",
       "        text-align: right;\n",
       "    }\n",
       "</style>\n",
       "<table border=\"1\" class=\"dataframe\">\n",
       "  <thead>\n",
       "    <tr style=\"text-align: right;\">\n",
       "      <th></th>\n",
       "      <th>Column</th>\n",
       "      <th>Distinct_Values</th>\n",
       "      <th>Value_Distribution</th>\n",
       "    </tr>\n",
       "  </thead>\n",
       "  <tbody>\n",
       "    <tr>\n",
       "      <th>0</th>\n",
       "      <td>Title</td>\n",
       "      <td>1763</td>\n",
       "      <td>{'Horizon: An American Saga - Chapter 1': 2, '...</td>\n",
       "    </tr>\n",
       "    <tr>\n",
       "      <th>1</th>\n",
       "      <td>Release time</td>\n",
       "      <td>559</td>\n",
       "      <td>{'2024': 26, '2023': 18, '13 Sep 2024': 17, '1...</td>\n",
       "    </tr>\n",
       "    <tr>\n",
       "      <th>2</th>\n",
       "      <td>Age rating</td>\n",
       "      <td>5</td>\n",
       "      <td>{'R': 809, 'PG-13': 466, 'PG': 284, 'G': 181, ...</td>\n",
       "    </tr>\n",
       "    <tr>\n",
       "      <th>3</th>\n",
       "      <td>Genre</td>\n",
       "      <td>286</td>\n",
       "      <td>{'Documentary': 191, 'Comedy': 110, 'Drama': 1...</td>\n",
       "    </tr>\n",
       "    <tr>\n",
       "      <th>4</th>\n",
       "      <td>Language</td>\n",
       "      <td>166</td>\n",
       "      <td>{'English': 1231, nan: 98, 'Spanish': 39, 'Eng...</td>\n",
       "    </tr>\n",
       "  </tbody>\n",
       "</table>\n",
       "</div>"
      ],
      "text/plain": [
       "         Column  Distinct_Values  \\\n",
       "0         Title             1763   \n",
       "1  Release time              559   \n",
       "2    Age rating                5   \n",
       "3         Genre              286   \n",
       "4      Language              166   \n",
       "\n",
       "                                  Value_Distribution  \n",
       "0  {'Horizon: An American Saga - Chapter 1': 2, '...  \n",
       "1  {'2024': 26, '2023': 18, '13 Sep 2024': 17, '1...  \n",
       "2  {'R': 809, 'PG-13': 466, 'PG': 284, 'G': 181, ...  \n",
       "3  {'Documentary': 191, 'Comedy': 110, 'Drama': 1...  \n",
       "4  {'English': 1231, nan: 98, 'Spanish': 39, 'Eng...  "
      ]
     },
     "execution_count": 536,
     "metadata": {},
     "output_type": "execute_result"
    }
   ],
   "source": [
    "# Chuyển thành dạng bảng\n",
    "# Tạo danh sách để lưu dữ liệu cho DataFrame\n",
    "df = {\n",
    "    \"Column\": [],\n",
    "    \"Distinct_Values\": [],\n",
    "    \"Value_Distribution\": []\n",
    "}\n",
    "\n",
    "# Thêm dữ liệu vào danh sách\n",
    "for column, distribution in cat_distribution.items():\n",
    "    different_values = len(set(data[column]))\n",
    "    df[\"Column\"].append(column)\n",
    "    df[\"Distinct_Values\"].append(different_values)\n",
    "    df[\"Value_Distribution\"].append(distribution)\n",
    "\n",
    "# Tạo DataFrame từ dữ liệu\n",
    "distribution_df = pd.DataFrame(df)\n",
    "\n",
    "# In ra DataFrame\n",
    "distribution_df"
   ]
  },
  {
   "cell_type": "markdown",
   "metadata": {},
   "source": [
    "#### 3.4.2 Tỉ lệ phần trăm các giá trị bị thiếu trong mỗi cột"
   ]
  },
  {
   "cell_type": "code",
   "execution_count": 537,
   "metadata": {},
   "outputs": [
    {
     "name": "stdout",
     "output_type": "stream",
     "text": [
      "Title: 0.00%\n",
      "Release time: 0.00%\n",
      "Age rating: 0.00%\n",
      "Genre: 0.00%\n",
      "Language: 5.54%\n"
     ]
    }
   ],
   "source": [
    "for col_name in categorical_columns:\n",
    "    missing_rate = data[col_name].isnull().mean() * 100\n",
    "    print(f'{col_name}: {missing_rate:.2f}%')"
   ]
  },
  {
   "cell_type": "markdown",
   "metadata": {},
   "source": [
    "Trong quá trình khám phá dữ liệu, đã phát hiện 1 cột định tính có giá trị bị thiếu. Cụ thể là cột **Language** (5,54%)\n",
    "\n",
    "Để khắc phục vấn đề này, điền **Unknown** vào những ô bị thiếu. Đảm bảo dữ liệu vẫn đầy đủ và có thể sử dụng trong các phân tích sau mà không mất đi ý nghĩa của các hàng có giá trị bị thiếu."
   ]
  },
  {
   "cell_type": "code",
   "execution_count": 538,
   "metadata": {},
   "outputs": [],
   "source": [
    "data['Language'] = data['Language'].fillna('Unknown')"
   ]
  },
  {
   "cell_type": "markdown",
   "metadata": {},
   "source": [
    "#### 3.4.4 Xử lý dữ liệu phân loại"
   ]
  },
  {
   "cell_type": "markdown",
   "metadata": {},
   "source": [
    "Cột **Age Rating** có dữ liệu phân loại, ta sẽ thêm một cột mới là **Age Rating Quantification** để chuyển đổi thành các giá trị số để dễ dàng phân tích và sử dụng trong mô hình máy học"
   ]
  },
  {
   "cell_type": "code",
   "execution_count": 541,
   "metadata": {},
   "outputs": [],
   "source": [
    "# Tạo một từ điển ánh xạ từ phân loại phim sang giá trị định lượng\n",
    "rating_map = {\n",
    "    'NC-17': 5,\n",
    "    'R': 4,\n",
    "    'PG-13': 3,\n",
    "    'PG': 2,\n",
    "    'G': 1\n",
    "}\n",
    "\n",
    "data['Age rating quantification'] = data['Age rating'].map(rating_map)"
   ]
  },
  {
   "cell_type": "markdown",
   "metadata": {},
   "source": [
    "Sau các bước tiền xử lý, ta thực hiện lưu dataframe này vào 1 file mới và thực hiện phân tích trên file này."
   ]
  },
  {
   "cell_type": "code",
   "execution_count": 540,
   "metadata": {},
   "outputs": [],
   "source": [
    "data.to_csv('../IntroToDS/Data/movie_data.csv', index=False)"
   ]
  }
 ],
 "metadata": {
  "kernelspec": {
   "display_name": "Python 3",
   "language": "python",
   "name": "python3"
  },
  "language_info": {
   "codemirror_mode": {
    "name": "ipython",
    "version": 3
   },
   "file_extension": ".py",
   "mimetype": "text/x-python",
   "name": "python",
   "nbconvert_exporter": "python",
   "pygments_lexer": "ipython3",
   "version": "3.11.9"
  }
 },
 "nbformat": 4,
 "nbformat_minor": 2
}
