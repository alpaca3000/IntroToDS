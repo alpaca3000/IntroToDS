{
 "cells": [
  {
   "cell_type": "markdown",
   "metadata": {},
   "source": [
    "# ANSWERING QUESTION\n",
    "---"
   ]
  },
  {
   "cell_type": "markdown",
   "metadata": {},
   "source": [
    "Nhiệm vụ phần này: Đặt các câu hỏi có ý nghĩa, giải thích tại sao cần trả lời câu hỏi này và phân tích để trả lời câu hỏi."
   ]
  },
  {
   "cell_type": "markdown",
   "metadata": {},
   "source": [
    "Import các thư viện cần thiết"
   ]
  },
  {
   "cell_type": "code",
   "execution_count": 98,
   "metadata": {},
   "outputs": [],
   "source": [
    "import pandas as pd\n",
    "\n",
    "import matplotlib.pyplot as plt\n",
    "import seaborn as sns"
   ]
  },
  {
   "cell_type": "code",
   "execution_count": 99,
   "metadata": {},
   "outputs": [
    {
     "data": {
      "text/html": [
       "<div>\n",
       "<style scoped>\n",
       "    .dataframe tbody tr th:only-of-type {\n",
       "        vertical-align: middle;\n",
       "    }\n",
       "\n",
       "    .dataframe tbody tr th {\n",
       "        vertical-align: top;\n",
       "    }\n",
       "\n",
       "    .dataframe thead th {\n",
       "        text-align: right;\n",
       "    }\n",
       "</style>\n",
       "<table border=\"1\" class=\"dataframe\">\n",
       "  <thead>\n",
       "    <tr style=\"text-align: right;\">\n",
       "      <th></th>\n",
       "      <th>Title</th>\n",
       "      <th>Release time</th>\n",
       "      <th>Age rating</th>\n",
       "      <th>Runtime</th>\n",
       "      <th>Language</th>\n",
       "      <th>IMDb Rating</th>\n",
       "      <th>IMDb Votes</th>\n",
       "      <th>Action</th>\n",
       "      <th>Adventure</th>\n",
       "      <th>Animation</th>\n",
       "      <th>...</th>\n",
       "      <th>Romance</th>\n",
       "      <th>Sci-Fi</th>\n",
       "      <th>Short</th>\n",
       "      <th>Sport</th>\n",
       "      <th>Thriller</th>\n",
       "      <th>War</th>\n",
       "      <th>Western</th>\n",
       "      <th>Win</th>\n",
       "      <th>Nomination</th>\n",
       "      <th>Age rating quantification</th>\n",
       "    </tr>\n",
       "  </thead>\n",
       "  <tbody>\n",
       "    <tr>\n",
       "      <th>0</th>\n",
       "      <td>Goon Squad</td>\n",
       "      <td>2024-01-18</td>\n",
       "      <td>NC-17</td>\n",
       "      <td>83.0</td>\n",
       "      <td>English</td>\n",
       "      <td>6.1</td>\n",
       "      <td>12430.6658</td>\n",
       "      <td>False</td>\n",
       "      <td>False</td>\n",
       "      <td>False</td>\n",
       "      <td>...</td>\n",
       "      <td>False</td>\n",
       "      <td>False</td>\n",
       "      <td>False</td>\n",
       "      <td>False</td>\n",
       "      <td>False</td>\n",
       "      <td>False</td>\n",
       "      <td>False</td>\n",
       "      <td>0.0</td>\n",
       "      <td>0.0</td>\n",
       "      <td>5</td>\n",
       "    </tr>\n",
       "    <tr>\n",
       "      <th>1</th>\n",
       "      <td>The Phantom Warrior</td>\n",
       "      <td>2024-02-20</td>\n",
       "      <td>R</td>\n",
       "      <td>83.0</td>\n",
       "      <td>English</td>\n",
       "      <td>2.6</td>\n",
       "      <td>532.0000</td>\n",
       "      <td>False</td>\n",
       "      <td>True</td>\n",
       "      <td>False</td>\n",
       "      <td>...</td>\n",
       "      <td>False</td>\n",
       "      <td>True</td>\n",
       "      <td>False</td>\n",
       "      <td>False</td>\n",
       "      <td>False</td>\n",
       "      <td>False</td>\n",
       "      <td>False</td>\n",
       "      <td>0.0</td>\n",
       "      <td>0.0</td>\n",
       "      <td>4</td>\n",
       "    </tr>\n",
       "    <tr>\n",
       "      <th>2</th>\n",
       "      <td>Beyond the Lake</td>\n",
       "      <td>2024-01-26</td>\n",
       "      <td>G</td>\n",
       "      <td>98.0</td>\n",
       "      <td>English</td>\n",
       "      <td>6.1</td>\n",
       "      <td>31.0000</td>\n",
       "      <td>False</td>\n",
       "      <td>False</td>\n",
       "      <td>False</td>\n",
       "      <td>...</td>\n",
       "      <td>False</td>\n",
       "      <td>False</td>\n",
       "      <td>False</td>\n",
       "      <td>False</td>\n",
       "      <td>False</td>\n",
       "      <td>False</td>\n",
       "      <td>False</td>\n",
       "      <td>0.0</td>\n",
       "      <td>0.0</td>\n",
       "      <td>1</td>\n",
       "    </tr>\n",
       "    <tr>\n",
       "      <th>3</th>\n",
       "      <td>Crimes of Fashion: Killer Clutch</td>\n",
       "      <td>2024-03-15</td>\n",
       "      <td>PG</td>\n",
       "      <td>84.0</td>\n",
       "      <td>English, French</td>\n",
       "      <td>5.8</td>\n",
       "      <td>503.0000</td>\n",
       "      <td>False</td>\n",
       "      <td>False</td>\n",
       "      <td>False</td>\n",
       "      <td>...</td>\n",
       "      <td>False</td>\n",
       "      <td>False</td>\n",
       "      <td>False</td>\n",
       "      <td>False</td>\n",
       "      <td>False</td>\n",
       "      <td>False</td>\n",
       "      <td>False</td>\n",
       "      <td>0.0</td>\n",
       "      <td>0.0</td>\n",
       "      <td>2</td>\n",
       "    </tr>\n",
       "    <tr>\n",
       "      <th>4</th>\n",
       "      <td>Love on the Danube: Love Song</td>\n",
       "      <td>2024-09-10</td>\n",
       "      <td>G</td>\n",
       "      <td>84.0</td>\n",
       "      <td>English</td>\n",
       "      <td>5.8</td>\n",
       "      <td>175.0000</td>\n",
       "      <td>False</td>\n",
       "      <td>False</td>\n",
       "      <td>False</td>\n",
       "      <td>...</td>\n",
       "      <td>True</td>\n",
       "      <td>False</td>\n",
       "      <td>False</td>\n",
       "      <td>False</td>\n",
       "      <td>False</td>\n",
       "      <td>False</td>\n",
       "      <td>False</td>\n",
       "      <td>0.0</td>\n",
       "      <td>0.0</td>\n",
       "      <td>1</td>\n",
       "    </tr>\n",
       "  </tbody>\n",
       "</table>\n",
       "<p>5 rows × 32 columns</p>\n",
       "</div>"
      ],
      "text/plain": [
       "                              Title Release time Age rating  Runtime  \\\n",
       "0                        Goon Squad   2024-01-18      NC-17     83.0   \n",
       "1               The Phantom Warrior   2024-02-20          R     83.0   \n",
       "2                   Beyond the Lake   2024-01-26          G     98.0   \n",
       "3  Crimes of Fashion: Killer Clutch   2024-03-15         PG     84.0   \n",
       "4     Love on the Danube: Love Song   2024-09-10          G     84.0   \n",
       "\n",
       "          Language  IMDb Rating  IMDb Votes  Action  Adventure  Animation  \\\n",
       "0          English          6.1  12430.6658   False      False      False   \n",
       "1          English          2.6    532.0000   False       True      False   \n",
       "2          English          6.1     31.0000   False      False      False   \n",
       "3  English, French          5.8    503.0000   False      False      False   \n",
       "4          English          5.8    175.0000   False      False      False   \n",
       "\n",
       "   ...  Romance  Sci-Fi  Short  Sport  Thriller    War  Western  Win  \\\n",
       "0  ...    False   False  False  False     False  False    False  0.0   \n",
       "1  ...    False    True  False  False     False  False    False  0.0   \n",
       "2  ...    False   False  False  False     False  False    False  0.0   \n",
       "3  ...    False   False  False  False     False  False    False  0.0   \n",
       "4  ...     True   False  False  False     False  False    False  0.0   \n",
       "\n",
       "   Nomination  Age rating quantification  \n",
       "0         0.0                          5  \n",
       "1         0.0                          4  \n",
       "2         0.0                          1  \n",
       "3         0.0                          2  \n",
       "4         0.0                          1  \n",
       "\n",
       "[5 rows x 32 columns]"
      ]
     },
     "execution_count": 99,
     "metadata": {},
     "output_type": "execute_result"
    }
   ],
   "source": [
    "df = pd.read_csv('../Data/movie_data.csv')\n",
    "df.head()"
   ]
  },
  {
   "cell_type": "markdown",
   "metadata": {},
   "source": [
    "## CÂU 1: VỚI TỪNG THỂ LOẠI KHÁC NHAU THÌ ĐÁNH GIÁ CỦA KHÁN GIẢ KHÁC NHAU NHƯ THẾ NÀO ?"
   ]
  },
  {
   "cell_type": "markdown",
   "metadata": {},
   "source": [
    "### 1. Lợi ích của việc trả lời câu hỏi\n",
    "\n",
    "Trả lời câu hỏi này giúp chúng ta tìm hiểu đánh giá của khán giả với từng thể loại phim khác nhau, từ đó phần nào diễn giáỉ sở thích, khẩu vị xem phim của họ. "
   ]
  },
  {
   "cell_type": "markdown",
   "metadata": {},
   "source": [
    "### 2. Mô tả thuật toán:\n",
    "\n",
    "- Để trả lời câu hỏi này chúng ta sẽ sử dụng dữ liệu của cột IMDb Ratings, IMDb Votes và các cột thể loại phim để điểm trung bình cho từng thể loại và kết hợp so sánh với số lượng phim của từng thể loại để đưa ra kết luận.\n",
    "\n",
    "- Điểm trung bình sẽ được tính bằng Bayasian Average, có công thức như sau: \n",
    "\n",
    "    $$\n",
    "    \\text{Bayesian Average} = \\frac{\\sum_{i=1}^n r_i + m \\cdot C}{n + m}\n",
    "    $$\n",
    "\n",
    "    Trong đó:\n",
    "    \n",
    "    - $r_i$ là rating mỗi phim,\n",
    "    - $n$ là số lượng vote,\n",
    "    - $m$ là trung bình tất cả đánh giá,\n",
    "    - $C$ là trung bình tất cả vote."
   ]
  },
  {
   "cell_type": "markdown",
   "metadata": {},
   "source": [
    "### 3. Code"
   ]
  },
  {
   "cell_type": "code",
   "execution_count": 100,
   "metadata": {},
   "outputs": [],
   "source": [
    "data = df.copy()\n",
    "\n",
    "genre_columns = ['Action', \n",
    "                 'Adventure', \n",
    "                 'Animation',\n",
    "                 'Biography', \n",
    "                 'Comedy', \n",
    "                 'Crime', \n",
    "                 'Documentary', \n",
    "                 'Drama', \n",
    "                 'Family',\n",
    "                 'Fantasy', \n",
    "                 'History', \n",
    "                 'Horror', \n",
    "                 'Music', \n",
    "                 'Musical',\n",
    "                 'Mystery', \n",
    "                 'Romance', \n",
    "                 'Sci-Fi', \n",
    "                 'Short', \n",
    "                 'Sport',\n",
    "                 'Thriller', \n",
    "                 'War', \n",
    "                 'Western']"
   ]
  },
  {
   "cell_type": "code",
   "execution_count": 101,
   "metadata": {},
   "outputs": [],
   "source": [
    "C = data['IMDb Votes'].mean()\n",
    "m = data['IMDb Rating'].mean()\n",
    "\n",
    "genre_avg_rating = []\n",
    "\n",
    "for genre in genre_columns:\n",
    "    filtered_movies = data[data[genre] == 1]\n",
    "    total_votes = filtered_movies['IMDb Votes'].sum()\n",
    "    total_movie = filtered_movies['IMDb Rating'].count()\n",
    "\n",
    "    # Bayesian Average\n",
    "    bayesian_avg = (C * m + (filtered_movies['IMDb Rating'] * filtered_movies['IMDb Votes']).sum()) / (C + total_votes)\n",
    "    genre_avg_rating.append((genre, total_movie, bayesian_avg))\n",
    "\n",
    "avg_rating_df = pd.DataFrame(genre_avg_rating, columns = ['Genre', 'Total Movie', 'Average Rating'])"
   ]
  },
  {
   "cell_type": "code",
   "execution_count": 102,
   "metadata": {},
   "outputs": [],
   "source": [
    "genre_most_movie = avg_rating_df.sort_values(by='Total Movie', ascending=True)\n",
    "avg_rating_df.sort_values(by='Average Rating', ascending=True, inplace=True)"
   ]
  },
  {
   "cell_type": "markdown",
   "metadata": {},
   "source": [
    "### 4. Trực quan"
   ]
  },
  {
   "cell_type": "markdown",
   "metadata": {},
   "source": [
    "#### a) Số lượng phim của từng thể loại"
   ]
  },
  {
   "cell_type": "code",
   "execution_count": 107,
   "metadata": {},
   "outputs": [
    {
     "data": {
      "image/png": "[encoded data removed]",
      "text/plain": [
       "<Figure size 1000x600 with 1 Axes>"
      ]
     },
     "metadata": {},
     "output_type": "display_data"
    }
   ],
   "source": [
    "plt.figure(figsize=(10, 6))\n",
    "plt.barh(avg_rating_df['Genre'], avg_rating_df['Average Rating'], color='skyblue', edgecolor='black')\n",
    "plt.xlabel('Average Rating')\n",
    "plt.ylabel('Genre')\n",
    "plt.title('Average Rating by Genre')\n",
    "plt.show()"
   ]
  },
  {
   "cell_type": "markdown",
   "metadata": {},
   "source": [
    "Nhận xét:"
   ]
  },
  {
   "cell_type": "markdown",
   "metadata": {},
   "source": [
    "- Về số lượng phim mỗi thể loại:\n",
    "    + Số lượng phim có chênh lệch khá lớn với nhiều thể loại có số lượng phim rất nhiều, hơn 400 bộ phim và nhiều thể loại lại có số lượng phim rất ít, nhỏ hơn 50 bộ phim. \n",
    "    + Thể loại phim có nhiều bộ phim nhất là Drama với hơn 500 bộ phim thuộc thể loại này, tiếp theo là Comedy cũng có số lượng phim rất cao. Hai thể loại gần như áp đảo các thể loại phim khác.\n",
    "    + Thể loại phim có ít bộ phim nhất là Musical, War và Western với ít hơn 50 bộ phim thuộc thể loại này. "
   ]
  },
  {
   "cell_type": "markdown",
   "metadata": {},
   "source": [
    "- Một số thông tin tham khảo có thể giải thích cho điều này:\n",
    "\n",
    "    - Thể loại kịch (Comedy, Drama): Kịch có thể đề cập đến rất nhiều chủ đề và vấn đề xã hội khác nhau, từ gia đình, tình yêu, mâu thuẫn cá nhân đến các vấn đề chính trị và xã hội. Nhờ đó, kịch dễ dàng kết nối với cảm xúc và trải nghiệm của khán giả. Ngoài ra, kịch có thể phục vụ cho nhiều độ tuổi và khẩu vị khác nhau bằng khả năng kết hợp tốt các thể loại khác. Các câu chuyện mang yếu tố này rất đa dạng và phù hợp với nhiều bối cảnh văn hóa khác nhau.\n",
    "\n",
    "    => Vì lý do đó, yếu tố kịch được các nhà làm phim chú trọng sản xuất nhiều nhất.\n",
    "\n",
    "    - Thể loại War, Sport: Phim chiến tranh thường tập trung vào các tình huống cụ thể xoay quanh xung đột vũ trang. Số lượng các cuộc chiến tranh lớn có thể khai thác là có hạn. Tương tự, những bộ phim về thể thao thường tập trung vào các sự kiện nhất định và có thể bị hạn chế về khía cạnh nội dung nếu không có một câu chuyện mạnh mẽ.\n",
    "\n",
    "    - Thể loại Music và Musical: Khó đáp ứng được thị hiếu của nhiều người vì không phải ai cũng thích nhạc và có khả năng cảm nhạc, do đó thị trường cho thể loại phim này thường bị hạn chế rất nhiều. \n",
    "\n",
    "    => Những lý do đó là thách thức của các nhà sản xuất theo đuổi lợi nhuận, cũng khó cho những người không có chuyên môn, vì vậy những thể loại này không phải là ưu tiên hàng đầu cho việc sản xuất.\n"
   ]
  },
  {
   "cell_type": "markdown",
   "metadata": {},
   "source": [
    "#### b) Điểm trung bình mỗi thể loại"
   ]
  },
  {
   "cell_type": "code",
   "execution_count": 106,
   "metadata": {},
   "outputs": [
    {
     "data": {
      "image/png": "[encoded data removed]",
      "text/plain": [
       "<Figure size 1000x600 with 1 Axes>"
      ]
     },
     "metadata": {},
     "output_type": "display_data"
    }
   ],
   "source": [
    "plt.figure(figsize=(10, 6))\n",
    "plt.barh(genre_most_movie['Genre'], genre_most_movie['Total Movie'], color='skyblue', edgecolor='black')\n",
    "plt.xlabel('Total Movie')\n",
    "plt.ylabel('Genre')\n",
    "plt.title('Total Movie by Genre')\n",
    "plt.show()"
   ]
  },
  {
   "cell_type": "markdown",
   "metadata": {},
   "source": [
    "Nhận xét:"
   ]
  },
  {
   "cell_type": "markdown",
   "metadata": {},
   "source": [
    "- Về điểm trung bình mỗi thể loại:\n",
    "    + Phổ điểm có sự chênh lệch nhưng không quá lớn, trải đều từ ~5.5 tới ~8 điểm.\n",
    "    + Các thể loại phim óc xếp hạng trung bình cao nhất là History và Biography với mức điểm trên 7 điểm. \n",
    "    + Thể loại có điểm thấp nhất là Musical, với điểm số ~5.5 điểm. "
   ]
  },
  {
   "cell_type": "markdown",
   "metadata": {},
   "source": [
    "#### 5. Insight"
   ]
  },
  {
   "cell_type": "markdown",
   "metadata": {},
   "source": [
    "Từ 2 trực quan trên, ta có thể rút ra được thông tin sau: \n",
    "\n",
    "+ Số lượng và chất lượng không tương quan mạnh mẽ: Mặc dù Drama là thể loại có số lượng phim lớn nhất, nhưng xếp hạng trung bình của nó chỉ ở mức khá (xếp thứ 4 trong biểu đồ bên trái). Ngược lại, các thể loại như History, Biography, và Sport tuy có số lượng phim thấp hơn nhưng lại có xếp hạng trung bình rất cao. Điều này cho thấy số lượng phim lớn không đảm bảo chất lượng của thể loại đó là tốt hay được ưa thích.\n",
    "\n",
    "+ Các thể loại ít nhưng chất lượng: Các thể loại như History, Biography và Sport thường hướng đến đối tượng khán giả cụ thể, nhưng nội dung có chiều sâu và ý nghĩa. Đây là các thể loại mà nhà sản xuất có thể tập trung đầu tư để tạo ra những bộ phim chất lượng, vì khán giả có xu hướng đánh giá cao.\n",
    "\n",
    "+ Các thể loại phổ biến nhưng chất lượng không quá tốt: Các yếu tố như Drama, Comedy, Documentary có xuất hiện trong rất nhiều bộ phim, nhưng đánh giá của thể loại này lại chỉ ở mức khá hoặc trung bình. Điều này có thể do các nhà làm phim không thể đáp ứng đủ yêu cầu của số lượng người xem quá lớn, có phần dễ dãi trong sản xuất, kịch bản khiến nhiều bộ phim có đánh giá thấp. \n",
    "\n",
    "+ Các thể loại không được đánh giá cao: Thể loại Sci-Fi, Horror và Musical vừa có xếp hạng trung bình thấp, vừa có số lượng phim ít. Điều này có thể phản ánh rằng các thể loại này chưa đáp ứng được kỳ vọng của khán giả, cũng như chưa được khai thác đúng cách.\n"
   ]
  },
  {
   "cell_type": "markdown",
   "metadata": {},
   "source": [
    "## CÂU 2: VÀO CÁC THỜI ĐIỂM TRONG NĂM (THÁNG/QUÝ) THÌ THỂ LOẠI PHIM NÀO ĐƯỢC RA MẮT NHIỀU NHẤT ? \n",
    "\n",
    "Trả lời câu hỏi này giúp chúng ta tìm hiểu về tương quan giữa thể loại và thời điểm nó được ra mắt, từ đó tìm hiểu về xu hướng phim theo các thời điểm đặc biệt trong năm (theo mùa / theo quý, theo dịp đặc biệt)."
   ]
  },
  {
   "cell_type": "markdown",
   "metadata": {},
   "source": [
    "Để trả lời câu hỏi này chúng ta sẽ sử dụng dữ liệu của cột **Released time** và 13 cột Thể loại để xác định top 5 thể loại ra mắt nhiều nhất vào từng thời điểm."
   ]
  },
  {
   "cell_type": "markdown",
   "metadata": {
    "vscode": {
     "languageId": "plaintext"
    }
   },
   "source": [
    "## Câu 3: Các phim thuộc thể loại nào có nhiều khả năng được đề cử hoặc giành giải thưởng nhất?"
   ]
  },
  {
   "cell_type": "markdown",
   "metadata": {},
   "source": [
    "Trả lời câu hỏi này: \n",
    "- Giúp các nhà làm phim tập trung sản xuất những nội dung phù hợp để tối đa hóa cơ hội thành công.\n",
    "- Giúp khán giả lựa chọn các bộ phim theo sở thích và tiềm năng chất lượng."
   ]
  },
  {
   "cell_type": "markdown",
   "metadata": {},
   "source": [
    "- Tính tổng số \"Win\" và \"Nomination\" theo từng thể loại.\n",
    "- Tính tỷ lệ giữa số phim giành giải và tổng số phim trong từng thể loại.\n",
    "- Biểu đồ để minh họa sự phân bố giải thưởng theo các thể loại như \"Drama\", \"Biography/History/War\", \"Animation\"..."
   ]
  },
  {
   "cell_type": "markdown",
   "metadata": {},
   "source": [
    "## Câu 4: Xếp hạng tuổi (Age rating) ảnh hưởng thế nào đến mức độ phổ biến (số lượt bình chọn IMDb Votes)?"
   ]
  },
  {
   "cell_type": "markdown",
   "metadata": {},
   "source": [
    "Trả lời câu hỏi này: \n",
    "- Hiểu tác động của đối tượng khán giả mục tiêu đến mức độ phổ biến của phim.\n",
    "- Giúp điều chỉnh nội dung phù hợp với đối tượng mục tiêu để tăng sức hút thị trường."
   ]
  },
  {
   "cell_type": "markdown",
   "metadata": {},
   "source": [
    "- Nhóm dữ liệu theo cột Age rating và tính trung bình số lượng IMDb Votes.\n",
    "- So sánh mức độ phổ biến giữa các nhóm tuổi khác nhau.\n",
    "- Có thể mở rộng để xem xét tương quan giữa Age rating và các yếu tố khác như IMDb Rating, thể loại."
   ]
  },
  {
   "cell_type": "markdown",
   "metadata": {},
   "source": [
    "## CÂU 5: Thời lượng phim (Runtime) ảnh hưởng như thế nào đến số lượng IMDb Votes và IMDb Rating?"
   ]
  },
  {
   "cell_type": "markdown",
   "metadata": {},
   "source": [
    "Thời lượng phim là một yếu tố khá quan trọng vì nó ảnh hưởng đến trải nghiệm của người xem. Thời lượng dài có thể giúp phim phát triển cốt truyện chi tiết hơn, nhưng cũng tiềm ẩn nhiều nguy cơ như có thể làm giảm hứng thú nếu không được xây dựng tốt và tốn kém nhân lực và nguồn lực vì cần đầu tư nhiều hơn.\n",
    "\n",
    "Trả lời câu hỏi này giúp chúng ta xác định thời lượng lý tưởng của một bộ phim để thu hút khán giả và đạt được điểm đánh giá cao.\n"
   ]
  },
  {
   "cell_type": "markdown",
   "metadata": {},
   "source": [
    "Để trả lời câu hỏi này ta sẽ sử dụng 3 cột là **Runtime, IDMb Votes** và **IMDb Rating**\n",
    "- Phân tích phân phối thời lượng phim.\n",
    "- Xem sự tương quan giữa **Runtime** và 2 đặc trưng còn lại.\n",
    "- Kiểm tra sự ảnh hưởng của thời lượng đến số lượt bình chọn và đánh giá. Liệu phim có thời lượng thế nào có xu hướng đạt được nhiều bình chọn hoặc đánh giá hơn không? "
   ]
  },
  {
   "cell_type": "markdown",
   "metadata": {},
   "source": [
    "## CÂU 6: Thể loại nào có xu hướng phát triển mạnh nhất qua các năm dựa trên số lượng phim phát hành?"
   ]
  },
  {
   "cell_type": "markdown",
   "metadata": {},
   "source": [
    "Khi theo dõi xu hướng thị trường thì số lượng phim phát hành qua các năm sẽ phản ảnh được sự phát triển của từng thể loại trong ngành điện ảnh. Từ đó, giúp ta dự đoán thể loại nào sẽ tiếp tục phát triển, có khả năng phát triển hay sẽ trở nên lỗi thời. \n",
    "\n",
    "Trả lời câu hỏi này giúp dự đoán xu hướng phát triển của ngành công nghiệp điện ảnh để định hướng đầu tư vào các thể loại tiềm năng trong tương lai."
   ]
  },
  {
   "cell_type": "markdown",
   "metadata": {},
   "source": [
    "Để trả lời câu hỏi này ta cần 2 cột là **Release time** và 13 cột thể loại\n",
    "- Tính tổng số lượng phim phát hành mỗi năm theo từng thể loại.\n",
    "- Trực quan hóa xu hướng của mỗi thể loại qua các năm để so sánh sự thay đổi về số lượng phim phát hành của từng thể loại.\n",
    "- Phân tích sự tăng trưởng hay suy giảm của từng thể loại để xác định thể loại nào tăng trưởng nhanh hay đang xuống dốc\n",
    "- Uớc tính số lượng phim phát hành của từng thể loại trong các năm tiếp theo."
   ]
  },
  {
   "cell_type": "markdown",
   "metadata": {},
   "source": [
    "## CÂU 7: Mối liên hệ giữa `IMDb Rating` và số phiếu đánh giá `IMDb Votes` là gì?"
   ]
  },
  {
   "cell_type": "markdown",
   "metadata": {},
   "source": [
    "Trả lời câu hỏi này sẽ giúp ta tìm hiểu mối quan hệ giữa `IMDb Rating` và `IMDb Votes` giúp phân tích liệu mức độ phổ biến (thông qua số lượng phiếu bầu) có ảnh hưởng đến chất lượng đánh giá hay không. Nếu có, điều này có thể giúp dự đoán phim nào sẽ được yêu thích hơn hoặc đạt rating cao hơn dựa trên xu hướng phiếu bầu."
   ]
  },
  {
   "cell_type": "markdown",
   "metadata": {},
   "source": [
    "Để trả lời câu hỏi này, cần sử dụng các cột: `IMDb Rating`, `IMDb Votes`\n",
    "\n",
    "Cách làm:\n",
    "- Vẽ biểu đồ scatter plot giữa 2 cột để trực quan hóa mối quan hệ\n",
    "- Tính hệ số tương quan để xác định mức độ ảnh hưởng"
   ]
  },
  {
   "cell_type": "markdown",
   "metadata": {},
   "source": [
    "## CÂU 8: Thể loại phim nào có xu hướng phù hợp với từng nhóm tuổi `Age rating`?"
   ]
  },
  {
   "cell_type": "markdown",
   "metadata": {},
   "source": [
    "Trả lời cho câu hỏi này giúp định hướng sản xuất phim phù hợp với các đối tượng khán giả khác nhau, tối ưu hóa nội dung và marketing theo độ tuổi."
   ]
  },
  {
   "cell_type": "markdown",
   "metadata": {},
   "source": [
    "Để trả lời câu hỏi này, ta cần sử dụng cột `Age rating` và 13 cột thể loại.\n",
    "\n",
    "Cách làm:\n",
    "- Nhóm dữ liệu theo `Age rating`\n",
    "- Đếm tần suất xuất hiện của từng thể loại trong mỗi nhóm tuổi\n",
    "- Tạo biểu đồ heatmap thể hiện mối quan hệ giữa nhóm tuổi và thể loại"
   ]
  },
  {
   "cell_type": "markdown",
   "metadata": {},
   "source": [
    "## CÂU 9: Khoảng thời lượng phim nào phổ biến nhất (ví dụ: 10–20 phút, 20–30 phút, ...) và số lượng phim trong khoảng đó là bao nhiêu?"
   ]
  },
  {
   "cell_type": "markdown",
   "metadata": {},
   "source": [
    "Trả lời câu hỏi này: \n",
    "- Giúp phân tích xu hướng về độ dài của phim, từ đó hiểu rõ hơn về sự lựa chọn phổ biến của các nhà sản xuất và thị hiếu khán giả.\n",
    "- Hữu ích cho các nhà làm phim khi lên kế hoạch sản xuất nếu họ muốn sản xuất phim phù hợp với xu hướng hiện tại."
   ]
  },
  {
   "cell_type": "markdown",
   "metadata": {},
   "source": [
    "## CÂU 10: Tháng nào trong năm được tổng số lượt bình chọn người dùng nhiều nhất?"
   ]
  },
  {
   "cell_type": "markdown",
   "metadata": {},
   "source": [
    "Trả lời câu hỏi này: \n",
    "- Xác định các tháng mà khán giả dành nhiều thời gian hơn để xem phim và bình chọn trên IMDb, từ đó phản ánh mức độ quan tâm của khán giả trong từng tháng\n",
    "- Giúp nhà sản xuất lên lịch phát hành phim vào các tháng có tương tác cao nhất, nhằm tối ưu hóa lượt xem và đánh giá"
   ]
  },
  {
   "cell_type": "markdown",
   "metadata": {},
   "source": []
  }
 ],
 "metadata": {
  "kernelspec": {
   "display_name": "min_ds-env2",
   "language": "python",
   "name": "python3"
  },
  "language_info": {
   "codemirror_mode": {
    "name": "ipython",
    "version": 3
   },
   "file_extension": ".py",
   "mimetype": "text/x-python",
   "name": "python",
   "nbconvert_exporter": "python",
   "pygments_lexer": "ipython3",
   "version": "3.10.15"
  }
 },
 "nbformat": 4,
 "nbformat_minor": 4
}
