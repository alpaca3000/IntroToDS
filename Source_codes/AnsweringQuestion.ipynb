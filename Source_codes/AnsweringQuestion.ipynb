{
 "cells": [
  {
   "cell_type": "markdown",
   "metadata": {},
   "source": [
    "# ANSWERING QUESTION\n",
    "---"
   ]
  },
  {
   "cell_type": "markdown",
   "metadata": {},
   "source": [
    "Nhiệm vụ phần này: Đặt các câu hỏi có ý nghĩa, giải thích tại sao cần trả lời câu hỏi này và phân tích để trả lời câu hỏi."
   ]
  },
  {
   "cell_type": "markdown",
   "metadata": {},
   "source": [
    "## CÂU 1: VỚI TỪNG THỂ LOẠI KHÁC NHAU THÌ ĐÁNH GIÁ CỦA KHÁN GIẢ KHÁC NHAU NHƯ THẾ NÀO ? \n",
    "\n",
    "Trả lời câu hỏi này giúp chúng ta tìm hiểu đánh giá của khán giả với từng thể loại phim khác nhau, từ đó phần nào diễn giáỉ sở thích, khẩu vị xem phim của họ. "
   ]
  },
  {
   "cell_type": "markdown",
   "metadata": {},
   "source": [
    "Để trả lời câu hỏi này chúng ta sẽ sử dụng dữ liệu của cột IMDb Ratings, IMDb Votes và 13 cột thể loại phim để tính đánh giá trung bình và số lượt bình chọn cho từng thể loại."
   ]
  },
  {
   "cell_type": "markdown",
   "metadata": {},
   "source": [
    "## CÂU 2: VÀO CÁC THỜI ĐIỂM TRONG NĂM (THÁNG/QUÝ) THÌ THỂ LOẠI PHIM NÀO ĐƯỢC RA MẮT NHIỀU NHẤT ? \n",
    "\n",
    "Trả lời câu hỏi này giúp chúng ta tìm hiểu về tương quan giữa thể loại và thời điểm nó được ra mắt, từ đó tìm hiểu về xu hướng phim theo các thời điểm đặc biệt trong năm (theo mùa / theo quý, theo dịp đặc biệt)."
   ]
  },
  {
   "cell_type": "markdown",
   "metadata": {},
   "source": [
    "Để trả lời câu hỏi này chúng ta sẽ sử dụng dữ liệu của cột **Released time** và 13 cột Thể loại để xác định top 5 thể loại ra mắt nhiều nhất vào từng thời điểm."
   ]
  },
  {
   "cell_type": "markdown",
   "metadata": {
    "vscode": {
     "languageId": "plaintext"
    }
   },
   "source": [
    "## Câu 3: Các phim thuộc thể loại nào có nhiều khả năng được đề cử hoặc giành giải thưởng nhất?"
   ]
  },
  {
   "cell_type": "markdown",
   "metadata": {},
   "source": [
    "Trả lời câu hỏi này: \n",
    "- Giúp các nhà làm phim tập trung sản xuất những nội dung phù hợp để tối đa hóa cơ hội thành công.\n",
    "- Giúp khán giả lựa chọn các bộ phim theo sở thích và tiềm năng chất lượng."
   ]
  },
  {
   "cell_type": "markdown",
   "metadata": {},
   "source": [
    "- Tính tổng số \"Win\" và \"Nomination\" theo từng thể loại.\n",
    "- Tính tỷ lệ giữa số phim giành giải và tổng số phim trong từng thể loại.\n",
    "- Biểu đồ để minh họa sự phân bố giải thưởng theo các thể loại như \"Drama\", \"Biography/History/War\", \"Animation\"..."
   ]
  },
  {
   "cell_type": "markdown",
   "metadata": {},
   "source": [
    "## Câu 4: Xếp hạng tuổi (Age rating) ảnh hưởng thế nào đến mức độ phổ biến (số lượt bình chọn IMDb Votes)?"
   ]
  },
  {
   "cell_type": "markdown",
   "metadata": {},
   "source": [
    "Trả lời câu hỏi này: \n",
    "- Hiểu tác động của đối tượng khán giả mục tiêu đến mức độ phổ biến của phim.\n",
    "- Giúp điều chỉnh nội dung phù hợp với đối tượng mục tiêu để tăng sức hút thị trường."
   ]
  },
  {
   "cell_type": "markdown",
   "metadata": {},
   "source": [
    "- Nhóm dữ liệu theo cột Age rating và tính trung bình số lượng IMDb Votes.\n",
    "- So sánh mức độ phổ biến giữa các nhóm tuổi khác nhau.\n",
    "- Có thể mở rộng để xem xét tương quan giữa Age rating và các yếu tố khác như IMDb Rating, thể loại."
   ]
  },
  {
   "cell_type": "markdown",
   "metadata": {},
   "source": [
    "## CÂU 5: "
   ]
  },
  {
   "cell_type": "markdown",
   "metadata": {},
   "source": []
  },
  {
   "cell_type": "markdown",
   "metadata": {},
   "source": []
  },
  {
   "cell_type": "markdown",
   "metadata": {},
   "source": [
    "## CÂU 6:"
   ]
  },
  {
   "cell_type": "markdown",
   "metadata": {},
   "source": []
  },
  {
   "cell_type": "markdown",
   "metadata": {},
   "source": []
  },
  {
   "cell_type": "markdown",
   "metadata": {},
   "source": [
    "## CÂU 7:"
   ]
  },
  {
   "cell_type": "markdown",
   "metadata": {},
   "source": []
  },
  {
   "cell_type": "markdown",
   "metadata": {},
   "source": []
  },
  {
   "cell_type": "markdown",
   "metadata": {},
   "source": [
    "## CÂU 8: "
   ]
  },
  {
   "cell_type": "markdown",
   "metadata": {},
   "source": []
  },
  {
   "cell_type": "markdown",
   "metadata": {},
   "source": []
  },
  {
   "cell_type": "markdown",
   "metadata": {},
   "source": [
    "## CÂU 9: Khoảng thời lượng phim nào phổ biến nhất (ví dụ: 10–20 phút, 20–30 phút, ...) và số lượng phim trong khoảng đó là bao nhiêu?"
   ]
  },
  {
   "cell_type": "markdown",
   "metadata": {},
   "source": [
    "Trả lời câu hỏi này: \n",
    "- Giúp phân tích xu hướng về độ dài của phim, từ đó hiểu rõ hơn về sự lựa chọn phổ biến của các nhà sản xuất và thị hiếu khán giả.\n",
    "- Hữu ích cho các nhà làm phim khi lên kế hoạch sản xuất nếu họ muốn sản xuất phim phù hợp với xu hướng hiện tại."
   ]
  },
  {
   "cell_type": "markdown",
   "metadata": {},
   "source": [
    "## CÂU 10: Tháng nào trong năm được tổng số lượt bình chọn người dùng nhiều nhất?"
   ]
  },
  {
   "cell_type": "markdown",
   "metadata": {},
   "source": [
    "Trả lời câu hỏi này: \n",
    "- Xác định các tháng mà khán giả dành nhiều thời gian hơn để xem phim và bình chọn trên IMDb, từ đó phản ánh mức độ quan tâm của khán giả trong từng tháng\n",
    "- Giúp nhà sản xuất lên lịch phát hành phim vào các tháng có tương tác cao nhất, nhằm tối ưu hóa lượt xem và đánh giá"
   ]
  },
  {
   "cell_type": "markdown",
   "metadata": {},
   "source": []
  }
 ],
 "metadata": {
  "kernelspec": {
   "display_name": "Python 3 (ipykernel)",
   "language": "python",
   "name": "python3"
  },
  "language_info": {
   "codemirror_mode": {
    "name": "ipython",
    "version": 3
   },
   "file_extension": ".py",
   "mimetype": "text/x-python",
   "name": "python",
   "nbconvert_exporter": "python",
   "pygments_lexer": "ipython3",
   "version": "3.12.4"
  }
 },
 "nbformat": 4,
 "nbformat_minor": 4
}
