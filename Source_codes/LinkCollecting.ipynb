{
 "cells": [
  {
   "cell_type": "markdown",
   "metadata": {},
   "source": [
    "# COLLECTING LINKS\n",
    "---"
   ]
  },
  {
   "cell_type": "markdown",
   "metadata": {},
   "source": [
    "Nhiệm vụ phần này: Thu thập đường dẫn tới các phim trong trang web `Just Watch` theo đường link cho trước và lưu lại vào file links.txt"
   ]
  },
  {
   "cell_type": "markdown",
   "metadata": {},
   "source": [
    "## IMPORT"
   ]
  },
  {
   "cell_type": "code",
   "execution_count": 1,
   "metadata": {},
   "outputs": [],
   "source": [
    "from selenium import webdriver\n",
    "from selenium.webdriver.common.by import By\n",
    "from selenium.webdriver.chrome.service import Service\n",
    "from webdriver_manager.chrome import ChromeDriverManager\n",
    "import time"
   ]
  },
  {
   "cell_type": "markdown",
   "metadata": {},
   "source": [
    "## THU THẬP ĐƯỜNG DẪN"
   ]
  },
  {
   "cell_type": "markdown",
   "metadata": {},
   "source": [
    "Từ đường link [Just Watch](https://www.justwatch.com/us?age_certifications=G,NC-17,PG,PG-13,R,UNRATED&release_year_from=2023&release_year_until=2024&sort_by=release_year) đã được lọc theo nhu cầu của chủ đề (phim điện ảnh được ra mắt trong giai đoạn 2023-2024 ở mọi phân loại độ tuổi khác nhau), tiến hành thu thập đường dẫn tới các trang web phim có trong link đó bằng cách sử dụng thư viện `Selenium` để thực hiện thao tác cuộn trang và truy xuất đường dẫn."
   ]
  },
  {
   "cell_type": "code",
   "execution_count": 2,
   "metadata": {},
   "outputs": [],
   "source": [
    "# Khởi tạo trình duyệt\n",
    "driver = webdriver.Chrome(service=Service(ChromeDriverManager().install()))\n",
    "\n",
    "# Truy cập trang JustWatch\n",
    "url = \"https://www.justwatch.com/us?age_certifications=G,NC-17,PG,PG-13,R,UNRATED&release_year_from=2023&release_year_until=2024&sort_by=release_year\"\n",
    "driver.get(url)\n",
    "\n",
    "# Cấu hình thời gian chờ giữa mỗi lần cuộn\n",
    "scroll_pause_time = 2\n",
    "seen_movies = set()  # Tập hợp để lưu trữ liên kết đã cào\n",
    "\n",
    "# Mở file để ghi imdbId\n",
    "with open(\"links.txt\", \"a\") as file:\n",
    "    # Cuộn và cào dữ liệu theo từng phần\n",
    "    last_height = driver.execute_script(\"return document.body.scrollHeight\")\n",
    "\n",
    "    while True:\n",
    "        # Lấy các liên kết phim mới sau khi cuộn\n",
    "        movie_links = driver.find_elements(By.CSS_SELECTOR, \"a.title-list-grid__item--link\")\n",
    "\n",
    "        for link in movie_links:\n",
    "            movie_url = link.get_attribute(\"href\")\n",
    "            if movie_url not in seen_movies:\n",
    "                seen_movies.add(movie_url)\n",
    "                \n",
    "                # Lưu vào danh sách và ghi vào file\n",
    "                file.write(movie_url + \"\\n\")  # Ghi ngay vào file\n",
    "                file.flush()  # Đảm bảo ghi vào đĩa\n",
    "\n",
    "        # Cuộn xuống cuối trang\n",
    "        driver.execute_script(\"window.scrollTo(0, document.body.scrollHeight);\")\n",
    "        time.sleep(scroll_pause_time)\n",
    "\n",
    "        # Kiểm tra chiều cao của trang, nếu không thay đổi thì đã đến cuối trang\n",
    "        new_height = driver.execute_script(\"return document.body.scrollHeight\")\n",
    "        if new_height == last_height:\n",
    "            break\n",
    "        last_height = new_height\n",
    "\n",
    "# Đóng trình duyệt\n",
    "driver.quit()"
   ]
  }
 ],
 "metadata": {
  "kernelspec": {
   "display_name": "min_ds-env2",
   "language": "python",
   "name": "python3"
  },
  "language_info": {
   "codemirror_mode": {
    "name": "ipython",
    "version": 3
   },
   "file_extension": ".py",
   "mimetype": "text/x-python",
   "name": "python",
   "nbconvert_exporter": "python",
   "pygments_lexer": "ipython3",
   "version": "3.10.15"
  }
 },
 "nbformat": 4,
 "nbformat_minor": 2
}
