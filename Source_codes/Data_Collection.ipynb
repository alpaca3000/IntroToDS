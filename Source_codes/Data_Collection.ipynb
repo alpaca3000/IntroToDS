{
 "cells": [
  {
   "cell_type": "markdown",
   "metadata": {},
   "source": [
    "# COLLECTING DATA\n",
    "---"
   ]
  },
  {
   "cell_type": "markdown",
   "metadata": {},
   "source": [
    "Nhiệm vụ của phần này là thực hiện lấy dữ liệu từ thông tin imdbid và title trong file ids_titles.txt."
   ]
  },
  {
   "cell_type": "markdown",
   "metadata": {},
   "source": [
    "## 1. IMPORT THƯ VIỆN CẦN THIẾT"
   ]
  },
  {
   "cell_type": "code",
   "execution_count": 1,
   "metadata": {},
   "outputs": [],
   "source": [
    "import pandas as pd\n",
    "import time\n",
    "import os\n",
    "import requests\n",
    "from bs4 import BeautifulSoup\n",
    "import re"
   ]
  },
  {
   "cell_type": "markdown",
   "metadata": {},
   "source": [
    "## 2. THAY ĐỔI PHIÊN LÀM VIỆC"
   ]
  },
  {
   "cell_type": "code",
   "execution_count": 2,
   "metadata": {},
   "outputs": [],
   "source": [
    "# chia 3 ra nha mina hong no k cho minh lay :D\n",
    "# từ từ để ngâm cú chứ nhìn này trông cx hơi ngu :v\n",
    "member_part = {\n",
    "    \"Trinh\": {\n",
    "        \"part\": 1,\n",
    "        \"api_key\": None # đk api xong áp vô nè\n",
    "    },\n",
    "\n",
    "    \"Thi\": {\n",
    "        \"part\": 2,\n",
    "        \"api_key\": None # đk api xong áp vô nè\n",
    "    },\n",
    "\n",
    "    \"MinhUyen\": {\n",
    "        \"part\": 3,\n",
    "        \"api_key\": 'd4c83dec'\n",
    "    } \n",
    "}"
   ]
  },
  {
   "cell_type": "code",
   "execution_count": 3,
   "metadata": {},
   "outputs": [],
   "source": [
    "# Điền tên mn vào đây theo từ điển nè\n",
    "info = member_part[\"MinhUyen\"]\n",
    "\n",
    "part = info[\"part\"]\n",
    "apiKey = info[\"api_key\"]"
   ]
  },
  {
   "cell_type": "markdown",
   "metadata": {},
   "source": [
    "## 3. ĐỌC DỮ LIỆU ĐƯỢC THU THẬP TRƯỚC ĐÓ ĐỂ TÌM KIẾM THÊM"
   ]
  },
  {
   "cell_type": "code",
   "execution_count": 12,
   "metadata": {},
   "outputs": [],
   "source": [
    "file_name = f\"../Data/pre_data_part{part}.csv\""
   ]
  },
  {
   "cell_type": "code",
   "execution_count": 15,
   "metadata": {},
   "outputs": [
    {
     "data": {
      "text/plain": [
       "Id/Title        object\n",
       "Release year     int64\n",
       "Age rating      object\n",
       "Runtime         object\n",
       "Genre           object\n",
       "dtype: object"
      ]
     },
     "execution_count": 15,
     "metadata": {},
     "output_type": "execute_result"
    }
   ],
   "source": [
    "pre_data = pd.read_csv(file_name)\n",
    "pre_data.dtypes"
   ]
  },
  {
   "cell_type": "markdown",
   "metadata": {},
   "source": [
    "## 4. HÀM LẤY DỮ LIỆU CỦA TRANG `OMDB API`"
   ]
  },
  {
   "cell_type": "markdown",
   "metadata": {},
   "source": [
    "Hàm này trả về link từ id hoặc tiêu đề phim"
   ]
  },
  {
   "cell_type": "code",
   "execution_count": 16,
   "metadata": {},
   "outputs": [],
   "source": [
    "def convert_url(item: str, year:int,  key = apiKey):\n",
    "    if item.startswith(\"tt\"):\n",
    "        url = f'https://www.omdbapi.com/?i={item}&apikey={key}'\n",
    "    else: \n",
    "        title = item.split(\":\")[-1].strip() # lấy tên sau :\n",
    "        title = re.sub(r'[^a-zA-Z0-9\\s]', '', title) # xóa kí tự đặc biệt\n",
    "        title = '+'.join(title.split(' ')) # thêm dấu + giữa các từ\n",
    "        url = f'https://www.omdbapi.com/?t={title}&y={year}&apikey={key}'\n",
    "\n",
    "    return url"
   ]
  },
  {
   "cell_type": "markdown",
   "metadata": {},
   "source": [
    "Hàm này thì thu thập dữ liệu"
   ]
  },
  {
   "cell_type": "code",
   "execution_count": 28,
   "metadata": {},
   "outputs": [],
   "source": [
    "def collectMovieData(pre_data, key = apiKey):\n",
    "    full_title = []\n",
    "    full_rated = []\n",
    "    released_time = []\n",
    "    full_runtime = []\n",
    "    full_genre = []\n",
    "    metaScore = []\n",
    "    rating = []\n",
    "    vote = []\n",
    "    boxOffice = []\n",
    "    language = []\n",
    "    award = []\n",
    "\n",
    "    items = pre_data['Id/Title']\n",
    "    release_year = pre_data['Release year']\n",
    "    genre = pre_data['Genre']\n",
    "    age_rating = pre_data['Age rating']\n",
    "    runtime = pre_data['Runtime']\n",
    "\n",
    "    for i in range(len(items)):\n",
    "        print(f\"[LOG]: Collecting data of {items[i]}\")\n",
    "        url = convert_url(items[i], year = release_year[i], key=key)\n",
    "        trying = 1\n",
    "\n",
    "        while True:    \n",
    "            respond = requests.get(url)\n",
    "            if respond.status_code == 200:\n",
    "                data = respond.json()\n",
    "                if data.get(\"Response\") == \"False\": # bỏ qua những phim không thể tim thấy trong trang\n",
    "                    break\n",
    "\n",
    "                full_title.append(data.get('Title', 'N/A'))\n",
    "                \n",
    "                full_rated.append(data.get('Rated', age_rating[i]))\n",
    "\n",
    "                released_time.append(data.get('Released', release_year[i]))\n",
    "\n",
    "                full_runtime.append(data.get('Runtime', runtime[i]))\n",
    "                \n",
    "                full_genre.append(data.get('Genre', genre[i]))\n",
    "                    \n",
    "                metaScore.append(data.get('Metascore', 'N/A'))\n",
    "                rating.append(data.get('imdbRating', 'N/A'))\n",
    "                vote.append(data.get('imdbVotes', 'N/A'))\n",
    "                boxOffice.append(data.get('BoxOffice', 'N/A'))\n",
    "                language.append(data.get('Language', 'N/A'))\n",
    "                award.append(data.get('Awards', 'N/A'))\n",
    "                break\n",
    "                \n",
    "            else:\n",
    "                trying += 1\n",
    "                if trying > 3:\n",
    "                    print(f\"Request fail after 3 retries with code {respond.status_code}\")\n",
    "\n",
    "                time.sleep(2)\n",
    "\n",
    "    movieDataframe = pd.DataFrame({\n",
    "            \"Title\": full_title,\n",
    "            \"Release time\": released_time,\n",
    "            \"Age rating\": full_rated,\n",
    "            \"Runtime\": full_runtime,\n",
    "            \"Genre\": full_genre,\n",
    "            \"Lanuage\": language,\n",
    "            \"Awards\": award,\n",
    "            \"Metascore\": metaScore,\n",
    "            \"IMDb Rating\": rating,\n",
    "            \"IMDb Votes\": vote,\n",
    "            \"Domestic Revenue\": boxOffice\n",
    "        })\n",
    "\n",
    "    return movieDataframe"
   ]
  },
  {
   "cell_type": "markdown",
   "metadata": {},
   "source": [
    "này là thu thập dữ liệu nè"
   ]
  },
  {
   "cell_type": "code",
   "execution_count": 29,
   "metadata": {},
   "outputs": [
    {
     "name": "stdout",
     "output_type": "stream",
     "text": [
      "[LOG]: Collecting data of tt28097834\n",
      "[LOG]: Collecting data of tt10651230\n",
      "[LOG]: Collecting data of The Burial\n",
      "[LOG]: Collecting data of tt21807222\n",
      "[LOG]: Collecting data of tt23334616\n"
     ]
    },
    {
     "data": {
      "text/html": [
       "<div>\n",
       "<style scoped>\n",
       "    .dataframe tbody tr th:only-of-type {\n",
       "        vertical-align: middle;\n",
       "    }\n",
       "\n",
       "    .dataframe tbody tr th {\n",
       "        vertical-align: top;\n",
       "    }\n",
       "\n",
       "    .dataframe thead th {\n",
       "        text-align: right;\n",
       "    }\n",
       "</style>\n",
       "<table border=\"1\" class=\"dataframe\">\n",
       "  <thead>\n",
       "    <tr style=\"text-align: right;\">\n",
       "      <th></th>\n",
       "      <th>Title</th>\n",
       "      <th>Release time</th>\n",
       "      <th>Age rating</th>\n",
       "      <th>Runtime</th>\n",
       "      <th>Genre</th>\n",
       "      <th>Lanuage</th>\n",
       "      <th>Awards</th>\n",
       "      <th>Metascore</th>\n",
       "      <th>IMDb Rating</th>\n",
       "      <th>IMDb Votes</th>\n",
       "      <th>Domestic Revenue</th>\n",
       "    </tr>\n",
       "  </thead>\n",
       "  <tbody>\n",
       "    <tr>\n",
       "      <th>0</th>\n",
       "      <td>The Mission</td>\n",
       "      <td>08 Dec 2023</td>\n",
       "      <td>PG-13</td>\n",
       "      <td>103 min</td>\n",
       "      <td>Documentary</td>\n",
       "      <td>English</td>\n",
       "      <td>11 nominations</td>\n",
       "      <td>N/A</td>\n",
       "      <td>6.4</td>\n",
       "      <td>1,075</td>\n",
       "      <td>$58,377</td>\n",
       "    </tr>\n",
       "    <tr>\n",
       "      <th>1</th>\n",
       "      <td>The Peasants</td>\n",
       "      <td>13 Oct 2023</td>\n",
       "      <td>R</td>\n",
       "      <td>114 min</td>\n",
       "      <td>Animation, Drama, History</td>\n",
       "      <td>Polish, Latin</td>\n",
       "      <td>10 wins &amp; 19 nominations</td>\n",
       "      <td>N/A</td>\n",
       "      <td>7.6</td>\n",
       "      <td>6,678</td>\n",
       "      <td>$155,188</td>\n",
       "    </tr>\n",
       "    <tr>\n",
       "      <th>2</th>\n",
       "      <td>The Burial</td>\n",
       "      <td>13 Oct 2023</td>\n",
       "      <td>R</td>\n",
       "      <td>126 min</td>\n",
       "      <td>Drama</td>\n",
       "      <td>English</td>\n",
       "      <td>2 wins &amp; 4 nominations</td>\n",
       "      <td>N/A</td>\n",
       "      <td>7.1</td>\n",
       "      <td>37,620</td>\n",
       "      <td>N/A</td>\n",
       "    </tr>\n",
       "    <tr>\n",
       "      <th>3</th>\n",
       "      <td>Saw X</td>\n",
       "      <td>29 Sep 2023</td>\n",
       "      <td>R</td>\n",
       "      <td>118 min</td>\n",
       "      <td>Horror, Mystery, Thriller</td>\n",
       "      <td>English, Spanish</td>\n",
       "      <td>15 nominations</td>\n",
       "      <td>N/A</td>\n",
       "      <td>6.6</td>\n",
       "      <td>84,301</td>\n",
       "      <td>$53,607,898</td>\n",
       "    </tr>\n",
       "    <tr>\n",
       "      <th>4</th>\n",
       "      <td>Last Call for Istanbul</td>\n",
       "      <td>24 Nov 2023</td>\n",
       "      <td>TV-MA</td>\n",
       "      <td>91 min</td>\n",
       "      <td>Drama, Romance</td>\n",
       "      <td>Turkish</td>\n",
       "      <td>1 win</td>\n",
       "      <td>N/A</td>\n",
       "      <td>5.3</td>\n",
       "      <td>9,358</td>\n",
       "      <td>N/A</td>\n",
       "    </tr>\n",
       "  </tbody>\n",
       "</table>\n",
       "</div>"
      ],
      "text/plain": [
       "                    Title Release time Age rating  Runtime  \\\n",
       "0             The Mission  08 Dec 2023      PG-13  103 min   \n",
       "1            The Peasants  13 Oct 2023          R  114 min   \n",
       "2              The Burial  13 Oct 2023          R  126 min   \n",
       "3                   Saw X  29 Sep 2023          R  118 min   \n",
       "4  Last Call for Istanbul  24 Nov 2023      TV-MA   91 min   \n",
       "\n",
       "                       Genre           Lanuage                    Awards  \\\n",
       "0                Documentary           English            11 nominations   \n",
       "1  Animation, Drama, History     Polish, Latin  10 wins & 19 nominations   \n",
       "2                      Drama           English    2 wins & 4 nominations   \n",
       "3  Horror, Mystery, Thriller  English, Spanish            15 nominations   \n",
       "4             Drama, Romance           Turkish                     1 win   \n",
       "\n",
       "  Metascore IMDb Rating IMDb Votes Domestic Revenue  \n",
       "0       N/A         6.4      1,075          $58,377  \n",
       "1       N/A         7.6      6,678         $155,188  \n",
       "2       N/A         7.1     37,620              N/A  \n",
       "3       N/A         6.6     84,301      $53,607,898  \n",
       "4       N/A         5.3      9,358              N/A  "
      ]
     },
     "execution_count": 29,
     "metadata": {},
     "output_type": "execute_result"
    }
   ],
   "source": [
    "df1 = collectMovieData(pre_data, key=apiKey)\n",
    "df1"
   ]
  },
  {
   "cell_type": "markdown",
   "metadata": {},
   "source": [
    "## 4. LƯU DỮ LIỆU THÔ VÀO FILE CSV"
   ]
  },
  {
   "cell_type": "code",
   "execution_count": 30,
   "metadata": {},
   "outputs": [],
   "source": [
    "file_name = f\"../Data/movie_data_part{str(part)}.csv\"\n",
    "df1.to_csv(file_name)"
   ]
  }
 ],
 "metadata": {
  "kernelspec": {
   "display_name": "min_ds-env2",
   "language": "python",
   "name": "python3"
  },
  "language_info": {
   "codemirror_mode": {
    "name": "ipython",
    "version": 3
   },
   "file_extension": ".py",
   "mimetype": "text/x-python",
   "name": "python",
   "nbconvert_exporter": "python",
   "pygments_lexer": "ipython3",
   "version": "3.10.15"
  }
 },
 "nbformat": 4,
 "nbformat_minor": 2
}
