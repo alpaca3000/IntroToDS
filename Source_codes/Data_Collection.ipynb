{
 "cells": [
  {
   "cell_type": "markdown",
   "metadata": {},
   "source": [
    "# COLLECTING DATA\n",
    "---"
   ]
  },
  {
   "cell_type": "markdown",
   "metadata": {},
   "source": [
    "Nhiệm vụ của phần này là thực hiện lấy dữ liệu từ thông tin imdbid và title trong file ids_titles.txt."
   ]
  },
  {
   "cell_type": "markdown",
   "metadata": {},
   "source": [
    "## 1. IMPORT THƯ VIỆN CẦN THIẾT"
   ]
  },
  {
   "cell_type": "code",
   "execution_count": 32,
   "metadata": {},
   "outputs": [],
   "source": [
    "import pandas as pd\n",
    "import time\n",
    "import os\n",
    "import requests\n",
    "from bs4 import BeautifulSoup\n",
    "import re"
   ]
  },
  {
   "cell_type": "markdown",
   "metadata": {},
   "source": [
    "## 2. HÀM LẤY DỮ LIỆU CỦA TRANG `OMDB API`"
   ]
  },
  {
   "cell_type": "markdown",
   "metadata": {},
   "source": [
    "Phần dưới này để đổi thông tin người thực hiện"
   ]
  },
  {
   "cell_type": "code",
   "execution_count": 35,
   "metadata": {},
   "outputs": [],
   "source": [
    "# chia 3 ra nha mina hong no k cho minh lay :D\n",
    "# từ từ để ngâm cú chứ nhìn này trông cx hơi ngu :v\n",
    "member_part = {\n",
    "    \"Trinh\": {\n",
    "        \"part\": 1,\n",
    "        \"api_key\": None, # đk api xong áp vô nè\n",
    "        \"start\": 0,\n",
    "        \"end\": 628\n",
    "    },\n",
    "\n",
    "    \"Thi\": {\n",
    "        \"part\": 2,\n",
    "        \"api_key\": None, # đk api xong áp vô nè\n",
    "        \"start\": 808,\n",
    "        \"end\": 1258\n",
    "    },\n",
    "\n",
    "    \"MinhUyen\": {\n",
    "        \"part\": 3,\n",
    "        \"api_key\": 'd4c83dec',\n",
    "        \"start\": 1259,\n",
    "        \"end\": 1887\n",
    "    } \n",
    "}"
   ]
  },
  {
   "cell_type": "code",
   "execution_count": 36,
   "metadata": {},
   "outputs": [],
   "source": [
    "# Điền tên mn vào đây theo từ điển nè\n",
    "info = member_part[\"MinhUyen\"]\n",
    "\n",
    "part = info[\"part\"]\n",
    "apiKey = info[\"api_key\"]\n",
    "start = info[\"start\"]\n",
    "end = info[\"end\"]"
   ]
  },
  {
   "cell_type": "markdown",
   "metadata": {},
   "source": [
    "Hàm này trả về link từ id hoặc tiêu đề phim"
   ]
  },
  {
   "cell_type": "code",
   "execution_count": 58,
   "metadata": {},
   "outputs": [],
   "source": [
    "def convert_url(item: str):\n",
    "    if item.startswith(\"tt\"):\n",
    "        url = f'https://www.omdbapi.com/?i={item}&apikey={key}'\n",
    "    else: \n",
    "        title = item.split(' __ ')[0]\n",
    "        match = re.search(r':(.*)', title)\n",
    "        if match:\n",
    "            title = match.group(1)\n",
    "            title = re.sub(r'[^a-zA-Z0-9\\s]', '', title)\n",
    "            \n",
    "        year = item.split(' __ ')[1]\n",
    "        title = '+'.join(title.split(' '))\n",
    "        url = f'https://www.omdbapi.com/?t={title}&y={year}&apikey={apiKey}'\n",
    "\n",
    "    return url"
   ]
  },
  {
   "cell_type": "markdown",
   "metadata": {},
   "source": [
    "Hàm này thì thu thập dữ liệu"
   ]
  },
  {
   "cell_type": "code",
   "execution_count": null,
   "metadata": {},
   "outputs": [],
   "source": [
    "def collectMovieData(imdbIds_titles, key = 0, start = 0, end = 0):\n",
    "    title = []\n",
    "    rated = []\n",
    "    released = []\n",
    "    runtime = []\n",
    "    genre = []\n",
    "    metaScore = []\n",
    "    rating = []\n",
    "    vote = []\n",
    "    boxCffice = []\n",
    "\n",
    "    for item in imdbIds_titles[start:end]:\n",
    "        print(f\"[LOG]: Collecting data of {item}\")\n",
    "        url = convert_url(item)\n",
    "        trying = 1\n",
    "\n",
    "        while True:    \n",
    "            respond = requests.get(url)\n",
    "            if respond.status_code == 200:\n",
    "                data = respond.json()\n",
    "                if data.get(\"Response\") == \"False\": # bỏ qua những phim không thể tim thấy trong trang\n",
    "                    break\n",
    "\n",
    "                title.append(data['Title'])\n",
    "                rated.append(data['Rated'])\n",
    "                released.append(data['Released'])\n",
    "                runtime.append(data['Runtime'])\n",
    "                genre.append(data['Genre'])\n",
    "                metaScore.append(data['Metascore'])\n",
    "                rating.append(data['imdbRating'])\n",
    "                vote.append(data['imdbVotes'])\n",
    "                boxCffice.append(data['BoxOffice'])\n",
    "                break\n",
    "                \n",
    "            else:\n",
    "                trying += 1\n",
    "                if trying > 3:\n",
    "                    print(f\"Request fail after 3 retries with code {respond.status_code}\")\n",
    "\n",
    "                time.sleep(1)\n",
    "\n",
    "    movieDataframe = pd.DataFrame({\n",
    "            \"Title\": title,\n",
    "            \"Rated\": rated,\n",
    "            \"Released\": released,\n",
    "            \"Runtime\": runtime,\n",
    "            \"Genre\": genre,\n",
    "            \"Metascore\": metaScore,\n",
    "            \"IMDb Rating\": rating,\n",
    "            \"IMDb Votes\": vote,\n",
    "            \"Domestic Revenue\": boxCffice\n",
    "\n",
    "        })\n",
    "\n",
    "    return movieDataframe"
   ]
  },
  {
   "cell_type": "markdown",
   "metadata": {},
   "source": [
    "Phần này lấy các title và id"
   ]
  },
  {
   "cell_type": "code",
   "execution_count": null,
   "metadata": {},
   "outputs": [],
   "source": [
    "ids_titles = []\n",
    "\n",
    "with open('../Data/ids_title.txt', 'r') as f:\n",
    "    ids_titles = [line.strip() for line in f]"
   ]
  },
  {
   "cell_type": "markdown",
   "metadata": {},
   "source": [
    "này là thu thập dữ liệu nè"
   ]
  },
  {
   "cell_type": "code",
   "execution_count": null,
   "metadata": {},
   "outputs": [],
   "source": [
    "df1 = collectMovieData(ids_titles, key=apiKey)\n",
    "df1"
   ]
  },
  {
   "cell_type": "markdown",
   "metadata": {},
   "source": [
    "## 3. LƯU DỮ LIỆU THÔ VÀO FILE CSV"
   ]
  },
  {
   "cell_type": "code",
   "execution_count": null,
   "metadata": {},
   "outputs": [],
   "source": [
    "file_name = os.path.join(\"./Data/\", f\"raw_movie_data_{str(part)}.csv\")\n",
    "df1.to_csv(file_name)"
   ]
  }
 ],
 "metadata": {
  "language_info": {
   "name": "python"
  }
 },
 "nbformat": 4,
 "nbformat_minor": 2
}
