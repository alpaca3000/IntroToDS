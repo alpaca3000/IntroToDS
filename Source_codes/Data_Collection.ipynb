{
 "cells": [
  {
   "cell_type": "markdown",
   "metadata": {},
   "source": [
    "# DATA COLLECTION\n",
    "---"
   ]
  },
  {
   "cell_type": "markdown",
   "metadata": {},
   "source": [
    "Nhiệm vụ phần này: từ danh sách các đường dẫn phim của trang web `Just Watch`, thực hiện cào thông tin **imdbId** trong đường dẫn và dùng **imdbId** đó để cào thông tin của phim đó trong trang web `OMDB` bằng api."
   ]
  },
  {
   "cell_type": "markdown",
   "metadata": {},
   "source": [
    "## 1. IMPORT THƯ VIỆN CẦN THIẾT"
   ]
  },
  {
   "cell_type": "code",
   "execution_count": 9,
   "metadata": {},
   "outputs": [],
   "source": [
    "import requests\n",
    "from bs4 import BeautifulSoup\n",
    "import time\n",
    "import pandas as pd\n",
    "import os\n",
    "from selenium import webdriver\n",
    "from selenium.webdriver.chrome.service import Service\n",
    "from webdriver_manager.chrome import ChromeDriverManager\n",
    "from selenium.webdriver.common.by import By\n",
    "import re"
   ]
  },
  {
   "cell_type": "markdown",
   "metadata": {},
   "source": [
    "## 2. HÀM CÀO THÔNG TIN IMDBID TRONG TRANG `JUST WATCH`"
   ]
  },
  {
   "cell_type": "code",
   "execution_count": 8,
   "metadata": {},
   "outputs": [],
   "source": [
    "links = []\n",
    "\n",
    "with open('../Data/links.txt', 'r') as f:\n",
    "    links = [line.strip() for line in f]"
   ]
  },
  {
   "cell_type": "markdown",
   "metadata": {},
   "source": [
    "Dùng selenium thoi vì request k được"
   ]
  },
  {
   "cell_type": "code",
   "execution_count": 13,
   "metadata": {},
   "outputs": [],
   "source": [
    "# chia 3 ra nha mina hong no k cho minh lay :D\n",
    "# từ từ để ngâm cú chứ nhìn này trông cx hơi ngu :v\n",
    "member_part = {\n",
    "    \"Trinh\": {\n",
    "        \"part\": 1,\n",
    "        \"api_key\": None, # đk api xong áp vô nè\n",
    "        \"start\": 0,\n",
    "        \"end\": 628\n",
    "    },\n",
    "\n",
    "    \"Thi\": {\n",
    "        \"part\": 2,\n",
    "        \"api_key\": None, # đk api xong áp vô nè\n",
    "        \"start\": 808,\n",
    "        \"end\": 1258\n",
    "    },\n",
    "\n",
    "    \"MinhUyen\": {\n",
    "        \"part\": 3,\n",
    "        \"api_key\": 'd4c83dec',\n",
    "        \"start\": 1259,\n",
    "        \"end\": 1887\n",
    "    } \n",
    "}"
   ]
  },
  {
   "cell_type": "code",
   "execution_count": 14,
   "metadata": {},
   "outputs": [
    {
     "name": "stdout",
     "output_type": "stream",
     "text": [
      "3\n",
      "d4c83dec\n",
      "1259\n",
      "1887\n"
     ]
    }
   ],
   "source": [
    "# Điền tên mn vào đây theo từ điển nè\n",
    "info = member_part[\"MinhUyen\"]\n",
    "\n",
    "part = info[\"part\"]\n",
    "apiKey = info[\"api_key\"]\n",
    "start = info[\"start\"]\n",
    "end = info[\"end\"]\n",
    "\n",
    "print(part)\n",
    "print(apiKey)\n",
    "print(start)\n",
    "print(end)"
   ]
  },
  {
   "cell_type": "code",
   "execution_count": 26,
   "metadata": {},
   "outputs": [],
   "source": [
    "def collect_imdbID_title(links, start, end):\n",
    "    driver = webdriver.Chrome(service=Service(ChromeDriverManager().install()))\n",
    "\n",
    "    imdbIds_titles = []\n",
    "    for url in links[start: end]:\n",
    "        print(f\"[LOG]: parse imdbid of url {url}\")\n",
    "        driver.get(url)\n",
    "        page_source = driver.page_source\n",
    "\n",
    "        imdb_id_match = re.search(r'\"imdbId\":\"(tt\\d+)\"', page_source)\n",
    "        if imdb_id_match:\n",
    "            imdb_id = imdb_id_match.group(1)\n",
    "            imdbIds_titles.append(imdb_id)\n",
    "            print(\"IMDB ID:\", imdb_id)\n",
    "        else:\n",
    "            # print(\"Không tìm thấy IMDb ID.\")\n",
    "            movie_title_meta = driver.find_element(By.XPATH, \"//meta[@property='og:title']\")\n",
    "            movie_title = movie_title_meta.get_attribute(\"content\").split(\" streaming\")[0] if movie_title_meta else \"Null\"\n",
    "            imdbIds_titles.append(movie_title)\n",
    "            print(movie_title)\n",
    "\n",
    "        time.sleep(3)\n",
    "\n",
    "    driver.quit()\n",
    "\n",
    "    return imdbIds_titles"
   ]
  },
  {
   "cell_type": "code",
   "execution_count": 27,
   "metadata": {},
   "outputs": [
    {
     "name": "stdout",
     "output_type": "stream",
     "text": [
      "[LOG]: parse imdbid of url https://www.justwatch.com/us/movie/goon-squad\n",
      "[LOG]: parse imdbid of url https://www.justwatch.com/us/movie/the-phantom-warrior\n",
      "[LOG]: parse imdbid of url https://www.justwatch.com/us/movie/beyond-the-lake\n"
     ]
    },
    {
     "data": {
      "text/plain": [
       "['tt21625056', 'tt13830348', 'tt21608540']"
      ]
     },
     "execution_count": 27,
     "metadata": {},
     "output_type": "execute_result"
    }
   ],
   "source": [
    "imdbIds_titles = collect_imdbID_title(links, start=start, end=end)\n",
    "imdbIds_titles"
   ]
  },
  {
   "cell_type": "markdown",
   "metadata": {},
   "source": [
    "## 3. HÀM LẤY DỮ LIỆU TỪ API CỦA TRANG `OMDB`"
   ]
  },
  {
   "cell_type": "code",
   "execution_count": null,
   "metadata": {},
   "outputs": [],
   "source": [
    "def collectMovieData(imdbIds, key = 0):\n",
    "    title = []\n",
    "    rated = []\n",
    "    released = []\n",
    "    runtime = []\n",
    "    genre = []\n",
    "    metaScore = []\n",
    "    rating = []\n",
    "    vote = []\n",
    "    boxCffice = []\n",
    "\n",
    "    for id in imdbIds:\n",
    "        if id is not \"Null\":\n",
    "            print(f\"[LOG]: Collecting data of IMDbId {id}\")\n",
    "\n",
    "            url = f'https://www.omdbapi.com/?i={id}&apikey={key}'\n",
    "            trying = 1\n",
    "\n",
    "            while True:    \n",
    "                respond = requests.get(url)\n",
    "                if respond.status_code == 200:\n",
    "                    data = respond.json()\n",
    "                    title.append(data['Title'])\n",
    "                    rated.append(data['Rated'])\n",
    "                    released.append(data['Released'])\n",
    "                    runtime.append(data['Runtime'])\n",
    "                    genre.append(data['Genre'])\n",
    "                    metaScore.append(data['Metascore'])\n",
    "                    rating.append(data['imdbRating'])\n",
    "                    vote.append(data['imdbVotes'])\n",
    "                    boxCffice.append(data['BoxOffice'])\n",
    "                    break\n",
    "                    \n",
    "                else:\n",
    "                    trying += 1\n",
    "                    if trying > 3:\n",
    "                        print(f\"Request fail after 3 retries with code {respond.status_code}\")\n",
    "\n",
    "                    time.sleep(1)\n",
    "\n",
    "    movieDataframe = pd.DataFrame({\n",
    "            \"Title\": title,\n",
    "            \"Rated\": rated,\n",
    "            \"Released\": released,\n",
    "            \"Runtime\": runtime,\n",
    "            \"Genre\": genre,\n",
    "            \"Metascore\": metaScore,\n",
    "            \"IMDb Rating\": rating,\n",
    "            \"IMDb Votes\": vote,\n",
    "            \"Domestic Revenue\": boxCffice\n",
    "\n",
    "        })\n",
    "\n",
    "    return movieDataframe"
   ]
  },
  {
   "cell_type": "code",
   "execution_count": null,
   "metadata": {},
   "outputs": [],
   "source": [
    "df1 = collectMovieData(imdbIds_titles, key=apiKey)\n",
    "df1"
   ]
  },
  {
   "cell_type": "code",
   "execution_count": 22,
   "metadata": {},
   "outputs": [
    {
     "name": "stdout",
     "output_type": "stream",
     "text": [
      "./Data/raw_movie_data_3.csv\n"
     ]
    }
   ],
   "source": [
    "print(os.path.join(\"./Data/\", f\"raw_movie_data_{str(part)}.csv\"))"
   ]
  },
  {
   "cell_type": "code",
   "execution_count": null,
   "metadata": {},
   "outputs": [],
   "source": [
    "# Lưu file đây nhé\n",
    "file_name = os.path.join(\"./Data/\", f\"raw_movie_data_{str(part)}.csv\")\n",
    "df1.to_csv(file_name)"
   ]
  }
 ],
 "metadata": {
  "kernelspec": {
   "display_name": "min_ds-env2",
   "language": "python",
   "name": "python3"
  },
  "language_info": {
   "codemirror_mode": {
    "name": "ipython",
    "version": 3
   },
   "file_extension": ".py",
   "mimetype": "text/x-python",
   "name": "python",
   "nbconvert_exporter": "python",
   "pygments_lexer": "ipython3",
   "version": "3.10.15"
  }
 },
 "nbformat": 4,
 "nbformat_minor": 2
}
