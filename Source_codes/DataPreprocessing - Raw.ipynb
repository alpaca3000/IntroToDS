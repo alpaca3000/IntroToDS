{
 "cells": [
  {
   "cell_type": "markdown",
   "metadata": {},
   "source": [
    "# DATA PREPROCESSING\n",
    "---"
   ]
  },
  {
   "cell_type": "markdown",
   "metadata": {},
   "source": [
    "Nhiệm vụ của phần này là tổng hợp và tiền xử lý dữ liệu đã được thu thập"
   ]
  },
  {
   "cell_type": "markdown",
   "metadata": {},
   "source": [
    "#### IMPORT"
   ]
  },
  {
   "cell_type": "code",
   "execution_count": 1,
   "metadata": {},
   "outputs": [],
   "source": [
    "import pandas as pd\n",
    "import matplotlib.pyplot as plt\n",
    "import seaborn as sn"
   ]
  },
  {
   "cell_type": "markdown",
   "metadata": {},
   "source": [
    "#### ĐỌC DỮ LIỆU"
   ]
  },
  {
   "cell_type": "code",
   "execution_count": 2,
   "metadata": {},
   "outputs": [],
   "source": [
    "data_1 = pd.read_csv('../IntroToDS/Data/movie_data_part1.csv')\n",
    "data_2 = pd.read_csv('../IntroToDS/Data/movie_data_part2.csv')\n",
    "data_3 = pd.read_csv('../IntroToDS/Data/movie_data_part3.csv')"
   ]
  },
  {
   "cell_type": "markdown",
   "metadata": {},
   "source": [
    "#### Kiểm tra trước khi tổng hợp\n",
    "Kiểm tra xem cả 3 file có giống nhau về đặc trưng hay không"
   ]
  },
  {
   "cell_type": "code",
   "execution_count": 3,
   "metadata": {},
   "outputs": [
    {
     "name": "stdout",
     "output_type": "stream",
     "text": [
      "Các tệp có sự khác biệt trong đặc trưng:\n",
      "- Tệp 2 và tệp 3\n",
      "{'Unnamed: 0'}\n",
      "- Tệp 3 và tệp 1\n",
      "{'Unnamed: 0'}\n"
     ]
    }
   ],
   "source": [
    "def DacTrungGiongNhau(df1, df2, df3):\n",
    "    columns_1 = df1.columns.tolist()\n",
    "    columns_2 = df2.columns.tolist()\n",
    "    columns_3 = df3.columns.tolist()\n",
    "\n",
    "    if columns_1 == columns_2 == columns_3:\n",
    "        print(\"Cả 3 tệp có các đặc trưng giống nhau\")\n",
    "    else:\n",
    "        print(\"Các tệp có sự khác biệt trong đặc trưng:\")\n",
    "        if columns_1 != columns_2:\n",
    "            print(f\"- Tệp 1 và tệp 2\")\n",
    "            print(set(columns_1).symmetric_difference(columns_2))\n",
    "        if columns_2 != columns_3:\n",
    "            print(f\"- Tệp 2 và tệp 3\")\n",
    "            print(set(columns_2).symmetric_difference(columns_3))\n",
    "        if columns_1 != columns_3:\n",
    "            print(f\"- Tệp 3 và tệp 1\")\n",
    "            print(set(columns_3).symmetric_difference(columns_1))\n",
    "\n",
    "DacTrungGiongNhau(data_1, data_2, data_3)"
   ]
  },
  {
   "cell_type": "markdown",
   "metadata": {},
   "source": [
    "Cột không có tên nằm trong tệp 1 và tệp 2 chỉ là cột số thứ tự của các dòng dữ liệu, ta có thể loại bỏ"
   ]
  },
  {
   "cell_type": "code",
   "execution_count": 4,
   "metadata": {},
   "outputs": [],
   "source": [
    "data_1 = data_1.iloc[:, 1:]\n",
    "data_2 = data_2.iloc[:, 1:]"
   ]
  },
  {
   "cell_type": "markdown",
   "metadata": {},
   "source": [
    "Kiểm tra lại"
   ]
  },
  {
   "cell_type": "code",
   "execution_count": 5,
   "metadata": {},
   "outputs": [
    {
     "name": "stdout",
     "output_type": "stream",
     "text": [
      "Cả 3 tệp có các đặc trưng giống nhau\n"
     ]
    }
   ],
   "source": [
    "DacTrungGiongNhau(data_1, data_2, data_3)"
   ]
  },
  {
   "cell_type": "markdown",
   "metadata": {},
   "source": [
    "#### Tổng hợp các tệp"
   ]
  },
  {
   "cell_type": "code",
   "execution_count": null,
   "metadata": {},
   "outputs": [
    {
     "data": {
      "text/html": [
       "<div>\n",
       "<style scoped>\n",
       "    .dataframe tbody tr th:only-of-type {\n",
       "        vertical-align: middle;\n",
       "    }\n",
       "\n",
       "    .dataframe tbody tr th {\n",
       "        vertical-align: top;\n",
       "    }\n",
       "\n",
       "    .dataframe thead th {\n",
       "        text-align: right;\n",
       "    }\n",
       "</style>\n",
       "<table border=\"1\" class=\"dataframe\">\n",
       "  <thead>\n",
       "    <tr style=\"text-align: right;\">\n",
       "      <th></th>\n",
       "      <th>Title</th>\n",
       "      <th>Release time</th>\n",
       "      <th>Age rating</th>\n",
       "      <th>Runtime</th>\n",
       "      <th>Genre</th>\n",
       "      <th>Lanuage</th>\n",
       "      <th>Awards</th>\n",
       "      <th>Metascore</th>\n",
       "      <th>IMDb Rating</th>\n",
       "      <th>IMDb Votes</th>\n",
       "      <th>Domestic Revenue</th>\n",
       "    </tr>\n",
       "  </thead>\n",
       "  <tbody>\n",
       "    <tr>\n",
       "      <th>0</th>\n",
       "      <td>Goon Squad</td>\n",
       "      <td>18 Jan 2024</td>\n",
       "      <td>NC-17</td>\n",
       "      <td>1h 23min</td>\n",
       "      <td>Crime</td>\n",
       "      <td>English</td>\n",
       "      <td>NaN</td>\n",
       "      <td>NaN</td>\n",
       "      <td>NaN</td>\n",
       "      <td>NaN</td>\n",
       "      <td>NaN</td>\n",
       "    </tr>\n",
       "    <tr>\n",
       "      <th>1</th>\n",
       "      <td>The Phantom Warrior</td>\n",
       "      <td>20 Feb 2024</td>\n",
       "      <td>R</td>\n",
       "      <td>1h 23min</td>\n",
       "      <td>Adventure, Fantasy, Sci-Fi</td>\n",
       "      <td>English</td>\n",
       "      <td>NaN</td>\n",
       "      <td>NaN</td>\n",
       "      <td>2.6</td>\n",
       "      <td>532</td>\n",
       "      <td>NaN</td>\n",
       "    </tr>\n",
       "    <tr>\n",
       "      <th>2</th>\n",
       "      <td>Beyond the Lake</td>\n",
       "      <td>26 Jan 2024</td>\n",
       "      <td>G</td>\n",
       "      <td>1h 38min</td>\n",
       "      <td>Comedy</td>\n",
       "      <td>English</td>\n",
       "      <td>NaN</td>\n",
       "      <td>NaN</td>\n",
       "      <td>NaN</td>\n",
       "      <td>31</td>\n",
       "      <td>NaN</td>\n",
       "    </tr>\n",
       "    <tr>\n",
       "      <th>3</th>\n",
       "      <td>Crimes of Fashion: Killer Clutch</td>\n",
       "      <td>15 Mar 2024</td>\n",
       "      <td>PG</td>\n",
       "      <td>1h 24min</td>\n",
       "      <td>Crime, Drama, Mystery</td>\n",
       "      <td>English, French</td>\n",
       "      <td>NaN</td>\n",
       "      <td>NaN</td>\n",
       "      <td>5.8</td>\n",
       "      <td>503</td>\n",
       "      <td>NaN</td>\n",
       "    </tr>\n",
       "    <tr>\n",
       "      <th>4</th>\n",
       "      <td>Love on the Danube: Love Song</td>\n",
       "      <td>10 Sep 2024</td>\n",
       "      <td>G</td>\n",
       "      <td>1h 24min</td>\n",
       "      <td>Romance</td>\n",
       "      <td>English</td>\n",
       "      <td>NaN</td>\n",
       "      <td>NaN</td>\n",
       "      <td>5.8</td>\n",
       "      <td>175</td>\n",
       "      <td>NaN</td>\n",
       "    </tr>\n",
       "  </tbody>\n",
       "</table>\n",
       "</div>"
      ],
      "text/plain": [
       "                              Title Release time Age rating   Runtime  \\\n",
       "0                        Goon Squad  18 Jan 2024      NC-17  1h 23min   \n",
       "1               The Phantom Warrior  20 Feb 2024          R  1h 23min   \n",
       "2                   Beyond the Lake  26 Jan 2024          G  1h 38min   \n",
       "3  Crimes of Fashion: Killer Clutch  15 Mar 2024         PG  1h 24min   \n",
       "4     Love on the Danube: Love Song  10 Sep 2024          G  1h 24min   \n",
       "\n",
       "                        Genre          Lanuage Awards  Metascore  IMDb Rating  \\\n",
       "0                       Crime          English    NaN        NaN          NaN   \n",
       "1  Adventure, Fantasy, Sci-Fi          English    NaN        NaN          2.6   \n",
       "2                      Comedy          English    NaN        NaN          NaN   \n",
       "3       Crime, Drama, Mystery  English, French    NaN        NaN          5.8   \n",
       "4                     Romance          English    NaN        NaN          5.8   \n",
       "\n",
       "  IMDb Votes Domestic Revenue  \n",
       "0        NaN              NaN  \n",
       "1        532              NaN  \n",
       "2         31              NaN  \n",
       "3        503              NaN  \n",
       "4        175              NaN  "
      ]
     },
     "execution_count": 13,
     "metadata": {},
     "output_type": "execute_result"
    }
   ],
   "source": [
    "data = pd.concat([data_1, data_2, data_3], ignore_index=True)\n",
    "data.head() # Xem trước dữ liệu"
   ]
  },
  {
   "cell_type": "markdown",
   "metadata": {},
   "source": [
    "### 1. Dữ liệu có bao nhiêu dòng, cột"
   ]
  },
  {
   "cell_type": "code",
   "execution_count": 8,
   "metadata": {},
   "outputs": [
    {
     "data": {
      "text/plain": [
       "(1796, 11)"
      ]
     },
     "execution_count": 8,
     "metadata": {},
     "output_type": "execute_result"
    }
   ],
   "source": [
    "data.shape"
   ]
  },
  {
   "cell_type": "markdown",
   "metadata": {},
   "source": [
    "### 2. Thông tin về các dòng dữ liệu"
   ]
  },
  {
   "cell_type": "markdown",
   "metadata": {},
   "source": [
    "### 2.1 Ý nghĩa từng dòng dữ liệu\n",
    "Ý nghĩa là:..."
   ]
  },
  {
   "cell_type": "markdown",
   "metadata": {},
   "source": [
    "### 2.2 Kiểm tra các dòng dữ liệu trùng lặp"
   ]
  },
  {
   "cell_type": "code",
   "execution_count": null,
   "metadata": {},
   "outputs": [],
   "source": [
    "# Kiểm tra trùng lặp"
   ]
  },
  {
   "cell_type": "markdown",
   "metadata": {},
   "source": [
    "Đưa kết luận có trùng lặp không, nếu có thì thêm cell để xử lý"
   ]
  },
  {
   "cell_type": "markdown",
   "metadata": {},
   "source": [
    "### 3. Thông tin về các cột dữ liệu\n",
    "Dữ liệu có các cột sau"
   ]
  },
  {
   "cell_type": "code",
   "execution_count": 11,
   "metadata": {},
   "outputs": [
    {
     "data": {
      "text/plain": [
       "Index(['Title', 'Release time', 'Age rating', 'Runtime', 'Genre', 'Lanuage',\n",
       "       'Awards', 'Metascore', 'IMDb Rating', 'IMDb Votes', 'Domestic Revenue'],\n",
       "      dtype='object')"
      ]
     },
     "execution_count": 11,
     "metadata": {},
     "output_type": "execute_result"
    }
   ],
   "source": [
    "data.columns"
   ]
  },
  {
   "cell_type": "markdown",
   "metadata": {},
   "source": [
    "### 3.1 Ý nghĩa của các cột dữ liệu"
   ]
  },
  {
   "cell_type": "markdown",
   "metadata": {},
   "source": [
    "Ý nghĩa là:..."
   ]
  },
  {
   "cell_type": "markdown",
   "metadata": {},
   "source": [
    "### 3.2 Kiểm tra kiểu dữ liệu của mỗi cột\n",
    "Kiểu dữ liệu hiện tại của các cột"
   ]
  },
  {
   "cell_type": "code",
   "execution_count": 16,
   "metadata": {},
   "outputs": [
    {
     "data": {
      "text/plain": [
       "Title                object\n",
       "Release time         object\n",
       "Age rating           object\n",
       "Runtime              object\n",
       "Genre                object\n",
       "Lanuage              object\n",
       "Awards               object\n",
       "Metascore           float64\n",
       "IMDb Rating         float64\n",
       "IMDb Votes           object\n",
       "Domestic Revenue     object\n",
       "dtype: object"
      ]
     },
     "execution_count": 16,
     "metadata": {},
     "output_type": "execute_result"
    }
   ],
   "source": [
    "column_types = data.dtypes\n",
    "column_types"
   ]
  },
  {
   "cell_type": "markdown",
   "metadata": {},
   "source": [
    "Nhận xét:...\n",
    "\n",
    "Nếu có thay đổi chỉnh sửa thì thêm cell, xử lý luôn nếu bị sai định dạng"
   ]
  },
  {
   "cell_type": "code",
   "execution_count": null,
   "metadata": {},
   "outputs": [],
   "source": [
    "# Chuyển runtime, awards, \n",
    "# metascore, IMDb Rating, IMDb Vote, Domestic Revenue thành định tính"
   ]
  },
  {
   "cell_type": "markdown",
   "metadata": {},
   "source": [
    "### 3.3. Sự phân bố dữ liệu của các cột có kiểu định lượng\n",
    "Các cột có dữ liệu định lượng"
   ]
  },
  {
   "cell_type": "code",
   "execution_count": 15,
   "metadata": {},
   "outputs": [
    {
     "name": "stdout",
     "output_type": "stream",
     "text": [
      "Numberical columns: \n"
     ]
    }
   ],
   "source": [
    "numerical_columns = data.select_dtypes(include=['int64']).columns.tolist()\n",
    "print('Numberical columns: ')\n",
    "for col_name in numerical_columns:\n",
    "    print(col_name)"
   ]
  },
  {
   "cell_type": "markdown",
   "metadata": {},
   "source": [
    "Sự phân bố dữ liệu"
   ]
  },
  {
   "cell_type": "code",
   "execution_count": null,
   "metadata": {},
   "outputs": [],
   "source": [
    "# Vẽ biểu đồ"
   ]
  },
  {
   "cell_type": "markdown",
   "metadata": {},
   "source": [
    "#### 3.3.1 Tỉ lệ phần trăm các giá trị bị thiếu trong mỗi cột"
   ]
  },
  {
   "cell_type": "code",
   "execution_count": null,
   "metadata": {},
   "outputs": [],
   "source": [
    "# Tính tỉ lệ phần trăm các giá trị bị thiếu\n"
   ]
  },
  {
   "cell_type": "code",
   "execution_count": null,
   "metadata": {},
   "outputs": [],
   "source": [
    "# Xử lý giá trị bị thiếu (điền giá trị thay thế, ước lượng,...)"
   ]
  },
  {
   "cell_type": "markdown",
   "metadata": {},
   "source": [
    "#### 3.3.2 Tính toán các giá trị thống kê\n"
   ]
  },
  {
   "cell_type": "markdown",
   "metadata": {},
   "source": [
    "Với mỗi cột có kiểu dữ liệu định lượng, chúng em thực hiện tính toán các giá trị thống kê cơ bản sau:\n",
    "- Min \n",
    "- Max\n",
    "- Mean\n",
    "- Mod\n",
    "- Median"
   ]
  },
  {
   "cell_type": "code",
   "execution_count": null,
   "metadata": {},
   "outputs": [],
   "source": [
    "# Thêm các cell tính toán và xử lý"
   ]
  },
  {
   "cell_type": "markdown",
   "metadata": {},
   "source": [
    "#### 3.3.3 Xử lý dữ liệu lỗi hoặc bất thường"
   ]
  },
  {
   "cell_type": "code",
   "execution_count": null,
   "metadata": {},
   "outputs": [],
   "source": []
  },
  {
   "cell_type": "markdown",
   "metadata": {},
   "source": [
    "#### 3.3.5 Chuẩn hóa dữ liệu nếu cần"
   ]
  },
  {
   "cell_type": "code",
   "execution_count": null,
   "metadata": {},
   "outputs": [],
   "source": []
  },
  {
   "cell_type": "markdown",
   "metadata": {},
   "source": [
    "### 3.4 Sự phân bố dữ liệu của các cột có kiểu định tính\n",
    "Các cột có kiểu dữ liệu định tính"
   ]
  },
  {
   "cell_type": "code",
   "execution_count": 14,
   "metadata": {},
   "outputs": [
    {
     "name": "stdout",
     "output_type": "stream",
     "text": [
      "Categorical columns: \n",
      "Title\n",
      "Release time\n",
      "Age rating\n",
      "Runtime\n",
      "Genre\n",
      "Lanuage\n",
      "Awards\n",
      "IMDb Votes\n",
      "Domestic Revenue\n"
     ]
    }
   ],
   "source": [
    "categorical_columns = data.select_dtypes(include=['object', 'bool']).columns.tolist()\n",
    "print('Categorical columns: ')\n",
    "for col_name in categorical_columns:\n",
    "    print(col_name)"
   ]
  },
  {
   "cell_type": "markdown",
   "metadata": {},
   "source": [
    "#### 3.4.1 Số giá trị phân biệt của mỗi cột"
   ]
  },
  {
   "cell_type": "code",
   "execution_count": null,
   "metadata": {},
   "outputs": [],
   "source": [
    "# Tính toán sự phân bố giá trị"
   ]
  },
  {
   "cell_type": "markdown",
   "metadata": {},
   "source": [
    "#### 3.4.2 Tỉ lệ phần trăm các giá trị bị thiếu trong mỗi cột"
   ]
  },
  {
   "cell_type": "code",
   "execution_count": null,
   "metadata": {},
   "outputs": [],
   "source": [
    "# Tính toán giá trị bị thiếu\n",
    "# Vẽ thêm biểu đồ gì đó\n",
    "# Xử lý giá trị bị thiếu"
   ]
  },
  {
   "cell_type": "markdown",
   "metadata": {},
   "source": [
    "#### 3.4.3 Dữ liệu lỗi hoặc bất thường"
   ]
  },
  {
   "cell_type": "markdown",
   "metadata": {},
   "source": [
    "#### 3.4.4 Xử lý dữ liệu phân loại"
   ]
  },
  {
   "cell_type": "markdown",
   "metadata": {},
   "source": [
    "#### 3.4.5 Xử lý dữ liệu sai định dạng"
   ]
  },
  {
   "cell_type": "markdown",
   "metadata": {},
   "source": [
    "Sau các bước tiền xử lý, ta thực hiện lưu dataframe này vào 1 file mới và thực hiện phân tích trên file này."
   ]
  },
  {
   "cell_type": "code",
   "execution_count": null,
   "metadata": {},
   "outputs": [],
   "source": [
    "data.to_csv('../IntroToDS/Data/movie_data.csv', index=False)"
   ]
  }
 ],
 "metadata": {
  "kernelspec": {
   "display_name": "Python 3",
   "language": "python",
   "name": "python3"
  },
  "language_info": {
   "codemirror_mode": {
    "name": "ipython",
    "version": 3
   },
   "file_extension": ".py",
   "mimetype": "text/x-python",
   "name": "python",
   "nbconvert_exporter": "python",
   "pygments_lexer": "ipython3",
   "version": "3.11.9"
  }
 },
 "nbformat": 4,
 "nbformat_minor": 2
}
