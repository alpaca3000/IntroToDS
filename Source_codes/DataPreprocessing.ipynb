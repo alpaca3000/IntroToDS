{
 "cells": [
  {
   "cell_type": "markdown",
   "metadata": {},
   "source": [
    "# EXPLORING DATA\n",
    "---"
   ]
  },
  {
   "cell_type": "markdown",
   "metadata": {},
   "source": [
    "Nhiệm vụ của phần này là tổng hợp, làm sạch và phân tích dữ liệu đã được thu thập"
   ]
  },
  {
   "cell_type": "markdown",
   "metadata": {},
   "source": [
    "## IMPORT"
   ]
  },
  {
   "cell_type": "code",
   "execution_count": 236,
   "metadata": {},
   "outputs": [],
   "source": [
    "import pandas as pd\n",
    "import matplotlib.pyplot as plt\n",
    "import seaborn as sns"
   ]
  },
  {
   "cell_type": "markdown",
   "metadata": {},
   "source": [
    "## TỔNG HỢP DỮ LIỆU"
   ]
  },
  {
   "cell_type": "markdown",
   "metadata": {},
   "source": [
    "### 1. Đọc dữ liệu"
   ]
  },
  {
   "cell_type": "code",
   "execution_count": null,
   "metadata": {},
   "outputs": [],
   "source": [
    "# Đọc dữ liệu từ 3 tệp\n",
    "data_1 = pd.read_csv('../IntroToDS/Data/movie_data_part1.csv')\n",
    "data_2 = pd.read_csv('../IntroToDS/Data/movie_data_part2.csv')\n",
    "data_3 = pd.read_csv('../IntroToDS/Data/movie_data_part3.csv')"
   ]
  },
  {
   "cell_type": "markdown",
   "metadata": {},
   "source": [
    "### 2. Kiểm tra trước khi tổng hợp\n",
    "Kiểm tra xem cả 3 tệp có giống nhau về đặc trưng hay không"
   ]
  },
  {
   "cell_type": "code",
   "execution_count": 239,
   "metadata": {},
   "outputs": [],
   "source": [
    "# Hàm kiểm tra xem các tệp có giống nhau về đặc trưng\n",
    "def check_feature_similarity(df1, df2, df3):\n",
    "    columns_1 = df1.columns.tolist()\n",
    "    columns_2 = df2.columns.tolist()\n",
    "    columns_3 = df3.columns.tolist()\n",
    "\n",
    "    if columns_1 == columns_2 == columns_3:\n",
    "        print(\"The features are identical\")\n",
    "    else:\n",
    "        print(\"The features are not identical:\")\n",
    "        if columns_1 != columns_2:\n",
    "            print(f\"- File 1 and File 2\")\n",
    "            print(set(columns_1).symmetric_difference(columns_2))\n",
    "        if columns_2 != columns_3:\n",
    "            print(f\"- File 2 and File 3\")\n",
    "            print(set(columns_2).symmetric_difference(columns_3))\n",
    "        if columns_1 != columns_3:\n",
    "            print(f\"- File 3 and File 1\")\n",
    "            print(set(columns_3).symmetric_difference(columns_1))"
   ]
  },
  {
   "cell_type": "code",
   "execution_count": 240,
   "metadata": {},
   "outputs": [
    {
     "name": "stdout",
     "output_type": "stream",
     "text": [
      "The features are not identical:\n",
      "- File 2 and File 3\n",
      "{'Unnamed: 0'}\n",
      "- File 3 and File 1\n",
      "{'Unnamed: 0'}\n"
     ]
    }
   ],
   "source": [
    "# TEST\n",
    "check_feature_similarity(data_1, data_2, data_3)"
   ]
  },
  {
   "cell_type": "markdown",
   "metadata": {},
   "source": [
    "Cột không có tên nằm trong tệp 1 và tệp 2 chỉ là cột số thứ tự của các dòng dữ liệu, ta có thể loại bỏ"
   ]
  },
  {
   "cell_type": "code",
   "execution_count": 241,
   "metadata": {},
   "outputs": [],
   "source": [
    "data_1 = data_1.iloc[:, 1:]\n",
    "data_2 = data_2.iloc[:, 1:]"
   ]
  },
  {
   "cell_type": "code",
   "execution_count": 242,
   "metadata": {},
   "outputs": [
    {
     "name": "stdout",
     "output_type": "stream",
     "text": [
      "The features are identical\n"
     ]
    }
   ],
   "source": [
    "# TEST\n",
    "check_feature_similarity(data_1, data_2, data_3)"
   ]
  },
  {
   "cell_type": "markdown",
   "metadata": {},
   "source": [
    "Các đặc trưng của dữ liệu trong 3 tệp đã khớp với nhau"
   ]
  },
  {
   "cell_type": "markdown",
   "metadata": {},
   "source": [
    "### 3. Tổng hợp các tệp"
   ]
  },
  {
   "cell_type": "code",
   "execution_count": 243,
   "metadata": {},
   "outputs": [],
   "source": [
    "data = pd.concat([data_1, data_2, data_3], ignore_index=True)"
   ]
  },
  {
   "cell_type": "markdown",
   "metadata": {},
   "source": [
    "Biến data chứa dữ liệu sau khi tổng hợp"
   ]
  },
  {
   "cell_type": "code",
   "execution_count": 244,
   "metadata": {},
   "outputs": [
    {
     "data": {
      "text/html": [
       "<div>\n",
       "<style scoped>\n",
       "    .dataframe tbody tr th:only-of-type {\n",
       "        vertical-align: middle;\n",
       "    }\n",
       "\n",
       "    .dataframe tbody tr th {\n",
       "        vertical-align: top;\n",
       "    }\n",
       "\n",
       "    .dataframe thead th {\n",
       "        text-align: right;\n",
       "    }\n",
       "</style>\n",
       "<table border=\"1\" class=\"dataframe\">\n",
       "  <thead>\n",
       "    <tr style=\"text-align: right;\">\n",
       "      <th></th>\n",
       "      <th>Title</th>\n",
       "      <th>Release time</th>\n",
       "      <th>Age rating</th>\n",
       "      <th>Runtime</th>\n",
       "      <th>Genre</th>\n",
       "      <th>Lanuage</th>\n",
       "      <th>Awards</th>\n",
       "      <th>Metascore</th>\n",
       "      <th>IMDb Rating</th>\n",
       "      <th>IMDb Votes</th>\n",
       "      <th>Domestic Revenue</th>\n",
       "    </tr>\n",
       "  </thead>\n",
       "  <tbody>\n",
       "    <tr>\n",
       "      <th>0</th>\n",
       "      <td>Goon Squad</td>\n",
       "      <td>18 Jan 2024</td>\n",
       "      <td>NC-17</td>\n",
       "      <td>1h 23min</td>\n",
       "      <td>Crime</td>\n",
       "      <td>English</td>\n",
       "      <td>NaN</td>\n",
       "      <td>NaN</td>\n",
       "      <td>NaN</td>\n",
       "      <td>NaN</td>\n",
       "      <td>NaN</td>\n",
       "    </tr>\n",
       "    <tr>\n",
       "      <th>1</th>\n",
       "      <td>The Phantom Warrior</td>\n",
       "      <td>20 Feb 2024</td>\n",
       "      <td>R</td>\n",
       "      <td>1h 23min</td>\n",
       "      <td>Adventure, Fantasy, Sci-Fi</td>\n",
       "      <td>English</td>\n",
       "      <td>NaN</td>\n",
       "      <td>NaN</td>\n",
       "      <td>2.60</td>\n",
       "      <td>532</td>\n",
       "      <td>NaN</td>\n",
       "    </tr>\n",
       "    <tr>\n",
       "      <th>2</th>\n",
       "      <td>Beyond the Lake</td>\n",
       "      <td>26 Jan 2024</td>\n",
       "      <td>G</td>\n",
       "      <td>1h 38min</td>\n",
       "      <td>Comedy</td>\n",
       "      <td>English</td>\n",
       "      <td>NaN</td>\n",
       "      <td>NaN</td>\n",
       "      <td>NaN</td>\n",
       "      <td>31</td>\n",
       "      <td>NaN</td>\n",
       "    </tr>\n",
       "    <tr>\n",
       "      <th>3</th>\n",
       "      <td>Crimes of Fashion: Killer Clutch</td>\n",
       "      <td>15 Mar 2024</td>\n",
       "      <td>PG</td>\n",
       "      <td>1h 24min</td>\n",
       "      <td>Crime, Drama, Mystery</td>\n",
       "      <td>English, French</td>\n",
       "      <td>NaN</td>\n",
       "      <td>NaN</td>\n",
       "      <td>5.80</td>\n",
       "      <td>503</td>\n",
       "      <td>NaN</td>\n",
       "    </tr>\n",
       "    <tr>\n",
       "      <th>4</th>\n",
       "      <td>Love on the Danube: Love Song</td>\n",
       "      <td>10 Sep 2024</td>\n",
       "      <td>G</td>\n",
       "      <td>1h 24min</td>\n",
       "      <td>Romance</td>\n",
       "      <td>English</td>\n",
       "      <td>NaN</td>\n",
       "      <td>NaN</td>\n",
       "      <td>5.80</td>\n",
       "      <td>175</td>\n",
       "      <td>NaN</td>\n",
       "    </tr>\n",
       "  </tbody>\n",
       "</table>\n",
       "</div>"
      ],
      "text/plain": [
       "                              Title Release time Age rating   Runtime  \\\n",
       "0                        Goon Squad  18 Jan 2024      NC-17  1h 23min   \n",
       "1               The Phantom Warrior  20 Feb 2024          R  1h 23min   \n",
       "2                   Beyond the Lake  26 Jan 2024          G  1h 38min   \n",
       "3  Crimes of Fashion: Killer Clutch  15 Mar 2024         PG  1h 24min   \n",
       "4     Love on the Danube: Love Song  10 Sep 2024          G  1h 24min   \n",
       "\n",
       "                        Genre          Lanuage Awards  Metascore  IMDb Rating  \\\n",
       "0                       Crime          English    NaN        NaN          NaN   \n",
       "1  Adventure, Fantasy, Sci-Fi          English    NaN        NaN         2.60   \n",
       "2                      Comedy          English    NaN        NaN          NaN   \n",
       "3       Crime, Drama, Mystery  English, French    NaN        NaN         5.80   \n",
       "4                     Romance          English    NaN        NaN         5.80   \n",
       "\n",
       "  IMDb Votes Domestic Revenue  \n",
       "0        NaN              NaN  \n",
       "1        532              NaN  \n",
       "2         31              NaN  \n",
       "3        503              NaN  \n",
       "4        175              NaN  "
      ]
     },
     "execution_count": 244,
     "metadata": {},
     "output_type": "execute_result"
    }
   ],
   "source": [
    "data.head()"
   ]
  },
  {
   "cell_type": "markdown",
   "metadata": {},
   "source": [
    "## LÀM SẠCH VÀ PHÂN TÍCH DỮ LIỆU"
   ]
  },
  {
   "cell_type": "markdown",
   "metadata": {},
   "source": [
    "### 1. Dữ liệu có bao nhiêu dòng, cột"
   ]
  },
  {
   "cell_type": "code",
   "execution_count": 245,
   "metadata": {},
   "outputs": [
    {
     "data": {
      "text/plain": [
       "(1796, 11)"
      ]
     },
     "execution_count": 245,
     "metadata": {},
     "output_type": "execute_result"
    }
   ],
   "source": [
    "data.shape"
   ]
  },
  {
   "cell_type": "markdown",
   "metadata": {},
   "source": [
    "### 2. Thông tin về các dòng dữ liệu"
   ]
  },
  {
   "cell_type": "markdown",
   "metadata": {},
   "source": [
    "#### 2.1 Ý nghĩa từng dòng dữ liệu"
   ]
  },
  {
   "cell_type": "markdown",
   "metadata": {},
   "source": [
    "- Mỗi dòng là đại diện cho một bộ phim, cung cấp thông tin về tên, thời gian phát hành, thể loại, ngôn ngữ, đánh giá, doanh thu và các thông tin khác liên quan đến bộ phim đó. \n",
    "\n",
    "- Không có dòng nào có ý nghĩa khác với các dòng còn lại."
   ]
  },
  {
   "cell_type": "markdown",
   "metadata": {},
   "source": [
    "#### 2.2 Kiểm tra các dòng dữ liệu trùng lặp"
   ]
  },
  {
   "cell_type": "code",
   "execution_count": 246,
   "metadata": {},
   "outputs": [
    {
     "data": {
      "text/plain": [
       "27"
      ]
     },
     "execution_count": 246,
     "metadata": {},
     "output_type": "execute_result"
    }
   ],
   "source": [
    "n_duplicate = data.duplicated().sum()\n",
    "n_duplicate"
   ]
  },
  {
   "cell_type": "markdown",
   "metadata": {},
   "source": [
    "Xử lý các đữ liệu trùng lặp"
   ]
  },
  {
   "cell_type": "code",
   "execution_count": 247,
   "metadata": {},
   "outputs": [
    {
     "data": {
      "text/plain": [
       "(1769, 11)"
      ]
     },
     "execution_count": 247,
     "metadata": {},
     "output_type": "execute_result"
    }
   ],
   "source": [
    "if n_duplicate > 0:\n",
    "    data = data.drop_duplicates()\n",
    "\n",
    "data.shape"
   ]
  },
  {
   "cell_type": "markdown",
   "metadata": {},
   "source": [
    "### 3. Thông tin về các cột dữ liệu\n",
    "Dữ liệu có các cột sau"
   ]
  },
  {
   "cell_type": "code",
   "execution_count": 248,
   "metadata": {},
   "outputs": [
    {
     "data": {
      "text/plain": [
       "Index(['Title', 'Release time', 'Age rating', 'Runtime', 'Genre', 'Lanuage',\n",
       "       'Awards', 'Metascore', 'IMDb Rating', 'IMDb Votes', 'Domestic Revenue'],\n",
       "      dtype='object')"
      ]
     },
     "execution_count": 248,
     "metadata": {},
     "output_type": "execute_result"
    }
   ],
   "source": [
    "data.columns"
   ]
  },
  {
   "cell_type": "markdown",
   "metadata": {},
   "source": [
    "Có một tên cột bị sai chính tả, sửa lại cho đúng"
   ]
  },
  {
   "cell_type": "code",
   "execution_count": 249,
   "metadata": {},
   "outputs": [],
   "source": [
    "data = data.rename(columns={'Lanuage': 'Language'})"
   ]
  },
  {
   "cell_type": "markdown",
   "metadata": {},
   "source": [
    "### 3.1 Ý nghĩa của các cột dữ liệu"
   ]
  },
  {
   "cell_type": "markdown",
   "metadata": {},
   "source": [
    "Mỗi cột có ý nghĩa sau: \n",
    "|Tên cột|Ý nghĩa|\n",
    "|-------|-------|\n",
    "| Title| Tên của bộ phim|\n",
    "| Realease time| Thời gian phát hành của bộ phim|\n",
    "| Age rating| Đánh giá độ tuổi phù hợp để xem phim|\n",
    "| Runtime| Thời lượng của bộ phim|\n",
    "| Genre| Thể loại của bộ phim|\n",
    "| Language| Ngôn ngữ chính được sử dụng trong bộ phim|\n",
    "| Awards| Số lượng hoặc tên giải thưởng mà bộ phim nhận được (nếu có)|\n",
    "| Metascore| Điểm đánh giá từ Metacritic|\n",
    "| IMDb Rating| Điểm đánh giá của bộ phim trên IMDb|\n",
    "| IMDb Votes| Số lượt bình chọn của người dùng trên IMDb|\n",
    "| Domestic Revenue|Doanh thu nội địa|"
   ]
  },
  {
   "cell_type": "markdown",
   "metadata": {},
   "source": [
    "Trong cột Age rating có các giá trị sau NC-17, R, PG-13, PG, G có ý nghĩa là:\n",
    "- NC-17: Phim dành cho khán giả từ 17 tuổi trở lên, nội dung mạnh mẽ, chứa nhiều yếu tố gây ảnh hưởng xấu đến nhân cách, đạo đức, khuyến khích hành vi phạm tội\n",
    "- R: Phim chỉ dành cho khán giả từ 17 tuổi trở lên nhưng không nghiêm trọng để đạt xếp loại NC-17\n",
    "- PG-13: Phim dành cho khán giả trên 13 tuổi\n",
    "- PG: Phim có thể xem cho mọi lứa tuổi, nhưng có thể chứa một số cảnh hoặc chủ đề cần lưu ý đối với trẻ nhỏ.\n",
    "- G: Phim dành cho tất cả mọi lứa tuổi"
   ]
  },
  {
   "cell_type": "markdown",
   "metadata": {},
   "source": [
    "### 3.2 Kiểm tra kiểu dữ liệu của mỗi cột\n",
    "Kiểu dữ liệu hiện tại của các cột"
   ]
  },
  {
   "cell_type": "code",
   "execution_count": 250,
   "metadata": {},
   "outputs": [
    {
     "data": {
      "text/plain": [
       "Title                object\n",
       "Release time         object\n",
       "Age rating           object\n",
       "Runtime              object\n",
       "Genre                object\n",
       "Language             object\n",
       "Awards               object\n",
       "Metascore           float64\n",
       "IMDb Rating         float64\n",
       "IMDb Votes           object\n",
       "Domestic Revenue     object\n",
       "dtype: object"
      ]
     },
     "execution_count": 250,
     "metadata": {},
     "output_type": "execute_result"
    }
   ],
   "source": [
    "data.dtypes"
   ]
  },
  {
   "cell_type": "markdown",
   "metadata": {},
   "source": [
    "Có một số cột dữ liệu chưa được xác định với các kiểu dữ liệu phù hợp.\n",
    "\n",
    "- Ta chuyển cột **Release time** qua kiểu dữ liệu date time\n",
    "\n",
    "- Ta chuyển các cột **Runtime, IMDb Votes, Domestic Revenue** từ định tính qua định lượng\n",
    "\n",
    "- Cột **Genre** sẽ được tách ra nhiều đặc trưng tương ứng với từng thể loại\n",
    "\n",
    "- Cột **Awards** sẽ được tách ra thành 2 cột là **Win** và **Nomination** để phân biệt phim nào được đạt giải và được đề cử \n"
   ]
  },
  {
   "cell_type": "markdown",
   "metadata": {},
   "source": [
    "##### Release time"
   ]
  },
  {
   "cell_type": "code",
   "execution_count": 251,
   "metadata": {},
   "outputs": [],
   "source": [
    "data['Release time'] = pd.to_datetime(data['Release time'], errors='coerce')"
   ]
  },
  {
   "cell_type": "markdown",
   "metadata": {},
   "source": [
    "##### Runtime"
   ]
  },
  {
   "cell_type": "code",
   "execution_count": 252,
   "metadata": {},
   "outputs": [],
   "source": [
    "def convert_runtime_to_minutes(runtime):\n",
    "    try:\n",
    "        if 'h' in runtime and 'min' in runtime:  # Có cả giờ và phút\n",
    "            parts = runtime.split('h')\n",
    "            hours = int(parts[0].strip())  # Phần trước 'h' là số giờ\n",
    "            minutes = int(parts[1].replace('min', '').strip())  # Phần sau 'h' là số phút\n",
    "            return hours * 60 + minutes\n",
    "        elif 'min' in runtime:  # Chỉ có phút\n",
    "            minutes = int(runtime.replace('min', '').strip())\n",
    "            return minutes\n",
    "        elif 'h' in runtime:  # Chỉ có giờ\n",
    "            hours = int(runtime.replace('h', '').strip())\n",
    "            return hours * 60\n",
    "        else:\n",
    "            return None  # Nếu không đúng định dạng\n",
    "    except (ValueError, AttributeError):\n",
    "        return None  # Xử lý ngoại lệ nếu giá trị không hợp lệ\n"
   ]
  },
  {
   "cell_type": "code",
   "execution_count": 253,
   "metadata": {},
   "outputs": [],
   "source": [
    "data['Runtime'] = data['Runtime'].dropna().apply(convert_runtime_to_minutes)"
   ]
  },
  {
   "cell_type": "markdown",
   "metadata": {},
   "source": [
    "##### Genre\n",
    "Ta sẽ tách cột Genre thành nhiều cột tương ứng với từng thể loại, giá trị trong cột sẽ là 0 hoặc 1, trước hết xem xét trong dữ liệu có bao nhiêu thể loại"
   ]
  },
  {
   "cell_type": "code",
   "execution_count": 254,
   "metadata": {},
   "outputs": [
    {
     "name": "stdout",
     "output_type": "stream",
     "text": [
      "{'Adventure', 'Action', 'Fantasy', 'Documentary', 'Family', 'Drama', 'Horror', 'Sci-Fi', 'Mystery & Thriller', 'Animation', 'Western', 'Mystery', 'Thriller', 'Action & Adventure', 'War', 'News', 'Kids & Family', 'Reality-TV', 'History', 'Game-Show', 'Short', 'Comedy', 'Musical', 'Talk-Show', 'Romance', 'Biography', 'Crime', 'Sport', 'Music'}\n"
     ]
    }
   ],
   "source": [
    "unique_genres = set(genre for row in data['Genre'].dropna() for genre in row.split(', '))\n",
    "print(unique_genres)"
   ]
  },
  {
   "cell_type": "markdown",
   "metadata": {},
   "source": [
    "Vì có quá nhiều thể loại nên ta sẽ nhóm chúng thành từng nhóm"
   ]
  },
  {
   "cell_type": "code",
   "execution_count": 255,
   "metadata": {},
   "outputs": [],
   "source": [
    "# Hàm nhóm các thể loại\n",
    "def group_genres(genre):\n",
    "    genre_mapping = {\n",
    "        'Game-show': 'Game-show',\n",
    "        'Action': 'Action/Adventure',\n",
    "        'Adventure': 'Action/Adventure',\n",
    "        'Action & Adventure': 'Action/Adventure',\n",
    "        'Horror': 'Horror/Thriller/Mystery',\n",
    "        'Thriller': 'Horror/Thriller/Mystery',\n",
    "        'Mystery & Thriller': 'Horror/Thriller/Mystery',\n",
    "        'Mystery': 'Horror/Thriller/Mystery',\n",
    "        'Documentary': 'Docummentary',\n",
    "        'Biography': 'Biography/History/War',\n",
    "        'History': 'Biography/History/War',\n",
    "        'War': 'Biography/History/War',\n",
    "        'Comedy': 'Comedy',\n",
    "        'Drama': 'Drama',\n",
    "        'Fantasy': 'Fantasy/Sci-Fi',\n",
    "        'Sci-Fi': 'Fantasy/Sci-Fi',\n",
    "        'News': 'News',\n",
    "        'Musical': 'Music/Musical',\n",
    "        'Music': 'Music/Musical',\n",
    "        'Animation': 'Animation',\n",
    "        'Family': 'Kids/Family',\n",
    "        'Kids & Family': 'Kids/Family',\n",
    "        'Western': 'Western',\n",
    "        'Sport': 'Sport',\n",
    "        'Reality-TV': 'Reality-TV',\n",
    "        'Romance': 'Romance',\n",
    "        'Talk-Show': 'Talk-Show',\n",
    "        'Crime': 'Crime',\n",
    "        'Short': 'Short'\n",
    "    }\n",
    "    return genre_mapping.get(genre, genre)"
   ]
  },
  {
   "cell_type": "code",
   "execution_count": 256,
   "metadata": {},
   "outputs": [],
   "source": [
    "# Gộp từng thể loại trong danh sách genre\n",
    "data['Genre'] = data['Genre'].apply(\n",
    "    lambda x: ', '.join([group_genres(g) for g in x.split(', ')]) if pd.notnull(x) else ''\n",
    ")"
   ]
  },
  {
   "cell_type": "markdown",
   "metadata": {},
   "source": [
    "Những thể loại không phổ biến ta sẽ chuyển thành other"
   ]
  },
  {
   "cell_type": "code",
   "execution_count": 257,
   "metadata": {},
   "outputs": [
    {
     "data": {
      "text/plain": [
       "Genre\n",
       "Horror/Thriller/Mystery    629\n",
       "Drama                      570\n",
       "Comedy                     472\n",
       "Action/Adventure           458\n",
       "Docummentary               298\n",
       "Romance                    224\n",
       "Crime                      178\n",
       "Biography/History/War      153\n",
       "Fantasy/Sci-Fi             120\n",
       "Animation                  113\n",
       "Kids/Family                 79\n",
       "Music/Musical               60\n",
       "Sport                       43\n",
       "Short                       32\n",
       "Western                     17\n",
       "Reality-TV                   5\n",
       "Game-Show                    3\n",
       "Talk-Show                    2\n",
       "News                         2\n",
       "Name: count, dtype: int64"
      ]
     },
     "execution_count": 257,
     "metadata": {},
     "output_type": "execute_result"
    }
   ],
   "source": [
    "# Đếm tần suất sau khi nhóm\n",
    "grouped_genre_counts = data['Genre'].str.split(', ').explode().value_counts()\n",
    "grouped_genre_counts"
   ]
  },
  {
   "cell_type": "code",
   "execution_count": 258,
   "metadata": {},
   "outputs": [],
   "source": [
    "# Chỉ giữ lại thể loại phổ biến\n",
    "# Tìm các thể loại có tần suất < 50\n",
    "low_frequency_genres = set(grouped_genre_counts[grouped_genre_counts < 50].index)\n",
    "\n",
    "# Thay thế thể loại không phổ biến bằng \"Other\"\n",
    "data['Genre'] = data['Genre'].apply(\n",
    "    lambda x: ', '.join(\n",
    "        [genre if genre not in low_frequency_genres else 'Other' for genre in x.split(', ')]\n",
    "    ) if pd.notnull(x) else ''\n",
    ")"
   ]
  },
  {
   "cell_type": "markdown",
   "metadata": {},
   "source": [
    "Ta tách cột Genre thành các cột thể loại tương ứng"
   ]
  },
  {
   "cell_type": "code",
   "execution_count": 259,
   "metadata": {},
   "outputs": [],
   "source": [
    "# Sử dụng one-hot encoding để tách thành nhiều cột\n",
    "genre_dummies = data['Genre'].str.get_dummies(sep=', ')\n",
    "\n",
    "# Gắn các cột mới vào DataFrame ban đầu\n",
    "data = pd.concat([data, genre_dummies], axis=1)\n",
    "\n",
    "# Xóa cột Genre\n",
    "data.drop(columns=['Genre'], inplace=True)"
   ]
  },
  {
   "cell_type": "markdown",
   "metadata": {},
   "source": [
    "##### Awards"
   ]
  },
  {
   "cell_type": "markdown",
   "metadata": {},
   "source": [
    "Ta tách cột Awards thành 2 cột riêng là Win và Nomination"
   ]
  },
  {
   "cell_type": "code",
   "execution_count": 260,
   "metadata": {},
   "outputs": [],
   "source": [
    "# Tách cột Award thành 2 cột Win và Nomination\n",
    "data[['Win', 'Nomination']] = data['Awards'].str.extract(r'(\\d+)\\s+win.*&\\s+(\\d+)\\s+nomination')\n",
    "\n",
    "# Chuyển dữ liệu trong các cột Win và Nomination thành kiểu số\n",
    "data['Win'] = pd.to_numeric(data['Win'], errors='coerce')  # Coerce chuyển giá trị không thể chuyển thành NaN\n",
    "data['Win'] = data['Win'].fillna(0)\n",
    "data['Nomination'] = pd.to_numeric(data['Nomination'], errors='coerce')\n",
    "data['Nomination'] = data['Nomination'].fillna(0)\n",
    "# Xóa cột Awards\n",
    "data = data.drop(columns=['Awards'])    "
   ]
  },
  {
   "cell_type": "markdown",
   "metadata": {},
   "source": [
    "##### IMDb Votes"
   ]
  },
  {
   "cell_type": "code",
   "execution_count": 261,
   "metadata": {},
   "outputs": [],
   "source": [
    "data['IMDb Votes'] = data['IMDb Votes'].replace({',': ''}, regex=True)\n",
    "data['IMDb Votes'] = data['IMDb Votes'].dropna().astype(float)"
   ]
  },
  {
   "cell_type": "markdown",
   "metadata": {},
   "source": [
    "##### Domestic Revenue\n"
   ]
  },
  {
   "cell_type": "code",
   "execution_count": 262,
   "metadata": {},
   "outputs": [
    {
     "name": "stderr",
     "output_type": "stream",
     "text": [
      "<>:1: SyntaxWarning: invalid escape sequence '\\$'\n",
      "<>:1: SyntaxWarning: invalid escape sequence '\\$'\n",
      "/tmp/ipykernel_17148/2253550822.py:1: SyntaxWarning: invalid escape sequence '\\$'\n",
      "  data['Domestic Revenue'] = data['Domestic Revenue'].replace({'\\$': '', ',': ''}, regex=True)\n"
     ]
    }
   ],
   "source": [
    "data['Domestic Revenue'] = data['Domestic Revenue'].replace({'\\$': '', ',': ''}, regex=True)\n",
    "data['Domestic Revenue'] = data['Domestic Revenue'].dropna().astype(float)"
   ]
  },
  {
   "cell_type": "markdown",
   "metadata": {},
   "source": [
    "Kiểm tra lại"
   ]
  },
  {
   "cell_type": "code",
   "execution_count": 263,
   "metadata": {},
   "outputs": [
    {
     "data": {
      "text/plain": [
       "Title                              object\n",
       "Release time               datetime64[ns]\n",
       "Age rating                         object\n",
       "Runtime                           float64\n",
       "Language                           object\n",
       "Metascore                         float64\n",
       "IMDb Rating                       float64\n",
       "IMDb Votes                        float64\n",
       "Domestic Revenue                  float64\n",
       "Action/Adventure                    int64\n",
       "Animation                           int64\n",
       "Biography/History/War               int64\n",
       "Comedy                              int64\n",
       "Crime                               int64\n",
       "Docummentary                        int64\n",
       "Drama                               int64\n",
       "Fantasy/Sci-Fi                      int64\n",
       "Horror/Thriller/Mystery             int64\n",
       "Kids/Family                         int64\n",
       "Music/Musical                       int64\n",
       "Other                               int64\n",
       "Romance                             int64\n",
       "Win                               float64\n",
       "Nomination                        float64\n",
       "dtype: object"
      ]
     },
     "execution_count": 263,
     "metadata": {},
     "output_type": "execute_result"
    }
   ],
   "source": [
    "data.dtypes"
   ]
  },
  {
   "cell_type": "markdown",
   "metadata": {},
   "source": [
    "Các cột đã có kiểu dữ liệu phù hợp"
   ]
  },
  {
   "cell_type": "markdown",
   "metadata": {},
   "source": [
    "### 3.3. Sự phân bố dữ liệu của các cột có kiểu định lượng\n",
    "Các cột có dữ liệu định lượng"
   ]
  },
  {
   "cell_type": "code",
   "execution_count": 264,
   "metadata": {},
   "outputs": [],
   "source": [
    "data.to_csv(\"data.csv\")"
   ]
  },
  {
   "cell_type": "code",
   "execution_count": 265,
   "metadata": {},
   "outputs": [
    {
     "name": "stdout",
     "output_type": "stream",
     "text": [
      "Numberical columns: \n",
      "Runtime\n",
      "Metascore\n",
      "IMDb Rating\n",
      "IMDb Votes\n",
      "Domestic Revenue\n",
      "Action/Adventure\n",
      "Animation\n",
      "Biography/History/War\n",
      "Comedy\n",
      "Crime\n",
      "Docummentary\n",
      "Drama\n",
      "Fantasy/Sci-Fi\n",
      "Horror/Thriller/Mystery\n",
      "Kids/Family\n",
      "Music/Musical\n",
      "Other\n",
      "Romance\n",
      "Win\n",
      "Nomination\n"
     ]
    }
   ],
   "source": [
    "numerical_columns = data.select_dtypes(include=['int64', 'float64']).columns.tolist()\n",
    "print('Numberical columns: ')\n",
    "for col_name in numerical_columns:\n",
    "    print(col_name)"
   ]
  },
  {
   "cell_type": "markdown",
   "metadata": {},
   "source": [
    "#### 3.3.1 Tỉ lệ phần trăm các giá trị bị thiếu trong mỗi cột, các giá trị thống kê"
   ]
  },
  {
   "cell_type": "markdown",
   "metadata": {},
   "source": [
    "Với mỗi cột có kiểu dữ liệu định lượng, thực hiện tính toán các giá trị thống kê cơ bản sau:\n",
    "- Min \n",
    "- Max\n",
    "- Mean\n",
    "- Mod\n",
    "- Median"
   ]
  },
  {
   "cell_type": "code",
   "execution_count": 266,
   "metadata": {},
   "outputs": [
    {
     "data": {
      "text/html": [
       "<div>\n",
       "<style scoped>\n",
       "    .dataframe tbody tr th:only-of-type {\n",
       "        vertical-align: middle;\n",
       "    }\n",
       "\n",
       "    .dataframe tbody tr th {\n",
       "        vertical-align: top;\n",
       "    }\n",
       "\n",
       "    .dataframe thead th {\n",
       "        text-align: right;\n",
       "    }\n",
       "</style>\n",
       "<table border=\"1\" class=\"dataframe\">\n",
       "  <thead>\n",
       "    <tr style=\"text-align: right;\">\n",
       "      <th></th>\n",
       "      <th>Runtime</th>\n",
       "      <th>Metascore</th>\n",
       "      <th>IMDb Rating</th>\n",
       "      <th>IMDb Votes</th>\n",
       "      <th>Domestic Revenue</th>\n",
       "      <th>Action/Adventure</th>\n",
       "      <th>Animation</th>\n",
       "      <th>Biography/History/War</th>\n",
       "      <th>Comedy</th>\n",
       "      <th>Crime</th>\n",
       "      <th>Docummentary</th>\n",
       "      <th>Drama</th>\n",
       "      <th>Fantasy/Sci-Fi</th>\n",
       "      <th>Horror/Thriller/Mystery</th>\n",
       "      <th>Kids/Family</th>\n",
       "      <th>Music/Musical</th>\n",
       "      <th>Other</th>\n",
       "      <th>Romance</th>\n",
       "      <th>Win</th>\n",
       "      <th>Nomination</th>\n",
       "    </tr>\n",
       "  </thead>\n",
       "  <tbody>\n",
       "    <tr>\n",
       "      <th>Percentage</th>\n",
       "      <td>0.34</td>\n",
       "      <td>92.88</td>\n",
       "      <td>25.10</td>\n",
       "      <td>12.83</td>\n",
       "      <td>80.67</td>\n",
       "      <td>0.00</td>\n",
       "      <td>0.00</td>\n",
       "      <td>0.00</td>\n",
       "      <td>0.00</td>\n",
       "      <td>0.00</td>\n",
       "      <td>0.00</td>\n",
       "      <td>0.00</td>\n",
       "      <td>0.00</td>\n",
       "      <td>0.00</td>\n",
       "      <td>0.00</td>\n",
       "      <td>0.00</td>\n",
       "      <td>0.00</td>\n",
       "      <td>0.00</td>\n",
       "      <td>0.00</td>\n",
       "      <td>0.00</td>\n",
       "    </tr>\n",
       "    <tr>\n",
       "      <th>Min</th>\n",
       "      <td>3.00</td>\n",
       "      <td>19.00</td>\n",
       "      <td>2.10</td>\n",
       "      <td>5.00</td>\n",
       "      <td>543.00</td>\n",
       "      <td>0.00</td>\n",
       "      <td>0.00</td>\n",
       "      <td>0.00</td>\n",
       "      <td>0.00</td>\n",
       "      <td>0.00</td>\n",
       "      <td>0.00</td>\n",
       "      <td>0.00</td>\n",
       "      <td>0.00</td>\n",
       "      <td>0.00</td>\n",
       "      <td>0.00</td>\n",
       "      <td>0.00</td>\n",
       "      <td>0.00</td>\n",
       "      <td>0.00</td>\n",
       "      <td>0.00</td>\n",
       "      <td>0.00</td>\n",
       "    </tr>\n",
       "    <tr>\n",
       "      <th>Lower Quartile</th>\n",
       "      <td>84.00</td>\n",
       "      <td>50.25</td>\n",
       "      <td>5.20</td>\n",
       "      <td>175.25</td>\n",
       "      <td>293587.75</td>\n",
       "      <td>0.00</td>\n",
       "      <td>0.00</td>\n",
       "      <td>0.00</td>\n",
       "      <td>0.00</td>\n",
       "      <td>0.00</td>\n",
       "      <td>0.00</td>\n",
       "      <td>0.00</td>\n",
       "      <td>0.00</td>\n",
       "      <td>0.00</td>\n",
       "      <td>0.00</td>\n",
       "      <td>0.00</td>\n",
       "      <td>0.00</td>\n",
       "      <td>0.00</td>\n",
       "      <td>0.00</td>\n",
       "      <td>0.00</td>\n",
       "    </tr>\n",
       "    <tr>\n",
       "      <th>Median</th>\n",
       "      <td>95.00</td>\n",
       "      <td>62.50</td>\n",
       "      <td>6.10</td>\n",
       "      <td>809.00</td>\n",
       "      <td>2711066.50</td>\n",
       "      <td>0.00</td>\n",
       "      <td>0.00</td>\n",
       "      <td>0.00</td>\n",
       "      <td>0.00</td>\n",
       "      <td>0.00</td>\n",
       "      <td>0.00</td>\n",
       "      <td>0.00</td>\n",
       "      <td>0.00</td>\n",
       "      <td>0.00</td>\n",
       "      <td>0.00</td>\n",
       "      <td>0.00</td>\n",
       "      <td>0.00</td>\n",
       "      <td>0.00</td>\n",
       "      <td>0.00</td>\n",
       "      <td>0.00</td>\n",
       "    </tr>\n",
       "    <tr>\n",
       "      <th>Upper Quartile</th>\n",
       "      <td>108.00</td>\n",
       "      <td>74.00</td>\n",
       "      <td>6.80</td>\n",
       "      <td>3929.50</td>\n",
       "      <td>19947635.00</td>\n",
       "      <td>0.00</td>\n",
       "      <td>0.00</td>\n",
       "      <td>0.00</td>\n",
       "      <td>1.00</td>\n",
       "      <td>0.00</td>\n",
       "      <td>0.00</td>\n",
       "      <td>1.00</td>\n",
       "      <td>0.00</td>\n",
       "      <td>1.00</td>\n",
       "      <td>0.00</td>\n",
       "      <td>0.00</td>\n",
       "      <td>0.00</td>\n",
       "      <td>0.00</td>\n",
       "      <td>0.00</td>\n",
       "      <td>0.00</td>\n",
       "    </tr>\n",
       "    <tr>\n",
       "      <th>Max</th>\n",
       "      <td>280.00</td>\n",
       "      <td>94.00</td>\n",
       "      <td>10.00</td>\n",
       "      <td>804987.00</td>\n",
       "      <td>652980194.00</td>\n",
       "      <td>1.00</td>\n",
       "      <td>1.00</td>\n",
       "      <td>1.00</td>\n",
       "      <td>1.00</td>\n",
       "      <td>1.00</td>\n",
       "      <td>1.00</td>\n",
       "      <td>1.00</td>\n",
       "      <td>1.00</td>\n",
       "      <td>1.00</td>\n",
       "      <td>1.00</td>\n",
       "      <td>1.00</td>\n",
       "      <td>1.00</td>\n",
       "      <td>1.00</td>\n",
       "      <td>349.00</td>\n",
       "      <td>429.00</td>\n",
       "    </tr>\n",
       "  </tbody>\n",
       "</table>\n",
       "</div>"
      ],
      "text/plain": [
       "                Runtime  Metascore  IMDb Rating  IMDb Votes  Domestic Revenue  \\\n",
       "Percentage         0.34      92.88        25.10       12.83             80.67   \n",
       "Min                3.00      19.00         2.10        5.00            543.00   \n",
       "Lower Quartile    84.00      50.25         5.20      175.25         293587.75   \n",
       "Median            95.00      62.50         6.10      809.00        2711066.50   \n",
       "Upper Quartile   108.00      74.00         6.80     3929.50       19947635.00   \n",
       "Max              280.00      94.00        10.00   804987.00      652980194.00   \n",
       "\n",
       "                Action/Adventure  Animation  Biography/History/War  Comedy  \\\n",
       "Percentage                  0.00       0.00                   0.00    0.00   \n",
       "Min                         0.00       0.00                   0.00    0.00   \n",
       "Lower Quartile              0.00       0.00                   0.00    0.00   \n",
       "Median                      0.00       0.00                   0.00    0.00   \n",
       "Upper Quartile              0.00       0.00                   0.00    1.00   \n",
       "Max                         1.00       1.00                   1.00    1.00   \n",
       "\n",
       "                Crime  Docummentary  Drama  Fantasy/Sci-Fi  \\\n",
       "Percentage       0.00          0.00   0.00            0.00   \n",
       "Min              0.00          0.00   0.00            0.00   \n",
       "Lower Quartile   0.00          0.00   0.00            0.00   \n",
       "Median           0.00          0.00   0.00            0.00   \n",
       "Upper Quartile   0.00          0.00   1.00            0.00   \n",
       "Max              1.00          1.00   1.00            1.00   \n",
       "\n",
       "                Horror/Thriller/Mystery  Kids/Family  Music/Musical  Other  \\\n",
       "Percentage                         0.00         0.00           0.00   0.00   \n",
       "Min                                0.00         0.00           0.00   0.00   \n",
       "Lower Quartile                     0.00         0.00           0.00   0.00   \n",
       "Median                             0.00         0.00           0.00   0.00   \n",
       "Upper Quartile                     1.00         0.00           0.00   0.00   \n",
       "Max                                1.00         1.00           1.00   1.00   \n",
       "\n",
       "                Romance    Win  Nomination  \n",
       "Percentage         0.00   0.00        0.00  \n",
       "Min                0.00   0.00        0.00  \n",
       "Lower Quartile     0.00   0.00        0.00  \n",
       "Median             0.00   0.00        0.00  \n",
       "Upper Quartile     0.00   0.00        0.00  \n",
       "Max                1.00 349.00      429.00  "
      ]
     },
     "execution_count": 266,
     "metadata": {},
     "output_type": "execute_result"
    }
   ],
   "source": [
    "# Tính tỉ lệ phần trăm các giá trị bị thiếu\n",
    "# YOUR CODE HERE\n",
    "def distributed(column_name):\n",
    "    df = data[column_name]\n",
    "    distri = []\n",
    "    percent= df.isna().mean() * 100\n",
    "    distri.append(percent)\n",
    "    distri.append(df.min())\n",
    "    distri.append(df.quantile(0.25))\n",
    "    distri.append(df.median())\n",
    "    distri.append(df.quantile(0.75))\n",
    "    distri.append(df.max())\n",
    "    return distri\n",
    "num_col_info_df = pd.DataFrame()\n",
    "for column in numerical_columns:\n",
    "    distri = distributed(column)    \n",
    "    num_col_info_df[column] = distri\n",
    "num_col_info_df.index = ['Percentage','Min','Lower Quartile', 'Median','Upper Quartile', 'Max']\n",
    "pd.set_option('display.float_format', '{:.2f}'.format)\n",
    "num_col_info_df\n"
   ]
  },
  {
   "cell_type": "markdown",
   "metadata": {},
   "source": [
    "#### 3.3.2 Sự phân bố dữ liệu"
   ]
  },
  {
   "cell_type": "code",
   "execution_count": 267,
   "metadata": {},
   "outputs": [
    {
     "data": {
      "image/png": "[encoded data removed]",
      "text/plain": [
       "<Figure size 1500x800 with 6 Axes>"
      ]
     },
     "metadata": {},
     "output_type": "display_data"
    }
   ],
   "source": [
    "# Vẽ biểu đồ cho các giá trị 5 cột đầu\n",
    "n_cols = 3  # số cột\n",
    "n_rows = -(-len(numerical_columns[:5]) // n_cols)  # làm tròn lên để đủ số hàng\n",
    "\n",
    "fig, axes = plt.subplots(n_rows, n_cols, figsize=(15, n_rows * 4))\n",
    "axes = axes.flatten()  \n",
    "\n",
    "for i, col in enumerate(numerical_columns[:5]):\n",
    "    sns.boxplot(data=data, x=col, ax=axes[i])\n",
    "    axes[i].set_title(col)\n",
    "\n",
    "for j in range(len(numerical_columns[:5]), len(axes)):\n",
    "    axes[j].set_visible(False)\n",
    "\n",
    "plt.tight_layout()\n",
    "plt.show()"
   ]
  },
  {
   "cell_type": "code",
   "execution_count": 268,
   "metadata": {},
   "outputs": [
    {
     "data": {
      "image/png": "[encoded data removed]",
      "text/plain": [
       "<Figure size 1000x500 with 2 Axes>"
      ]
     },
     "metadata": {},
     "output_type": "display_data"
    }
   ],
   "source": [
    "genre = numerical_columns[5:18]\n",
    "totals = data[genre].sum().sort_values(ascending=True)\n",
    "\n",
    "award = len(data[(data['Win'] > 0) & (data['Nomination'] > 0)])\n",
    "no_award = len(data[(data['Win'] == 0) & (data['Nomination'] == 0)])\n",
    "awards = [award, no_award]\n",
    "label_award = ['Award', 'No award']\n",
    "\n",
    "plt.figure(figsize=(10, 5))\n",
    "\n",
    "plt.subplot(1, 2, 1)\n",
    "plt.pie(totals, labels=genre, autopct='%1.1f%%', startangle=0)\n",
    "plt.title('Genre Distribution')\n",
    "\n",
    "plt.subplot(1, 2, 2)\n",
    "plt.pie(awards, labels=label_award, autopct='%1.1f%%', startangle=0)\n",
    "plt.title('Award Distribution')\n",
    "\n",
    "plt.tight_layout()\n",
    "plt.show()"
   ]
  },
  {
   "cell_type": "markdown",
   "metadata": {},
   "source": [
    "#### 3.3.3 Xử lý dữ liệu lỗi hoặc bất thường"
   ]
  },
  {
   "cell_type": "code",
   "execution_count": 270,
   "metadata": {},
   "outputs": [
    {
     "name": "stderr",
     "output_type": "stream",
     "text": [
      "/tmp/ipykernel_17148/3965614033.py:2: FutureWarning: Series.__getitem__ treating keys as positions is deprecated. In a future version, integer keys will always be treated as labels (consistent with DataFrame behavior). To access a value by position, use `ser.iloc[pos]`\n",
      "  if num_col_info_df[column][0] > 75.00:\n",
      "/tmp/ipykernel_17148/3965614033.py:2: FutureWarning: Series.__getitem__ treating keys as positions is deprecated. In a future version, integer keys will always be treated as labels (consistent with DataFrame behavior). To access a value by position, use `ser.iloc[pos]`\n",
      "  if num_col_info_df[column][0] > 75.00:\n",
      "/tmp/ipykernel_17148/3965614033.py:2: FutureWarning: Series.__getitem__ treating keys as positions is deprecated. In a future version, integer keys will always be treated as labels (consistent with DataFrame behavior). To access a value by position, use `ser.iloc[pos]`\n",
      "  if num_col_info_df[column][0] > 75.00:\n"
     ]
    }
   ],
   "source": [
    "for column in numerical_columns:\n",
    "    if num_col_info_df[column][0] > 75.00:\n",
    "        data = data.drop(columns = [column])\n",
    "        numerical_columns.remove(column)\n",
    "#Runtime va IMDb Votes có số lượng ngoại lai đáng kể\n",
    "data['Runtime'] = data['Runtime'].fillna(data['Runtime'].mean())\n",
    "data['IMDb Votes'] = data['IMDb Votes'].fillna(data['IMDb Votes'].mean())\n",
    "#Runtime va IMDb Votes có số lượng ngoại lai không đáng kể\n",
    "data['IMDb Rating'] = data['IMDb Rating'].fillna(data['IMDb Rating'].median())"
   ]
  },
  {
   "cell_type": "markdown",
   "metadata": {},
   "source": [
    "#### 3.3.3 Chuẩn hóa dữ liệu nếu cần"
   ]
  },
  {
   "cell_type": "code",
   "execution_count": null,
   "metadata": {},
   "outputs": [],
   "source": []
  },
  {
   "cell_type": "markdown",
   "metadata": {},
   "source": [
    "### 3.4 Sự phân bố dữ liệu của các cột có kiểu định tính\n",
    "Các cột có kiểu dữ liệu định tính"
   ]
  },
  {
   "cell_type": "code",
   "execution_count": 271,
   "metadata": {},
   "outputs": [
    {
     "name": "stdout",
     "output_type": "stream",
     "text": [
      "Categorical columns: \n",
      "Title\n",
      "Release time\n",
      "Age rating\n",
      "Language\n"
     ]
    }
   ],
   "source": [
    "categorical_columns = data.select_dtypes(include=['object', 'bool', 'datetime64[ns]']).columns.tolist()\n",
    "print('Categorical columns: ')\n",
    "for col_name in categorical_columns:\n",
    "    print(col_name)"
   ]
  },
  {
   "cell_type": "markdown",
   "metadata": {},
   "source": [
    "#### 3.4.1 Tỉ lệ phần trăm các giá trị bị thiếu trong mỗi cột"
   ]
  },
  {
   "cell_type": "code",
   "execution_count": 272,
   "metadata": {},
   "outputs": [
    {
     "name": "stdout",
     "output_type": "stream",
     "text": [
      "Title: 0.00%\n",
      "Release time: 2.49%\n",
      "Age rating: 0.00%\n",
      "Language: 5.54%\n"
     ]
    }
   ],
   "source": [
    "for col_name in categorical_columns:\n",
    "    missing_rate = data[col_name].isnull().mean() * 100\n",
    "    print(f'{col_name}: {missing_rate:.2f}%')"
   ]
  },
  {
   "cell_type": "markdown",
   "metadata": {},
   "source": [
    "Trong quá trình khám phá dữ liệu, đã phát hiện 2 cột định tính có giá trị bị thiếu. Cụ thể là cột **Release time**(2,49%) và **Language** (5,54%)\n",
    "\n",
    "Để khắc phục vấn đề này\n",
    "- Ở cột Release time, ta sẽ xóa luôn các giá trị thiếu này. Vì giá trị bị thiếu rất ít (2,49%) nên sẽ không ảnh hưởng đáng kể đến tổng thể dữ liệu\n",
    "- Ở cột Language, điền giá trị phổ biến nhất (mode) vào những ô bị thiếu. Vì tỷ lệ giá trị thiếu chỉ có 5,54%, điền mode vừa giúp đảm bảo dữ liệu vẫn đầy đủ, vừa duy trì tính đại diện cho tập dữ liệu, hạn chế tối đa sai lệch phân phối các giá trị trong toàn bộ tập dữ liệu"
   ]
  },
  {
   "cell_type": "code",
   "execution_count": 273,
   "metadata": {},
   "outputs": [],
   "source": [
    "# Xóa các hàng có giá trị thiếu trong cột Release time\n",
    "data.dropna(subset=['Release time'], inplace=True)\n",
    "\n",
    "# Điền giá trị phổ biến nhất vào những ô bị thiếu\n",
    "mode_value = data['Language'].mode()[0]\n",
    "data['Language'] = data['Language'].fillna(mode_value)"
   ]
  },
  {
   "cell_type": "markdown",
   "metadata": {},
   "source": [
    "#### 3.4.2 Số giá trị phân biệt của mỗi cột"
   ]
  },
  {
   "cell_type": "code",
   "execution_count": 274,
   "metadata": {},
   "outputs": [],
   "source": [
    "# Hàm tính toán sự phân bố các giá trị\n",
    "def compute_distribution(dataframe, column):\n",
    "    value_counts = dataframe[column].value_counts(dropna=False) \n",
    "    db = {}\n",
    "    for value, count in value_counts.items():\n",
    "        db[value] = count\n",
    "    \n",
    "    return db"
   ]
  },
  {
   "cell_type": "code",
   "execution_count": 275,
   "metadata": {},
   "outputs": [],
   "source": [
    "# Tìm phân bố giá trị\n",
    "cat_distribution = {}\n",
    "\n",
    "for column in categorical_columns:\n",
    "    cat_distribution[column] = compute_distribution(data, column)"
   ]
  },
  {
   "cell_type": "code",
   "execution_count": 276,
   "metadata": {},
   "outputs": [
    {
     "data": {
      "text/html": [
       "<div>\n",
       "<style scoped>\n",
       "    .dataframe tbody tr th:only-of-type {\n",
       "        vertical-align: middle;\n",
       "    }\n",
       "\n",
       "    .dataframe tbody tr th {\n",
       "        vertical-align: top;\n",
       "    }\n",
       "\n",
       "    .dataframe thead th {\n",
       "        text-align: right;\n",
       "    }\n",
       "</style>\n",
       "<table border=\"1\" class=\"dataframe\">\n",
       "  <thead>\n",
       "    <tr style=\"text-align: right;\">\n",
       "      <th></th>\n",
       "      <th>Column</th>\n",
       "      <th>Distinct_Values</th>\n",
       "      <th>Value_Distribution</th>\n",
       "    </tr>\n",
       "  </thead>\n",
       "  <tbody>\n",
       "    <tr>\n",
       "      <th>0</th>\n",
       "      <td>Title</td>\n",
       "      <td>1719</td>\n",
       "      <td>{'Horizon: An American Saga - Chapter 1': 2, '...</td>\n",
       "    </tr>\n",
       "    <tr>\n",
       "      <th>1</th>\n",
       "      <td>Release time</td>\n",
       "      <td>557</td>\n",
       "      <td>{2024-09-13 00:00:00: 17, 2024-10-18 00:00:00:...</td>\n",
       "    </tr>\n",
       "    <tr>\n",
       "      <th>2</th>\n",
       "      <td>Age rating</td>\n",
       "      <td>5</td>\n",
       "      <td>{'R': 798, 'PG-13': 450, 'PG': 273, 'G': 179, ...</td>\n",
       "    </tr>\n",
       "    <tr>\n",
       "      <th>3</th>\n",
       "      <td>Language</td>\n",
       "      <td>165</td>\n",
       "      <td>{'English': 1296, 'Spanish': 37, 'English, Spa...</td>\n",
       "    </tr>\n",
       "  </tbody>\n",
       "</table>\n",
       "</div>"
      ],
      "text/plain": [
       "         Column  Distinct_Values  \\\n",
       "0         Title             1719   \n",
       "1  Release time              557   \n",
       "2    Age rating                5   \n",
       "3      Language              165   \n",
       "\n",
       "                                  Value_Distribution  \n",
       "0  {'Horizon: An American Saga - Chapter 1': 2, '...  \n",
       "1  {2024-09-13 00:00:00: 17, 2024-10-18 00:00:00:...  \n",
       "2  {'R': 798, 'PG-13': 450, 'PG': 273, 'G': 179, ...  \n",
       "3  {'English': 1296, 'Spanish': 37, 'English, Spa...  "
      ]
     },
     "execution_count": 276,
     "metadata": {},
     "output_type": "execute_result"
    }
   ],
   "source": [
    "# Chuyển thành dạng bảng\n",
    "# Tạo danh sách để lưu dữ liệu cho DataFrame\n",
    "df = {\n",
    "    \"Column\": [],\n",
    "    \"Distinct_Values\": [],\n",
    "    \"Value_Distribution\": []\n",
    "}\n",
    "\n",
    "# Thêm dữ liệu vào danh sách\n",
    "for column, distribution in cat_distribution.items():\n",
    "    different_values = len(set(data[column]))\n",
    "    df[\"Column\"].append(column)\n",
    "    df[\"Distinct_Values\"].append(different_values)\n",
    "    df[\"Value_Distribution\"].append(distribution)\n",
    "\n",
    "# Tạo DataFrame từ dữ liệu\n",
    "distribution_df = pd.DataFrame(df)\n",
    "\n",
    "# In ra DataFrame\n",
    "distribution_df"
   ]
  },
  {
   "cell_type": "markdown",
   "metadata": {},
   "source": [
    "##### Trực quan hóa để thấy rõ sự phân bố giá trị\n",
    "\n",
    "Vì cột title chứa các giá trị duy nhất (mỗi tên khác nhau), việc vẽ biểu đồ không mang lại nhiều ý nghĩa. Vì vậy, chỉ trực quan hóa 3 cột là **Release time** với đại diện là các năm, **Age rating**  và **Language** với 10 ngôn ngữ phổ biến nhất để thấy sự phân phối dữ liệu."
   ]
  },
  {
   "cell_type": "code",
   "execution_count": 277,
   "metadata": {},
   "outputs": [
    {
     "data": {
      "image/png": "[encoded data removed]",
      "text/plain": [
       "<Figure size 1500x500 with 3 Axes>"
      ]
     },
     "metadata": {},
     "output_type": "display_data"
    }
   ],
   "source": [
    "# Vẽ biểu đồ phân bố giá trị của các cột\n",
    "fig, axes = plt.subplots(1, 3, figsize=(15, 5))\n",
    "\n",
    "# Biểu đồ Release time (chọn tần suất phát hành theo năm)\n",
    "data['Release_month'] = data['Release time'].dt.to_period('Y')\n",
    "# Đếm số lượng bản phát hành mỗi năm\n",
    "release_counts = data['Release_month'].value_counts().sort_index()\n",
    "\n",
    "sns.lineplot(x=release_counts.index.astype(str), y=release_counts.values, ax=axes[0])\n",
    "axes[0].set_title(\"Release Time Distribution by Year\")\n",
    "axes[0].set_xlabel(\"Year\")\n",
    "axes[0].set_ylabel(\"Frequency\")\n",
    "axes[0].tick_params(axis='x', rotation=45)\n",
    "\n",
    "data.drop(columns=['Release_month'], inplace=True)\n",
    "\n",
    "# Biểu đồ Age rating\n",
    "# Đếm số lượng các giá trị age rating\n",
    "age_rating_counts = data['Age rating'].value_counts()\n",
    "axes[1].pie(age_rating_counts, labels=age_rating_counts.index, autopct='%1.1f%%', startangle=90)\n",
    "axes[1].set_title(\"Age Rating Distribution\")\n",
    "\n",
    "# Biểu đồ Language (Top 10 languages)\n",
    "top_languages = data['Language'].value_counts().head(10)\n",
    "sns.barplot(x=top_languages.index, y=top_languages.values, ax=axes[2])\n",
    "axes[2].set_title(\"Top 10 Most Frequent Languages\")\n",
    "axes[2].set_xlabel(\"Language\")\n",
    "axes[2].set_ylabel(\"Frequency\")\n",
    "axes[2].tick_params(axis='x', rotation=45)\n",
    "\n",
    "# Hiển thị tất cả biểu đồ\n",
    "plt.tight_layout()\n",
    "plt.show()"
   ]
  },
  {
   "cell_type": "markdown",
   "metadata": {},
   "source": [
    "#### 3.4.3 Xử lý dữ liệu bất thường"
   ]
  },
  {
   "cell_type": "markdown",
   "metadata": {},
   "source": [
    "Qua xử lý giá trị thiếu và trực quan sự phân bố các giá trị ở trên, các cột không còn dữ liệu bất thường"
   ]
  },
  {
   "cell_type": "markdown",
   "metadata": {},
   "source": [
    "#### 3.4.4 Xử lý dữ liệu phân loại"
   ]
  },
  {
   "cell_type": "markdown",
   "metadata": {},
   "source": [
    "Cột **Age Rating** có dữ liệu object, ta sẽ thêm một cột mới là **Age Rating Quantification** để chuyển đổi thành các giá trị số là kiểu dữ liệu phân loại để dễ dàng phân tích và sử dụng trong mô hình máy học"
   ]
  },
  {
   "cell_type": "code",
   "execution_count": 278,
   "metadata": {},
   "outputs": [],
   "source": [
    "# Tạo một từ điển để chuyển đổi giá trị\n",
    "rating_map = {\n",
    "    'NC-17': 5,\n",
    "    'R': 4,\n",
    "    'PG-13': 3,\n",
    "    'PG': 2,\n",
    "    'G': 1\n",
    "}\n",
    "\n",
    "data['Age rating quantification'] = pd.Categorical(data['Age rating'].map(rating_map))"
   ]
  },
  {
   "cell_type": "markdown",
   "metadata": {},
   "source": [
    "## Sau các bước tiền xử lý"
   ]
  },
  {
   "cell_type": "markdown",
   "metadata": {},
   "source": [
    "Số hàng, số cột của dữ liệu:"
   ]
  },
  {
   "cell_type": "code",
   "execution_count": 279,
   "metadata": {},
   "outputs": [
    {
     "data": {
      "text/plain": [
       "(1725, 23)"
      ]
     },
     "execution_count": 279,
     "metadata": {},
     "output_type": "execute_result"
    }
   ],
   "source": [
    "data.shape"
   ]
  },
  {
   "cell_type": "markdown",
   "metadata": {},
   "source": [
    "Các cột có ý nghĩa như sau:\n",
    "|Tên cột|Ý nghĩa|\n",
    "|-------|-------|\n",
    "| Title| Tên của bộ phim|\n",
    "| Realease time| Thời gian phát hành của bộ phim|\n",
    "| Age rating| Đánh giá độ tuổi phù hợp để xem phim|\n",
    "| Runtime| Thời lượng của bộ phim|\n",
    "| Genre| Thể loại của bộ phim|\n",
    "| Language| Ngôn ngữ chính được sử dụng trong bộ phim|\n",
    "| IMDb Rating| Điểm đánh giá của bộ phim trên IMDb|\n",
    "| IMDb Votes| Số lượt bình chọn của người dùng trên IMDb|\n",
    "| Domestic Revenue| Doanh thu nội địa|\n",
    "| Action/Adventure| Phim thuộc thể loại hành động hoặc phiêu lưu|\n",
    "| Animation| Phim hoạt hình|\n",
    "| Biography/History/War| Phim thuộc thể loại tiểu sử, lịch sử, hoặc chiến tranh|\n",
    "| Comedy| Phim hài|\n",
    "| Crime| Phim thuộc thể loại hình sự |\n",
    "| Docummentary| Phim tài liệu|\n",
    "| Drama| Phim chính kịch|\n",
    "| Fantasy/Sci-Fi| Phim thuộc thể loại giả tưởng hoặc khoa học viễn tưởng|\n",
    "| Horror/Thriller/Mystery| Phim thuộc thể loại kinh dị, hồi hộp, hoặc bí ẩn|\n",
    "| Kids/Family| Phim dành cho trẻ em hoặc gia đình|\n",
    "| Music/Musical| Phim âm nhạc hoặc nhạc kịch|\n",
    "| Other| Các thể loại phim khác|\n",
    "| Romance| Phim thuộc thể loại lãng mạn|\n",
    "| Win | Số lượng giải phim đạt được |\n",
    "| Nomination| Số lần phim được đề cử |\n",
    "| Age rating quantification| Đánh giá định lượng cho độ tuổi phù hợp để xem phim|\n"
   ]
  },
  {
   "cell_type": "markdown",
   "metadata": {},
   "source": [
    "Kiểu dữ liệu của các cột"
   ]
  },
  {
   "cell_type": "code",
   "execution_count": 280,
   "metadata": {},
   "outputs": [
    {
     "data": {
      "text/plain": [
       "Title                                object\n",
       "Release time                 datetime64[ns]\n",
       "Age rating                           object\n",
       "Runtime                             float64\n",
       "Language                             object\n",
       "IMDb Rating                         float64\n",
       "IMDb Votes                          float64\n",
       "Action/Adventure                      int64\n",
       "Animation                             int64\n",
       "Biography/History/War                 int64\n",
       "Comedy                                int64\n",
       "Crime                                 int64\n",
       "Docummentary                          int64\n",
       "Drama                                 int64\n",
       "Fantasy/Sci-Fi                        int64\n",
       "Horror/Thriller/Mystery               int64\n",
       "Kids/Family                           int64\n",
       "Music/Musical                         int64\n",
       "Other                                 int64\n",
       "Romance                               int64\n",
       "Win                                 float64\n",
       "Nomination                          float64\n",
       "Age rating quantification          category\n",
       "dtype: object"
      ]
     },
     "execution_count": 280,
     "metadata": {},
     "output_type": "execute_result"
    }
   ],
   "source": [
    "data.dtypes"
   ]
  },
  {
   "cell_type": "markdown",
   "metadata": {},
   "source": [
    "Thực hiện lưu dữ liệu này vào 1 tệp mới và thực hiện phân tích trên tệp này."
   ]
  },
  {
   "cell_type": "code",
   "execution_count": 281,
   "metadata": {},
   "outputs": [
    {
     "ename": "OSError",
     "evalue": "Cannot save file into a non-existent directory: '../IntroToDS/Data'",
     "output_type": "error",
     "traceback": [
      "\u001b[0;31m---------------------------------------------------------------------------\u001b[0m",
      "\u001b[0;31mOSError\u001b[0m                                   Traceback (most recent call last)",
      "Cell \u001b[0;32mIn[281], line 1\u001b[0m\n\u001b[0;32m----> 1\u001b[0m data\u001b[38;5;241m.\u001b[39mto_csv(\u001b[38;5;124m'\u001b[39m\u001b[38;5;124m../IntroToDS/Data/movie_data.csv\u001b[39m\u001b[38;5;124m'\u001b[39m, index\u001b[38;5;241m=\u001b[39m\u001b[38;5;28;01mFalse\u001b[39;00m)\n",
      "File \u001b[0;32m~/anaconda3/lib/python3.12/site-packages/pandas/util/_decorators.py:333\u001b[0m, in \u001b[0;36mdeprecate_nonkeyword_arguments.<locals>.decorate.<locals>.wrapper\u001b[0;34m(*args, **kwargs)\u001b[0m\n\u001b[1;32m    327\u001b[0m \u001b[38;5;28;01mif\u001b[39;00m \u001b[38;5;28mlen\u001b[39m(args) \u001b[38;5;241m>\u001b[39m num_allow_args:\n\u001b[1;32m    328\u001b[0m     warnings\u001b[38;5;241m.\u001b[39mwarn(\n\u001b[1;32m    329\u001b[0m         msg\u001b[38;5;241m.\u001b[39mformat(arguments\u001b[38;5;241m=\u001b[39m_format_argument_list(allow_args)),\n\u001b[1;32m    330\u001b[0m         \u001b[38;5;167;01mFutureWarning\u001b[39;00m,\n\u001b[1;32m    331\u001b[0m         stacklevel\u001b[38;5;241m=\u001b[39mfind_stack_level(),\n\u001b[1;32m    332\u001b[0m     )\n\u001b[0;32m--> 333\u001b[0m \u001b[38;5;28;01mreturn\u001b[39;00m func(\u001b[38;5;241m*\u001b[39margs, \u001b[38;5;241m*\u001b[39m\u001b[38;5;241m*\u001b[39mkwargs)\n",
      "File \u001b[0;32m~/anaconda3/lib/python3.12/site-packages/pandas/core/generic.py:3967\u001b[0m, in \u001b[0;36mNDFrame.to_csv\u001b[0;34m(self, path_or_buf, sep, na_rep, float_format, columns, header, index, index_label, mode, encoding, compression, quoting, quotechar, lineterminator, chunksize, date_format, doublequote, escapechar, decimal, errors, storage_options)\u001b[0m\n\u001b[1;32m   3956\u001b[0m df \u001b[38;5;241m=\u001b[39m \u001b[38;5;28mself\u001b[39m \u001b[38;5;28;01mif\u001b[39;00m \u001b[38;5;28misinstance\u001b[39m(\u001b[38;5;28mself\u001b[39m, ABCDataFrame) \u001b[38;5;28;01melse\u001b[39;00m \u001b[38;5;28mself\u001b[39m\u001b[38;5;241m.\u001b[39mto_frame()\n\u001b[1;32m   3958\u001b[0m formatter \u001b[38;5;241m=\u001b[39m DataFrameFormatter(\n\u001b[1;32m   3959\u001b[0m     frame\u001b[38;5;241m=\u001b[39mdf,\n\u001b[1;32m   3960\u001b[0m     header\u001b[38;5;241m=\u001b[39mheader,\n\u001b[0;32m   (...)\u001b[0m\n\u001b[1;32m   3964\u001b[0m     decimal\u001b[38;5;241m=\u001b[39mdecimal,\n\u001b[1;32m   3965\u001b[0m )\n\u001b[0;32m-> 3967\u001b[0m \u001b[38;5;28;01mreturn\u001b[39;00m DataFrameRenderer(formatter)\u001b[38;5;241m.\u001b[39mto_csv(\n\u001b[1;32m   3968\u001b[0m     path_or_buf,\n\u001b[1;32m   3969\u001b[0m     lineterminator\u001b[38;5;241m=\u001b[39mlineterminator,\n\u001b[1;32m   3970\u001b[0m     sep\u001b[38;5;241m=\u001b[39msep,\n\u001b[1;32m   3971\u001b[0m     encoding\u001b[38;5;241m=\u001b[39mencoding,\n\u001b[1;32m   3972\u001b[0m     errors\u001b[38;5;241m=\u001b[39merrors,\n\u001b[1;32m   3973\u001b[0m     compression\u001b[38;5;241m=\u001b[39mcompression,\n\u001b[1;32m   3974\u001b[0m     quoting\u001b[38;5;241m=\u001b[39mquoting,\n\u001b[1;32m   3975\u001b[0m     columns\u001b[38;5;241m=\u001b[39mcolumns,\n\u001b[1;32m   3976\u001b[0m     index_label\u001b[38;5;241m=\u001b[39mindex_label,\n\u001b[1;32m   3977\u001b[0m     mode\u001b[38;5;241m=\u001b[39mmode,\n\u001b[1;32m   3978\u001b[0m     chunksize\u001b[38;5;241m=\u001b[39mchunksize,\n\u001b[1;32m   3979\u001b[0m     quotechar\u001b[38;5;241m=\u001b[39mquotechar,\n\u001b[1;32m   3980\u001b[0m     date_format\u001b[38;5;241m=\u001b[39mdate_format,\n\u001b[1;32m   3981\u001b[0m     doublequote\u001b[38;5;241m=\u001b[39mdoublequote,\n\u001b[1;32m   3982\u001b[0m     escapechar\u001b[38;5;241m=\u001b[39mescapechar,\n\u001b[1;32m   3983\u001b[0m     storage_options\u001b[38;5;241m=\u001b[39mstorage_options,\n\u001b[1;32m   3984\u001b[0m )\n",
      "File \u001b[0;32m~/anaconda3/lib/python3.12/site-packages/pandas/io/formats/format.py:1014\u001b[0m, in \u001b[0;36mDataFrameRenderer.to_csv\u001b[0;34m(self, path_or_buf, encoding, sep, columns, index_label, mode, compression, quoting, quotechar, lineterminator, chunksize, date_format, doublequote, escapechar, errors, storage_options)\u001b[0m\n\u001b[1;32m    993\u001b[0m     created_buffer \u001b[38;5;241m=\u001b[39m \u001b[38;5;28;01mFalse\u001b[39;00m\n\u001b[1;32m    995\u001b[0m csv_formatter \u001b[38;5;241m=\u001b[39m CSVFormatter(\n\u001b[1;32m    996\u001b[0m     path_or_buf\u001b[38;5;241m=\u001b[39mpath_or_buf,\n\u001b[1;32m    997\u001b[0m     lineterminator\u001b[38;5;241m=\u001b[39mlineterminator,\n\u001b[0;32m   (...)\u001b[0m\n\u001b[1;32m   1012\u001b[0m     formatter\u001b[38;5;241m=\u001b[39m\u001b[38;5;28mself\u001b[39m\u001b[38;5;241m.\u001b[39mfmt,\n\u001b[1;32m   1013\u001b[0m )\n\u001b[0;32m-> 1014\u001b[0m csv_formatter\u001b[38;5;241m.\u001b[39msave()\n\u001b[1;32m   1016\u001b[0m \u001b[38;5;28;01mif\u001b[39;00m created_buffer:\n\u001b[1;32m   1017\u001b[0m     \u001b[38;5;28;01massert\u001b[39;00m \u001b[38;5;28misinstance\u001b[39m(path_or_buf, StringIO)\n",
      "File \u001b[0;32m~/anaconda3/lib/python3.12/site-packages/pandas/io/formats/csvs.py:251\u001b[0m, in \u001b[0;36mCSVFormatter.save\u001b[0;34m(self)\u001b[0m\n\u001b[1;32m    247\u001b[0m \u001b[38;5;250m\u001b[39m\u001b[38;5;124;03m\"\"\"\u001b[39;00m\n\u001b[1;32m    248\u001b[0m \u001b[38;5;124;03mCreate the writer & save.\u001b[39;00m\n\u001b[1;32m    249\u001b[0m \u001b[38;5;124;03m\"\"\"\u001b[39;00m\n\u001b[1;32m    250\u001b[0m \u001b[38;5;66;03m# apply compression and byte/text conversion\u001b[39;00m\n\u001b[0;32m--> 251\u001b[0m \u001b[38;5;28;01mwith\u001b[39;00m get_handle(\n\u001b[1;32m    252\u001b[0m     \u001b[38;5;28mself\u001b[39m\u001b[38;5;241m.\u001b[39mfilepath_or_buffer,\n\u001b[1;32m    253\u001b[0m     \u001b[38;5;28mself\u001b[39m\u001b[38;5;241m.\u001b[39mmode,\n\u001b[1;32m    254\u001b[0m     encoding\u001b[38;5;241m=\u001b[39m\u001b[38;5;28mself\u001b[39m\u001b[38;5;241m.\u001b[39mencoding,\n\u001b[1;32m    255\u001b[0m     errors\u001b[38;5;241m=\u001b[39m\u001b[38;5;28mself\u001b[39m\u001b[38;5;241m.\u001b[39merrors,\n\u001b[1;32m    256\u001b[0m     compression\u001b[38;5;241m=\u001b[39m\u001b[38;5;28mself\u001b[39m\u001b[38;5;241m.\u001b[39mcompression,\n\u001b[1;32m    257\u001b[0m     storage_options\u001b[38;5;241m=\u001b[39m\u001b[38;5;28mself\u001b[39m\u001b[38;5;241m.\u001b[39mstorage_options,\n\u001b[1;32m    258\u001b[0m ) \u001b[38;5;28;01mas\u001b[39;00m handles:\n\u001b[1;32m    259\u001b[0m     \u001b[38;5;66;03m# Note: self.encoding is irrelevant here\u001b[39;00m\n\u001b[1;32m    260\u001b[0m     \u001b[38;5;28mself\u001b[39m\u001b[38;5;241m.\u001b[39mwriter \u001b[38;5;241m=\u001b[39m csvlib\u001b[38;5;241m.\u001b[39mwriter(\n\u001b[1;32m    261\u001b[0m         handles\u001b[38;5;241m.\u001b[39mhandle,\n\u001b[1;32m    262\u001b[0m         lineterminator\u001b[38;5;241m=\u001b[39m\u001b[38;5;28mself\u001b[39m\u001b[38;5;241m.\u001b[39mlineterminator,\n\u001b[0;32m   (...)\u001b[0m\n\u001b[1;32m    267\u001b[0m         quotechar\u001b[38;5;241m=\u001b[39m\u001b[38;5;28mself\u001b[39m\u001b[38;5;241m.\u001b[39mquotechar,\n\u001b[1;32m    268\u001b[0m     )\n\u001b[1;32m    270\u001b[0m     \u001b[38;5;28mself\u001b[39m\u001b[38;5;241m.\u001b[39m_save()\n",
      "File \u001b[0;32m~/anaconda3/lib/python3.12/site-packages/pandas/io/common.py:749\u001b[0m, in \u001b[0;36mget_handle\u001b[0;34m(path_or_buf, mode, encoding, compression, memory_map, is_text, errors, storage_options)\u001b[0m\n\u001b[1;32m    747\u001b[0m \u001b[38;5;66;03m# Only for write methods\u001b[39;00m\n\u001b[1;32m    748\u001b[0m \u001b[38;5;28;01mif\u001b[39;00m \u001b[38;5;124m\"\u001b[39m\u001b[38;5;124mr\u001b[39m\u001b[38;5;124m\"\u001b[39m \u001b[38;5;129;01mnot\u001b[39;00m \u001b[38;5;129;01min\u001b[39;00m mode \u001b[38;5;129;01mand\u001b[39;00m is_path:\n\u001b[0;32m--> 749\u001b[0m     check_parent_directory(\u001b[38;5;28mstr\u001b[39m(handle))\n\u001b[1;32m    751\u001b[0m \u001b[38;5;28;01mif\u001b[39;00m compression:\n\u001b[1;32m    752\u001b[0m     \u001b[38;5;28;01mif\u001b[39;00m compression \u001b[38;5;241m!=\u001b[39m \u001b[38;5;124m\"\u001b[39m\u001b[38;5;124mzstd\u001b[39m\u001b[38;5;124m\"\u001b[39m:\n\u001b[1;32m    753\u001b[0m         \u001b[38;5;66;03m# compression libraries do not like an explicit text-mode\u001b[39;00m\n",
      "File \u001b[0;32m~/anaconda3/lib/python3.12/site-packages/pandas/io/common.py:616\u001b[0m, in \u001b[0;36mcheck_parent_directory\u001b[0;34m(path)\u001b[0m\n\u001b[1;32m    614\u001b[0m parent \u001b[38;5;241m=\u001b[39m Path(path)\u001b[38;5;241m.\u001b[39mparent\n\u001b[1;32m    615\u001b[0m \u001b[38;5;28;01mif\u001b[39;00m \u001b[38;5;129;01mnot\u001b[39;00m parent\u001b[38;5;241m.\u001b[39mis_dir():\n\u001b[0;32m--> 616\u001b[0m     \u001b[38;5;28;01mraise\u001b[39;00m \u001b[38;5;167;01mOSError\u001b[39;00m(\u001b[38;5;124mrf\u001b[39m\u001b[38;5;124m\"\u001b[39m\u001b[38;5;124mCannot save file into a non-existent directory: \u001b[39m\u001b[38;5;124m'\u001b[39m\u001b[38;5;132;01m{\u001b[39;00mparent\u001b[38;5;132;01m}\u001b[39;00m\u001b[38;5;124m'\u001b[39m\u001b[38;5;124m\"\u001b[39m)\n",
      "\u001b[0;31mOSError\u001b[0m: Cannot save file into a non-existent directory: '../IntroToDS/Data'"
     ]
    }
   ],
   "source": [
    "data.to_csv('../IntroToDS/Data/movie_data.csv', index=False)"
   ]
  }
 ],
 "metadata": {
  "kernelspec": {
   "display_name": "base",
   "language": "python",
   "name": "python3"
  },
  "language_info": {
   "codemirror_mode": {
    "name": "ipython",
    "version": 3
   },
   "file_extension": ".py",
   "mimetype": "text/x-python",
   "name": "python",
   "nbconvert_exporter": "python",
   "pygments_lexer": "ipython3",
   "version": "3.12.2"
  }
 },
 "nbformat": 4,
 "nbformat_minor": 2
}
