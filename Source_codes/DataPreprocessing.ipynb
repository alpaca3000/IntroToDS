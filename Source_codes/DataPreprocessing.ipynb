{
 "cells": [
  {
   "cell_type": "markdown",
   "metadata": {},
   "source": [
    "# EXPLORING DATA\n",
    "---"
   ]
  },
  {
   "cell_type": "markdown",
   "metadata": {},
   "source": [
    "Nhiệm vụ của phần này là tổng hợp, làm sạch và phân tích dữ liệu đã được thu thập"
   ]
  },
  {
   "cell_type": "markdown",
   "metadata": {},
   "source": [
    "## IMPORT"
   ]
  },
  {
   "cell_type": "code",
   "execution_count": 1,
   "metadata": {},
   "outputs": [],
   "source": [
    "import pandas as pd\n",
    "import matplotlib.pyplot as plt\n",
    "import seaborn as sns"
   ]
  },
  {
   "cell_type": "markdown",
   "metadata": {},
   "source": [
    "## TỔNG HỢP DỮ LIỆU"
   ]
  },
  {
   "cell_type": "markdown",
   "metadata": {},
   "source": [
    "### 1. Đọc dữ liệu"
   ]
  },
  {
   "cell_type": "code",
   "execution_count": 2,
   "metadata": {},
   "outputs": [],
   "source": [
    "# Đọc dữ liệu từ 3 tệp\n",
    "data_1 = pd.read_csv('../Data/movie_data_part1.csv')\n",
    "data_2 = pd.read_csv('../Data/movie_data_part2.csv')\n",
    "data_3 = pd.read_csv('../Data/movie_data_part3.csv')"
   ]
  },
  {
   "cell_type": "markdown",
   "metadata": {},
   "source": [
    "### 2. Kiểm tra trước khi tổng hợp\n",
    "Kiểm tra xem cả 3 tệp có giống nhau về đặc trưng hay không"
   ]
  },
  {
   "cell_type": "code",
   "execution_count": 3,
   "metadata": {},
   "outputs": [],
   "source": [
    "# Hàm kiểm tra xem các tệp có giống nhau về đặc trưng\n",
    "def check_feature_similarity(df1, df2, df3):\n",
    "    columns_1 = df1.columns.tolist()\n",
    "    columns_2 = df2.columns.tolist()\n",
    "    columns_3 = df3.columns.tolist()\n",
    "\n",
    "    if columns_1 == columns_2 == columns_3:\n",
    "        print(\"The features are identical\")\n",
    "    else:\n",
    "        print(\"The features are not identical:\")\n",
    "        if columns_1 != columns_2:\n",
    "            print(f\"- File 1 and File 2\")\n",
    "            print(set(columns_1).symmetric_difference(columns_2))\n",
    "        if columns_2 != columns_3:\n",
    "            print(f\"- File 2 and File 3\")\n",
    "            print(set(columns_2).symmetric_difference(columns_3))\n",
    "        if columns_1 != columns_3:\n",
    "            print(f\"- File 3 and File 1\")\n",
    "            print(set(columns_3).symmetric_difference(columns_1))"
   ]
  },
  {
   "cell_type": "code",
   "execution_count": 4,
   "metadata": {},
   "outputs": [
    {
     "name": "stdout",
     "output_type": "stream",
     "text": [
      "The features are not identical:\n",
      "- File 2 and File 3\n",
      "{'Unnamed: 0'}\n",
      "- File 3 and File 1\n",
      "{'Unnamed: 0'}\n"
     ]
    }
   ],
   "source": [
    "# TEST\n",
    "check_feature_similarity(data_1, data_2, data_3)"
   ]
  },
  {
   "cell_type": "markdown",
   "metadata": {},
   "source": [
    "Cột không có tên nằm trong tệp 1 và tệp 2 chỉ là cột số thứ tự của các dòng dữ liệu, ta có thể loại bỏ"
   ]
  },
  {
   "cell_type": "code",
   "execution_count": 5,
   "metadata": {},
   "outputs": [],
   "source": [
    "data_1 = data_1.iloc[:, 1:]\n",
    "data_2 = data_2.iloc[:, 1:]"
   ]
  },
  {
   "cell_type": "code",
   "execution_count": 6,
   "metadata": {},
   "outputs": [
    {
     "name": "stdout",
     "output_type": "stream",
     "text": [
      "The features are identical\n"
     ]
    }
   ],
   "source": [
    "# TEST\n",
    "check_feature_similarity(data_1, data_2, data_3)"
   ]
  },
  {
   "cell_type": "markdown",
   "metadata": {},
   "source": [
    "Các đặc trưng của dữ liệu trong 3 tệp đã khớp với nhau"
   ]
  },
  {
   "cell_type": "markdown",
   "metadata": {},
   "source": [
    "### 3. Tổng hợp các tệp"
   ]
  },
  {
   "cell_type": "code",
   "execution_count": 7,
   "metadata": {},
   "outputs": [],
   "source": [
    "data = pd.concat([data_1, data_2, data_3], ignore_index=True)"
   ]
  },
  {
   "cell_type": "markdown",
   "metadata": {},
   "source": [
    "Biến data chứa dữ liệu sau khi tổng hợp"
   ]
  },
  {
   "cell_type": "code",
   "execution_count": 8,
   "metadata": {},
   "outputs": [
    {
     "data": {
      "text/html": [
       "<div>\n",
       "<style scoped>\n",
       "    .dataframe tbody tr th:only-of-type {\n",
       "        vertical-align: middle;\n",
       "    }\n",
       "\n",
       "    .dataframe tbody tr th {\n",
       "        vertical-align: top;\n",
       "    }\n",
       "\n",
       "    .dataframe thead th {\n",
       "        text-align: right;\n",
       "    }\n",
       "</style>\n",
       "<table border=\"1\" class=\"dataframe\">\n",
       "  <thead>\n",
       "    <tr style=\"text-align: right;\">\n",
       "      <th></th>\n",
       "      <th>Title</th>\n",
       "      <th>Release time</th>\n",
       "      <th>Age rating</th>\n",
       "      <th>Runtime</th>\n",
       "      <th>Genre</th>\n",
       "      <th>Lanuage</th>\n",
       "      <th>Awards</th>\n",
       "      <th>Metascore</th>\n",
       "      <th>IMDb Rating</th>\n",
       "      <th>IMDb Votes</th>\n",
       "      <th>Domestic Revenue</th>\n",
       "    </tr>\n",
       "  </thead>\n",
       "  <tbody>\n",
       "    <tr>\n",
       "      <th>0</th>\n",
       "      <td>Goon Squad</td>\n",
       "      <td>18 Jan 2024</td>\n",
       "      <td>NC-17</td>\n",
       "      <td>1h 23min</td>\n",
       "      <td>Crime</td>\n",
       "      <td>English</td>\n",
       "      <td>NaN</td>\n",
       "      <td>NaN</td>\n",
       "      <td>NaN</td>\n",
       "      <td>NaN</td>\n",
       "      <td>NaN</td>\n",
       "    </tr>\n",
       "    <tr>\n",
       "      <th>1</th>\n",
       "      <td>The Phantom Warrior</td>\n",
       "      <td>20 Feb 2024</td>\n",
       "      <td>R</td>\n",
       "      <td>1h 23min</td>\n",
       "      <td>Adventure, Fantasy, Sci-Fi</td>\n",
       "      <td>English</td>\n",
       "      <td>NaN</td>\n",
       "      <td>NaN</td>\n",
       "      <td>2.6</td>\n",
       "      <td>532</td>\n",
       "      <td>NaN</td>\n",
       "    </tr>\n",
       "    <tr>\n",
       "      <th>2</th>\n",
       "      <td>Beyond the Lake</td>\n",
       "      <td>26 Jan 2024</td>\n",
       "      <td>G</td>\n",
       "      <td>1h 38min</td>\n",
       "      <td>Comedy</td>\n",
       "      <td>English</td>\n",
       "      <td>NaN</td>\n",
       "      <td>NaN</td>\n",
       "      <td>NaN</td>\n",
       "      <td>31</td>\n",
       "      <td>NaN</td>\n",
       "    </tr>\n",
       "    <tr>\n",
       "      <th>3</th>\n",
       "      <td>Crimes of Fashion: Killer Clutch</td>\n",
       "      <td>15 Mar 2024</td>\n",
       "      <td>PG</td>\n",
       "      <td>1h 24min</td>\n",
       "      <td>Crime, Drama, Mystery</td>\n",
       "      <td>English, French</td>\n",
       "      <td>NaN</td>\n",
       "      <td>NaN</td>\n",
       "      <td>5.8</td>\n",
       "      <td>503</td>\n",
       "      <td>NaN</td>\n",
       "    </tr>\n",
       "    <tr>\n",
       "      <th>4</th>\n",
       "      <td>Love on the Danube: Love Song</td>\n",
       "      <td>10 Sep 2024</td>\n",
       "      <td>G</td>\n",
       "      <td>1h 24min</td>\n",
       "      <td>Romance</td>\n",
       "      <td>English</td>\n",
       "      <td>NaN</td>\n",
       "      <td>NaN</td>\n",
       "      <td>5.8</td>\n",
       "      <td>175</td>\n",
       "      <td>NaN</td>\n",
       "    </tr>\n",
       "  </tbody>\n",
       "</table>\n",
       "</div>"
      ],
      "text/plain": [
       "                              Title Release time Age rating   Runtime  \\\n",
       "0                        Goon Squad  18 Jan 2024      NC-17  1h 23min   \n",
       "1               The Phantom Warrior  20 Feb 2024          R  1h 23min   \n",
       "2                   Beyond the Lake  26 Jan 2024          G  1h 38min   \n",
       "3  Crimes of Fashion: Killer Clutch  15 Mar 2024         PG  1h 24min   \n",
       "4     Love on the Danube: Love Song  10 Sep 2024          G  1h 24min   \n",
       "\n",
       "                        Genre          Lanuage Awards  Metascore  IMDb Rating  \\\n",
       "0                       Crime          English    NaN        NaN          NaN   \n",
       "1  Adventure, Fantasy, Sci-Fi          English    NaN        NaN          2.6   \n",
       "2                      Comedy          English    NaN        NaN          NaN   \n",
       "3       Crime, Drama, Mystery  English, French    NaN        NaN          5.8   \n",
       "4                     Romance          English    NaN        NaN          5.8   \n",
       "\n",
       "  IMDb Votes Domestic Revenue  \n",
       "0        NaN              NaN  \n",
       "1        532              NaN  \n",
       "2         31              NaN  \n",
       "3        503              NaN  \n",
       "4        175              NaN  "
      ]
     },
     "execution_count": 8,
     "metadata": {},
     "output_type": "execute_result"
    }
   ],
   "source": [
    "data.head()"
   ]
  },
  {
   "cell_type": "markdown",
   "metadata": {},
   "source": [
    "## LÀM SẠCH VÀ PHÂN TÍCH DỮ LIỆU"
   ]
  },
  {
   "cell_type": "markdown",
   "metadata": {},
   "source": [
    "### 1. Dữ liệu có bao nhiêu dòng, cột"
   ]
  },
  {
   "cell_type": "code",
   "execution_count": 9,
   "metadata": {},
   "outputs": [
    {
     "data": {
      "text/plain": [
       "(1796, 11)"
      ]
     },
     "execution_count": 9,
     "metadata": {},
     "output_type": "execute_result"
    }
   ],
   "source": [
    "data.shape"
   ]
  },
  {
   "cell_type": "markdown",
   "metadata": {},
   "source": [
    "### 2. Thông tin về các dòng dữ liệu"
   ]
  },
  {
   "cell_type": "markdown",
   "metadata": {},
   "source": [
    "#### 2.1 Ý nghĩa từng dòng dữ liệu"
   ]
  },
  {
   "cell_type": "markdown",
   "metadata": {},
   "source": [
    "- Mỗi dòng là đại diện cho một bộ phim, cung cấp thông tin về tên, thời gian phát hành, thể loại, ngôn ngữ, đánh giá, doanh thu và các thông tin khác liên quan đến bộ phim đó. \n",
    "\n",
    "- Không có dòng nào có ý nghĩa khác với các dòng còn lại."
   ]
  },
  {
   "cell_type": "markdown",
   "metadata": {},
   "source": [
    "#### 2.2 Kiểm tra các dòng dữ liệu trùng lặp"
   ]
  },
  {
   "cell_type": "code",
   "execution_count": 10,
   "metadata": {},
   "outputs": [
    {
     "data": {
      "text/plain": [
       "27"
      ]
     },
     "execution_count": 10,
     "metadata": {},
     "output_type": "execute_result"
    }
   ],
   "source": [
    "n_duplicate = data.duplicated().sum()\n",
    "n_duplicate"
   ]
  },
  {
   "cell_type": "markdown",
   "metadata": {},
   "source": [
    "Xử lý các đữ liệu trùng lặp"
   ]
  },
  {
   "cell_type": "code",
   "execution_count": 11,
   "metadata": {},
   "outputs": [
    {
     "data": {
      "text/plain": [
       "(1769, 11)"
      ]
     },
     "execution_count": 11,
     "metadata": {},
     "output_type": "execute_result"
    }
   ],
   "source": [
    "if n_duplicate > 0:\n",
    "    data = data.drop_duplicates()\n",
    "\n",
    "data.shape"
   ]
  },
  {
   "cell_type": "markdown",
   "metadata": {},
   "source": [
    "### 3. Thông tin về các cột dữ liệu\n",
    "Dữ liệu có các cột sau"
   ]
  },
  {
   "cell_type": "code",
   "execution_count": 12,
   "metadata": {},
   "outputs": [
    {
     "data": {
      "text/plain": [
       "Index(['Title', 'Release time', 'Age rating', 'Runtime', 'Genre', 'Lanuage',\n",
       "       'Awards', 'Metascore', 'IMDb Rating', 'IMDb Votes', 'Domestic Revenue'],\n",
       "      dtype='object')"
      ]
     },
     "execution_count": 12,
     "metadata": {},
     "output_type": "execute_result"
    }
   ],
   "source": [
    "data.columns"
   ]
  },
  {
   "cell_type": "markdown",
   "metadata": {},
   "source": [
    "Có một tên cột bị sai chính tả, sửa lại cho đúng"
   ]
  },
  {
   "cell_type": "code",
   "execution_count": 13,
   "metadata": {},
   "outputs": [],
   "source": [
    "data = data.rename(columns={'Lanuage': 'Language'})"
   ]
  },
  {
   "cell_type": "markdown",
   "metadata": {},
   "source": [
    "### 3.1 Ý nghĩa của các cột dữ liệu"
   ]
  },
  {
   "cell_type": "markdown",
   "metadata": {},
   "source": [
    "Mỗi cột có ý nghĩa sau: \n",
    "|Tên cột|Ý nghĩa|\n",
    "|-------|-------|\n",
    "| Title| Tên của bộ phim|\n",
    "| Realease time| Thời gian phát hành của bộ phim|\n",
    "| Age rating| Đánh giá độ tuổi phù hợp để xem phim|\n",
    "| Runtime| Thời lượng của bộ phim|\n",
    "| Genre| Thể loại của bộ phim|\n",
    "| Language| Ngôn ngữ chính được sử dụng trong bộ phim|\n",
    "| Awards| Số lượng hoặc tên giải thưởng mà bộ phim nhận được (nếu có)|\n",
    "| Metascore| Điểm đánh giá từ Metacritic|\n",
    "| IMDb Rating| Điểm đánh giá của bộ phim trên IMDb|\n",
    "| IMDb Votes| Số lượt bình chọn của người dùng trên IMDb|\n",
    "| Domestic Revenue|Doanh thu nội địa|"
   ]
  },
  {
   "cell_type": "markdown",
   "metadata": {},
   "source": [
    "Trong cột Age rating có các giá trị sau NC-17, R, PG-13, PG, G có ý nghĩa là:\n",
    "- NC-17: Phim dành cho khán giả từ 17 tuổi trở lên, nội dung mạnh mẽ, chứa nhiều yếu tố gây ảnh hưởng xấu đến nhân cách, đạo đức, khuyến khích hành vi phạm tội\n",
    "- R: Phim chỉ dành cho khán giả từ 17 tuổi trở lên nhưng không nghiêm trọng để đạt xếp loại NC-17\n",
    "- PG-13: Phim dành cho khán giả trên 13 tuổi\n",
    "- PG: Phim có thể xem cho mọi lứa tuổi, nhưng có thể chứa một số cảnh hoặc chủ đề cần lưu ý đối với trẻ nhỏ.\n",
    "- G: Phim dành cho tất cả mọi lứa tuổi"
   ]
  },
  {
   "cell_type": "markdown",
   "metadata": {},
   "source": [
    "### 3.2 Kiểm tra kiểu dữ liệu của mỗi cột\n",
    "Kiểu dữ liệu hiện tại của các cột"
   ]
  },
  {
   "cell_type": "code",
   "execution_count": 14,
   "metadata": {},
   "outputs": [
    {
     "data": {
      "text/plain": [
       "Title                object\n",
       "Release time         object\n",
       "Age rating           object\n",
       "Runtime              object\n",
       "Genre                object\n",
       "Language             object\n",
       "Awards               object\n",
       "Metascore           float64\n",
       "IMDb Rating         float64\n",
       "IMDb Votes           object\n",
       "Domestic Revenue     object\n",
       "dtype: object"
      ]
     },
     "execution_count": 14,
     "metadata": {},
     "output_type": "execute_result"
    }
   ],
   "source": [
    "data.dtypes"
   ]
  },
  {
   "cell_type": "markdown",
   "metadata": {},
   "source": [
    "Có một số cột dữ liệu chưa được xác định với các kiểu dữ liệu phù hợp.\n",
    "\n",
    "- Ta chuyển cột **Release time** qua kiểu dữ liệu date time\n",
    "\n",
    "- Ta chuyển các cột **Runtime, IMDb Votes, Domestic Revenue** từ định tính qua định lượng\n",
    "\n",
    "- Cột **Genre** sẽ được tách ra nhiều đặc trưng tương ứng với từng thể loại\n",
    "\n",
    "- Cột **Awards** sẽ được tách ra thành 2 cột là **Win** và **Nomination** để phân biệt phim nào được đạt giải và được đề cử \n"
   ]
  },
  {
   "cell_type": "markdown",
   "metadata": {},
   "source": [
    "##### Release time"
   ]
  },
  {
   "cell_type": "code",
   "execution_count": 15,
   "metadata": {},
   "outputs": [],
   "source": [
    "data['Release time'] = pd.to_datetime(data['Release time'], errors='coerce')"
   ]
  },
  {
   "cell_type": "markdown",
   "metadata": {},
   "source": [
    "##### Runtime"
   ]
  },
  {
   "cell_type": "code",
   "execution_count": 16,
   "metadata": {},
   "outputs": [],
   "source": [
    "def convert_runtime_to_minutes(runtime):\n",
    "    try:\n",
    "        if 'h' in runtime and 'min' in runtime:  # Có cả giờ và phút\n",
    "            parts = runtime.split('h')\n",
    "            hours = int(parts[0].strip())  # Phần trước 'h' là số giờ\n",
    "            minutes = int(parts[1].replace('min', '').strip())  # Phần sau 'h' là số phút\n",
    "            return hours * 60 + minutes\n",
    "        elif 'min' in runtime:  # Chỉ có phút\n",
    "            minutes = int(runtime.replace('min', '').strip())\n",
    "            return minutes\n",
    "        elif 'h' in runtime:  # Chỉ có giờ\n",
    "            hours = int(runtime.replace('h', '').strip())\n",
    "            return hours * 60\n",
    "        else:\n",
    "            return None  # Nếu không đúng định dạng\n",
    "    except (ValueError, AttributeError):\n",
    "        return None  # Xử lý ngoại lệ nếu giá trị không hợp lệ\n"
   ]
  },
  {
   "cell_type": "code",
   "execution_count": 17,
   "metadata": {},
   "outputs": [],
   "source": [
    "data['Runtime'] = data['Runtime'].dropna().apply(convert_runtime_to_minutes)"
   ]
  },
  {
   "cell_type": "markdown",
   "metadata": {},
   "source": [
    "##### Genre\n",
    "Ta sẽ tách cột Genre thành nhiều cột tương ứng với từng thể loại, giá trị trong cột sẽ là 0 hoặc 1, trước hết xem xét trong dữ liệu có bao nhiêu thể loại"
   ]
  },
  {
   "cell_type": "code",
   "execution_count": 18,
   "metadata": {},
   "outputs": [
    {
     "name": "stdout",
     "output_type": "stream",
     "text": [
      "{'Adventure', 'Family', 'Action & Adventure', 'Crime', 'Game-Show', 'Sci-Fi', 'Comedy', 'Reality-TV', 'Sport', 'Thriller', 'Romance', 'Drama', 'Biography', 'Kids & Family', 'News', 'Mystery & Thriller', 'War', 'History', 'Musical', 'Horror', 'Action', 'Short', 'Western', 'Documentary', 'Fantasy', 'Animation', 'Music', 'Mystery', 'Talk-Show'}\n"
     ]
    }
   ],
   "source": [
    "unique_genres = set(genre for row in data['Genre'].dropna() for genre in row.split(', '))\n",
    "print(unique_genres)"
   ]
  },
  {
   "cell_type": "markdown",
   "metadata": {},
   "source": [
    "Ta tách cột Genre thành các cột thể loại tương ứng"
   ]
  },
  {
   "cell_type": "code",
   "execution_count": 19,
   "metadata": {},
   "outputs": [],
   "source": [
    "# Sử dụng one-hot encoding để tách thành nhiều cột theo dấu \"&\" và dấu \",\"\n",
    "genre_dummies = data['Genre'].str.split(r' & |, ', expand=True).stack().str.get_dummies().groupby(level=0).sum()\n",
    "\n",
    "# Chuyển thành kiểu dữ liệu boolean\n",
    "genre_dummies = genre_dummies.astype(bool)\n",
    "\n",
    "# Gắn các cột mới vào DataFrame ban đầu\n",
    "data = pd.concat([data, genre_dummies], axis=1)\n",
    "\n",
    "# Xóa cột Genre\n",
    "data.drop(columns=['Genre'], inplace=True)"
   ]
  },
  {
   "cell_type": "markdown",
   "metadata": {},
   "source": [
    "Xóa những thể loại có tần suất dưới 10"
   ]
  },
  {
   "cell_type": "code",
   "execution_count": 20,
   "metadata": {},
   "outputs": [],
   "source": [
    "# Tách các cột thể loại từ cột thứ 11 trở đi (vì các cột thể loại bắt đầu từ cột thứ 11)\n",
    "genre_columns = data.columns[10:]\n",
    "\n",
    "# Tính tổng số lần xuất hiện của mỗi thể loại\n",
    "genre_counts = data[genre_columns].sum()\n",
    "\n",
    "# Lọc các cột thể loại có tần suất >= 10\n",
    "columns_to_keep = genre_counts[genre_counts >= 10].index\n",
    "\n",
    "# Xóa các cột thể loại có tần suất dưới 10 (giữ các cột ban đầu và cột có tần suất trên 10)\n",
    "data = data[data.columns[:10].tolist() + list(columns_to_keep)]"
   ]
  },
  {
   "cell_type": "markdown",
   "metadata": {},
   "source": [
    "##### Awards"
   ]
  },
  {
   "cell_type": "markdown",
   "metadata": {},
   "source": [
    "Ta tách cột Awards thành 2 cột riêng là Win và Nomination"
   ]
  },
  {
   "cell_type": "code",
   "execution_count": 21,
   "metadata": {},
   "outputs": [],
   "source": [
    "# Tách cột Award thành 2 cột Win và Nomination\n",
    "data[['Win', 'Nomination']] = data['Awards'].str.extract(r'(\\d+)\\s+win.*&\\s+(\\d+)\\s+nomination')\n",
    "\n",
    "# Chuyển dữ liệu trong các cột Win và Nomination thành kiểu số\n",
    "data['Win'] = pd.to_numeric(data['Win'], errors='coerce')  # Coerce chuyển giá trị không thể chuyển thành NaN\n",
    "data['Win'] = data['Win'].fillna(0)\n",
    "\n",
    "data['Nomination'] = pd.to_numeric(data['Nomination'], errors='coerce')\n",
    "data['Nomination'] = data['Nomination'].fillna(0)\n",
    "\n",
    "# Xóa cột Awards\n",
    "data = data.drop(columns=['Awards'])    "
   ]
  },
  {
   "cell_type": "markdown",
   "metadata": {},
   "source": [
    "##### IMDb Votes"
   ]
  },
  {
   "cell_type": "code",
   "execution_count": 22,
   "metadata": {},
   "outputs": [],
   "source": [
    "data['IMDb Votes'] = data['IMDb Votes'].replace({',': ''}, regex=True)\n",
    "data['IMDb Votes'] = data['IMDb Votes'].dropna().astype(float)"
   ]
  },
  {
   "cell_type": "markdown",
   "metadata": {},
   "source": [
    "##### Domestic Revenue\n"
   ]
  },
  {
   "cell_type": "code",
   "execution_count": 23,
   "metadata": {},
   "outputs": [],
   "source": [
    "data['Domestic Revenue'] = data['Domestic Revenue'].replace({'\\$': '', ',': ''}, regex=True)\n",
    "data['Domestic Revenue'] = data['Domestic Revenue'].dropna().astype(float)"
   ]
  },
  {
   "cell_type": "markdown",
   "metadata": {},
   "source": [
    "Kiểm tra lại"
   ]
  },
  {
   "cell_type": "code",
   "execution_count": 24,
   "metadata": {},
   "outputs": [
    {
     "data": {
      "text/plain": [
       "Title                       object\n",
       "Release time        datetime64[ns]\n",
       "Age rating                  object\n",
       "Runtime                    float64\n",
       "Language                    object\n",
       "Metascore                  float64\n",
       "IMDb Rating                float64\n",
       "IMDb Votes                 float64\n",
       "Domestic Revenue           float64\n",
       "Action                        bool\n",
       "Adventure                     bool\n",
       "Animation                     bool\n",
       "Biography                     bool\n",
       "Comedy                        bool\n",
       "Crime                         bool\n",
       "Documentary                   bool\n",
       "Drama                         bool\n",
       "Family                        bool\n",
       "Fantasy                       bool\n",
       "History                       bool\n",
       "Horror                        bool\n",
       "Music                         bool\n",
       "Musical                       bool\n",
       "Mystery                       bool\n",
       "Romance                       bool\n",
       "Sci-Fi                        bool\n",
       "Short                         bool\n",
       "Sport                         bool\n",
       "Thriller                      bool\n",
       "War                           bool\n",
       "Western                       bool\n",
       "Win                        float64\n",
       "Nomination                 float64\n",
       "dtype: object"
      ]
     },
     "execution_count": 24,
     "metadata": {},
     "output_type": "execute_result"
    }
   ],
   "source": [
    "data.dtypes"
   ]
  },
  {
   "cell_type": "markdown",
   "metadata": {},
   "source": [
    "Các cột đã có kiểu dữ liệu phù hợp"
   ]
  },
  {
   "cell_type": "markdown",
   "metadata": {},
   "source": [
    "### 3.3 Sự phân bố dữ liệu của các cột có kiểu định tính\n",
    "Các cột có kiểu dữ liệu định tính"
   ]
  },
  {
   "cell_type": "code",
   "execution_count": 25,
   "metadata": {},
   "outputs": [
    {
     "name": "stdout",
     "output_type": "stream",
     "text": [
      "Categorical columns: \n",
      "Title\n",
      "Release time\n",
      "Age rating\n",
      "Language\n",
      "Action\n",
      "Adventure\n",
      "Animation\n",
      "Biography\n",
      "Comedy\n",
      "Crime\n",
      "Documentary\n",
      "Drama\n",
      "Family\n",
      "Fantasy\n",
      "History\n",
      "Horror\n",
      "Music\n",
      "Musical\n",
      "Mystery\n",
      "Romance\n",
      "Sci-Fi\n",
      "Short\n",
      "Sport\n",
      "Thriller\n",
      "War\n",
      "Western\n"
     ]
    }
   ],
   "source": [
    "categorical_columns = data.select_dtypes(include=['object', 'bool', 'datetime64[ns]']).columns.tolist()\n",
    "print('Categorical columns: ')\n",
    "for col_name in categorical_columns:\n",
    "    print(col_name)"
   ]
  },
  {
   "cell_type": "markdown",
   "metadata": {},
   "source": [
    "#### 3.3.1 Tỉ lệ phần trăm các giá trị bị thiếu trong mỗi cột"
   ]
  },
  {
   "cell_type": "code",
   "execution_count": 26,
   "metadata": {},
   "outputs": [
    {
     "name": "stdout",
     "output_type": "stream",
     "text": [
      "Title: 0.00%\n",
      "Release time: 2.49%\n",
      "Age rating: 0.00%\n",
      "Language: 5.54%\n",
      "Action: 0.00%\n",
      "Adventure: 0.00%\n",
      "Animation: 0.00%\n",
      "Biography: 0.00%\n",
      "Comedy: 0.00%\n",
      "Crime: 0.00%\n",
      "Documentary: 0.00%\n",
      "Drama: 0.00%\n",
      "Family: 0.00%\n",
      "Fantasy: 0.00%\n",
      "History: 0.00%\n",
      "Horror: 0.00%\n",
      "Music: 0.00%\n",
      "Musical: 0.00%\n",
      "Mystery: 0.00%\n",
      "Romance: 0.00%\n",
      "Sci-Fi: 0.00%\n",
      "Short: 0.00%\n",
      "Sport: 0.00%\n",
      "Thriller: 0.00%\n",
      "War: 0.00%\n",
      "Western: 0.00%\n"
     ]
    }
   ],
   "source": [
    "for col_name in categorical_columns:\n",
    "    missing_rate = data[col_name].isnull().mean() * 100\n",
    "    print(f'{col_name}: {missing_rate:.2f}%')"
   ]
  },
  {
   "cell_type": "markdown",
   "metadata": {},
   "source": [
    "Trong quá trình khám phá dữ liệu, đã phát hiện 2 cột định tính có giá trị bị thiếu. Cụ thể là cột **Release time**(2,49%) và **Language** (5,54%)\n",
    "\n",
    "Để khắc phục vấn đề này\n",
    "- Ở cột Release time, ta sẽ xóa luôn các giá trị thiếu này. Vì giá trị bị thiếu rất ít (2,49%) nên sẽ không ảnh hưởng đáng kể đến tổng thể dữ liệu\n",
    "- Ở cột Language, điền giá trị phổ biến nhất (mode) vào những ô bị thiếu. Vì tỷ lệ giá trị thiếu chỉ có 5,54%, điền mode vừa giúp đảm bảo dữ liệu vẫn đầy đủ, vừa duy trì tính đại diện cho tập dữ liệu, hạn chế tối đa sai lệch phân phối các giá trị trong toàn bộ tập dữ liệu"
   ]
  },
  {
   "cell_type": "code",
   "execution_count": 27,
   "metadata": {},
   "outputs": [],
   "source": [
    "# Xóa các hàng có giá trị thiếu trong cột Release time\n",
    "data.dropna(subset=['Release time'], inplace=True)\n",
    "\n",
    "# Điền giá trị phổ biến nhất vào những ô bị thiếu\n",
    "mode_value = data['Language'].mode()[0]\n",
    "data['Language'] = data['Language'].fillna(mode_value)"
   ]
  },
  {
   "cell_type": "markdown",
   "metadata": {},
   "source": [
    "#### 3.3.2 Số giá trị phân biệt của mỗi cột"
   ]
  },
  {
   "cell_type": "code",
   "execution_count": 28,
   "metadata": {},
   "outputs": [],
   "source": [
    "# Hàm tính toán sự phân bố các giá trị\n",
    "def compute_distribution(dataframe, column):\n",
    "    value_counts = dataframe[column].value_counts(dropna=False) \n",
    "    db = {}\n",
    "    for value, count in value_counts.items():\n",
    "        db[value] = count\n",
    "    \n",
    "    return db"
   ]
  },
  {
   "cell_type": "code",
   "execution_count": 29,
   "metadata": {},
   "outputs": [],
   "source": [
    "# Tìm phân bố giá trị\n",
    "cat_distribution = {}\n",
    "\n",
    "for column in categorical_columns:\n",
    "    cat_distribution[column] = compute_distribution(data, column)"
   ]
  },
  {
   "cell_type": "code",
   "execution_count": 30,
   "metadata": {},
   "outputs": [
    {
     "data": {
      "text/html": [
       "<div>\n",
       "<style scoped>\n",
       "    .dataframe tbody tr th:only-of-type {\n",
       "        vertical-align: middle;\n",
       "    }\n",
       "\n",
       "    .dataframe tbody tr th {\n",
       "        vertical-align: top;\n",
       "    }\n",
       "\n",
       "    .dataframe thead th {\n",
       "        text-align: right;\n",
       "    }\n",
       "</style>\n",
       "<table border=\"1\" class=\"dataframe\">\n",
       "  <thead>\n",
       "    <tr style=\"text-align: right;\">\n",
       "      <th></th>\n",
       "      <th>Column</th>\n",
       "      <th>Distinct_Values</th>\n",
       "      <th>Value_Distribution</th>\n",
       "    </tr>\n",
       "  </thead>\n",
       "  <tbody>\n",
       "    <tr>\n",
       "      <th>0</th>\n",
       "      <td>Title</td>\n",
       "      <td>1719</td>\n",
       "      <td>{'Horizon: An American Saga - Chapter 1': 2, '...</td>\n",
       "    </tr>\n",
       "    <tr>\n",
       "      <th>1</th>\n",
       "      <td>Release time</td>\n",
       "      <td>557</td>\n",
       "      <td>{2024-09-13 00:00:00: 17, 2024-10-18 00:00:00:...</td>\n",
       "    </tr>\n",
       "    <tr>\n",
       "      <th>2</th>\n",
       "      <td>Age rating</td>\n",
       "      <td>5</td>\n",
       "      <td>{'R': 798, 'PG-13': 450, 'PG': 273, 'G': 179, ...</td>\n",
       "    </tr>\n",
       "    <tr>\n",
       "      <th>3</th>\n",
       "      <td>Language</td>\n",
       "      <td>165</td>\n",
       "      <td>{'English': 1296, 'Spanish': 37, 'English, Spa...</td>\n",
       "    </tr>\n",
       "    <tr>\n",
       "      <th>4</th>\n",
       "      <td>Action</td>\n",
       "      <td>2</td>\n",
       "      <td>{False: 1454, True: 271}</td>\n",
       "    </tr>\n",
       "    <tr>\n",
       "      <th>5</th>\n",
       "      <td>Adventure</td>\n",
       "      <td>2</td>\n",
       "      <td>{False: 1542, True: 183}</td>\n",
       "    </tr>\n",
       "    <tr>\n",
       "      <th>6</th>\n",
       "      <td>Animation</td>\n",
       "      <td>2</td>\n",
       "      <td>{False: 1614, True: 111}</td>\n",
       "    </tr>\n",
       "    <tr>\n",
       "      <th>7</th>\n",
       "      <td>Biography</td>\n",
       "      <td>2</td>\n",
       "      <td>{False: 1644, True: 81}</td>\n",
       "    </tr>\n",
       "    <tr>\n",
       "      <th>8</th>\n",
       "      <td>Comedy</td>\n",
       "      <td>2</td>\n",
       "      <td>{False: 1259, True: 466}</td>\n",
       "    </tr>\n",
       "    <tr>\n",
       "      <th>9</th>\n",
       "      <td>Crime</td>\n",
       "      <td>2</td>\n",
       "      <td>{False: 1550, True: 175}</td>\n",
       "    </tr>\n",
       "    <tr>\n",
       "      <th>10</th>\n",
       "      <td>Documentary</td>\n",
       "      <td>2</td>\n",
       "      <td>{False: 1443, True: 282}</td>\n",
       "    </tr>\n",
       "    <tr>\n",
       "      <th>11</th>\n",
       "      <td>Drama</td>\n",
       "      <td>2</td>\n",
       "      <td>{False: 1162, True: 563}</td>\n",
       "    </tr>\n",
       "    <tr>\n",
       "      <th>12</th>\n",
       "      <td>Family</td>\n",
       "      <td>2</td>\n",
       "      <td>{False: 1646, True: 79}</td>\n",
       "    </tr>\n",
       "    <tr>\n",
       "      <th>13</th>\n",
       "      <td>Fantasy</td>\n",
       "      <td>2</td>\n",
       "      <td>{False: 1667, True: 58}</td>\n",
       "    </tr>\n",
       "    <tr>\n",
       "      <th>14</th>\n",
       "      <td>History</td>\n",
       "      <td>2</td>\n",
       "      <td>{False: 1667, True: 58}</td>\n",
       "    </tr>\n",
       "    <tr>\n",
       "      <th>15</th>\n",
       "      <td>Horror</td>\n",
       "      <td>2</td>\n",
       "      <td>{False: 1528, True: 197}</td>\n",
       "    </tr>\n",
       "    <tr>\n",
       "      <th>16</th>\n",
       "      <td>Music</td>\n",
       "      <td>2</td>\n",
       "      <td>{False: 1680, True: 45}</td>\n",
       "    </tr>\n",
       "    <tr>\n",
       "      <th>17</th>\n",
       "      <td>Musical</td>\n",
       "      <td>2</td>\n",
       "      <td>{False: 1710, True: 15}</td>\n",
       "    </tr>\n",
       "    <tr>\n",
       "      <th>18</th>\n",
       "      <td>Mystery</td>\n",
       "      <td>2</td>\n",
       "      <td>{False: 1597, True: 128}</td>\n",
       "    </tr>\n",
       "    <tr>\n",
       "      <th>19</th>\n",
       "      <td>Romance</td>\n",
       "      <td>2</td>\n",
       "      <td>{False: 1506, True: 219}</td>\n",
       "    </tr>\n",
       "    <tr>\n",
       "      <th>20</th>\n",
       "      <td>Sci-Fi</td>\n",
       "      <td>2</td>\n",
       "      <td>{False: 1664, True: 61}</td>\n",
       "    </tr>\n",
       "    <tr>\n",
       "      <th>21</th>\n",
       "      <td>Short</td>\n",
       "      <td>2</td>\n",
       "      <td>{False: 1693, True: 32}</td>\n",
       "    </tr>\n",
       "    <tr>\n",
       "      <th>22</th>\n",
       "      <td>Sport</td>\n",
       "      <td>2</td>\n",
       "      <td>{False: 1683, True: 42}</td>\n",
       "    </tr>\n",
       "    <tr>\n",
       "      <th>23</th>\n",
       "      <td>Thriller</td>\n",
       "      <td>2</td>\n",
       "      <td>{False: 1429, True: 296}</td>\n",
       "    </tr>\n",
       "    <tr>\n",
       "      <th>24</th>\n",
       "      <td>War</td>\n",
       "      <td>2</td>\n",
       "      <td>{False: 1711, True: 14}</td>\n",
       "    </tr>\n",
       "    <tr>\n",
       "      <th>25</th>\n",
       "      <td>Western</td>\n",
       "      <td>2</td>\n",
       "      <td>{False: 1708, True: 17}</td>\n",
       "    </tr>\n",
       "  </tbody>\n",
       "</table>\n",
       "</div>"
      ],
      "text/plain": [
       "          Column  Distinct_Values  \\\n",
       "0          Title             1719   \n",
       "1   Release time              557   \n",
       "2     Age rating                5   \n",
       "3       Language              165   \n",
       "4         Action                2   \n",
       "5      Adventure                2   \n",
       "6      Animation                2   \n",
       "7      Biography                2   \n",
       "8         Comedy                2   \n",
       "9          Crime                2   \n",
       "10   Documentary                2   \n",
       "11         Drama                2   \n",
       "12        Family                2   \n",
       "13       Fantasy                2   \n",
       "14       History                2   \n",
       "15        Horror                2   \n",
       "16         Music                2   \n",
       "17       Musical                2   \n",
       "18       Mystery                2   \n",
       "19       Romance                2   \n",
       "20        Sci-Fi                2   \n",
       "21         Short                2   \n",
       "22         Sport                2   \n",
       "23      Thriller                2   \n",
       "24           War                2   \n",
       "25       Western                2   \n",
       "\n",
       "                                   Value_Distribution  \n",
       "0   {'Horizon: An American Saga - Chapter 1': 2, '...  \n",
       "1   {2024-09-13 00:00:00: 17, 2024-10-18 00:00:00:...  \n",
       "2   {'R': 798, 'PG-13': 450, 'PG': 273, 'G': 179, ...  \n",
       "3   {'English': 1296, 'Spanish': 37, 'English, Spa...  \n",
       "4                            {False: 1454, True: 271}  \n",
       "5                            {False: 1542, True: 183}  \n",
       "6                            {False: 1614, True: 111}  \n",
       "7                             {False: 1644, True: 81}  \n",
       "8                            {False: 1259, True: 466}  \n",
       "9                            {False: 1550, True: 175}  \n",
       "10                           {False: 1443, True: 282}  \n",
       "11                           {False: 1162, True: 563}  \n",
       "12                            {False: 1646, True: 79}  \n",
       "13                            {False: 1667, True: 58}  \n",
       "14                            {False: 1667, True: 58}  \n",
       "15                           {False: 1528, True: 197}  \n",
       "16                            {False: 1680, True: 45}  \n",
       "17                            {False: 1710, True: 15}  \n",
       "18                           {False: 1597, True: 128}  \n",
       "19                           {False: 1506, True: 219}  \n",
       "20                            {False: 1664, True: 61}  \n",
       "21                            {False: 1693, True: 32}  \n",
       "22                            {False: 1683, True: 42}  \n",
       "23                           {False: 1429, True: 296}  \n",
       "24                            {False: 1711, True: 14}  \n",
       "25                            {False: 1708, True: 17}  "
      ]
     },
     "execution_count": 30,
     "metadata": {},
     "output_type": "execute_result"
    }
   ],
   "source": [
    "# Chuyển thành dạng bảng\n",
    "# Tạo danh sách để lưu dữ liệu cho DataFrame\n",
    "df = {\n",
    "    \"Column\": [],\n",
    "    \"Distinct_Values\": [],\n",
    "    \"Value_Distribution\": []\n",
    "}\n",
    "\n",
    "# Thêm dữ liệu vào danh sách\n",
    "for column, distribution in cat_distribution.items():\n",
    "    different_values = len(set(data[column]))\n",
    "    df[\"Column\"].append(column)\n",
    "    df[\"Distinct_Values\"].append(different_values)\n",
    "    df[\"Value_Distribution\"].append(distribution)\n",
    "\n",
    "# Tạo DataFrame từ dữ liệu\n",
    "distribution_df = pd.DataFrame(df)\n",
    "\n",
    "# In ra DataFrame\n",
    "distribution_df"
   ]
  },
  {
   "cell_type": "markdown",
   "metadata": {},
   "source": [
    "##### Trực quan hóa để thấy rõ sự phân bố giá trị\n",
    "\n",
    "Vì cột title chứa các giá trị duy nhất (mỗi tên khác nhau), việc vẽ biểu đồ không mang lại nhiều ý nghĩa. Vì vậy, chỉ trực quan hóa 3 cột là **Release time** với đại diện là các tháng, **Age rating**, **Language** với 10 ngôn ngữ phổ biến nhất và tổng hợp 13 cột thể loại để thấy sự phân phối dữ liệu."
   ]
  },
  {
   "cell_type": "code",
   "execution_count": 31,
   "metadata": {},
   "outputs": [
    {
     "data": {
      "image/png": "[encoded data removed]",
      "text/plain": [
       "<Figure size 1500x1500 with 4 Axes>"
      ]
     },
     "metadata": {},
     "output_type": "display_data"
    }
   ],
   "source": [
    "# Vẽ biểu đồ phân bố giá trị của các cột\n",
    "fig, axes = plt.subplots(2, 2, figsize=(15, 15))\n",
    "\n",
    "# Biểu đồ Release time (chọn tần suất phát hành theo năm)\n",
    "data['Release_month'] = data['Release time'].dt.to_period('M')\n",
    "# Đếm số lượng bản phát hành mỗi năm\n",
    "release_counts = data['Release_month'].value_counts().sort_index()\n",
    "\n",
    "sns.lineplot(x=release_counts.index.astype(str), y=release_counts.values, ax=axes[0, 0])\n",
    "axes[0, 0].set_title(\"Release Time Distribution by Month\")\n",
    "axes[0, 0].set_xlabel(\"Month\")\n",
    "axes[0, 0].set_ylabel(\"Frequency\")\n",
    "axes[0, 0].tick_params(axis='x', rotation=45)\n",
    "\n",
    "data.drop(columns=['Release_month'], inplace=True)\n",
    "\n",
    "# Biểu đồ Age rating\n",
    "# Đếm số lượng các giá trị age rating\n",
    "age_rating_counts = data['Age rating'].value_counts()\n",
    "axes[0, 1].pie(age_rating_counts, labels=age_rating_counts.index, autopct='%1.1f%%', startangle=90)\n",
    "axes[0, 1].set_title(\"Age Rating Distribution\")\n",
    "\n",
    "# Biểu đồ Language (Top 10 languages)\n",
    "top_languages = data['Language'].value_counts().head(10)\n",
    "sns.barplot(x=top_languages.index, y=top_languages.values, ax=axes[1, 0])\n",
    "axes[1, 0].set_title(\"Top 10 Most Frequent Languages\")\n",
    "axes[1, 0].set_xlabel(\"Language\")\n",
    "axes[1, 0].set_ylabel(\"Frequency\")\n",
    "axes[1, 0].tick_params(axis='x', rotation=45)\n",
    "\n",
    "# Biểu đồ tổng hợp 13 cột thể loại phim\n",
    "genre = categorical_columns[4:17]\n",
    "totals = data[genre].sum().sort_values(ascending=True)\n",
    "sns.barplot(x=totals.index, y=totals.values, ax=axes[1, 1])\n",
    "axes[1, 1].set_title(\"Genre Distribution\")\n",
    "axes[1, 1].set_xlabel(\"Genre\")\n",
    "axes[1, 1].set_ylabel(\"Frequency\")\n",
    "axes[1, 1].tick_params(axis='x', rotation=90)\n",
    "\n",
    "# Hiển thị tất cả biểu đồ\n",
    "plt.tight_layout()\n",
    "plt.show()"
   ]
  },
  {
   "cell_type": "markdown",
   "metadata": {},
   "source": [
    "#### 3.3.3 Xử lý dữ liệu bất thường"
   ]
  },
  {
   "cell_type": "markdown",
   "metadata": {},
   "source": [
    "Qua xử lý giá trị thiếu và trực quan sự phân bố các giá trị ở trên, có một cột có dữ liệu bất thường là cột Release Time\n",
    "\n",
    "Có một số giá trị thuộc các năm ngoài phạm vi 2023-2024, vốn không phải là trọng tâm nghiên cứu. Những dữ liệu này có thể đã lọt vào do sai sót trong quá trình thu thập dữ liệu, cho nên ta sẽ xóa nó đi ở đây"
   ]
  },
  {
   "cell_type": "code",
   "execution_count": 32,
   "metadata": {},
   "outputs": [],
   "source": [
    "valid_years = [2023, 2024]\n",
    "\n",
    "# Lọc dữ liệu\n",
    "data = data[data['Release time'].dt.year.isin(valid_years)]"
   ]
  },
  {
   "cell_type": "markdown",
   "metadata": {},
   "source": [
    "Kiểm tra lại"
   ]
  },
  {
   "cell_type": "code",
   "execution_count": 33,
   "metadata": {},
   "outputs": [
    {
     "data": {
      "text/plain": [
       "array([2024, 2023])"
      ]
     },
     "execution_count": 33,
     "metadata": {},
     "output_type": "execute_result"
    }
   ],
   "source": [
    "remaining_years = data['Release time'].dt.year.unique()\n",
    "remaining_years"
   ]
  },
  {
   "cell_type": "markdown",
   "metadata": {},
   "source": [
    "#### 3.3.4 Xử lý dữ liệu phân loại"
   ]
  },
  {
   "cell_type": "markdown",
   "metadata": {},
   "source": [
    "Cột **Age Rating** có dữ liệu object, ta sẽ thêm một cột mới là **Age Rating Quantification** để chuyển đổi thành các giá trị số là kiểu dữ liệu phân loại để dễ dàng phân tích và sử dụng trong mô hình máy học"
   ]
  },
  {
   "cell_type": "code",
   "execution_count": 34,
   "metadata": {},
   "outputs": [],
   "source": [
    "# Tạo một từ điển để chuyển đổi giá trị\n",
    "rating_map = {\n",
    "    'NC-17': 5,\n",
    "    'R': 4,\n",
    "    'PG-13': 3,\n",
    "    'PG': 2,\n",
    "    'G': 1\n",
    "}\n",
    "\n",
    "data['Age rating quantification'] = pd.Categorical(data['Age rating'].map(rating_map))"
   ]
  },
  {
   "cell_type": "markdown",
   "metadata": {},
   "source": [
    "### 3.4. Sự phân bố dữ liệu của các cột có kiểu định lượng\n",
    "Các cột có dữ liệu định lượng"
   ]
  },
  {
   "cell_type": "code",
   "execution_count": 35,
   "metadata": {},
   "outputs": [
    {
     "name": "stdout",
     "output_type": "stream",
     "text": [
      "Numberical columns: \n",
      "Runtime\n",
      "Metascore\n",
      "IMDb Rating\n",
      "IMDb Votes\n",
      "Domestic Revenue\n",
      "Win\n",
      "Nomination\n"
     ]
    }
   ],
   "source": [
    "numerical_columns = data.select_dtypes(include=['int64', 'float64']).columns.tolist()\n",
    "print('Numberical columns: ')\n",
    "for col_name in numerical_columns:\n",
    "    print(col_name)"
   ]
  },
  {
   "cell_type": "markdown",
   "metadata": {},
   "source": [
    "#### 3.4.1 Tỉ lệ phần trăm các giá trị bị thiếu trong mỗi cột, các giá trị thống kê"
   ]
  },
  {
   "cell_type": "markdown",
   "metadata": {},
   "source": [
    "Với mỗi cột có kiểu dữ liệu định lượng, thực hiện tính toán các giá trị thống kê cơ bản sau:\n",
    "- Percentage (from 0 to 100) of missing values\n",
    "- Min \n",
    "- Max\n",
    "- Mean\n",
    "- Mod\n",
    "- Median"
   ]
  },
  {
   "cell_type": "code",
   "execution_count": 36,
   "metadata": {},
   "outputs": [
    {
     "data": {
      "text/html": [
       "<div>\n",
       "<style scoped>\n",
       "    .dataframe tbody tr th:only-of-type {\n",
       "        vertical-align: middle;\n",
       "    }\n",
       "\n",
       "    .dataframe tbody tr th {\n",
       "        vertical-align: top;\n",
       "    }\n",
       "\n",
       "    .dataframe thead th {\n",
       "        text-align: right;\n",
       "    }\n",
       "</style>\n",
       "<table border=\"1\" class=\"dataframe\">\n",
       "  <thead>\n",
       "    <tr style=\"text-align: right;\">\n",
       "      <th></th>\n",
       "      <th>Runtime</th>\n",
       "      <th>Metascore</th>\n",
       "      <th>IMDb Rating</th>\n",
       "      <th>IMDb Votes</th>\n",
       "      <th>Domestic Revenue</th>\n",
       "      <th>Win</th>\n",
       "      <th>Nomination</th>\n",
       "    </tr>\n",
       "  </thead>\n",
       "  <tbody>\n",
       "    <tr>\n",
       "      <th>Percentage</th>\n",
       "      <td>0.24</td>\n",
       "      <td>92.68</td>\n",
       "      <td>23.15</td>\n",
       "      <td>11.05</td>\n",
       "      <td>79.86</td>\n",
       "      <td>0.00</td>\n",
       "      <td>0.00</td>\n",
       "    </tr>\n",
       "    <tr>\n",
       "      <th>Min</th>\n",
       "      <td>3.00</td>\n",
       "      <td>19.00</td>\n",
       "      <td>2.10</td>\n",
       "      <td>5.00</td>\n",
       "      <td>543.00</td>\n",
       "      <td>0.00</td>\n",
       "      <td>0.00</td>\n",
       "    </tr>\n",
       "    <tr>\n",
       "      <th>Lower Quartile</th>\n",
       "      <td>85.00</td>\n",
       "      <td>50.00</td>\n",
       "      <td>5.20</td>\n",
       "      <td>181.25</td>\n",
       "      <td>296290.00</td>\n",
       "      <td>0.00</td>\n",
       "      <td>0.00</td>\n",
       "    </tr>\n",
       "    <tr>\n",
       "      <th>Median</th>\n",
       "      <td>96.00</td>\n",
       "      <td>62.00</td>\n",
       "      <td>6.10</td>\n",
       "      <td>827.00</td>\n",
       "      <td>2767623.00</td>\n",
       "      <td>0.00</td>\n",
       "      <td>0.00</td>\n",
       "    </tr>\n",
       "    <tr>\n",
       "      <th>Upper Quartile</th>\n",
       "      <td>108.00</td>\n",
       "      <td>74.00</td>\n",
       "      <td>6.80</td>\n",
       "      <td>4124.50</td>\n",
       "      <td>20092802.00</td>\n",
       "      <td>0.00</td>\n",
       "      <td>0.00</td>\n",
       "    </tr>\n",
       "    <tr>\n",
       "      <th>Max</th>\n",
       "      <td>280.00</td>\n",
       "      <td>94.00</td>\n",
       "      <td>10.00</td>\n",
       "      <td>804987.00</td>\n",
       "      <td>652980194.00</td>\n",
       "      <td>349.00</td>\n",
       "      <td>429.00</td>\n",
       "    </tr>\n",
       "  </tbody>\n",
       "</table>\n",
       "</div>"
      ],
      "text/plain": [
       "                Runtime  Metascore  IMDb Rating  IMDb Votes  Domestic Revenue  \\\n",
       "Percentage         0.24      92.68        23.15       11.05             79.86   \n",
       "Min                3.00      19.00         2.10        5.00            543.00   \n",
       "Lower Quartile    85.00      50.00         5.20      181.25         296290.00   \n",
       "Median            96.00      62.00         6.10      827.00        2767623.00   \n",
       "Upper Quartile   108.00      74.00         6.80     4124.50       20092802.00   \n",
       "Max              280.00      94.00        10.00   804987.00      652980194.00   \n",
       "\n",
       "                  Win  Nomination  \n",
       "Percentage       0.00        0.00  \n",
       "Min              0.00        0.00  \n",
       "Lower Quartile   0.00        0.00  \n",
       "Median           0.00        0.00  \n",
       "Upper Quartile   0.00        0.00  \n",
       "Max            349.00      429.00  "
      ]
     },
     "execution_count": 36,
     "metadata": {},
     "output_type": "execute_result"
    }
   ],
   "source": [
    "# Tính tỉ lệ phần trăm các giá trị bị thiếu\n",
    "def distributed(column_name):\n",
    "    df = data[column_name]\n",
    "    distri = []\n",
    "    percent= df.isna().mean() * 100\n",
    "    distri.append(percent)\n",
    "    distri.append(df.min())\n",
    "    distri.append(df.quantile(0.25))\n",
    "    distri.append(df.median())\n",
    "    distri.append(df.quantile(0.75))\n",
    "    distri.append(df.max())\n",
    "    return distri\n",
    "num_col_info_df = pd.DataFrame()\n",
    "for column in numerical_columns:\n",
    "    distri = distributed(column)    \n",
    "    num_col_info_df[column] = distri\n",
    "num_col_info_df.index = ['Percentage','Min','Lower Quartile', 'Median','Upper Quartile', 'Max']\n",
    "pd.set_option('display.float_format', '{:.2f}'.format)\n",
    "num_col_info_df\n"
   ]
  },
  {
   "cell_type": "markdown",
   "metadata": {},
   "source": [
    "#### 3.4.2 Sự phân bố dữ liệu"
   ]
  },
  {
   "cell_type": "code",
   "execution_count": 37,
   "metadata": {},
   "outputs": [
    {
     "data": {
      "image/png": "[encoded data removed]",
      "text/plain": [
       "<Figure size 1500x800 with 6 Axes>"
      ]
     },
     "metadata": {},
     "output_type": "display_data"
    }
   ],
   "source": [
    "n_cols = 3 \n",
    "n_rows = 2 \n",
    "\n",
    "fig, axes = plt.subplots(n_rows, n_cols, figsize=(15, 8))\n",
    "axes = axes.flatten()  \n",
    "\n",
    "# Vẽ biểu đồ boxplot cho các cột đầu tiên\n",
    "for i, col in enumerate(numerical_columns[:5]):\n",
    "    sns.boxplot(data=data, x=col, ax=axes[i])\n",
    "    axes[i].set_title(col)\n",
    "\n",
    "for j in range(len(numerical_columns[:5]), len(axes) - 1):\n",
    "    axes[j].set_visible(False)\n",
    "\n",
    "# Vẽ biểu đồ phân phối award\n",
    "award = len(data[(data['Win'] > 0) & (data['Nomination'] > 0)])\n",
    "no_award = len(data[(data['Win'] == 0) & (data['Nomination'] == 0)])\n",
    "awards = [award, no_award]\n",
    "label_award = ['Award', 'No award']\n",
    "\n",
    "axes[-1].pie(awards, labels=label_award, autopct='%1.1f%%', startangle=0)\n",
    "axes[-1].set_title('Award Distribution')\n",
    "\n",
    "plt.tight_layout()\n",
    "plt.show()"
   ]
  },
  {
   "cell_type": "markdown",
   "metadata": {},
   "source": [
    "#### 3.4.3 Xử lý dữ liệu lỗi hoặc bất thường"
   ]
  },
  {
   "cell_type": "markdown",
   "metadata": {},
   "source": [
    "- Các cột Runtime và IMDb Votes có số lượng ngoại lai đáng kể. Điều này có thể làm sai lệch các phép tính thống kê khác như trung vị (median).\n",
    "- Cột IMDb Rating có số lượng ngoại lai không đáng kể, tức là phần lớn các giá trị trong cột này không bị ảnh hưởng nhiều bởi các giá trị cực trị. \n",
    "Trong trường hợp này, dữ liệu có thể có phân phối gần với phân phối chuẩn, và vì vậy việc sử dụng trung vị là hợp lý."
   ]
  },
  {
   "cell_type": "code",
   "execution_count": 38,
   "metadata": {},
   "outputs": [],
   "source": [
    "for column in numerical_columns:\n",
    "    if num_col_info_df[column].iloc[0] > 75.00:\n",
    "        data = data.drop(columns = [column])\n",
    "        numerical_columns.remove(column)\n",
    "#Runtime va IMDb Votes có số lượng ngoại lai đáng kể\n",
    "data['Runtime'] = data['Runtime'].fillna(data['Runtime'].mean())\n",
    "data['IMDb Votes'] = data['IMDb Votes'].fillna(data['IMDb Votes'].mean())\n",
    "#Runtime va IMDb Votes có số lượng ngoại lai không đáng kể\n",
    "data['IMDb Rating'] = data['IMDb Rating'].fillna(data['IMDb Rating'].median())"
   ]
  },
  {
   "cell_type": "markdown",
   "metadata": {},
   "source": [
    "## Sau các bước tiền xử lý"
   ]
  },
  {
   "cell_type": "markdown",
   "metadata": {},
   "source": [
    "Số hàng, số cột của dữ liệu:"
   ]
  },
  {
   "cell_type": "code",
   "execution_count": 39,
   "metadata": {},
   "outputs": [
    {
     "data": {
      "text/plain": [
       "(1693, 32)"
      ]
     },
     "execution_count": 39,
     "metadata": {},
     "output_type": "execute_result"
    }
   ],
   "source": [
    "data.shape"
   ]
  },
  {
   "cell_type": "markdown",
   "metadata": {},
   "source": [
    "Các cột có ý nghĩa như sau:\n",
    "|Tên cột|Ý nghĩa|\n",
    "|-------|-------|\n",
    "| Title| Tên của bộ phim|\n",
    "| Realease time| Thời gian phát hành của bộ phim|\n",
    "| Age rating| Đánh giá độ tuổi phù hợp để xem phim|\n",
    "| Runtime| Thời lượng của bộ phim|\n",
    "| Language| Ngôn ngữ chính được sử dụng trong bộ phim|\n",
    "| IMDb Rating| Điểm đánh giá của bộ phim trên IMDb|\n",
    "| IMDb Votes| Số lượt bình chọn của người dùng trên IMDb|\n",
    "| Action/Adventure| Phim thuộc thể loại hành động hoặc phiêu lưu|\n",
    "| Animation| Phim hoạt hình|\n",
    "| Biography/History/War| Phim thuộc thể loại tiểu sử, lịch sử, hoặc chiến tranh|\n",
    "| Comedy| Phim hài|\n",
    "| Crime| Phim thuộc thể loại hình sự |\n",
    "| Docummentary| Phim tài liệu|\n",
    "| Drama| Phim chính kịch|\n",
    "| Fantasy/Sci-Fi| Phim thuộc thể loại giả tưởng hoặc khoa học viễn tưởng|\n",
    "| Horror/Thriller/Mystery| Phim thuộc thể loại kinh dị, hồi hộp, hoặc bí ẩn|\n",
    "| Kids/Family| Phim dành cho trẻ em hoặc gia đình|\n",
    "| Music/Musical| Phim âm nhạc hoặc nhạc kịch|\n",
    "| Other| Các thể loại phim khác|\n",
    "| Romance| Phim thuộc thể loại lãng mạn|\n",
    "| Win | Số lượng giải phim đạt được |\n",
    "| Nomination| Số lần phim được đề cử |\n",
    "| Age rating quantification| Đánh giá định lượng cho độ tuổi phù hợp để xem phim|\n"
   ]
  },
  {
   "cell_type": "markdown",
   "metadata": {},
   "source": [
    "Kiểu dữ liệu của các cột"
   ]
  },
  {
   "cell_type": "code",
   "execution_count": 40,
   "metadata": {},
   "outputs": [
    {
     "data": {
      "text/plain": [
       "Title                                object\n",
       "Release time                 datetime64[ns]\n",
       "Age rating                           object\n",
       "Runtime                             float64\n",
       "Language                             object\n",
       "IMDb Rating                         float64\n",
       "IMDb Votes                          float64\n",
       "Action                                 bool\n",
       "Adventure                              bool\n",
       "Animation                              bool\n",
       "Biography                              bool\n",
       "Comedy                                 bool\n",
       "Crime                                  bool\n",
       "Documentary                            bool\n",
       "Drama                                  bool\n",
       "Family                                 bool\n",
       "Fantasy                                bool\n",
       "History                                bool\n",
       "Horror                                 bool\n",
       "Music                                  bool\n",
       "Musical                                bool\n",
       "Mystery                                bool\n",
       "Romance                                bool\n",
       "Sci-Fi                                 bool\n",
       "Short                                  bool\n",
       "Sport                                  bool\n",
       "Thriller                               bool\n",
       "War                                    bool\n",
       "Western                                bool\n",
       "Win                                 float64\n",
       "Nomination                          float64\n",
       "Age rating quantification          category\n",
       "dtype: object"
      ]
     },
     "execution_count": 40,
     "metadata": {},
     "output_type": "execute_result"
    }
   ],
   "source": [
    "data.dtypes"
   ]
  },
  {
   "cell_type": "markdown",
   "metadata": {},
   "source": [
    "Thực hiện lưu dữ liệu này vào 1 tệp mới và thực hiện phân tích trên tệp này."
   ]
  },
  {
   "cell_type": "code",
   "execution_count": 41,
   "metadata": {},
   "outputs": [],
   "source": [
    "data.to_csv('../Data/movie_data.csv', index=False)"
   ]
  }
 ],
 "metadata": {
  "kernelspec": {
   "display_name": "Python 3",
   "language": "python",
   "name": "python3"
  },
  "language_info": {
   "codemirror_mode": {
    "name": "ipython",
    "version": 3
   },
   "file_extension": ".py",
   "mimetype": "text/x-python",
   "name": "python",
   "nbconvert_exporter": "python",
   "pygments_lexer": "ipython3",
   "version": "3.11.9"
  }
 },
 "nbformat": 4,
 "nbformat_minor": 2
}
