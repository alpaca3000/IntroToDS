{
 "cells": [
  {
   "cell_type": "markdown",
   "metadata": {},
   "source": [
    "# **MÔ HÌNH DỰ ĐOÁN PHIM**"
   ]
  },
  {
   "cell_type": "markdown",
   "metadata": {},
   "source": [
    "Vấn đề: Dự đoán Ratings của phim dựa trên các thông tin được cho trước, bao gồm thời lượng, giới hạn độ tuổi, thể loại, số lượt đề cử, số lần thắng giải và số lượt bình chọn.\n",
    "\n",
    "Mô hình 1: RandomForestRegressor\n",
    "\n",
    "Mô hình 2: GradientBoosting\n",
    "\n",
    "Mô hình 3: LinearRegression"
   ]
  },
  {
   "cell_type": "markdown",
   "metadata": {},
   "source": [
    "## 1. Import thư viện cần thiết"
   ]
  },
  {
   "cell_type": "code",
   "execution_count": 59,
   "metadata": {},
   "outputs": [],
   "source": [
    "import pandas as pd\n",
    "import numpy as np\n",
    "\n",
    "from sklearn.model_selection import train_test_split, GridSearchCV, RandomizedSearchCV\n",
    "from sklearn.linear_model import LinearRegression\n",
    "from sklearn.ensemble import RandomForestRegressor, GradientBoostingRegressor\n",
    "from sklearn.metrics import mean_squared_error, mean_absolute_error\n",
    "\n",
    "import matplotlib.pyplot as plt\n",
    "import seaborn as sns"
   ]
  },
  {
   "cell_type": "code",
   "execution_count": 60,
   "metadata": {},
   "outputs": [
    {
     "data": {
      "text/html": [
       "<div>\n",
       "<style scoped>\n",
       "    .dataframe tbody tr th:only-of-type {\n",
       "        vertical-align: middle;\n",
       "    }\n",
       "\n",
       "    .dataframe tbody tr th {\n",
       "        vertical-align: top;\n",
       "    }\n",
       "\n",
       "    .dataframe thead th {\n",
       "        text-align: right;\n",
       "    }\n",
       "</style>\n",
       "<table border=\"1\" class=\"dataframe\">\n",
       "  <thead>\n",
       "    <tr style=\"text-align: right;\">\n",
       "      <th></th>\n",
       "      <th>Title</th>\n",
       "      <th>Release time</th>\n",
       "      <th>Age rating</th>\n",
       "      <th>Runtime</th>\n",
       "      <th>Language</th>\n",
       "      <th>IMDb Rating</th>\n",
       "      <th>IMDb Votes</th>\n",
       "      <th>Action</th>\n",
       "      <th>Adventure</th>\n",
       "      <th>Animation</th>\n",
       "      <th>...</th>\n",
       "      <th>Romance</th>\n",
       "      <th>Sci-Fi</th>\n",
       "      <th>Short</th>\n",
       "      <th>Sport</th>\n",
       "      <th>Thriller</th>\n",
       "      <th>War</th>\n",
       "      <th>Western</th>\n",
       "      <th>Win</th>\n",
       "      <th>Nomination</th>\n",
       "      <th>Age rating quantification</th>\n",
       "    </tr>\n",
       "  </thead>\n",
       "  <tbody>\n",
       "    <tr>\n",
       "      <th>0</th>\n",
       "      <td>Goon Squad</td>\n",
       "      <td>2024-01-18</td>\n",
       "      <td>NC-17</td>\n",
       "      <td>83.0</td>\n",
       "      <td>English</td>\n",
       "      <td>6.1</td>\n",
       "      <td>12430.6658</td>\n",
       "      <td>False</td>\n",
       "      <td>False</td>\n",
       "      <td>False</td>\n",
       "      <td>...</td>\n",
       "      <td>False</td>\n",
       "      <td>False</td>\n",
       "      <td>False</td>\n",
       "      <td>False</td>\n",
       "      <td>False</td>\n",
       "      <td>False</td>\n",
       "      <td>False</td>\n",
       "      <td>0.0</td>\n",
       "      <td>0.0</td>\n",
       "      <td>5</td>\n",
       "    </tr>\n",
       "    <tr>\n",
       "      <th>1</th>\n",
       "      <td>The Phantom Warrior</td>\n",
       "      <td>2024-02-20</td>\n",
       "      <td>R</td>\n",
       "      <td>83.0</td>\n",
       "      <td>English</td>\n",
       "      <td>2.6</td>\n",
       "      <td>532.0000</td>\n",
       "      <td>False</td>\n",
       "      <td>True</td>\n",
       "      <td>False</td>\n",
       "      <td>...</td>\n",
       "      <td>False</td>\n",
       "      <td>True</td>\n",
       "      <td>False</td>\n",
       "      <td>False</td>\n",
       "      <td>False</td>\n",
       "      <td>False</td>\n",
       "      <td>False</td>\n",
       "      <td>0.0</td>\n",
       "      <td>0.0</td>\n",
       "      <td>4</td>\n",
       "    </tr>\n",
       "    <tr>\n",
       "      <th>2</th>\n",
       "      <td>Beyond the Lake</td>\n",
       "      <td>2024-01-26</td>\n",
       "      <td>G</td>\n",
       "      <td>98.0</td>\n",
       "      <td>English</td>\n",
       "      <td>6.1</td>\n",
       "      <td>31.0000</td>\n",
       "      <td>False</td>\n",
       "      <td>False</td>\n",
       "      <td>False</td>\n",
       "      <td>...</td>\n",
       "      <td>False</td>\n",
       "      <td>False</td>\n",
       "      <td>False</td>\n",
       "      <td>False</td>\n",
       "      <td>False</td>\n",
       "      <td>False</td>\n",
       "      <td>False</td>\n",
       "      <td>0.0</td>\n",
       "      <td>0.0</td>\n",
       "      <td>1</td>\n",
       "    </tr>\n",
       "    <tr>\n",
       "      <th>3</th>\n",
       "      <td>Crimes of Fashion: Killer Clutch</td>\n",
       "      <td>2024-03-15</td>\n",
       "      <td>PG</td>\n",
       "      <td>84.0</td>\n",
       "      <td>English, French</td>\n",
       "      <td>5.8</td>\n",
       "      <td>503.0000</td>\n",
       "      <td>False</td>\n",
       "      <td>False</td>\n",
       "      <td>False</td>\n",
       "      <td>...</td>\n",
       "      <td>False</td>\n",
       "      <td>False</td>\n",
       "      <td>False</td>\n",
       "      <td>False</td>\n",
       "      <td>False</td>\n",
       "      <td>False</td>\n",
       "      <td>False</td>\n",
       "      <td>0.0</td>\n",
       "      <td>0.0</td>\n",
       "      <td>2</td>\n",
       "    </tr>\n",
       "    <tr>\n",
       "      <th>4</th>\n",
       "      <td>Love on the Danube: Love Song</td>\n",
       "      <td>2024-09-10</td>\n",
       "      <td>G</td>\n",
       "      <td>84.0</td>\n",
       "      <td>English</td>\n",
       "      <td>5.8</td>\n",
       "      <td>175.0000</td>\n",
       "      <td>False</td>\n",
       "      <td>False</td>\n",
       "      <td>False</td>\n",
       "      <td>...</td>\n",
       "      <td>True</td>\n",
       "      <td>False</td>\n",
       "      <td>False</td>\n",
       "      <td>False</td>\n",
       "      <td>False</td>\n",
       "      <td>False</td>\n",
       "      <td>False</td>\n",
       "      <td>0.0</td>\n",
       "      <td>0.0</td>\n",
       "      <td>1</td>\n",
       "    </tr>\n",
       "  </tbody>\n",
       "</table>\n",
       "<p>5 rows × 32 columns</p>\n",
       "</div>"
      ],
      "text/plain": [
       "                              Title Release time Age rating  Runtime  \\\n",
       "0                        Goon Squad   2024-01-18      NC-17     83.0   \n",
       "1               The Phantom Warrior   2024-02-20          R     83.0   \n",
       "2                   Beyond the Lake   2024-01-26          G     98.0   \n",
       "3  Crimes of Fashion: Killer Clutch   2024-03-15         PG     84.0   \n",
       "4     Love on the Danube: Love Song   2024-09-10          G     84.0   \n",
       "\n",
       "          Language  IMDb Rating  IMDb Votes  Action  Adventure  Animation  \\\n",
       "0          English          6.1  12430.6658   False      False      False   \n",
       "1          English          2.6    532.0000   False       True      False   \n",
       "2          English          6.1     31.0000   False      False      False   \n",
       "3  English, French          5.8    503.0000   False      False      False   \n",
       "4          English          5.8    175.0000   False      False      False   \n",
       "\n",
       "   ...  Romance  Sci-Fi  Short  Sport  Thriller    War  Western  Win  \\\n",
       "0  ...    False   False  False  False     False  False    False  0.0   \n",
       "1  ...    False    True  False  False     False  False    False  0.0   \n",
       "2  ...    False   False  False  False     False  False    False  0.0   \n",
       "3  ...    False   False  False  False     False  False    False  0.0   \n",
       "4  ...     True   False  False  False     False  False    False  0.0   \n",
       "\n",
       "   Nomination  Age rating quantification  \n",
       "0         0.0                          5  \n",
       "1         0.0                          4  \n",
       "2         0.0                          1  \n",
       "3         0.0                          2  \n",
       "4         0.0                          1  \n",
       "\n",
       "[5 rows x 32 columns]"
      ]
     },
     "execution_count": 60,
     "metadata": {},
     "output_type": "execute_result"
    }
   ],
   "source": [
    "df = pd.read_csv('../Data/movie_data.csv')\n",
    "df.head()"
   ]
  },
  {
   "cell_type": "markdown",
   "metadata": {},
   "source": [
    "## 2. Xác định input và output của bài toán"
   ]
  },
  {
   "cell_type": "markdown",
   "metadata": {},
   "source": [
    "- Output: Vì nhóm muốn dự đoán đánh giá cho bộ phim, nên output sẽ là `IMDb Rating`. Cột này đã có sẵn trong bộ dữ liệu.\n",
    "- Input: Gồm các thông tin của 1 bộ phim. Theo phần tìm hiểu trong Exploring và Eda, nhóm quyết định sẽ giữ phần lớn các cột nhưng sẽ bỏ 1 số cột sau:\n",
    "    + Cột Title và Release time: Hai cột này có phân lớp rất mạnh, với các giá trị trong cột Title này đều là phân biệt.\n",
    "    + Cột Age rating: Đã được mã hóa thành các giá trị có thứ tự trong cột Age rating quantification.\n",
    "    + Cột Language: Có phân lớp khá mạnh với khoảng hơn 50 ngôn ngữ khác nhau và ngôn ngữ chủ yếu vẫn là tiếng Anh. "
   ]
  },
  {
   "cell_type": "code",
   "execution_count": 61,
   "metadata": {},
   "outputs": [
    {
     "data": {
      "text/plain": [
       "Index(['Title', 'Release time', 'Age rating', 'Runtime', 'Language',\n",
       "       'IMDb Rating', 'IMDb Votes', 'Action', 'Adventure', 'Animation',\n",
       "       'Biography', 'Comedy', 'Crime', 'Documentary', 'Drama', 'Family',\n",
       "       'Fantasy', 'History', 'Horror', 'Music', 'Musical', 'Mystery',\n",
       "       'Romance', 'Sci-Fi', 'Short', 'Sport', 'Thriller', 'War', 'Western',\n",
       "       'Win', 'Nomination', 'Age rating quantification'],\n",
       "      dtype='object')"
      ]
     },
     "execution_count": 61,
     "metadata": {},
     "output_type": "execute_result"
    }
   ],
   "source": [
    "data = df.copy()\n",
    "data.columns"
   ]
  },
  {
   "cell_type": "code",
   "execution_count": 62,
   "metadata": {},
   "outputs": [
    {
     "data": {
      "text/plain": [
       "Index(['Runtime', 'IMDb Votes', 'Action', 'Adventure', 'Animation',\n",
       "       'Biography', 'Comedy', 'Crime', 'Documentary', 'Drama', 'Family',\n",
       "       'Fantasy', 'History', 'Horror', 'Music', 'Musical', 'Mystery',\n",
       "       'Romance', 'Sci-Fi', 'Short', 'Sport', 'Thriller', 'War', 'Western',\n",
       "       'Win', 'Nomination', 'Age rating quantification', 'IMDb Rating'],\n",
       "      dtype='object')"
      ]
     },
     "execution_count": 62,
     "metadata": {},
     "output_type": "execute_result"
    }
   ],
   "source": [
    "data = data.iloc[:, 3:]\n",
    "data = data.drop(columns=['Language'])\n",
    "data = data[[col for col in data.columns if col != 'IMDb Rating'] + ['IMDb Rating']]\n",
    "data.columns"
   ]
  },
  {
   "cell_type": "markdown",
   "metadata": {},
   "source": [
    "## 3. Tiền xử lý dữ liệu"
   ]
  },
  {
   "cell_type": "markdown",
   "metadata": {},
   "source": [
    "- Xử lý outliers trong cột IMDb Rating: Như đã trực quan trong phần Exploring, dữ liệu của cột IMDb Rating có khá nhiều outliers là những bộ phim có điểm số rất cao hoặc rất thấp, để đơn giản hóa việc xử lý, nhóm lựa chọn loại bỏ các giá trị outliers này."
   ]
  },
  {
   "cell_type": "code",
   "execution_count": 63,
   "metadata": {},
   "outputs": [],
   "source": [
    "def resolve_outliers(col: pd.Series):\n",
    "    Q1 = col.quantile(0.25)\n",
    "    Q3 = col.quantile(0.75)\n",
    "    IQR = Q3 - Q1\n",
    "    upper = Q3 + 1.5*IQR\n",
    "    lower = Q1 - 1.5*IQR\n",
    "\n",
    "    return lower, upper\n",
    "\n",
    "lower_limit, upper_limit = resolve_outliers(df['IMDb Rating'])\n",
    "outlier_data = data[(data['IMDb Rating'] < lower_limit) | (data['IMDb Rating'] > upper_limit)]\n",
    "data = data[(data['IMDb Rating'] >= lower_limit) & (data['IMDb Rating'] <= upper_limit)]"
   ]
  },
  {
   "cell_type": "code",
   "execution_count": 64,
   "metadata": {},
   "outputs": [
    {
     "data": {
      "text/html": [
       "<div>\n",
       "<style scoped>\n",
       "    .dataframe tbody tr th:only-of-type {\n",
       "        vertical-align: middle;\n",
       "    }\n",
       "\n",
       "    .dataframe tbody tr th {\n",
       "        vertical-align: top;\n",
       "    }\n",
       "\n",
       "    .dataframe thead th {\n",
       "        text-align: right;\n",
       "    }\n",
       "</style>\n",
       "<table border=\"1\" class=\"dataframe\">\n",
       "  <thead>\n",
       "    <tr style=\"text-align: right;\">\n",
       "      <th></th>\n",
       "      <th>Runtime</th>\n",
       "      <th>IMDb Votes</th>\n",
       "      <th>Action</th>\n",
       "      <th>Adventure</th>\n",
       "      <th>Animation</th>\n",
       "      <th>Biography</th>\n",
       "      <th>Comedy</th>\n",
       "      <th>Crime</th>\n",
       "      <th>Documentary</th>\n",
       "      <th>Drama</th>\n",
       "      <th>...</th>\n",
       "      <th>Sci-Fi</th>\n",
       "      <th>Short</th>\n",
       "      <th>Sport</th>\n",
       "      <th>Thriller</th>\n",
       "      <th>War</th>\n",
       "      <th>Western</th>\n",
       "      <th>Win</th>\n",
       "      <th>Nomination</th>\n",
       "      <th>Age rating quantification</th>\n",
       "      <th>IMDb Rating</th>\n",
       "    </tr>\n",
       "  </thead>\n",
       "  <tbody>\n",
       "    <tr>\n",
       "      <th>1</th>\n",
       "      <td>83.0</td>\n",
       "      <td>532.0</td>\n",
       "      <td>False</td>\n",
       "      <td>True</td>\n",
       "      <td>False</td>\n",
       "      <td>False</td>\n",
       "      <td>False</td>\n",
       "      <td>False</td>\n",
       "      <td>False</td>\n",
       "      <td>False</td>\n",
       "      <td>...</td>\n",
       "      <td>True</td>\n",
       "      <td>False</td>\n",
       "      <td>False</td>\n",
       "      <td>False</td>\n",
       "      <td>False</td>\n",
       "      <td>False</td>\n",
       "      <td>0.0</td>\n",
       "      <td>0.0</td>\n",
       "      <td>4</td>\n",
       "      <td>2.6</td>\n",
       "    </tr>\n",
       "    <tr>\n",
       "      <th>14</th>\n",
       "      <td>80.0</td>\n",
       "      <td>308.0</td>\n",
       "      <td>True</td>\n",
       "      <td>False</td>\n",
       "      <td>True</td>\n",
       "      <td>False</td>\n",
       "      <td>True</td>\n",
       "      <td>False</td>\n",
       "      <td>False</td>\n",
       "      <td>False</td>\n",
       "      <td>...</td>\n",
       "      <td>False</td>\n",
       "      <td>False</td>\n",
       "      <td>False</td>\n",
       "      <td>False</td>\n",
       "      <td>False</td>\n",
       "      <td>False</td>\n",
       "      <td>0.0</td>\n",
       "      <td>0.0</td>\n",
       "      <td>2</td>\n",
       "      <td>2.1</td>\n",
       "    </tr>\n",
       "    <tr>\n",
       "      <th>15</th>\n",
       "      <td>90.0</td>\n",
       "      <td>2245.0</td>\n",
       "      <td>False</td>\n",
       "      <td>False</td>\n",
       "      <td>False</td>\n",
       "      <td>False</td>\n",
       "      <td>False</td>\n",
       "      <td>False</td>\n",
       "      <td>False</td>\n",
       "      <td>False</td>\n",
       "      <td>...</td>\n",
       "      <td>False</td>\n",
       "      <td>False</td>\n",
       "      <td>False</td>\n",
       "      <td>False</td>\n",
       "      <td>False</td>\n",
       "      <td>False</td>\n",
       "      <td>0.0</td>\n",
       "      <td>0.0</td>\n",
       "      <td>4</td>\n",
       "      <td>3.3</td>\n",
       "    </tr>\n",
       "    <tr>\n",
       "      <th>28</th>\n",
       "      <td>94.0</td>\n",
       "      <td>563.0</td>\n",
       "      <td>False</td>\n",
       "      <td>False</td>\n",
       "      <td>False</td>\n",
       "      <td>False</td>\n",
       "      <td>False</td>\n",
       "      <td>False</td>\n",
       "      <td>False</td>\n",
       "      <td>False</td>\n",
       "      <td>...</td>\n",
       "      <td>False</td>\n",
       "      <td>False</td>\n",
       "      <td>False</td>\n",
       "      <td>False</td>\n",
       "      <td>False</td>\n",
       "      <td>False</td>\n",
       "      <td>0.0</td>\n",
       "      <td>0.0</td>\n",
       "      <td>4</td>\n",
       "      <td>2.6</td>\n",
       "    </tr>\n",
       "    <tr>\n",
       "      <th>44</th>\n",
       "      <td>86.0</td>\n",
       "      <td>3015.0</td>\n",
       "      <td>False</td>\n",
       "      <td>True</td>\n",
       "      <td>True</td>\n",
       "      <td>False</td>\n",
       "      <td>True</td>\n",
       "      <td>False</td>\n",
       "      <td>False</td>\n",
       "      <td>False</td>\n",
       "      <td>...</td>\n",
       "      <td>False</td>\n",
       "      <td>False</td>\n",
       "      <td>False</td>\n",
       "      <td>False</td>\n",
       "      <td>False</td>\n",
       "      <td>False</td>\n",
       "      <td>0.0</td>\n",
       "      <td>0.0</td>\n",
       "      <td>1</td>\n",
       "      <td>3.7</td>\n",
       "    </tr>\n",
       "    <tr>\n",
       "      <th>...</th>\n",
       "      <td>...</td>\n",
       "      <td>...</td>\n",
       "      <td>...</td>\n",
       "      <td>...</td>\n",
       "      <td>...</td>\n",
       "      <td>...</td>\n",
       "      <td>...</td>\n",
       "      <td>...</td>\n",
       "      <td>...</td>\n",
       "      <td>...</td>\n",
       "      <td>...</td>\n",
       "      <td>...</td>\n",
       "      <td>...</td>\n",
       "      <td>...</td>\n",
       "      <td>...</td>\n",
       "      <td>...</td>\n",
       "      <td>...</td>\n",
       "      <td>...</td>\n",
       "      <td>...</td>\n",
       "      <td>...</td>\n",
       "      <td>...</td>\n",
       "    </tr>\n",
       "    <tr>\n",
       "      <th>1654</th>\n",
       "      <td>89.0</td>\n",
       "      <td>19.0</td>\n",
       "      <td>False</td>\n",
       "      <td>False</td>\n",
       "      <td>False</td>\n",
       "      <td>False</td>\n",
       "      <td>False</td>\n",
       "      <td>False</td>\n",
       "      <td>True</td>\n",
       "      <td>False</td>\n",
       "      <td>...</td>\n",
       "      <td>False</td>\n",
       "      <td>False</td>\n",
       "      <td>False</td>\n",
       "      <td>False</td>\n",
       "      <td>False</td>\n",
       "      <td>False</td>\n",
       "      <td>0.0</td>\n",
       "      <td>0.0</td>\n",
       "      <td>1</td>\n",
       "      <td>8.9</td>\n",
       "    </tr>\n",
       "    <tr>\n",
       "      <th>1675</th>\n",
       "      <td>97.0</td>\n",
       "      <td>960.0</td>\n",
       "      <td>True</td>\n",
       "      <td>False</td>\n",
       "      <td>False</td>\n",
       "      <td>False</td>\n",
       "      <td>False</td>\n",
       "      <td>False</td>\n",
       "      <td>False</td>\n",
       "      <td>False</td>\n",
       "      <td>...</td>\n",
       "      <td>False</td>\n",
       "      <td>False</td>\n",
       "      <td>False</td>\n",
       "      <td>False</td>\n",
       "      <td>False</td>\n",
       "      <td>False</td>\n",
       "      <td>0.0</td>\n",
       "      <td>0.0</td>\n",
       "      <td>4</td>\n",
       "      <td>3.4</td>\n",
       "    </tr>\n",
       "    <tr>\n",
       "      <th>1676</th>\n",
       "      <td>93.0</td>\n",
       "      <td>1352.0</td>\n",
       "      <td>True</td>\n",
       "      <td>False</td>\n",
       "      <td>False</td>\n",
       "      <td>False</td>\n",
       "      <td>False</td>\n",
       "      <td>False</td>\n",
       "      <td>False</td>\n",
       "      <td>False</td>\n",
       "      <td>...</td>\n",
       "      <td>False</td>\n",
       "      <td>False</td>\n",
       "      <td>False</td>\n",
       "      <td>True</td>\n",
       "      <td>False</td>\n",
       "      <td>False</td>\n",
       "      <td>0.0</td>\n",
       "      <td>0.0</td>\n",
       "      <td>4</td>\n",
       "      <td>3.9</td>\n",
       "    </tr>\n",
       "    <tr>\n",
       "      <th>1691</th>\n",
       "      <td>93.0</td>\n",
       "      <td>1526.0</td>\n",
       "      <td>True</td>\n",
       "      <td>True</td>\n",
       "      <td>False</td>\n",
       "      <td>False</td>\n",
       "      <td>True</td>\n",
       "      <td>False</td>\n",
       "      <td>False</td>\n",
       "      <td>False</td>\n",
       "      <td>...</td>\n",
       "      <td>False</td>\n",
       "      <td>False</td>\n",
       "      <td>False</td>\n",
       "      <td>False</td>\n",
       "      <td>False</td>\n",
       "      <td>False</td>\n",
       "      <td>0.0</td>\n",
       "      <td>0.0</td>\n",
       "      <td>3</td>\n",
       "      <td>3.8</td>\n",
       "    </tr>\n",
       "    <tr>\n",
       "      <th>1731</th>\n",
       "      <td>94.0</td>\n",
       "      <td>1422.0</td>\n",
       "      <td>False</td>\n",
       "      <td>False</td>\n",
       "      <td>False</td>\n",
       "      <td>False</td>\n",
       "      <td>False</td>\n",
       "      <td>False</td>\n",
       "      <td>False</td>\n",
       "      <td>False</td>\n",
       "      <td>...</td>\n",
       "      <td>False</td>\n",
       "      <td>False</td>\n",
       "      <td>False</td>\n",
       "      <td>True</td>\n",
       "      <td>False</td>\n",
       "      <td>False</td>\n",
       "      <td>0.0</td>\n",
       "      <td>0.0</td>\n",
       "      <td>4</td>\n",
       "      <td>4.0</td>\n",
       "    </tr>\n",
       "  </tbody>\n",
       "</table>\n",
       "<p>140 rows × 28 columns</p>\n",
       "</div>"
      ],
      "text/plain": [
       "      Runtime  IMDb Votes  Action  Adventure  Animation  Biography  Comedy  \\\n",
       "1        83.0       532.0   False       True      False      False   False   \n",
       "14       80.0       308.0    True      False       True      False    True   \n",
       "15       90.0      2245.0   False      False      False      False   False   \n",
       "28       94.0       563.0   False      False      False      False   False   \n",
       "44       86.0      3015.0   False       True       True      False    True   \n",
       "...       ...         ...     ...        ...        ...        ...     ...   \n",
       "1654     89.0        19.0   False      False      False      False   False   \n",
       "1675     97.0       960.0    True      False      False      False   False   \n",
       "1676     93.0      1352.0    True      False      False      False   False   \n",
       "1691     93.0      1526.0    True       True      False      False    True   \n",
       "1731     94.0      1422.0   False      False      False      False   False   \n",
       "\n",
       "      Crime  Documentary  Drama  ...  Sci-Fi  Short  Sport  Thriller    War  \\\n",
       "1     False        False  False  ...    True  False  False     False  False   \n",
       "14    False        False  False  ...   False  False  False     False  False   \n",
       "15    False        False  False  ...   False  False  False     False  False   \n",
       "28    False        False  False  ...   False  False  False     False  False   \n",
       "44    False        False  False  ...   False  False  False     False  False   \n",
       "...     ...          ...    ...  ...     ...    ...    ...       ...    ...   \n",
       "1654  False         True  False  ...   False  False  False     False  False   \n",
       "1675  False        False  False  ...   False  False  False     False  False   \n",
       "1676  False        False  False  ...   False  False  False      True  False   \n",
       "1691  False        False  False  ...   False  False  False     False  False   \n",
       "1731  False        False  False  ...   False  False  False      True  False   \n",
       "\n",
       "      Western  Win  Nomination  Age rating quantification  IMDb Rating  \n",
       "1       False  0.0         0.0                          4          2.6  \n",
       "14      False  0.0         0.0                          2          2.1  \n",
       "15      False  0.0         0.0                          4          3.3  \n",
       "28      False  0.0         0.0                          4          2.6  \n",
       "44      False  0.0         0.0                          1          3.7  \n",
       "...       ...  ...         ...                        ...          ...  \n",
       "1654    False  0.0         0.0                          1          8.9  \n",
       "1675    False  0.0         0.0                          4          3.4  \n",
       "1676    False  0.0         0.0                          4          3.9  \n",
       "1691    False  0.0         0.0                          3          3.8  \n",
       "1731    False  0.0         0.0                          4          4.0  \n",
       "\n",
       "[140 rows x 28 columns]"
      ]
     },
     "execution_count": 64,
     "metadata": {},
     "output_type": "execute_result"
    }
   ],
   "source": [
    "outlier_data"
   ]
  },
  {
   "cell_type": "code",
   "execution_count": 65,
   "metadata": {},
   "outputs": [],
   "source": [
    "y = data['IMDb Rating']\n",
    "X = data.iloc[:, :-1]"
   ]
  },
  {
   "cell_type": "code",
   "execution_count": 66,
   "metadata": {},
   "outputs": [
    {
     "name": "stderr",
     "output_type": "stream",
     "text": [
      "/home/uyennguyen/miniconda3/envs/min_ds-env2/lib/python3.10/site-packages/seaborn/_decorators.py:36: FutureWarning: Pass the following variable as a keyword arg: x. From version 0.12, the only valid positional argument will be `data`, and passing other arguments without an explicit keyword will result in an error or misinterpretation.\n",
      "  warnings.warn(\n"
     ]
    },
    {
     "data": {
      "image/png": "[encoded data removed]",
      "text/plain": [
       "<Figure size 640x480 with 1 Axes>"
      ]
     },
     "metadata": {},
     "output_type": "display_data"
    }
   ],
   "source": [
    "sns.boxplot(y);"
   ]
  },
  {
   "cell_type": "markdown",
   "metadata": {},
   "source": [
    "## 4. Phân chia các tập dữ liệu"
   ]
  },
  {
   "cell_type": "markdown",
   "metadata": {},
   "source": [
    "- Trong phần này, nhóm sẽ chia dữ liệu thành 3 tập là train 70%, test 15% và valid 15%."
   ]
  },
  {
   "cell_type": "code",
   "execution_count": 67,
   "metadata": {},
   "outputs": [],
   "source": [
    "X_train, X_temp, y_train, y_temp = train_test_split(X, y, test_size=0.3, random_state=42)\n",
    "X_valid, X_test, y_valid, y_test = train_test_split(X_temp, y_temp, test_size=0.15, random_state=42)"
   ]
  },
  {
   "cell_type": "markdown",
   "metadata": {},
   "source": [
    "- Kiểu dư liệu hiện tại của các cột input:"
   ]
  },
  {
   "cell_type": "code",
   "execution_count": 68,
   "metadata": {},
   "outputs": [
    {
     "data": {
      "text/plain": [
       "Runtime                      float64\n",
       "IMDb Votes                   float64\n",
       "Action                          bool\n",
       "Adventure                       bool\n",
       "Animation                       bool\n",
       "Biography                       bool\n",
       "Comedy                          bool\n",
       "Crime                           bool\n",
       "Documentary                     bool\n",
       "Drama                           bool\n",
       "Family                          bool\n",
       "Fantasy                         bool\n",
       "History                         bool\n",
       "Horror                          bool\n",
       "Music                           bool\n",
       "Musical                         bool\n",
       "Mystery                         bool\n",
       "Romance                         bool\n",
       "Sci-Fi                          bool\n",
       "Short                           bool\n",
       "Sport                           bool\n",
       "Thriller                        bool\n",
       "War                             bool\n",
       "Western                         bool\n",
       "Win                          float64\n",
       "Nomination                   float64\n",
       "Age rating quantification      int64\n",
       "dtype: object"
      ]
     },
     "execution_count": 68,
     "metadata": {},
     "output_type": "execute_result"
    }
   ],
   "source": [
    "X.dtypes"
   ]
  },
  {
   "cell_type": "markdown",
   "metadata": {},
   "source": [
    "## 5. Áp dụng mô hình"
   ]
  },
  {
   "cell_type": "markdown",
   "metadata": {},
   "source": [
    "### a) Random Forest Regressor"
   ]
  },
  {
   "cell_type": "markdown",
   "metadata": {},
   "source": [
    "- Để tối ưu siêu tham số khi thực hiện train dữ liệu, nhóm lựa chọn 1 phương pháp đơn giản là sử dụng công cụ GridSearchCV của sklearn để thực hiện tìm kiếm các siêu tham số tốt nhất của mô hình rồi thử nghiệm trên tập valid.\n",
    "\n",
    "- Đồng thời, vì dữ liệu hạn chế nên nhóm sử dụng phương pháp k-fold cross validation với k = 5 để giảm thiểu overfitting. "
   ]
  },
  {
   "cell_type": "code",
   "execution_count": 69,
   "metadata": {},
   "outputs": [],
   "source": [
    "eval_values = {}"
   ]
  },
  {
   "cell_type": "code",
   "execution_count": 70,
   "metadata": {},
   "outputs": [],
   "source": [
    "rf_model = RandomForestRegressor(random_state=42)\n",
    "\n",
    "hyperparameters = {  \n",
    "    'n_estimators': [10, 20, 50, 100, 150],  \n",
    "    'max_depth': [None, 10, 20, 30],   \n",
    "    'min_samples_leaf': [1, 2, 4],  \n",
    "    'max_features': ['auto', 'sqrt'], \n",
    "}  \n",
    "\n",
    "grid_search = GridSearchCV(rf_model, hyperparameters, cv=5, scoring='neg_mean_squared_error', n_jobs = -1)\n",
    "grid_search.fit(X_train, y_train)\n",
    "\n",
    "best_rf_model = grid_search.best_estimator_"
   ]
  },
  {
   "cell_type": "markdown",
   "metadata": {},
   "source": [
    "- Kiểm tra trên tập valid"
   ]
  },
  {
   "cell_type": "code",
   "execution_count": 71,
   "metadata": {},
   "outputs": [],
   "source": [
    "y_prediction_rf = best_rf_model.predict(X_valid)\n",
    "mae_rf = mean_absolute_error(y_valid, y_prediction_rf)\n",
    "rmse_rf = np.sqrt(mean_squared_error(y_valid, y_prediction_rf))\n",
    "eval_values['Random Forest'] = [mae_rf, rmse_rf]"
   ]
  },
  {
   "cell_type": "markdown",
   "metadata": {},
   "source": [
    "### b) Gradient Boosting"
   ]
  },
  {
   "cell_type": "markdown",
   "metadata": {},
   "source": [
    "- Tương tự thuật toán Random Forest, nhóm sử dụng GridSearchCV tối ưu siêu tham số nhiều lần với 5-fold cross validation để giảm overfitting."
   ]
  },
  {
   "cell_type": "code",
   "execution_count": 72,
   "metadata": {},
   "outputs": [
    {
     "name": "stdout",
     "output_type": "stream",
     "text": [
      "Fitting 5 folds for each of 144 candidates, totalling 720 fits\n"
     ]
    }
   ],
   "source": [
    "gb_model = GradientBoostingRegressor(random_state=42)\n",
    "\n",
    "param_grid = {  \n",
    "    'n_estimators': [50, 100, 150, 200],          \n",
    "    'learning_rate': [0.01, 0.1, 0.15, 0.2],      \n",
    "    'max_depth': [3, 5, 7],                       \n",
    "    'subsample': [0.6, 0.8, 1.0]                 \n",
    "}  \n",
    "\n",
    "grid_search = GridSearchCV(estimator=gb_model, param_grid=param_grid,  \n",
    "                           scoring='neg_mean_squared_error', cv=5, n_jobs=-1, verbose=1)\n",
    "\n",
    "grid_search.fit(X_train, y_train)\n",
    "\n",
    "best_gb_model = grid_search.best_estimator_"
   ]
  },
  {
   "cell_type": "markdown",
   "metadata": {},
   "source": [
    "- Thử nghiệm trên tập valid"
   ]
  },
  {
   "cell_type": "code",
   "execution_count": 73,
   "metadata": {},
   "outputs": [],
   "source": [
    "y_prediction_gb = best_gb_model.predict(X_valid)\n",
    "mae_gb = mean_absolute_error(y_valid, y_prediction_gb)\n",
    "rmse_gb = np.sqrt(mean_squared_error(y_valid, y_prediction_gb))\n",
    "eval_values['Gradient Boosting'] = [mae_gb, rmse_gb]"
   ]
  },
  {
   "cell_type": "markdown",
   "metadata": {},
   "source": [
    "### c) Linear Regression:"
   ]
  },
  {
   "cell_type": "code",
   "execution_count": 74,
   "metadata": {},
   "outputs": [
    {
     "data": {
      "text/html": [
       "<div>\n",
       "<style scoped>\n",
       "    .dataframe tbody tr th:only-of-type {\n",
       "        vertical-align: middle;\n",
       "    }\n",
       "\n",
       "    .dataframe tbody tr th {\n",
       "        vertical-align: top;\n",
       "    }\n",
       "\n",
       "    .dataframe thead th {\n",
       "        text-align: right;\n",
       "    }\n",
       "</style>\n",
       "<table border=\"1\" class=\"dataframe\">\n",
       "  <thead>\n",
       "    <tr style=\"text-align: right;\">\n",
       "      <th></th>\n",
       "      <th>Runtime</th>\n",
       "      <th>IMDb Votes</th>\n",
       "      <th>Win</th>\n",
       "      <th>Nomination</th>\n",
       "      <th>Age rating quantification</th>\n",
       "    </tr>\n",
       "  </thead>\n",
       "  <tbody>\n",
       "    <tr>\n",
       "      <th>count</th>\n",
       "      <td>1593.000000</td>\n",
       "      <td>1593.000000</td>\n",
       "      <td>1593.000000</td>\n",
       "      <td>1593.000000</td>\n",
       "      <td>1593.000000</td>\n",
       "    </tr>\n",
       "    <tr>\n",
       "      <th>mean</th>\n",
       "      <td>95.476426</td>\n",
       "      <td>12289.992976</td>\n",
       "      <td>1.430634</td>\n",
       "      <td>3.085374</td>\n",
       "      <td>3.108600</td>\n",
       "    </tr>\n",
       "    <tr>\n",
       "      <th>std</th>\n",
       "      <td>25.329783</td>\n",
       "      <td>36666.736143</td>\n",
       "      <td>9.208657</td>\n",
       "      <td>21.808589</td>\n",
       "      <td>1.041902</td>\n",
       "    </tr>\n",
       "    <tr>\n",
       "      <th>min</th>\n",
       "      <td>3.000000</td>\n",
       "      <td>5.000000</td>\n",
       "      <td>0.000000</td>\n",
       "      <td>0.000000</td>\n",
       "      <td>1.000000</td>\n",
       "    </tr>\n",
       "    <tr>\n",
       "      <th>25%</th>\n",
       "      <td>84.000000</td>\n",
       "      <td>264.000000</td>\n",
       "      <td>0.000000</td>\n",
       "      <td>0.000000</td>\n",
       "      <td>2.000000</td>\n",
       "    </tr>\n",
       "    <tr>\n",
       "      <th>50%</th>\n",
       "      <td>95.491188</td>\n",
       "      <td>1462.000000</td>\n",
       "      <td>0.000000</td>\n",
       "      <td>0.000000</td>\n",
       "      <td>3.000000</td>\n",
       "    </tr>\n",
       "    <tr>\n",
       "      <th>75%</th>\n",
       "      <td>109.000000</td>\n",
       "      <td>12430.665800</td>\n",
       "      <td>0.000000</td>\n",
       "      <td>0.000000</td>\n",
       "      <td>4.000000</td>\n",
       "    </tr>\n",
       "    <tr>\n",
       "      <th>max</th>\n",
       "      <td>280.000000</td>\n",
       "      <td>571413.000000</td>\n",
       "      <td>206.000000</td>\n",
       "      <td>429.000000</td>\n",
       "      <td>5.000000</td>\n",
       "    </tr>\n",
       "  </tbody>\n",
       "</table>\n",
       "</div>"
      ],
      "text/plain": [
       "           Runtime     IMDb Votes          Win   Nomination  \\\n",
       "count  1593.000000    1593.000000  1593.000000  1593.000000   \n",
       "mean     95.476426   12289.992976     1.430634     3.085374   \n",
       "std      25.329783   36666.736143     9.208657    21.808589   \n",
       "min       3.000000       5.000000     0.000000     0.000000   \n",
       "25%      84.000000     264.000000     0.000000     0.000000   \n",
       "50%      95.491188    1462.000000     0.000000     0.000000   \n",
       "75%     109.000000   12430.665800     0.000000     0.000000   \n",
       "max     280.000000  571413.000000   206.000000   429.000000   \n",
       "\n",
       "       Age rating quantification  \n",
       "count                1593.000000  \n",
       "mean                    3.108600  \n",
       "std                     1.041902  \n",
       "min                     1.000000  \n",
       "25%                     2.000000  \n",
       "50%                     3.000000  \n",
       "75%                     4.000000  \n",
       "max                     5.000000  "
      ]
     },
     "execution_count": 74,
     "metadata": {},
     "output_type": "execute_result"
    }
   ],
   "source": [
    "X.select_dtypes(exclude=['bool']).describe()"
   ]
  },
  {
   "cell_type": "markdown",
   "metadata": {},
   "source": [
    "- Chuẩn hóa dữ liệu: Dữ liệu của cột Runtime, IMDb Votes, Win và Nomination có khá nhiều giá trị outliers và cũng có miền giá trị khá rộng, vì vậy trước khi áp dụng vào mô hình Linear Regression, nhóm sẽ áp dụng Robust Scaler để chuẩn hóa dữ liệu các cột này. "
   ]
  },
  {
   "cell_type": "code",
   "execution_count": 75,
   "metadata": {},
   "outputs": [],
   "source": [
    "from sklearn.preprocessing import RobustScaler  \n",
    "\n",
    "robust_scaler = RobustScaler()  \n",
    "X_train[['Runtime', 'IMDb Votes', 'Win', 'Nomination']] = robust_scaler.fit_transform(X_train[['Runtime', 'IMDb Votes', 'Win', 'Nomination']]) \n",
    "X_valid[['Runtime', 'IMDb Votes', 'Win', 'Nomination']] = robust_scaler.fit_transform(X_valid[['Runtime', 'IMDb Votes', 'Win', 'Nomination']])"
   ]
  },
  {
   "cell_type": "code",
   "execution_count": 76,
   "metadata": {},
   "outputs": [
    {
     "data": {
      "text/plain": [
       "LinearRegression()"
      ]
     },
     "execution_count": 76,
     "metadata": {},
     "output_type": "execute_result"
    }
   ],
   "source": [
    "lr_model = LinearRegression()\n",
    "lr_model.fit(X_train, y_train)"
   ]
  },
  {
   "cell_type": "code",
   "execution_count": 77,
   "metadata": {},
   "outputs": [],
   "source": [
    "y_prediction_lr = lr_model.predict(X_valid)\n",
    "mae_lr = mean_absolute_error(y_valid, y_prediction_lr)\n",
    "rmse_lr = np.sqrt(mean_squared_error(y_valid, y_prediction_lr))\n",
    "eval_values['Linear Regression'] = [mae_lr, rmse_lr]"
   ]
  },
  {
   "cell_type": "markdown",
   "metadata": {},
   "source": [
    "## 6. So sánh kết quả các mô hình trên tập valid"
   ]
  },
  {
   "cell_type": "markdown",
   "metadata": {},
   "source": [
    "### a) So sánh độ chính xác các mô hình trên tập valid"
   ]
  },
  {
   "cell_type": "code",
   "execution_count": 79,
   "metadata": {},
   "outputs": [
    {
     "data": {
      "text/html": [
       "<div>\n",
       "<style scoped>\n",
       "    .dataframe tbody tr th:only-of-type {\n",
       "        vertical-align: middle;\n",
       "    }\n",
       "\n",
       "    .dataframe tbody tr th {\n",
       "        vertical-align: top;\n",
       "    }\n",
       "\n",
       "    .dataframe thead th {\n",
       "        text-align: right;\n",
       "    }\n",
       "</style>\n",
       "<table border=\"1\" class=\"dataframe\">\n",
       "  <thead>\n",
       "    <tr style=\"text-align: right;\">\n",
       "      <th></th>\n",
       "      <th>MAE</th>\n",
       "      <th>RMSE</th>\n",
       "    </tr>\n",
       "    <tr>\n",
       "      <th>Model</th>\n",
       "      <th></th>\n",
       "      <th></th>\n",
       "    </tr>\n",
       "  </thead>\n",
       "  <tbody>\n",
       "    <tr>\n",
       "      <th>Random Forest</th>\n",
       "      <td>0.508080</td>\n",
       "      <td>0.675905</td>\n",
       "    </tr>\n",
       "    <tr>\n",
       "      <th>Gradient Boosting</th>\n",
       "      <td>0.511857</td>\n",
       "      <td>0.683523</td>\n",
       "    </tr>\n",
       "    <tr>\n",
       "      <th>Linear Regression</th>\n",
       "      <td>0.569695</td>\n",
       "      <td>0.744806</td>\n",
       "    </tr>\n",
       "  </tbody>\n",
       "</table>\n",
       "</div>"
      ],
      "text/plain": [
       "                        MAE      RMSE\n",
       "Model                                \n",
       "Random Forest      0.508080  0.675905\n",
       "Gradient Boosting  0.511857  0.683523\n",
       "Linear Regression  0.569695  0.744806"
      ]
     },
     "execution_count": 79,
     "metadata": {},
     "output_type": "execute_result"
    }
   ],
   "source": [
    "cols = ['MAE', 'RMSE']\n",
    "\n",
    "eval_values_df = pd.DataFrame.from_dict(eval_values, orient='index', columns=cols)  \n",
    "eval_values_df.index.name = 'Model'  \n",
    "eval_values_df"
   ]
  },
  {
   "cell_type": "markdown",
   "metadata": {},
   "source": [
    "### b) Nhận xét: "
   ]
  }
 ],
 "metadata": {
  "kernelspec": {
   "display_name": "min_ds-env2",
   "language": "python",
   "name": "python3"
  },
  "language_info": {
   "codemirror_mode": {
    "name": "ipython",
    "version": 3
   },
   "file_extension": ".py",
   "mimetype": "text/x-python",
   "name": "python",
   "nbconvert_exporter": "python",
   "pygments_lexer": "ipython3",
   "version": "3.10.15"
  }
 },
 "nbformat": 4,
 "nbformat_minor": 2
}
